{
 "cells": [
  {
   "cell_type": "code",
   "execution_count": 1,
   "metadata": {},
   "outputs": [],
   "source": [
    "import numpy as np\n",
    "import matplotlib.pyplot as plt\n",
    "from scipy import stats\n",
    "from scipy import sparse\n",
    "from functools import reduce\n",
    "from collections import defaultdict\n",
    "from tqdm.notebook import tqdm"
   ]
  },
  {
   "cell_type": "code",
   "execution_count": 2,
   "metadata": {},
   "outputs": [],
   "source": [
    "%matplotlib inline\n",
    "%config InlineBackend.figure_format='retina'"
   ]
  },
  {
   "cell_type": "code",
   "execution_count": 1012,
   "metadata": {},
   "outputs": [],
   "source": [
    "array_shape = (4,4)\n",
    "telescope_number = np.prod(array_shape)\n",
    "telescope_array = np.arange(telescope_number).reshape(array_shape)\n",
    "tele_pos = [np.array(np.unravel_index(i, array_shape)) for i in range(telescope_number)]"
   ]
  },
  {
   "cell_type": "code",
   "execution_count": 1013,
   "metadata": {},
   "outputs": [],
   "source": [
    "corners_idnx = np.ix_((0,-1), (0,-1))\n",
    "corners = telescope_array[corners_idnx].flatten()"
   ]
  },
  {
   "cell_type": "code",
   "execution_count": 1014,
   "metadata": {},
   "outputs": [],
   "source": [
    "tpx, tpy = np.meshgrid(np.arange(array_shape[0]-1),np.arange(array_shape[0]-1))\n",
    "tleft = np.array(list(zip(tpx.flatten(), tpy.flatten())))\n",
    "bpx, bpy = np.meshgrid(np.arange(1, array_shape[0]),np.arange(array_shape[0]-1))\n",
    "bleft = np.array(list(zip(bpx.flatten(), bpy.flatten())))"
   ]
  },
  {
   "cell_type": "code",
   "execution_count": 1015,
   "metadata": {},
   "outputs": [],
   "source": [
    "def get_baseline_key(i1, i2, shape=array_shape):\n",
    "    p1 = np.array(np.unravel_index(i1, shape))\n",
    "    p2 = np.array(np.unravel_index(i2, shape))\n",
    "    pos_diff = p1 - p2\n",
    "    sign = np.product(pos_diff)\n",
    "    if sign > 0:\n",
    "        key = tuple(np.abs(pos_diff))\n",
    "    else:\n",
    "        key = tuple((np.abs(pos_diff[0]), -1*np.abs(pos_diff[1])))\n",
    "    return key"
   ]
  },
  {
   "cell_type": "code",
   "execution_count": 1016,
   "metadata": {},
   "outputs": [],
   "source": [
    "def get_num_baselines(tele_num=telescope_number):\n",
    "    # For square of N telescopes, should be 2N-2*sqrt(N) + 1\n",
    "    # Fix to a corner and there are N-1 options for unique baselines. \n",
    "    # Flip over to other side (over x or y axis) and get another N-1 options\n",
    "    # Duplicated are the pure x-axis and pure y-axis so -2*(sqrt(N)-1)\n",
    "    # Final +1 is from 0 baseline\n",
    "    \n",
    "    N_bases = 2*tele_num - 2*np.sqrt(tele_num)\n",
    "    return int(N_bases)"
   ]
  },
  {
   "cell_type": "code",
   "execution_count": 1017,
   "metadata": {},
   "outputs": [],
   "source": [
    "def get_baselines_np(tele_num=telescope_number):\n",
    "    base_size = get_num_baselines(tele_num)\n",
    "#     redundant_baselines = sparse.dok_matrix((base_size, tele_num, tele_num))\n",
    "    redundant_baselines = np.zeros((base_size, tele_num, tele_num))\n",
    "    baseline_indx = []\n",
    "    for i in range(tele_num):\n",
    "        for k in range(tele_num):\n",
    "            if i==k:\n",
    "                continue\n",
    "            key = get_baseline_key(i,k)\n",
    "            if key in baseline_indx:\n",
    "                red_indx = baseline_indx.index(key)\n",
    "                redundant_baselines[red_indx][i,k] = 1\n",
    "            else:\n",
    "                baseline_indx.append(key)\n",
    "                redundant_baselines[len(baseline_indx)-1][i,k] = 1\n",
    "    return redundant_baselines, baseline_indx"
   ]
  },
  {
   "cell_type": "code",
   "execution_count": 1018,
   "metadata": {},
   "outputs": [],
   "source": [
    "redundant_baselines, baseline_indx = get_baselines_np()\n",
    "n_bases = get_num_baselines(telescope_number)"
   ]
  },
  {
   "cell_type": "code",
   "execution_count": 1019,
   "metadata": {},
   "outputs": [],
   "source": [
    "def get_baseline_indx(i1, i2, base_idx = baseline_indx):\n",
    "    key = get_baseline_key(i1, i2)\n",
    "    return base_idx.index(key)"
   ]
  },
  {
   "cell_type": "code",
   "execution_count": 1070,
   "metadata": {},
   "outputs": [],
   "source": [
    "rand_phases = lambda x: np.random.uniform(0, np.pi, x)"
   ]
  },
  {
   "cell_type": "code",
   "execution_count": 1071,
   "metadata": {},
   "outputs": [],
   "source": [
    "npcb = np.vectorize(pow)"
   ]
  },
  {
   "cell_type": "code",
   "execution_count": 1072,
   "metadata": {},
   "outputs": [],
   "source": [
    "def make_gains(tele_num=telescope_number):\n",
    "    gain_amp = np.abs(np.random.normal(1, .3, tele_num))\n",
    "    gain_phase = rand_phases(tele_num)\n",
    "    tgain = gain_amp*np.exp(1j*gain_phase)\n",
    "    return tgain, gain_phase"
   ]
  },
  {
   "cell_type": "code",
   "execution_count": 1073,
   "metadata": {},
   "outputs": [],
   "source": [
    "def make_visibilities(tele_num=telescope_number):\n",
    "    n_bases = get_num_baselines(telescope_number)\n",
    "    sky_phase = rand_phases(n_bases)\n",
    "    correl_sky = np.random.normal(3, .8, n_bases)*np.exp(1j*sky_phase)\n",
    "    return correl_sky, sky_phase"
   ]
  },
  {
   "cell_type": "code",
   "execution_count": 1074,
   "metadata": {},
   "outputs": [],
   "source": [
    "def make_uv_points(tg, va, tele_num=telescope_number):\n",
    "    observation_baselines = np.zeros((tele_num, tele_num), dtype=np.complex128)\n",
    "    unsym_noise = np.random.normal(.01, .005, (tele_num, tele_num))*np.exp(1j*rand_phases((tele_num, tele_num)))\n",
    "    noise_matrix = (unsym_noise + unsym_noise.T)*.5\n",
    "    for i in range(telescope_number):\n",
    "        for k in range(telescope_number):\n",
    "            if i==k:\n",
    "                continue\n",
    "            key = get_baseline_key(i, k)\n",
    "            red_indx = baseline_indx.index(key)\n",
    "            if i < k:\n",
    "                vaterm = va[red_indx]\n",
    "                noise = noise_matrix[i,k]\n",
    "            else:\n",
    "                vaterm = np.conj(va[red_indx])\n",
    "                noise = np.conj(noise_matrix[i,k])\n",
    "            sig = tg[i]*np.conj(tg[k])*vaterm\n",
    "            observation_baselines[i,k] = sig+noise\n",
    "    return observation_baselines, noise_matrix"
   ]
  },
  {
   "cell_type": "code",
   "execution_count": 1075,
   "metadata": {},
   "outputs": [],
   "source": [
    "tgain, gain_phase = make_gains()\n",
    "valpha, v_phase = make_visibilities()"
   ]
  },
  {
   "cell_type": "code",
   "execution_count": 1076,
   "metadata": {},
   "outputs": [],
   "source": [
    "observation_baselines, noises = make_uv_points(tgain, valpha)"
   ]
  },
  {
   "cell_type": "code",
   "execution_count": 1077,
   "metadata": {},
   "outputs": [
    {
     "name": "stdout",
     "output_type": "stream",
     "text": [
      "SNR is 403.802289\n"
     ]
    }
   ],
   "source": [
    "snr = np.mean(np.abs(valpha)/np.mean(np.abs(noises)))\n",
    "print(\"SNR is %f\" % snr)"
   ]
  },
  {
   "cell_type": "code",
   "execution_count": 1078,
   "metadata": {},
   "outputs": [],
   "source": [
    "def insert_internal_neighbors():\n",
    "    for a in telescope_array:\n",
    "        i,j,k,l = a\n",
    "        numer = (observation_baselines[i,j]*observation_baselines[j,l])\n",
    "        denom = (observation_baselines[i,k]*observation_baselines[k,l])\n",
    "        sjk = np.abs(np.sqrt(numer/denom))\n",
    "        scale_array[j,k] = sjk\n",
    "        scale_array[k,j] = 1/sjk\n",
    "    for a in telescope_array.T:\n",
    "        i,j,k,l = a\n",
    "        numer = (observation_baselines[i,j]*observation_baselines[j,l])\n",
    "        denom = (observation_baselines[i,k]*observation_baselines[k,l])\n",
    "        sjk = np.abs(np.sqrt(numer/denom))\n",
    "        scale_array[j,k] = sjk\n",
    "        scale_array[k,j] = 1/sjk"
   ]
  },
  {
   "cell_type": "code",
   "execution_count": 1079,
   "metadata": {},
   "outputs": [],
   "source": [
    "def get_alpha1(a1, a2, a3):\n",
    "    first_baseline = get_baseline_key(a1, a2)\n",
    "    second_baseline = get_baseline_key(a2, a3)\n",
    "    if first_baseline==baseline_indx[0]:\n",
    "        term1 = observation_baselines[a1, a2]/observation_baselines[a2,a3]\n",
    "        term2 = 1/(scale_array[a1, a2]*scale_array[a2, a3])\n",
    "        alpha = term1*term2\n",
    "    else:\n",
    "        term1 = observation_baselines[a2, a3]/observation_baselines[a1,a2]\n",
    "        term2 = (scale_array[a2,a3]*scale_array[a1,a2])\n",
    "        alpha = term1*term2\n",
    "    return np.abs(alpha)"
   ]
  },
  {
   "cell_type": "code",
   "execution_count": 1080,
   "metadata": {},
   "outputs": [],
   "source": [
    "def get_avg_alpha():\n",
    "    a1 = get_alpha1(5,6,10)\n",
    "    a2 = get_alpha1(6,5,9)\n",
    "    a3 = get_alpha1(6,10,9)\n",
    "    a4 = get_alpha1(5,9,10)\n",
    "    avg = (a1+a2+a3+a4)/4\n",
    "    return avg"
   ]
  },
  {
   "cell_type": "code",
   "execution_count": 1081,
   "metadata": {},
   "outputs": [],
   "source": [
    "def get_diagonal_connections(alpha):\n",
    "    c1 = np.array([0,0])\n",
    "    c12 = np.array([-2,-2])\n",
    "    c2 = np.array([-1, 0])\n",
    "    c22 = np.array([1, -2])\n",
    "    \n",
    "    for k in tleft:\n",
    "        topleft = telescope_array[tuple(k)]\n",
    "        nextright = telescope_array[tuple(k + [0,1])]\n",
    "        diagonal = telescope_array[tuple(k+1)]\n",
    "        term1 = observation_baselines[topleft, nextright]/observation_baselines[nextright, diagonal]\n",
    "        term2 = 1/alpha\n",
    "        sjk = np.abs(term1*term2)\n",
    "        scale_array[topleft, diagonal] = sjk\n",
    "        scale_array[diagonal, topleft] = 1/sjk\n",
    "        \n",
    "    for k in bleft:\n",
    "        bottomleft = telescope_array[tuple(k)]\n",
    "        nextright = telescope_array[tuple(k + [0,1])]\n",
    "        diagonal = telescope_array[tuple(k + [-1,1])]\n",
    "        term1 = observation_baselines[bottomleft, nextright]/observation_baselines[nextright, diagonal]\n",
    "        term2 = 1/alpha\n",
    "        sjk = np.abs(term1*term2)\n",
    "        scale_array[bottomleft, diagonal] = sjk\n",
    "        scale_array[diagonal, bottomleft] = 1/sjk\n",
    "        \n",
    "        "
   ]
  },
  {
   "cell_type": "code",
   "execution_count": 1082,
   "metadata": {},
   "outputs": [],
   "source": [
    "def iterate_scales(scal, n=1):\n",
    "    new_scales = scal.copy()\n",
    "    for i in range(new_scales.shape[0]):\n",
    "        for k in range(new_scales.shape[1]):\n",
    "            vals = new_scales[i,:]*new_scales[:,k]\n",
    "            if np.sum(vals) > 0:  \n",
    "                avg_val = np.mean(vals[vals.nonzero()[0]])\n",
    "                new_scales[i,k] = avg_val\n",
    "                new_scales[k,i] = 1/avg_val\n",
    "    return new_scales"
   ]
  },
  {
   "cell_type": "code",
   "execution_count": 1083,
   "metadata": {},
   "outputs": [],
   "source": [
    "def true_gain_scale(tgain):\n",
    "    tscale = np.zeros((telescope_number, telescope_number))\n",
    "    for i in range(telescope_number):\n",
    "        for k in range(telescope_number):\n",
    "            val = np.abs(tgain[i]/tgain[k])\n",
    "            tscale[i,k] = val\n",
    "            tscale[k,i] = 1/val\n",
    "    return tscale"
   ]
  },
  {
   "cell_type": "code",
   "execution_count": 1084,
   "metadata": {},
   "outputs": [],
   "source": [
    "def get_valpha_ratio(i,j,k,l, gain_scale):\n",
    "    term1 = np.abs(observation_baselines[i,j]/observation_baselines[k,l])\n",
    "    term2 = 1/(gain_scale[i,k]*gain_scale[j,l])\n",
    "    ratio = np.abs(term1*term2)\n",
    "    return ratio"
   ]
  },
  {
   "cell_type": "code",
   "execution_count": 1085,
   "metadata": {},
   "outputs": [],
   "source": [
    "def solve_valpha_sparse(gains, num_rando):\n",
    "    vscale_array = np.diag(np.ones(n_bases))\n",
    "    weight_array = np.zeros((n_bases, n_bases))\n",
    "    vfin = np.diag(np.ones(n_bases))\n",
    "    rng = np.random.default_rng()\n",
    "    for n in tqdm(range(num_rando)):\n",
    "        pos = rng.choice(16, 4, replace=False)\n",
    "        k1 = get_baseline_indx(pos[0], pos[1])\n",
    "        k2 = get_baseline_indx(pos[2], pos[3])\n",
    "        if k1==k2:\n",
    "            continue\n",
    "        else:\n",
    "            ratio = get_valpha_ratio(*pos, gains)\n",
    "            if k1 > k2:\n",
    "                vscale_array[k1, k2] += ratio\n",
    "                weight_array[k1, k2] += 1\n",
    "            else:\n",
    "                vscale_array[k2, k1] += 1/ratio\n",
    "                weight_array[k2, k1] += 1\n",
    "            \n",
    "    for i in range(n_bases):\n",
    "        for k in range(i):\n",
    "            if vscale_array[i,k]!= 0:\n",
    "                avg_val = vscale_array[i,k]/weight_array[i,k]\n",
    "                vfin[i,k] = avg_val\n",
    "                vfin[k,i] = 1/avg_val\n",
    "    return vfin"
   ]
  },
  {
   "cell_type": "code",
   "execution_count": 1086,
   "metadata": {},
   "outputs": [],
   "source": [
    "def true_v_scales(valpha):\n",
    "    varray = np.zeros((n_bases, n_bases))\n",
    "    for i in range(n_bases):\n",
    "        for k in range(n_bases):\n",
    "            val = np.abs(valpha[i]/valpha[k])\n",
    "            varray[i,k] = val\n",
    "            varray[k,k] = 1/val\n",
    "    return varray"
   ]
  },
  {
   "cell_type": "code",
   "execution_count": 1087,
   "metadata": {},
   "outputs": [],
   "source": [
    "def create_estimate(gvec, alphas):\n",
    "    false_obs = np.zeros((telescope_number, telescope_number), dtype=np.complex128)\n",
    "    for i in range(telescope_number):\n",
    "        for k in range(telescope_number):\n",
    "            if i==k:\n",
    "                continue\n",
    "            else:\n",
    "                key = get_baseline_indx(i,k)\n",
    "                false_obs[i,k] = gvec[i]*np.conj(gvec[k])*alphas[key]\n",
    "    return false_obs"
   ]
  },
  {
   "cell_type": "code",
   "execution_count": 1088,
   "metadata": {},
   "outputs": [],
   "source": [
    "def solve_amplitudes_gdgen_nosigma(gscales, observations, degen=telescope_number, fix_indx=10):\n",
    "    solved_alphas = np.zeros(n_bases)\n",
    "    weighted_alphas = np.zeros(n_bases)\n",
    "    g1_abs = degen/np.sum(gscales[:,fix_indx])\n",
    "    gain_vec = g1_abs*gscales[:,fix_indx]\n",
    "    for i in range(telescope_number):\n",
    "        for k in range(telescope_number):\n",
    "            if i==k:\n",
    "                continue\n",
    "            else:\n",
    "                key = get_baseline_indx(i,k)\n",
    "                lhs = np.abs(observations[i,k])\n",
    "                rhs = gain_vec[i]*gain_vec[k]\n",
    "                val = lhs/rhs\n",
    "                solved_alphas[key] += val\n",
    "                weighted_alphas[key] += 1\n",
    "                \n",
    "    final_alphas = solved_alphas/weighted_alphas\n",
    "    return final_alphas"
   ]
  },
  {
   "cell_type": "code",
   "execution_count": 1089,
   "metadata": {},
   "outputs": [],
   "source": [
    "def logarithmic_ratio_random(observations, num=1000):\n",
    "    rng = np.random.default_rng()\n",
    "    total_variables = telescope_number + n_bases\n",
    "    real_matrix = np.zeros((num, total_variables))\n",
    "    imag_matrix = np.zeros((num, total_variables))\n",
    "    lhs_real = np.zeros(num)\n",
    "    lhs_imag = np.zeros(num)\n",
    "    for n in tqdm(range(num)):\n",
    "        i,j,k,l = rng.choice(16, 4, replace=False)\n",
    "        lhs = (observations[i,j]/observations[k,l])\n",
    "        lnlhs = np.log(lhs)\n",
    "        lhs_real[n] = lnlhs.real\n",
    "        lhs_imag[n] = lnlhs.imag\n",
    "        alpha = telescope_number + get_baseline_indx(i,j)\n",
    "        beta = telescope_number + get_baseline_indx(k,l)\n",
    "        real_matrix[[n,n,n], [i,j,alpha]] = 1\n",
    "        real_matrix[[n,n,n], [k,l,beta]] = -1\n",
    "        imag_matrix[[n,n,n], [i,alpha, l]] = 1\n",
    "        imag_matrix[[n,n,n], [j,k,beta]] = -1\n",
    "    amps = sparse.linalg.lsqr(real_matrix, lhs_real)[0]\n",
    "    phases = sparse.linalg.lsqr(imag_matrix, lhs_imag)[0]\n",
    "    return amps, phases"
   ]
  },
  {
   "cell_type": "code",
   "execution_count": 1090,
   "metadata": {},
   "outputs": [
    {
     "data": {
      "application/vnd.jupyter.widget-view+json": {
       "model_id": "e10eec4a6afd4d3dbe717840041b32d8",
       "version_major": 2,
       "version_minor": 0
      },
      "text/plain": [
       "HBox(children=(FloatProgress(value=0.0, max=1000.0), HTML(value='')))"
      ]
     },
     "metadata": {},
     "output_type": "display_data"
    },
    {
     "name": "stdout",
     "output_type": "stream",
     "text": [
      "\n"
     ]
    }
   ],
   "source": [
    "amps, phases = logarithmic_ratio_random(observation_baselines, 1000)"
   ]
  },
  {
   "cell_type": "code",
   "execution_count": 1091,
   "metadata": {},
   "outputs": [],
   "source": [
    "tgr = np.log(tgain).real\n",
    "tgp = np.log(tgain).imag"
   ]
  },
  {
   "cell_type": "code",
   "execution_count": 1092,
   "metadata": {},
   "outputs": [
    {
     "data": {
      "text/plain": [
       "array([2.07105753, 0.46394906, 0.35522115, 0.36926951, 3.32917443,\n",
       "       2.51445916, 0.76683661, 2.87771019, 2.58923002, 1.41253304,\n",
       "       2.59264789, 0.52230484, 2.39562098, 0.17894749, 0.28614023,\n",
       "       0.10758183])"
      ]
     },
     "execution_count": 1092,
     "metadata": {},
     "output_type": "execute_result"
    }
   ],
   "source": [
    "tgp - phases[0:16]"
   ]
  },
  {
   "cell_type": "code",
   "execution_count": 1093,
   "metadata": {},
   "outputs": [
    {
     "data": {
      "text/plain": [
       "array([0.13207189, 0.12537781, 0.13634195, 0.13290718, 0.12645948,\n",
       "       0.13577179, 0.13049413, 0.12800238, 0.13041229, 0.13855282,\n",
       "       0.13628749, 0.12939856, 0.13400644, 0.1333275 , 0.12950738,\n",
       "       0.13033284])"
      ]
     },
     "execution_count": 1093,
     "metadata": {},
     "output_type": "execute_result"
    }
   ],
   "source": [
    "tgr - amps[0:16]"
   ]
  },
  {
   "cell_type": "code",
   "execution_count": 1094,
   "metadata": {},
   "outputs": [],
   "source": [
    "scale_array = np.diag(np.ones(telescope_number))\n",
    "vscale_array = np.diag(np.ones(n_bases))\n",
    "insert_internal_neighbors()"
   ]
  },
  {
   "cell_type": "code",
   "execution_count": 1095,
   "metadata": {},
   "outputs": [],
   "source": [
    "alpha1 = get_avg_alpha()"
   ]
  },
  {
   "cell_type": "code",
   "execution_count": 1096,
   "metadata": {},
   "outputs": [],
   "source": [
    "get_diagonal_connections(alpha1)"
   ]
  },
  {
   "cell_type": "code",
   "execution_count": 1097,
   "metadata": {},
   "outputs": [],
   "source": [
    "fin_scal = iterate_scales(scale_array)\n",
    "tscale = true_scale(tgain)"
   ]
  },
  {
   "cell_type": "code",
   "execution_count": 1098,
   "metadata": {},
   "outputs": [
    {
     "data": {
      "application/vnd.jupyter.widget-view+json": {
       "model_id": "1dfb7bbd7cfb4b859d04d3a4bc2c488f",
       "version_major": 2,
       "version_minor": 0
      },
      "text/plain": [
       "HBox(children=(FloatProgress(value=0.0, max=1000.0), HTML(value='')))"
      ]
     },
     "metadata": {},
     "output_type": "display_data"
    },
    {
     "name": "stdout",
     "output_type": "stream",
     "text": [
      "\n"
     ]
    }
   ],
   "source": [
    "vsparse = solve_valpha_sparse(fin_scal, 1000)"
   ]
  },
  {
   "cell_type": "code",
   "execution_count": 1099,
   "metadata": {},
   "outputs": [],
   "source": [
    "sigma_scale = iterate_scales(vsparse)\n",
    "true_sigma = true_v_scales(valpha)"
   ]
  },
  {
   "cell_type": "code",
   "execution_count": 1100,
   "metadata": {},
   "outputs": [],
   "source": [
    "gdegen= 1\n",
    "findx = 0"
   ]
  },
  {
   "cell_type": "code",
   "execution_count": 1101,
   "metadata": {},
   "outputs": [],
   "source": [
    "g1_abs = gdegen/np.sum(fin_scal[:,findx])\n",
    "gain_vec = g1_abs*fin_scal[:,findx]"
   ]
  },
  {
   "cell_type": "code",
   "execution_count": 1102,
   "metadata": {},
   "outputs": [],
   "source": [
    "solved_alphas = solve_amplitudes_gdgen_nosigma(fin_scal, observation_baselines, degen=gdegen, fix_indx=findx)"
   ]
  },
  {
   "cell_type": "code",
   "execution_count": 1103,
   "metadata": {},
   "outputs": [
    {
     "data": {
      "text/plain": [
       "Text(0.5, 1.0, 'Scaled $V_\\\\alpha$ Amplitude')"
      ]
     },
     "execution_count": 1103,
     "metadata": {},
     "output_type": "execute_result"
    },
    {
     "data": {
      "image/png": "[encoded data removed]",
      "text/plain": [
       "<Figure size 720x432 with 2 Axes>"
      ]
     },
     "metadata": {
      "image/png": {
       "height": 373,
       "width": 595
      },
      "needs_background": "light"
     },
     "output_type": "display_data"
    }
   ],
   "source": [
    "fig, axs = plt.subplots(ncols=2, figsize=(10,6))\n",
    "\n",
    "axs[0].plot(np.abs(tgain)/np.max(np.abs(tgain)), 'b.', label='true')\n",
    "axs[0].plot(np.abs(gain_vec)/np.max(np.abs(gain_vec)), 'rx', label='fit')\n",
    "axs[0].legend()\n",
    "axs[0].set_title(\"Scaled Gain Amplitude\")\n",
    "\n",
    "axs[1].plot(np.abs(valpha)/np.max(np.abs(valpha)), 'b.', label='true')\n",
    "axs[1].plot(np.abs(solved_alphas)/np.max(np.abs(solved_alphas)), 'rx', label='fit')\n",
    "axs[1].legend()\n",
    "axs[1].set_title(r\"Scaled $V_\\alpha$ Amplitude\")"
   ]
  },
  {
   "cell_type": "code",
   "execution_count": 1104,
   "metadata": {},
   "outputs": [],
   "source": [
    "false_yij = create_estimate(gain_vec, solved_alphas)"
   ]
  },
  {
   "cell_type": "code",
   "execution_count": 1105,
   "metadata": {},
   "outputs": [
    {
     "name": "stdout",
     "output_type": "stream",
     "text": [
      "Average gain difference is 0.000011 \n",
      "Average V_alpha difference is 0.005059 \n",
      "Average estimate difference is -0.000134\n"
     ]
    },
    {
     "data": {
      "image/png": "[encoded data removed]",
      "text/plain": [
       "<Figure size 720x432 with 4 Axes>"
      ]
     },
     "metadata": {
      "image/png": {
       "height": 423,
       "width": 712
      },
      "needs_background": "light"
     },
     "output_type": "display_data"
    }
   ],
   "source": [
    "fig, ax = plt.subplots(nrows=2, ncols=2, figsize=(10,6))\n",
    "\n",
    "ax[0,0].hist((fin_scal - tscale).flatten());\n",
    "ax[0,0].set_title(r\"Difference - $S_{ij}$\")\n",
    "\n",
    "ax[0,1].hist(np.abs((sigma_scale - true_sigma).flatten()));\n",
    "ax[0,1].set_title(r\"Difference - $\\Sigma_{\\alpha,\\beta}$\")\n",
    "\n",
    "ax[1,0].hist((np.abs(observation_baselines) - false_yij).flatten().real);\n",
    "ax[1,0].set_title(r\"Difference - $V_{ij}$\")\n",
    "\n",
    "plt.tight_layout()\n",
    "\n",
    "print(\"Average gain difference is %f \" % np.mean(fin_scal - tscale))\n",
    "print(\"Average V_alpha difference is %f \" % np.mean(sigma_scale - true_sigma))\n",
    "print(\"Average estimate difference is %f\" % np.mean((np.abs(observation_baselines) - false_yij).real))"
   ]
  },
  {
   "cell_type": "code",
   "execution_count": 1106,
   "metadata": {},
   "outputs": [
    {
     "data": {
      "text/plain": [
       "array([[ 0,  1,  2,  3],\n",
       "       [ 4,  5,  6,  7],\n",
       "       [ 8,  9, 10, 11],\n",
       "       [12, 13, 14, 15]])"
      ]
     },
     "execution_count": 1106,
     "metadata": {},
     "output_type": "execute_result"
    }
   ],
   "source": [
    "telescope_array"
   ]
  },
  {
   "cell_type": "code",
   "execution_count": 1153,
   "metadata": {},
   "outputs": [],
   "source": [
    "m1 = np.log(valpha[4]/np.conj(valpha[4]))"
   ]
  },
  {
   "cell_type": "code",
   "execution_count": 1168,
   "metadata": {},
   "outputs": [],
   "source": [
    "a,b,c,d,e = [1,4,5,6,9]"
   ]
  },
  {
   "cell_type": "code",
   "execution_count": 1175,
   "metadata": {},
   "outputs": [],
   "source": [
    "V = observation_baselines"
   ]
  },
  {
   "cell_type": "code",
   "execution_count": 1176,
   "metadata": {},
   "outputs": [],
   "source": [
    "lhs1 = (V[a,c] * V[e,b])/(V[e,c]*V[a,b])"
   ]
  },
  {
   "cell_type": "code",
   "execution_count": 1178,
   "metadata": {},
   "outputs": [],
   "source": [
    "lhs2 = (V[a,c] * V[e,d])/(V[e,c]*V[a,d])"
   ]
  },
  {
   "cell_type": "code",
   "execution_count": 1183,
   "metadata": {},
   "outputs": [],
   "source": [
    "vbeta = valpha[3]"
   ]
  },
  {
   "cell_type": "code",
   "execution_count": 1184,
   "metadata": {},
   "outputs": [],
   "source": [
    "rhs = np.sqrt(lhs2*lhs1)"
   ]
  },
  {
   "cell_type": "code",
   "execution_count": 1205,
   "metadata": {},
   "outputs": [],
   "source": [
    "eta_k = np.abs(lhs1/lhs2)"
   ]
  },
  {
   "cell_type": "code",
   "execution_count": 1208,
   "metadata": {},
   "outputs": [
    {
     "data": {
      "text/plain": [
       "(0.24666785550890755-1.7335897260296453j)"
      ]
     },
     "execution_count": 1208,
     "metadata": {},
     "output_type": "execute_result"
    }
   ],
   "source": [
    "np.log(lhs2*eta_k)"
   ]
  },
  {
   "cell_type": "code",
   "execution_count": 1209,
   "metadata": {},
   "outputs": [
    {
     "data": {
      "text/plain": [
       "(-0.256256251114079-1.735438817544414j)"
      ]
     },
     "execution_count": 1209,
     "metadata": {},
     "output_type": "execute_result"
    }
   ],
   "source": [
    "np.log(lhs1/eta_k)"
   ]
  },
  {
   "cell_type": "code",
   "execution_count": 1187,
   "metadata": {},
   "outputs": [],
   "source": [
    "m2 = np.log(rhs)"
   ]
  },
  {
   "cell_type": "code",
   "execution_count": 1193,
   "metadata": {},
   "outputs": [
    {
     "data": {
      "text/plain": [
       "2.8893420071380103"
      ]
     },
     "execution_count": 1193,
     "metadata": {},
     "output_type": "execute_result"
    }
   ],
   "source": [
    "np.log(vbeta/np.conj(vbeta)).imag"
   ]
  },
  {
   "cell_type": "code",
   "execution_count": 1197,
   "metadata": {},
   "outputs": [
    {
     "data": {
      "text/plain": [
       "1.4070783818027637"
      ]
     },
     "execution_count": 1197,
     "metadata": {},
     "output_type": "execute_result"
    }
   ],
   "source": [
    "m2.imag"
   ]
  },
  {
   "cell_type": "code",
   "execution_count": 1200,
   "metadata": {},
   "outputs": [
    {
     "data": {
      "text/plain": [
       "3.0"
      ]
     },
     "execution_count": 1200,
     "metadata": {},
     "output_type": "execute_result"
    }
   ],
   "source": [
    "np.abs(3j)"
   ]
  },
  {
   "cell_type": "code",
   "execution_count": null,
   "metadata": {},
   "outputs": [],
   "source": []
  }
 ],
 "metadata": {
  "kernelspec": {
   "display_name": "Python 3",
   "language": "python",
   "name": "python3"
  },
  "language_info": {
   "codemirror_mode": {
    "name": "ipython",
    "version": 3
   },
   "file_extension": ".py",
   "mimetype": "text/x-python",
   "name": "python",
   "nbconvert_exporter": "python",
   "pygments_lexer": "ipython3",
   "version": "3.8.5"
  }
 },
 "nbformat": 4,
 "nbformat_minor": 4
}
