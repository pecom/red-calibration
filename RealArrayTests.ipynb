{
 "cells": [
  {
   "cell_type": "code",
   "execution_count": 1,
   "metadata": {},
   "outputs": [],
   "source": [
    "import numpy as np\n",
    "import matplotlib.pyplot as plt\n",
    "from scipy import stats\n",
    "from scipy import sparse\n",
    "from scipy import optimize\n",
    "from scipy import signal\n",
    "from functools import reduce\n",
    "from collections import defaultdict\n",
    "import pprint\n",
    "from tqdm.notebook import tqdm\n",
    "import pandas as pd # Only here to print arrays nicely"
   ]
  },
  {
   "cell_type": "code",
   "execution_count": 2,
   "metadata": {},
   "outputs": [],
   "source": [
    "%matplotlib inline\n",
    "%config InlineBackend.figure_format='retina'"
   ]
  },
  {
   "cell_type": "markdown",
   "metadata": {},
   "source": [
    "# TOC\n",
    "1. [1x1 Beam Functions](#1x1)\n",
    "2. [NxN Beam Complications](#NxN)\n",
    "3. [Playground](#playground)"
   ]
  },
  {
   "cell_type": "markdown",
   "metadata": {},
   "source": [
    "### Simplified case for 1x1 beam <a name=\"1x1\"></a>"
   ]
  },
  {
   "cell_type": "code",
   "execution_count": 281,
   "metadata": {},
   "outputs": [],
   "source": [
    "def get_num_baselines(Nside):\n",
    "    # For square of N telescopes, should be 2N-2*sqrt(N) + 1\n",
    "    # Fix to a corner and there are N-1 options for unique baselines. \n",
    "    # Flip over to other side (over x or y axis) and get another N-1 options\n",
    "    # Duplicated Qare the pure x-axis and pure y-axis so -2*(sqrt(N)-1)\n",
    "    # Final +1 is from 0 baseline\n",
    "    \n",
    "    N_bases = 2*Nside**2 - 2*Nside\n",
    "    return int(N_bases)\n",
    "\n",
    "rand_phases = lambda x: np.random.uniform(0, 2*np.pi, x)\n",
    "zero_weight = lambda x, d: x/d if d else 0\n",
    "vector_weights = np.vectorize(zero_weight)\n",
    "parray = lambda x: np.round(x, decimals=2)\n",
    "\n",
    "def make_gains(Nside):\n",
    "    # Create complex gains with either (amplitude, phase) or (real, imaginary)\n",
    "    Nant = Nside**2\n",
    "    gain_amp = np.random.normal(1, .05, Nant)\n",
    "    gain_phase = rand_phases(Nant)\n",
    "    tgain = gain_amp*np.exp(1j*gain_phase)    \n",
    "    return tgain\n",
    "\n",
    "def make_data(Nside, gains, noise=0.1):\n",
    "    Nant = Nside**2\n",
    "    Nbase = get_num_baselines(Nside)\n",
    "    vis_true = np.random.normal(0,1,size=(Nbase,2)).view(np.complex128).flatten() ## size of unique baselines\n",
    "    ant_i, ant_j, visndx, data = [], [], [], []\n",
    "    ndx=0\n",
    "    ndx2base={}\n",
    "    base2ndx={}\n",
    "    for i in range(Nant):\n",
    "        xi,yi=np.unravel_index(i,(Nside,Nside))\n",
    "        for j in range (i+1,Nant):\n",
    "            xj,yj=np.unravel_index(j,(Nside,Nside))\n",
    "            assert (xj>=xi)\n",
    "            baseline = (xj-xi,yj-yi)\n",
    "            if baseline in base2ndx:\n",
    "                cndx = base2ndx[baseline]\n",
    "            else:\n",
    "                cndx = ndx\n",
    "                base2ndx[baseline]=ndx\n",
    "                ndx2base[ndx]=baseline\n",
    "                ndx+=1\n",
    "            ant_i.append(i)\n",
    "            ant_j.append(j)\n",
    "            visndx.append(cndx)\n",
    "            data.append(vis_true[cndx]*gains[i]*np.conj(gains[j]))\n",
    "            \n",
    "    assert(ndx==Nbase)\n",
    "    ant_i = np.array(ant_i)\n",
    "    ant_j = np.array(ant_j)\n",
    "    visndx = np.array(visndx)\n",
    "    data = np.array(data)\n",
    "    noise = np.random.normal(0,noise,size=(len(data),2)).view(np.complex128).flatten() ## size of unique baselines\n",
    "    data += noise\n",
    "    return vis_true, data, ant_i, ant_j, visndx, ndx2base, base2ndx"
   ]
  },
  {
   "cell_type": "code",
   "execution_count": 4,
   "metadata": {},
   "outputs": [],
   "source": [
    "def make_pred(gains, vis, ant_i, ant_j, visndx):\n",
    "    gains_i = gains[ant_i]\n",
    "    cgains_j = np.conj(gains[ant_j])\n",
    "    pred = gains_i*cgains_j*vis[visndx]\n",
    "    return pred"
   ]
  },
  {
   "cell_type": "code",
   "execution_count": 5,
   "metadata": {},
   "outputs": [],
   "source": [
    "def chi2(data, gains, vis, ant_i, ant_j, visndx, noise=0.1):\n",
    "    pred = make_pred(gains, vis, ant_i, ant_j, visndx)\n",
    "    chi2 = np.abs((data - pred)**2).sum()/(noise**2)\n",
    "    dof = len(data)*2\n",
    "    return chi2, dof"
   ]
  },
  {
   "cell_type": "code",
   "execution_count": 711,
   "metadata": {},
   "outputs": [],
   "source": [
    "def chimincal(iter_max, data, g0, v0, ant_i, ant_j, visndx, noise=0.1, delta=0.4, epsilon=1e-5):\n",
    "    chiscores = []\n",
    "    garr = g0.copy()\n",
    "    varr = v0.copy()\n",
    "    N = 1\n",
    "    Nant = len(g0)\n",
    "    Nbase = len(v0)\n",
    "    \n",
    "    for n in range(iter_max):\n",
    "        gprime = np.zeros(Nant, dtype=np.complex128)\n",
    "        for i in range(Nant):\n",
    "            numer = np.complex(0, 0)\n",
    "            denom = np.complex(0, 0)\n",
    "            iant = np.where(ant_i == i)[0]\n",
    "            jant = np.where(ant_j == i)[0]\n",
    "            numer += (data[iant] * garr[ant_j[iant]]*np.conj(varr[visndx[iant]])).sum()\n",
    "            denom += (np.abs(garr[ant_j[iant]]*varr[visndx[iant]])**2).sum()\n",
    "            numer += (np.conj(data[jant]) * garr[ant_i[jant]]*varr[visndx[jant]]).sum()\n",
    "            denom += (np.abs(garr[ant_i[jant]]*varr[visndx[jant]])**2).sum()\n",
    "            gprime[i] += zero_weight(numer, denom)\n",
    "\n",
    "        garr = (1 - delta)*garr + delta*gprime\n",
    "        \n",
    "        vprime = np.zeros(Nbase, dtype=np.complex128)\n",
    "        for i in range(Nbase):\n",
    "#             vdata = data/(garr[ant_i]*np.conj(garr[ant_j]))\n",
    "#             vprime[i] = np.mean(vdata[visndx==i])\n",
    "            \n",
    "#             numer = data[indxs].sum()\n",
    "#             denom = (garr[ant_i[indxs]]*np.conj(garr[ant_j[indxs]])).sum()\n",
    "#             vprime[i] += zero_weight(numer, denom)\n",
    "\n",
    "            indxs = np.where(visndx==i)\n",
    "            numer = (data[indxs]*np.conj(garr[ant_i[indxs]])*garr[ant_j[indxs]]).sum()\n",
    "            denom = (np.abs(garr[ant_i[indxs]]*np.conj(garr[ant_j[indxs]]))**2).sum()\n",
    "            vprime[i] = zero_weight(numer, denom)\n",
    "\n",
    "        varr = (1-delta)*varr + delta*vprime\n",
    "#         varr = vprime\n",
    "\n",
    "\n",
    "    \n",
    "        gscale = N/np.mean(np.abs(garr))\n",
    "        garr *= gscale\n",
    "        varr *= (1/gscale)**2\n",
    "        \n",
    "        chi, _ = chi2(data, garr, varr, ant_i, ant_j, visndx)\n",
    "        chiscores.append(chi)\n",
    "        if n > 20:\n",
    "            if np.abs(chiscores[-2] - chiscores[-1]) < epsilon:\n",
    "                break\n",
    "    return garr, varr, chiscores, n"
   ]
  },
  {
   "cell_type": "markdown",
   "metadata": {},
   "source": [
    "### NxN beam complications <a name=\"NxN\"></a>"
   ]
  },
  {
   "cell_type": "code",
   "execution_count": 661,
   "metadata": {},
   "outputs": [],
   "source": [
    "def get_weighted_array(alpha, Nspacing, numdraws=1e5):\n",
    "    # Overlap a circular beam onto a pixelized grid \n",
    "    Nbeam = Nspacing**2\n",
    "    rmax = alpha*.5\n",
    "    ndraws = int(numdraws)\n",
    "    spacing = np.linspace(0,1,Nspacing+1)\n",
    "    centered_spacing = spacing - .5\n",
    "    empty_weight_beam = np.zeros((Nspacing, Nspacing), dtype=np.complex128)\n",
    "    \n",
    "    for i in range(Nbeam):\n",
    "        xi, yi = np.unravel_index(i, (Nspacing, Nspacing))\n",
    "        draws = np.array([np.random.uniform(centered_spacing[xi], centered_spacing[xi+1], ndraws), np.random.uniform(centered_spacing[yi], centered_spacing[yi+1], ndraws)])\n",
    "        dist = np.linalg.norm(draws, axis=0)\n",
    "        empty_weight_beam[xi, yi] = np.sum(dist < rmax)/ndraws #* np.exp(1j*rand_phases(1))\n",
    "    sym_beam = .5*(empty_weight_beam + empty_weight_beam.T)\n",
    "    return sym_beam"
   ]
  },
  {
   "cell_type": "code",
   "execution_count": 662,
   "metadata": {},
   "outputs": [],
   "source": [
    "# Helper function to get a (2*br-1, 2*br-1) grid around point x\n",
    "\n",
    "def n_mesh(br):\n",
    "    nmesh = lambda x: tuple(np.meshgrid(range(x[0]-br, x[0]+br+1), range(x[1]-br, x[1]+br+1), indexing='ij'))\n",
    "    return nmesh\n",
    "\n",
    "five_mesh = n_mesh(2)"
   ]
  },
  {
   "cell_type": "code",
   "execution_count": 8,
   "metadata": {},
   "outputs": [],
   "source": [
    "def make_uv_grid(Nside):\n",
    "    uv_size = Nside*2 - 1\n",
    "    center = (Nside-1,Nside-1)\n",
    "    npcenter = np.array(center)\n",
    "    img_size = (uv_size, uv_size)\n",
    "    random_image = np.random.normal(0, 1, img_size)\n",
    "    centered_uv = np.fft.fftshift(np.fft.fft2(random_image))\n",
    "#     centered_uv[center] = 0\n",
    "    topleft_uv = np.fft.ifftshift(centered_uv)\n",
    "    \n",
    "    return centered_uv, topleft_uv, npcenter"
   ]
  },
  {
   "cell_type": "code",
   "execution_count": 616,
   "metadata": {},
   "outputs": [],
   "source": [
    "def get_new_shape(Nside, beam_radius=3):\n",
    "    # Helper function\n",
    "    orig_shape = (2*Nside-1, Nside)\n",
    "    new_shape = tuple([i*beam_radius + (beam_radius - 1) for i in orig_shape])\n",
    "    return new_shape"
   ]
  },
  {
   "cell_type": "code",
   "execution_count": 663,
   "metadata": {},
   "outputs": [],
   "source": [
    "def make_visibilities(Nside, beam_radius):\n",
    "    n = Nside\n",
    "    br = beam_radius\n",
    "    \n",
    "    # Useful shapes/sizes to have on hand\n",
    "    new_shape = get_new_shape(n, br)\n",
    "    new_size = np.prod(new_shape)\n",
    "    center = (int((new_shape[0]-1)/2), br-1)\n",
    "    \n",
    "    #Matrices of visibiltiies and possible indices\n",
    "    random_vis = np.random.normal(0, 1, (new_shape[0], new_shape[1], 2)).view(np.complex128)\n",
    "    poss_index = np.arange(new_size).reshape(new_shape)\n",
    "    \n",
    "    #Clear off the leftmost columns to remove redundant conjugate stuff\n",
    "    poss_index[0:center[0], 0:br] = 0\n",
    "    poss_index[center[0]:, 0:br-1] = 0\n",
    "    \n",
    "    oversampled_baselines = poss_index.nonzero()[0].shape[0]\n",
    "    visib = np.zeros(oversampled_baselines, dtype=np.complex128)\n",
    "    #Baseline - index dictionaries\n",
    "    new_ndx = 0\n",
    "    n2b = {}\n",
    "    b2n = {}\n",
    "    n2true = {}\n",
    "    true2n = {}\n",
    "    for i in range(new_size):\n",
    "        xi,yi = np.unravel_index(i, new_shape)\n",
    "        if poss_index[xi,yi] == 0:\n",
    "            continue\n",
    "        else:\n",
    "            baseline = (xi-center[0], yi-center[1])\n",
    "            if baseline[0] < 0:\n",
    "                baseline = (-1*baseline[0], -1*baseline[1])\n",
    "\n",
    "            if baseline in b2n:\n",
    "                cndx = new_ndx\n",
    "            else:\n",
    "                cndx = new_ndx\n",
    "                b2n[baseline] = new_ndx\n",
    "                n2b[new_ndx] = baseline\n",
    "                if tuple(np.mod(baseline, br)) == (0,0):\n",
    "                    modtuple = tuple(np.floor_divide(baseline, 3))\n",
    "                    true2n[modtuple] = new_ndx\n",
    "                    n2true[new_ndx] = modtuple\n",
    "                new_ndx += 1\n",
    "        visib[cndx] = random_vis[xi,yi]\n",
    "    return n2b, b2n, n2true, true2n, visib"
   ]
  },
  {
   "cell_type": "code",
   "execution_count": 10,
   "metadata": {},
   "outputs": [],
   "source": [
    "def vis_to_grid(visib, ndx2base, size):\n",
    "    # Turn our flat list of visibilities into a grid based on the dictionary\n",
    "    # Meshes make properly yanking data from a grid straight-forward and also takes into account proper\n",
    "    # negative indexing which makes it preferable to the flat visibility list.\n",
    "    \n",
    "    # Double the size to make sure to avoid rewriting values with negative indexing\n",
    "    uv_size = (2*size[0], 2*size[1])\n",
    "    new_grid = np.zeros(uv_size, dtype=np.complex128)\n",
    "    for i,v in enumerate(visib):\n",
    "        base = ndx2base[i]\n",
    "        inv_base = tuple(-1*np.array(base))\n",
    "        new_grid[base] = v\n",
    "        new_grid[inv_base] = np.conj(v)\n",
    "    return new_grid"
   ]
  },
  {
   "cell_type": "code",
   "execution_count": 614,
   "metadata": {},
   "outputs": [],
   "source": [
    "def make_data_grid(Nside, gains, beams, noise=0.1, verbose=True):\n",
    "    \n",
    "    Nant = Nside**2\n",
    "    Nbase = get_num_baselines(Nside)\n",
    "    # Get sample beam to understand shape of convolved beams\n",
    "    samp_beam = signal.convolve(beams[0], beams[0])\n",
    "    \n",
    "    #Radius and corresponding mesh\n",
    "    beam_radius = int((samp_beam.shape[0]-1)/2) + 1\n",
    "    mesh = n_mesh(beam_radius-1)\n",
    "    \n",
    "    # Create visibilities\n",
    "    n2b, b2n, n2t, t2n, visib = make_visibilities(Nside, beam_radius)\n",
    "    if verbose:\n",
    "        print(\"Made visib\")\n",
    "    \n",
    "    new_shape = get_new_shape(Nside, beam_radius)\n",
    "    vis_grid = vis_to_grid(visib, n2b, new_shape)\n",
    "    if verbose:\n",
    "        print(\"Made grid\")\n",
    "    \n",
    "    ant_i, ant_j, visndx, data, datandx = [], [], [], [], []\n",
    "    \n",
    "    for i in range(Nant):\n",
    "        xi,yi=np.unravel_index(i,(Nside, Nside))\n",
    "        for j in range (i+1,Nant):\n",
    "            conv_beam = signal.convolve(beams[i], np.conj(beams[j]))\n",
    "            xj,yj=np.unravel_index(j,(Nside, Nside))\n",
    "            assert (xj>=xi)\n",
    "            baseline = (xj-xi,yj-yi)\n",
    "            \n",
    "            virtual_n = t2n[baseline]\n",
    "            grid_base = n2b[virtual_n]\n",
    "            \n",
    "            virtual_points = mesh(grid_base)\n",
    "            data_sum = (vis_grid[virtual_points] * gains[i] * np.conj(gains[j]) * conv_beam).sum()\n",
    "            \n",
    "            ant_i.append(i)\n",
    "            ant_j.append(j)\n",
    "            visndx.append(virtual_n)\n",
    "            data.append(data_sum)\n",
    "            datandx.append(virtual_points)\n",
    "    \n",
    "    if verbose:\n",
    "        print(\"Created data\")\n",
    "    \n",
    "    ant_i = np.array(ant_i)\n",
    "    ant_j = np.array(ant_j)\n",
    "    visndx = np.array(visndx)\n",
    "    data = np.array(data)\n",
    "    noise = np.random.normal(0,noise,size=(len(data),2)).view(np.complex128).flatten() ## size of unique baselines\n",
    "    data += noise\n",
    "    return visib, data, ant_i, ant_j, visndx, datandx, n2b, b2n, n2t, t2n, vis_grid"
   ]
  },
  {
   "cell_type": "code",
   "execution_count": 664,
   "metadata": {},
   "outputs": [],
   "source": [
    "def vector_b2n(b2n, datandx):\n",
    "    # Convert datandx (points on the grid) to flat indices using b2n dictionary\n",
    "    newndx = []\n",
    "    for l in datandx:\n",
    "        x,y = l\n",
    "        flattened = []\n",
    "        ndx_size = x.size\n",
    "        ndx_shape = x.shape\n",
    "        for i in range(ndx_size):\n",
    "            point = np.unravel_index(i, ndx_shape)\n",
    "            k = np.array([x[point], y[point]])\n",
    "            key = tuple(k)\n",
    "            if key in b2n:\n",
    "                flattened.append(b2n[key])\n",
    "            else:\n",
    "                key = tuple(-1*k)\n",
    "                flattened.append(-1*b2n[key])\n",
    "        newndx.append(flattened)\n",
    "    newndx = np.array(newndx)\n",
    "    return newndx"
   ]
  },
  {
   "cell_type": "code",
   "execution_count": 665,
   "metadata": {},
   "outputs": [],
   "source": [
    "def conjugate_visib(vis, ndxs):\n",
    "    # Returns the proper list of relevant visibilites given ndxs\n",
    "    # Negative refers to using a conjugate rather than doubling the size of the array\n",
    "    flat = []\n",
    "    for i in ndxs:\n",
    "        if i >= 0:\n",
    "            flat.append(vis[i])\n",
    "        else:\n",
    "            flat.append(np.conj(vis[-1*i]))\n",
    "    return np.array(flat)"
   ]
  },
  {
   "cell_type": "code",
   "execution_count": 666,
   "metadata": {},
   "outputs": [],
   "source": [
    "def flat_model(vis, gains, beams, ant_i, ant_j, flatndx):\n",
    "    # Make prediction\n",
    "    postage = np.array([signal.convolve(beams[ant_i[i]], np.conjugate(beams[ant_j[i]])).flatten() for i in range(len(flatndx))])\n",
    "    gains_i = gains[ant_i]\n",
    "    gains_j = np.conj(gains[ant_j])\n",
    "    flatbread = np.array([conjugate_visib(vis, v)*postage[i] for i, v in enumerate(flatndx)])\n",
    "    pred = np.sum(flatbread, axis=1)*gains_i*gains_j\n",
    "    return pred"
   ]
  },
  {
   "cell_type": "code",
   "execution_count": 667,
   "metadata": {},
   "outputs": [],
   "source": [
    "def gen_chi2(data, pred, noise=0.1):\n",
    "    # Generic chi2 definition\n",
    "    chi2 = np.abs((data - pred)**2).sum()/(noise**2)\n",
    "    dof = len(data)*2\n",
    "    return chi2, dof, chi2/dof"
   ]
  },
  {
   "cell_type": "code",
   "execution_count": 668,
   "metadata": {},
   "outputs": [],
   "source": [
    "def imag_to_reals(vec):\n",
    "    # Helper function for linear estimator\n",
    "    reals = vec.real\n",
    "    imags = vec.imag\n",
    "    flat_vec = np.concatenate((reals, imags))\n",
    "    return flat_vec"
   ]
  },
  {
   "cell_type": "code",
   "execution_count": 707,
   "metadata": {},
   "outputs": [],
   "source": [
    "def linear_solver_A(data, fndx, beams, ant_i, ant_j):\n",
    "    # Solve for visibilities using a linear method\n",
    "    big_ans = imag_to_reals(data)\n",
    "    data_len = len(data)\n",
    "    v_size = len(set(np.abs(fndx).flatten())) + 1\n",
    "    postage = np.array([signal.convolve(beams[ant_i[i]], np.conjugate(beams[ant_j[i]])).flatten() for i in range(len(fndx))])\n",
    "    bigA = sparse.lil_matrix((2*data_len, 2*v_size))\n",
    "    for i,v in enumerate(flatndx):\n",
    "        absv = np.abs(v)\n",
    "        bigA[i,absv] = postage[i].real\n",
    "        bigA[i, v_size+absv] = -1*np.sign(v)*postage[i].imag\n",
    "        bigA[i+data_len, absv] = np.sign(v)*postage[i].imag\n",
    "        bigA[i+data_len, v_size+absv] = postage[i].real\n",
    "    bigCSR = bigA.tocsr()\n",
    "    return bigCSR, big_ans"
   ]
  },
  {
   "cell_type": "code",
   "execution_count": 779,
   "metadata": {},
   "outputs": [
    {
     "data": {
      "text/plain": [
       "array([[0.375 +0.j, 0.6875+0.j, 0.25  +0.j],\n",
       "       [0.6875+0.j, 1.    +0.j, 0.75  +0.j],\n",
       "       [0.25  +0.j, 0.75  +0.j, 0.125 +0.j]])"
      ]
     },
     "execution_count": 779,
     "metadata": {},
     "output_type": "execute_result"
    }
   ],
   "source": [
    "get_weighted_array(.8, 3, 8)"
   ]
  },
  {
   "cell_type": "code",
   "execution_count": 780,
   "metadata": {},
   "outputs": [
    {
     "name": "stdout",
     "output_type": "stream",
     "text": [
      "Made visib\n",
      "Made grid\n",
      "Created data\n"
     ]
    }
   ],
   "source": [
    "Nside = 15\n",
    "Nant = Nside * Nside\n",
    "Nbase = get_num_baselines(Nside)\n",
    "# gains_true = make_gains(Nside)\n",
    "gains_true = np.ones(Nant, dtype=np.complex128)\n",
    "# vis_true, data, ant_i, ant_j, visndx, ndx2base, base2ndx = make_data(Nsmide, gains_true)\n",
    "weighted_beam = get_weighted_array(1, 3)\n",
    "beam_gains = rand_phases(Nant)\n",
    "beams = np.array([get_weighted_array(.8, 3, 8)*np.exp(1j*beam_gains[i]) for i in range(Nant)])\n",
    "vis_true, data, ant_i, ant_j, visndx, datandx, n2b, b2n, n2t, t2n, tl_grid = make_data_grid(Nside, gains_true, beams, noise=0.1)\n",
    "flatndx = vector_b2n(b2n, datandx)\n",
    "data_len = len(data)"
   ]
  },
  {
   "cell_type": "code",
   "execution_count": 781,
   "metadata": {},
   "outputs": [],
   "source": [
    "flatbread = flat_model(vis_true, gains_true, beams, ant_i, ant_j, flatndx)"
   ]
  },
  {
   "cell_type": "code",
   "execution_count": 782,
   "metadata": {},
   "outputs": [
    {
     "name": "stdout",
     "output_type": "stream",
     "text": [
      "Flat solution  (50441.841195164925, 50400, 1.0008301824437484)\n"
     ]
    }
   ],
   "source": [
    "print(\"Flat solution \", gen_chi2(data, flatbread))"
   ]
  },
  {
   "cell_type": "code",
   "execution_count": 783,
   "metadata": {},
   "outputs": [],
   "source": [
    "bigA, bigB = linear_solver_A(data, flatndx, beams, ant_i, ant_j) "
   ]
  },
  {
   "cell_type": "code",
   "execution_count": 793,
   "metadata": {},
   "outputs": [],
   "source": [
    "# Wiener map making method\n",
    "Sinv_dia = sparse.dia_matrix((np.ones(vec_shape), 0), (vec_shape, vec_shape))\n",
    "Sinv = Sinv_dia.tocsr()\n",
    "\n",
    "Ninv_dia = sparse.dia_matrix((np.ones(big_shape)*100, 0), (big_shape, big_shape))\n",
    "Ninv = Ninv_dia.tocsr()\n",
    "\n",
    "lhsX = Sinv + bigA.T@Ninv@bigA\n",
    "rhsY = bigA.T@Ninv@bigB"
   ]
  },
  {
   "cell_type": "code",
   "execution_count": 806,
   "metadata": {},
   "outputs": [],
   "source": [
    "bad_guess = np.random.normal(0, 1, (len(vis_true), 2)).view(np.complex128).flatten()\n",
    "map_badguess = imag_to_reals(bad_guess)"
   ]
  },
  {
   "cell_type": "code",
   "execution_count": 805,
   "metadata": {},
   "outputs": [
    {
     "ename": "ValueError",
     "evalue": "dimension mismatch",
     "output_type": "error",
     "traceback": [
      "\u001b[0;31m---------------------------------------------------------------------------\u001b[0m",
      "\u001b[0;31mValueError\u001b[0m                                Traceback (most recent call last)",
      "\u001b[0;32m<ipython-input-805-c43d600b4b49>\u001b[0m in \u001b[0;36m<module>\u001b[0;34m\u001b[0m\n\u001b[0;32m----> 1\u001b[0;31m \u001b[0mmap_sol\u001b[0m \u001b[0;34m=\u001b[0m \u001b[0msparse\u001b[0m\u001b[0;34m.\u001b[0m\u001b[0mlinalg\u001b[0m\u001b[0;34m.\u001b[0m\u001b[0mlsqr\u001b[0m\u001b[0;34m(\u001b[0m\u001b[0mbigA\u001b[0m\u001b[0;34m,\u001b[0m \u001b[0mbigB\u001b[0m\u001b[0;34m,\u001b[0m \u001b[0matol\u001b[0m\u001b[0;34m=\u001b[0m\u001b[0;36m1e-5\u001b[0m\u001b[0;34m,\u001b[0m \u001b[0mx0\u001b[0m\u001b[0;34m=\u001b[0m\u001b[0mbad_guess\u001b[0m\u001b[0;34m)\u001b[0m\u001b[0;34m[\u001b[0m\u001b[0;36m0\u001b[0m\u001b[0;34m]\u001b[0m    \u001b[0;31m# Directly solve for map\u001b[0m\u001b[0;34m\u001b[0m\u001b[0;34m\u001b[0m\u001b[0m\n\u001b[0m\u001b[1;32m      2\u001b[0m \u001b[0;31m# map_sol = sparse.linalg.lsqr(lhsX, rhsY, atol=1e-5)[0]    # Use Wiener filter\u001b[0m\u001b[0;34m\u001b[0m\u001b[0;34m\u001b[0m\u001b[0;34m\u001b[0m\u001b[0m\n",
      "\u001b[0;32m~/miniconda3/envs/astro/lib/python3.8/site-packages/scipy/sparse/linalg/isolve/lsqr.py\u001b[0m in \u001b[0;36mlsqr\u001b[0;34m(A, b, damp, atol, btol, conlim, iter_lim, show, calc_var, x0)\u001b[0m\n\u001b[1;32m    367\u001b[0m     \u001b[0;32melse\u001b[0m\u001b[0;34m:\u001b[0m\u001b[0;34m\u001b[0m\u001b[0;34m\u001b[0m\u001b[0m\n\u001b[1;32m    368\u001b[0m         \u001b[0mx\u001b[0m \u001b[0;34m=\u001b[0m \u001b[0mnp\u001b[0m\u001b[0;34m.\u001b[0m\u001b[0masarray\u001b[0m\u001b[0;34m(\u001b[0m\u001b[0mx0\u001b[0m\u001b[0;34m)\u001b[0m\u001b[0;34m\u001b[0m\u001b[0;34m\u001b[0m\u001b[0m\n\u001b[0;32m--> 369\u001b[0;31m         \u001b[0mu\u001b[0m \u001b[0;34m=\u001b[0m \u001b[0mu\u001b[0m \u001b[0;34m-\u001b[0m \u001b[0mA\u001b[0m\u001b[0;34m.\u001b[0m\u001b[0mmatvec\u001b[0m\u001b[0;34m(\u001b[0m\u001b[0mx\u001b[0m\u001b[0;34m)\u001b[0m\u001b[0;34m\u001b[0m\u001b[0;34m\u001b[0m\u001b[0m\n\u001b[0m\u001b[1;32m    370\u001b[0m         \u001b[0mbeta\u001b[0m \u001b[0;34m=\u001b[0m \u001b[0mnp\u001b[0m\u001b[0;34m.\u001b[0m\u001b[0mlinalg\u001b[0m\u001b[0;34m.\u001b[0m\u001b[0mnorm\u001b[0m\u001b[0;34m(\u001b[0m\u001b[0mu\u001b[0m\u001b[0;34m)\u001b[0m\u001b[0;34m\u001b[0m\u001b[0;34m\u001b[0m\u001b[0m\n\u001b[1;32m    371\u001b[0m \u001b[0;34m\u001b[0m\u001b[0m\n",
      "\u001b[0;32m~/miniconda3/envs/astro/lib/python3.8/site-packages/scipy/sparse/linalg/interface.py\u001b[0m in \u001b[0;36mmatvec\u001b[0;34m(self, x)\u001b[0m\n\u001b[1;32m    225\u001b[0m \u001b[0;34m\u001b[0m\u001b[0m\n\u001b[1;32m    226\u001b[0m         \u001b[0;32mif\u001b[0m \u001b[0mx\u001b[0m\u001b[0;34m.\u001b[0m\u001b[0mshape\u001b[0m \u001b[0;34m!=\u001b[0m \u001b[0;34m(\u001b[0m\u001b[0mN\u001b[0m\u001b[0;34m,\u001b[0m\u001b[0;34m)\u001b[0m \u001b[0;32mand\u001b[0m \u001b[0mx\u001b[0m\u001b[0;34m.\u001b[0m\u001b[0mshape\u001b[0m \u001b[0;34m!=\u001b[0m \u001b[0;34m(\u001b[0m\u001b[0mN\u001b[0m\u001b[0;34m,\u001b[0m\u001b[0;36m1\u001b[0m\u001b[0;34m)\u001b[0m\u001b[0;34m:\u001b[0m\u001b[0;34m\u001b[0m\u001b[0;34m\u001b[0m\u001b[0m\n\u001b[0;32m--> 227\u001b[0;31m             \u001b[0;32mraise\u001b[0m \u001b[0mValueError\u001b[0m\u001b[0;34m(\u001b[0m\u001b[0;34m'dimension mismatch'\u001b[0m\u001b[0;34m)\u001b[0m\u001b[0;34m\u001b[0m\u001b[0;34m\u001b[0m\u001b[0m\n\u001b[0m\u001b[1;32m    228\u001b[0m \u001b[0;34m\u001b[0m\u001b[0m\n\u001b[1;32m    229\u001b[0m         \u001b[0my\u001b[0m \u001b[0;34m=\u001b[0m \u001b[0mself\u001b[0m\u001b[0;34m.\u001b[0m\u001b[0m_matvec\u001b[0m\u001b[0;34m(\u001b[0m\u001b[0mx\u001b[0m\u001b[0;34m)\u001b[0m\u001b[0;34m\u001b[0m\u001b[0;34m\u001b[0m\u001b[0m\n",
      "\u001b[0;31mValueError\u001b[0m: dimension mismatch"
     ]
    }
   ],
   "source": [
    "map_sol = sparse.linalg.lsqr(bigA, bigB, atol=1e-5, x0=map_badguess)[0]    # Directly solve for map\n",
    "# map_sol = sparse.linalg.lsqr(lhsX, rhsY, atol=1e-5)[0]    # Use Wiener filter"
   ]
  },
  {
   "cell_type": "code",
   "execution_count": 797,
   "metadata": {},
   "outputs": [
    {
     "data": {
      "text/plain": [
       "(50314.57177836789, 50400, 0.9983049956025375)"
      ]
     },
     "execution_count": 797,
     "metadata": {},
     "output_type": "execute_result"
    }
   ],
   "source": [
    "comb_sol = map_sol[:v_size] + 1j*map_sol[v_size:]\n",
    "comb_model = flat_model(comb_sol, gains_true, beams, ant_i, ant_j, flatndx)\n",
    "gen_chi2(data, comb_model)"
   ]
  },
  {
   "cell_type": "code",
   "execution_count": 803,
   "metadata": {},
   "outputs": [
    {
     "name": "stdout",
     "output_type": "stream",
     "text": [
      "38.95994677511328\n"
     ]
    },
    {
     "data": {
      "image/png": "[encoded data removed]",
      "text/plain": [
       "<Figure size 432x288 with 1 Axes>"
      ]
     },
     "metadata": {
      "image/png": {
       "height": 270,
       "width": 381
      },
      "needs_background": "light"
     },
     "output_type": "display_data"
    }
   ],
   "source": [
    "chiout = chimincal(400, data, beam_gains, bad_guess, ant_i, ant_j, visndx)\n",
    "\n",
    "plt.plot(np.array(chiout[2])/dof, '.');\n",
    "plt.title(r\"$\\frac{\\chi^2}{DoF}$\");\n",
    "print(chiout[2][-1]/dof)"
   ]
  },
  {
   "cell_type": "markdown",
   "metadata": {},
   "source": [
    "### Below this is my random testing/playground <a name=\"playground\"></a>\n",
    "I have my chi2 minimization algorithm underneath but it doesn't work well at all"
   ]
  },
  {
   "cell_type": "code",
   "execution_count": 641,
   "metadata": {},
   "outputs": [
    {
     "data": {
      "text/plain": [
       "(50481.00287299071, 50400, 1.0016071998609268)"
      ]
     },
     "execution_count": 641,
     "metadata": {},
     "output_type": "execute_result"
    }
   ],
   "source": [
    "# bad_guess = np.random.normal(0,1,(v_size,2)).view(dtype=np.complex128).flatten()\n",
    "bad_guess = vis_true.copy()\n",
    "bad_sol = flat_model(bad_guess, gains_true, beams, ant_i, ant_j, flatndx)\n",
    "gen_chi2(data, bad_sol)"
   ]
  },
  {
   "cell_type": "code",
   "execution_count": 642,
   "metadata": {},
   "outputs": [],
   "source": [
    "worthy = np.array(list(n2t.keys()))"
   ]
  },
  {
   "cell_type": "code",
   "execution_count": 643,
   "metadata": {},
   "outputs": [],
   "source": [
    "weights_visib = np.zeros_like(bad_guess, dtype=np.complex128)\n",
    "gener_v = np.zeros_like(bad_guess, dtype=np.complex128)\n",
    "zerondx = b2n[(0,0)]"
   ]
  },
  {
   "cell_type": "code",
   "execution_count": 644,
   "metadata": {},
   "outputs": [],
   "source": [
    "for w in worthy:\n",
    "    if w==zerondx:\n",
    "        continue\n",
    "    vis_filter = (visndx==w)\n",
    "\n",
    "    postage = np.array([signal.convolve(beams[ant_i[vis_filter][i]], np.conjugate(beams[ant_j[vis_filter][i]])).flatten() for i in range(np.sum(vis_filter))])\n",
    "\n",
    "    gain_factor = gains_true[ant_i[vis_filter]]*np.conj(gains_true[ant_j[vis_filter]])\n",
    "    postage_gain = postage*gain_factor[:,None]\n",
    "    numer = np.sum(data[vis_filter][:,None]*np.conjugate(postage_gain), axis=0)\n",
    "    denom = np.sum(np.abs(postage_gain)**2, axis=0)\n",
    "\n",
    "    delta_v = numer/(25*denom)\n",
    "    gener_v[flatndx[vis_filter][0]] += delta_v\n",
    "    weights_visib[flatndx[vis_filter][0]] += 1"
   ]
  },
  {
   "cell_type": "code",
   "execution_count": 645,
   "metadata": {},
   "outputs": [],
   "source": [
    "avged_guess = vector_weights(gener_v, weights_visib)"
   ]
  },
  {
   "cell_type": "code",
   "execution_count": 736,
   "metadata": {},
   "outputs": [
    {
     "name": "stdout",
     "output_type": "stream",
     "text": [
      "1147143407.0389664 50400 22760.781885693777\n"
     ]
    }
   ],
   "source": [
    "bad_sol = flat_model(avged_guess, gains_true, beams, ant_i, ant_j, flatndx)\n",
    "badchi, dof, ratio = gen_chi2(data, bad_sol)\n",
    "print(badchi, dof, ratio)"
   ]
  },
  {
   "cell_type": "markdown",
   "metadata": {},
   "source": [
    "Essentially, it puts ends up putting values such that after convolution each pixel in the 5x5 is the same (the data/25).\n",
    "But where there is overlap between the data points, averaging just makes it bad at both measurements which leads to the horrible chi2."
   ]
  },
  {
   "cell_type": "code",
   "execution_count": 710,
   "metadata": {},
   "outputs": [],
   "source": [
    "v_size = len(set(np.abs(flatndx).flatten())) + 1"
   ]
  },
  {
   "cell_type": "code",
   "execution_count": 700,
   "metadata": {},
   "outputs": [],
   "source": [
    "bigCSR, bigB = linear_solver_A(data, flatndx, beams, ant_i, ant_j)"
   ]
  },
  {
   "cell_type": "code",
   "execution_count": 701,
   "metadata": {},
   "outputs": [],
   "source": [
    "map_sol = sparse.linalg.lsqr(bigCSR, bigB, atol=1e-3)[0]"
   ]
  },
  {
   "cell_type": "code",
   "execution_count": 702,
   "metadata": {},
   "outputs": [],
   "source": [
    "comb_sol = map_sol[:v_size] + 1j*map_sol[v_size:]"
   ]
  },
  {
   "cell_type": "code",
   "execution_count": 703,
   "metadata": {},
   "outputs": [
    {
     "data": {
      "image/png": "[encoded data removed]",
      "text/plain": [
       "<Figure size 432x288 with 1 Axes>"
      ]
     },
     "metadata": {
      "image/png": {
       "height": 248,
       "width": 381
      },
      "needs_background": "light"
     },
     "output_type": "display_data"
    }
   ],
   "source": [
    "plt.hist(np.log10(np.abs(comb_sol - vis_true) + 1e-5), histtype='step', label='Difference');\n",
    "plt.hist(np.log10(np.abs(vis_true) + 1e-5), histtype='step', label='True');\n",
    "plt.hist(np.log10(np.abs(comb_sol) + 1e-5), histtype='step', label='Prediction');\n",
    "plt.legend(loc='upper left');"
   ]
  },
  {
   "cell_type": "code",
   "execution_count": 704,
   "metadata": {},
   "outputs": [],
   "source": [
    "comb_model = flat_model(comb_sol, gains_true, beams, ant_i, ant_j, flatndx)"
   ]
  },
  {
   "cell_type": "code",
   "execution_count": 705,
   "metadata": {},
   "outputs": [
    {
     "data": {
      "text/plain": [
       "(55149.88370110746, 50400, 1.0942437242283225)"
      ]
     },
     "execution_count": 705,
     "metadata": {},
     "output_type": "execute_result"
    }
   ],
   "source": [
    "gen_chi2(data, comb_model)"
   ]
  },
  {
   "cell_type": "code",
   "execution_count": 721,
   "metadata": {},
   "outputs": [],
   "source": []
  },
  {
   "cell_type": "code",
   "execution_count": 716,
   "metadata": {},
   "outputs": [
    {
     "data": {
      "text/plain": [
       "3961"
      ]
     },
     "execution_count": 716,
     "metadata": {},
     "output_type": "execute_result"
    }
   ],
   "source": [
    "len(vis_true)"
   ]
  },
  {
   "cell_type": "code",
   "execution_count": null,
   "metadata": {},
   "outputs": [],
   "source": [
    "bad_gains = beam_gains"
   ]
  },
  {
   "cell_type": "code",
   "execution_count": 790,
   "metadata": {},
   "outputs": [],
   "source": []
  }
 ],
 "metadata": {
  "kernelspec": {
   "display_name": "Python 3",
   "language": "python",
   "name": "python3"
  },
  "language_info": {
   "codemirror_mode": {
    "name": "ipython",
    "version": 3
   },
   "file_extension": ".py",
   "mimetype": "text/x-python",
   "name": "python",
   "nbconvert_exporter": "python",
   "pygments_lexer": "ipython3",
   "version": "3.8.5"
  }
 },
 "nbformat": 4,
 "nbformat_minor": 4
}
