{
 "cells": [
  {
   "cell_type": "code",
   "execution_count": 36,
   "metadata": {},
   "outputs": [],
   "source": [
    "import numpy as np\n",
    "import matplotlib.pyplot as plt\n",
    "from scipy import stats\n",
    "from scipy import sparse\n",
    "from scipy import optimize\n",
    "from scipy import signal\n",
    "from functools import reduce\n",
    "from collections import defaultdict\n",
    "from tqdm.notebook import tqdm"
   ]
  },
  {
   "cell_type": "code",
   "execution_count": 2,
   "metadata": {},
   "outputs": [],
   "source": [
    "%matplotlib inline\n",
    "%config InlineBackend.figure_format='retina'"
   ]
  },
  {
   "cell_type": "code",
   "execution_count": 709,
   "metadata": {},
   "outputs": [],
   "source": [
    "def get_num_baselines(Nside):\n",
    "    # For square of N telescopes, should be 2N-2*sqrt(N) + 1\n",
    "    # Fix to a corner and there are N-1 options for unique baselines. \n",
    "    # Flip over to other side (over x or y axis) and get another N-1 options\n",
    "    # Duplicated are the pure x-axis and pure y-axis so -2*(sqrt(N)-1)\n",
    "    # Final +1 is from 0 baseline\n",
    "    \n",
    "    N_bases = 2*Nside**2 - 2*Nside\n",
    "    return int(N_bases)\n",
    "\n",
    "rand_phases = lambda x: np.random.uniform(0, 2*np.pi, x)\n",
    "zero_weight = lambda x, d: x/d if d else 0\n",
    "\n",
    "def make_gains(Nside):\n",
    "    # Create complex gains with either (amplitude, phase) or (real, imaginary)\n",
    "    Nant = Nside**2\n",
    "    gain_amp = np.random.normal(1, .05, Nant)\n",
    "    gain_phase = rand_phases(Nant)\n",
    "    tgain = gain_amp*np.exp(1j*gain_phase)    \n",
    "    return tgain\n",
    "\n",
    "def make_data(Nside, gains, noise=0.1):\n",
    "    Nant = Nside**2\n",
    "    Nbase = get_num_baselines(Nside)\n",
    "    vis_true = np.random.normal(0,1,size=(Nbase,2)).view(np.complex128).flatten() ## size of unique baselines\n",
    "    ant_i, ant_j, visndx, data = [], [], [], []\n",
    "    ndx=0\n",
    "    ndx2base={}\n",
    "    base2ndx={}\n",
    "    for i in range(Nant):\n",
    "        xi,yi=np.unravel_index(i,(Nside,Nside))\n",
    "        for j in range (i+1,Nant):\n",
    "            xj,yj=np.unravel_index(j,(Nside,Nside))\n",
    "            assert (xj>=xi)\n",
    "            baseline = (xj-xi,yj-yi)\n",
    "            if baseline in base2ndx:\n",
    "                cndx = base2ndx[baseline]\n",
    "            else:\n",
    "                cndx = ndx\n",
    "                base2ndx[baseline]=ndx\n",
    "                ndx2base[ndx]=baseline\n",
    "                ndx+=1\n",
    "            ant_i.append(i)\n",
    "            ant_j.append(j)\n",
    "            visndx.append(cndx)\n",
    "            data.append(vis_true[cndx]*gains[i]*np.conj(gains[j]))\n",
    "            \n",
    "    assert(ndx==Nbase)\n",
    "    ant_i = np.array(ant_i)\n",
    "    ant_j = np.array(ant_j)\n",
    "    visndx = np.array(visndx)\n",
    "    data = np.array(data)\n",
    "    noise = np.random.normal(0,noise,size=(len(data),2)).view(np.complex128).flatten() ## size of unique baselines\n",
    "    data += noise\n",
    "    return vis_true, data, ant_i, ant_j, visndx, ndx2base, base2ndx"
   ]
  },
  {
   "cell_type": "code",
   "execution_count": 728,
   "metadata": {},
   "outputs": [],
   "source": [
    "def make_uv_grid(Nside):\n",
    "    uv_size = Nside*2 - 1\n",
    "    center = (Nside-1,Nside-1)\n",
    "    npcenter = np.array(center)\n",
    "    random_uv_grid = np.zeros((uv_size, uv_size, 2)).view(np.complex128)\n",
    "    poss_uv = random_uv_grid.reshape((uv_size, uv_size))\n",
    "    \n",
    "    # Bottom right and top left should be conjugates\n",
    "    for i in range(Nside-1, uv_size):\n",
    "        for j in range(Nside, uv_size):\n",
    "            rel_to_center = np.array([i,j]) - npcenter\n",
    "            conj_pos = tuple(npcenter - rel_to_center)\n",
    "            visb = np.random.normal(0,1,2).view(np.complex128)\n",
    "            poss_uv[i,j] = visb\n",
    "            poss_uv[conj_pos] = np.conj(visb)\n",
    "    \n",
    "    # Top right and bottom left should be conjugates\n",
    "    for i in range(Nside, uv_size):\n",
    "        for j in range(0, Nside):\n",
    "            rel_to_center = np.array([i,j]) - npcenter\n",
    "            conj_pos = tuple(npcenter - rel_to_center)\n",
    "            visb = np.random.normal(0,1,2).view(np.complex128)\n",
    "            poss_uv[i,j] = visb\n",
    "            poss_uv[conj_pos] = np.conj(visb)\n",
    "            \n",
    "    poss_uv[center] = 0\n",
    "    return poss_uv, npcenter"
   ]
  },
  {
   "cell_type": "code",
   "execution_count": 1290,
   "metadata": {},
   "outputs": [],
   "source": [
    "def make_data_grid(Nside, gains, noise=0.1, beamsize=1):\n",
    "    Nant = Nside**2\n",
    "    Nbase = get_num_baselines(Nside)\n",
    "    uv_grid, npcenter = make_uv_grid(Nside+1)\n",
    "    beam1_f = np.ones((beamsize, beamsize), dtype=np.complex128)\n",
    "    beam_radius = int((beamsize-1)/2)\n",
    "    vis_true = np.zeros(Nbase, dtype=np.complex128)\n",
    "    ant_i, ant_j, visndx, data = [], [], [], []\n",
    "    ndx=0\n",
    "    ndx2base={}\n",
    "    base2ndx={}\n",
    "    for i in range(Nant):\n",
    "        xi,yi=np.unravel_index(i,(Nside,Nside))\n",
    "        for j in range (i+1,Nant):\n",
    "            xj,yj=np.unravel_index(j,(Nside,Nside))\n",
    "            assert (xj>=xi)\n",
    "            baseline = (xj-xi,yj-yi)\n",
    "            if baseline in base2ndx:\n",
    "                cndx = base2ndx[baseline]\n",
    "            else:\n",
    "                cndx = ndx\n",
    "                base2ndx[baseline]=ndx\n",
    "                ndx2base[ndx]=baseline\n",
    "                ndx+=1\n",
    "            center = npcenter + baseline\n",
    "            uv_points = uv_grid[center[0]-beam_radius:center[0]+beam_radius+1,center[1]-beam_radius:center[1]+beam_radius+1]\n",
    "            vis_true[cndx] = uv_grid[tuple(center)]\n",
    "            ant_i.append(i)\n",
    "            ant_j.append(j)\n",
    "            visndx.append(cndx)\n",
    "            data.append(signal.fftconvolve(uv_points, beam1_f)*gains[i]*np.conj(gains[j]))\n",
    "            \n",
    "    assert(ndx==Nbase)\n",
    "    ant_i = np.array(ant_i)\n",
    "    ant_j = np.array(ant_j)\n",
    "    visndx = np.array(visndx)\n",
    "    data = np.array(data)\n",
    "#     noise = np.random.normal(0,noise,size=(len(data),2)).view(np.complex128).flatten() ## size of unique baselines\n",
    "#     data += noise\n",
    "    return vis_true, data, ant_i, ant_j, visndx, ndx2base, base2ndx"
   ]
  },
  {
   "cell_type": "code",
   "execution_count": 1286,
   "metadata": {},
   "outputs": [],
   "source": [
    "def make_pred(gains, vis, ant_i, ant_j, visndx):\n",
    "    gains_i = gains[ant_i]\n",
    "    cgains_j = np.conj(gains[ant_j])\n",
    "    pred = gains_i*cgains_j*vis[visndx]\n",
    "    return pred"
   ]
  },
  {
   "cell_type": "code",
   "execution_count": 1287,
   "metadata": {},
   "outputs": [],
   "source": [
    "def chi2 (data, gains, vis, ant_i, ant_j, visndx, noise=0.1):\n",
    "    pred = make_pred(gains, vis, ant_i, ant_j, visndx)\n",
    "    chi2 = np.abs((data - pred)**2).sum()/(noise**2)\n",
    "    dof = len(data)*2\n",
    "    return chi2, dof"
   ]
  },
  {
   "cell_type": "code",
   "execution_count": 1288,
   "metadata": {},
   "outputs": [],
   "source": [
    "def flat_to_matrix(Nside, flattened, a_i, a_j):\n",
    "    Nant = Nside**2\n",
    "    temp_mat = np.zeros((Nant, Nant), dtype=np.complex128)\n",
    "    temp_mat[a_i, a_j] = flattened\n",
    "    temp_mat[a_j, a_i] = np.conj(flattened)\n",
    "    return temp_mat"
   ]
  },
  {
   "cell_type": "code",
   "execution_count": 1299,
   "metadata": {},
   "outputs": [],
   "source": [
    "Nside = 5\n",
    "Nant = Nside * Nside\n",
    "Nbase = get_num_baselines(Nside)\n",
    "uv_size = Nside*2 - 1\n",
    "gains_true = make_gains(Nside)\n",
    "# uv_grid, npcenter = make_uv_grid(Nside)\n",
    "# vis_true, data, ant_i, ant_j, visndx, ndx2base, base2ndx = make_data(Nside, gains_true)\n",
    "vis_true, data, ant_i, ant_j, visndx, ndx2base, base2ndx = make_data_grid(Nside, gains_true, noise=0, beamsize=1)\n",
    "data_len = len(data)"
   ]
  },
  {
   "cell_type": "code",
   "execution_count": 1300,
   "metadata": {},
   "outputs": [],
   "source": [
    "no_noise = make_pred(gains_true, vis_true, ant_i, ant_j, visndx)"
   ]
  },
  {
   "cell_type": "code",
   "execution_count": 746,
   "metadata": {},
   "outputs": [],
   "source": [
    "phased_gains = gains_true*np.exp(1j*rand_phases(Nant)/5)"
   ]
  },
  {
   "cell_type": "code",
   "execution_count": 699,
   "metadata": {},
   "outputs": [
    {
     "data": {
      "text/plain": [
       "(613.0047187661785, 600)"
      ]
     },
     "execution_count": 699,
     "metadata": {},
     "output_type": "execute_result"
    }
   ],
   "source": [
    "chi2(data, gains_true, vis_true, ant_i, ant_j, visndx)"
   ]
  },
  {
   "cell_type": "code",
   "execution_count": 700,
   "metadata": {},
   "outputs": [],
   "source": [
    "baseline2 = npcenter + (0,2)\n",
    "baseline3 = npcenter + (0,3)"
   ]
  },
  {
   "cell_type": "code",
   "execution_count": 701,
   "metadata": {},
   "outputs": [
    {
     "data": {
      "text/plain": [
       "array([4, 6])"
      ]
     },
     "execution_count": 701,
     "metadata": {},
     "output_type": "execute_result"
    }
   ],
   "source": [
    "baseline2"
   ]
  },
  {
   "cell_type": "code",
   "execution_count": 1112,
   "metadata": {},
   "outputs": [],
   "source": [
    "for i in [3,4,5]:\n",
    "    for j in [5,6,7]:\n",
    "        beam2_f[i,j] = 1\n",
    "        grab_3uv[i-3,j-5] = uv_grid[i,j]"
   ]
  },
  {
   "cell_type": "code",
   "execution_count": 1277,
   "metadata": {},
   "outputs": [],
   "source": [
    "beam_size = 3\n",
    "beam_radius = 1\n",
    "center = (3,-4)"
   ]
  },
  {
   "cell_type": "code",
   "execution_count": 1278,
   "metadata": {},
   "outputs": [],
   "source": [
    "beam1_f = np.ones((beam_size,beam_size))\n",
    "beam2_f = np.zeros((9,9))\n",
    "grab_3uv = np.zeros((3,3), dtype=np.complex128)"
   ]
  },
  {
   "cell_type": "code",
   "execution_count": 1279,
   "metadata": {},
   "outputs": [],
   "source": [
    "conv_beam = signal.convolve(beam1_f, beam1_f)"
   ]
  },
  {
   "cell_type": "code",
   "execution_count": 1280,
   "metadata": {},
   "outputs": [],
   "source": [
    "lhs = signal.convolve(beam1_f, uv_grid[center[0]-beam_radius:center[0]+beam_radius+1,center[1]-beam_radius:center[1]+beam_radius+1])"
   ]
  },
  {
   "cell_type": "code",
   "execution_count": 1281,
   "metadata": {},
   "outputs": [
    {
     "data": {
      "text/plain": [
       "(5, 5)"
      ]
     },
     "execution_count": 1281,
     "metadata": {},
     "output_type": "execute_result"
    }
   ],
   "source": [
    "lhs.shape"
   ]
  },
  {
   "cell_type": "code",
   "execution_count": 1282,
   "metadata": {},
   "outputs": [
    {
     "data": {
      "text/plain": [
       "(10.256108252320482-24.713002586570973j)"
      ]
     },
     "execution_count": 1282,
     "metadata": {},
     "output_type": "execute_result"
    }
   ],
   "source": [
    "np.sum(lhs)"
   ]
  },
  {
   "cell_type": "code",
   "execution_count": 1283,
   "metadata": {},
   "outputs": [
    {
     "data": {
      "text/plain": [
       "array([[ 0.5810335 -0.20316624j,  0.26107689-0.26261827j,\n",
       "        -0.96759862+0.49354143j, -0.92177027-0.39956769j,\n",
       "        -0.10668486+0.44873445j,  0.44223418+0.4074692j ,\n",
       "        -0.05645854+1.8700529j ,  0.17926148-0.66163235j,\n",
       "        -0.21750876-0.95154941j],\n",
       "       [ 0.85650965+0.51516475j,  0.65727464+0.0443764j ,\n",
       "        -0.96249748+0.73942553j, -0.01750011+1.00538386j,\n",
       "        -1.72868933+1.16825297j,  0.92423968+0.43917069j,\n",
       "        -0.74154947-0.18010123j, -1.16530483-1.08284761j,\n",
       "         1.6403909 -0.69435647j],\n",
       "       [ 1.2792621 +0.74000366j, -1.44886761-1.16420765j,\n",
       "        -0.2633596 -1.06230169j, -0.26648177+1.14619169j,\n",
       "         0.20793462-1.37149034j,  1.29900029-1.52721715j,\n",
       "         1.25390548-0.45799419j,  1.54496035+0.84503471j,\n",
       "         1.20094991+0.31332317j],\n",
       "       [ 1.63916011-0.80528771j, -1.59445767-1.04195007j,\n",
       "        -0.04716577-0.34088636j, -1.36916341+0.37816113j,\n",
       "        -0.55999445-1.00451103j, -0.65630519+0.69402631j,\n",
       "        -1.2050565 +1.47271455j, -0.85641111+0.79455886j,\n",
       "         0.48379727-1.49561093j],\n",
       "       [-0.9212474 +0.79652723j,  0.84866456-0.31654829j,\n",
       "         0.19765512+0.48898072j,  0.6024282 +0.06243661j,\n",
       "         0.        +0.j        ,  0.6024282 -0.06243661j,\n",
       "         0.19765512-0.48898072j,  0.84866456+0.31654829j,\n",
       "        -0.9212474 -0.79652723j],\n",
       "       [ 0.48379727+1.49561093j, -0.85641111-0.79455886j,\n",
       "        -1.2050565 -1.47271455j, -0.65630519-0.69402631j,\n",
       "        -0.55999445+1.00451103j, -1.36916341-0.37816113j,\n",
       "        -0.04716577+0.34088636j, -1.59445767+1.04195007j,\n",
       "         1.63916011+0.80528771j],\n",
       "       [ 1.20094991-0.31332317j,  1.54496035-0.84503471j,\n",
       "         1.25390548+0.45799419j,  1.29900029+1.52721715j,\n",
       "         0.20793462+1.37149034j, -0.26648177-1.14619169j,\n",
       "        -0.2633596 +1.06230169j, -1.44886761+1.16420765j,\n",
       "         1.2792621 -0.74000366j],\n",
       "       [ 1.6403909 +0.69435647j, -1.16530483+1.08284761j,\n",
       "        -0.74154947+0.18010123j,  0.92423968-0.43917069j,\n",
       "        -1.72868933-1.16825297j, -0.01750011-1.00538386j,\n",
       "        -0.96249748-0.73942553j,  0.65727464-0.0443764j ,\n",
       "         0.85650965-0.51516475j],\n",
       "       [-0.21750876+0.95154941j,  0.17926148+0.66163235j,\n",
       "        -0.05645854-1.8700529j ,  0.44223418-0.4074692j ,\n",
       "        -0.10668486-0.44873445j, -0.92177027+0.39956769j,\n",
       "        -0.96759862-0.49354143j,  0.26107689+0.26261827j,\n",
       "         0.5810335 +0.20316624j]])"
      ]
     },
     "execution_count": 1283,
     "metadata": {},
     "output_type": "execute_result"
    }
   ],
   "source": [
    "uv_grid"
   ]
  },
  {
   "cell_type": "code",
   "execution_count": 1284,
   "metadata": {},
   "outputs": [
    {
     "data": {
      "text/plain": [
       "<matplotlib.image.AxesImage at 0x7f8b53744ee0>"
      ]
     },
     "execution_count": 1284,
     "metadata": {},
     "output_type": "execute_result"
    },
    {
     "data": {
      "image/png": "[encoded data removed]",
      "text/plain": [
       "<Figure size 432x288 with 1 Axes>"
      ]
     },
     "metadata": {
      "image/png": {
       "height": 248,
       "width": 245
      },
      "needs_background": "light"
     },
     "output_type": "display_data"
    }
   ],
   "source": [
    "plt.imshow(lhs.real)"
   ]
  },
  {
   "cell_type": "code",
   "execution_count": 1197,
   "metadata": {},
   "outputs": [
    {
     "data": {
      "text/plain": [
       "(-1.3691634060821394-0.37816113087203185j)"
      ]
     },
     "execution_count": 1197,
     "metadata": {},
     "output_type": "execute_result"
    }
   ],
   "source": [
    "uv_grid[5,5]"
   ]
  },
  {
   "cell_type": "code",
   "execution_count": 1198,
   "metadata": {},
   "outputs": [
    {
     "data": {
      "text/plain": [
       "(-1.4230403878485496+0.2534285715028227j)"
      ]
     },
     "execution_count": 1198,
     "metadata": {},
     "output_type": "execute_result"
    }
   ],
   "source": [
    "np.sum(uv_grid[3:6,5])"
   ]
  },
  {
   "cell_type": "code",
   "execution_count": 1200,
   "metadata": {},
   "outputs": [
    {
     "data": {
      "text/plain": [
       "(-1.4230403878485496+0.25342857150282266j)"
      ]
     },
     "execution_count": 1200,
     "metadata": {},
     "output_type": "execute_result"
    }
   ],
   "source": [
    "lhs[2,0]"
   ]
  },
  {
   "cell_type": "code",
   "execution_count": 1158,
   "metadata": {},
   "outputs": [
    {
     "data": {
      "text/plain": [
       "<matplotlib.image.AxesImage at 0x7f8b35e71b50>"
      ]
     },
     "execution_count": 1158,
     "metadata": {},
     "output_type": "execute_result"
    },
    {
     "data": {
      "image/png": "[encoded data removed]",
      "text/plain": [
       "<Figure size 432x288 with 1 Axes>"
      ]
     },
     "metadata": {
      "image/png": {
       "height": 248,
       "width": 251
      },
      "needs_background": "light"
     },
     "output_type": "display_data"
    }
   ],
   "source": [
    "plt.imshow(lhs.real)"
   ]
  },
  {
   "cell_type": "code",
   "execution_count": 1095,
   "metadata": {},
   "outputs": [
    {
     "data": {
      "text/plain": [
       "array([[1., 2., 3., 2., 1.],\n",
       "       [2., 4., 6., 4., 2.],\n",
       "       [3., 6., 9., 6., 3.],\n",
       "       [2., 4., 6., 4., 2.],\n",
       "       [1., 2., 3., 2., 1.]])"
      ]
     },
     "execution_count": 1095,
     "metadata": {},
     "output_type": "execute_result"
    }
   ],
   "source": [
    "conv_beam"
   ]
  },
  {
   "cell_type": "code",
   "execution_count": 1094,
   "metadata": {},
   "outputs": [
    {
     "data": {
      "text/plain": [
       "<matplotlib.image.AxesImage at 0x7f8b513e18b0>"
      ]
     },
     "execution_count": 1094,
     "metadata": {},
     "output_type": "execute_result"
    },
    {
     "data": {
      "image/png": "[encoded data removed]",
      "text/plain": [
       "<Figure size 432x288 with 1 Axes>"
      ]
     },
     "metadata": {
      "image/png": {
       "height": 248,
       "width": 251
      },
      "needs_background": "light"
     },
     "output_type": "display_data"
    }
   ],
   "source": [
    "plt.imshow(signal.convolve(uv_grid, conv_beam).real)"
   ]
  },
  {
   "cell_type": "code",
   "execution_count": 1067,
   "metadata": {},
   "outputs": [],
   "source": [
    "test_image = np.random.normal(0,1,(11,11))"
   ]
  },
  {
   "cell_type": "code",
   "execution_count": 1068,
   "metadata": {},
   "outputs": [],
   "source": [
    "test_uv = np.fft.fft(test_image)"
   ]
  },
  {
   "cell_type": "code",
   "execution_count": 1069,
   "metadata": {},
   "outputs": [
    {
     "data": {
      "text/plain": [
       "<matplotlib.image.AxesImage at 0x7f8b4e27c1f0>"
      ]
     },
     "execution_count": 1069,
     "metadata": {},
     "output_type": "execute_result"
    },
    {
     "data": {
      "image/png": "[encoded data removed]",
      "text/plain": [
       "<Figure size 432x288 with 1 Axes>"
      ]
     },
     "metadata": {
      "image/png": {
       "height": 248,
       "width": 251
      },
      "needs_background": "light"
     },
     "output_type": "display_data"
    }
   ],
   "source": [
    "plt.imshow(test_uv.real)"
   ]
  },
  {
   "cell_type": "code",
   "execution_count": 1072,
   "metadata": {},
   "outputs": [
    {
     "data": {
      "text/plain": [
       "(6.902672442450481+1.2520908108781652j)"
      ]
     },
     "execution_count": 1072,
     "metadata": {},
     "output_type": "execute_result"
    }
   ],
   "source": [
    "test_uv[3,4] + test_uv[6,7]"
   ]
  },
  {
   "cell_type": "code",
   "execution_count": 1075,
   "metadata": {},
   "outputs": [
    {
     "data": {
      "text/plain": [
       "(-2.5899451523900066+0j)"
      ]
     },
     "execution_count": 1075,
     "metadata": {},
     "output_type": "execute_result"
    }
   ],
   "source": [
    "test_uv[4,0]"
   ]
  },
  {
   "cell_type": "code",
   "execution_count": null,
   "metadata": {},
   "outputs": [],
   "source": []
  }
 ],
 "metadata": {
  "kernelspec": {
   "display_name": "Python 3",
   "language": "python",
   "name": "python3"
  },
  "language_info": {
   "codemirror_mode": {
    "name": "ipython",
    "version": 3
   },
   "file_extension": ".py",
   "mimetype": "text/x-python",
   "name": "python",
   "nbconvert_exporter": "python",
   "pygments_lexer": "ipython3",
   "version": "3.8.5"
  }
 },
 "nbformat": 4,
 "nbformat_minor": 4
}
