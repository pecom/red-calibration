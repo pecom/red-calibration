{
 "cells": [
  {
   "cell_type": "code",
   "execution_count": 1,
   "metadata": {},
   "outputs": [],
   "source": [
    "import numpy as np\n",
    "import matplotlib.pyplot as plt\n",
    "from scipy import stats\n",
    "from scipy import sparse\n",
    "from scipy import optimize\n",
    "from scipy import signal\n",
    "from scipy import linalg\n",
    "from functools import reduce\n",
    "from collections import defaultdict\n",
    "from tqdm.notebook import tqdm"
   ]
  },
  {
   "cell_type": "code",
   "execution_count": 2,
   "metadata": {},
   "outputs": [],
   "source": [
    "%matplotlib inline\n",
    "%config InlineBackend.figure_format='retina'"
   ]
  },
  {
   "cell_type": "markdown",
   "metadata": {},
   "source": [
    "# TOC\n",
    "1. [1x1 Beam Functions](#1x1)\n",
    "2. [NxN Beam Complications](#NxN)\n",
    "3. [Visibility Solving](#vis)\n",
    "4. [Beam Solving](#beams)\n",
    "5. [Playground](#playground)"
   ]
  },
  {
   "cell_type": "markdown",
   "metadata": {},
   "source": [
    "### Simplified case for 1x1 beam <a name=\"1x1\"></a>"
   ]
  },
  {
   "cell_type": "code",
   "execution_count": 3,
   "metadata": {},
   "outputs": [],
   "source": [
    "def get_num_baselines(Nside):\n",
    "    # For square of N telescopes, should be 2N-2*sqrt(N) + 1\n",
    "    # Fix to a corner and there are N-1 options for unique baselines. \n",
    "    # Flip over to other side (over x or y axis) and get another N-1 options\n",
    "    # Duplicated Qare the pure x-axis and pure y-axis so -2*(sqrt(N)-1)\n",
    "    # Final +1 is from 0 baseline\n",
    "    \n",
    "    N_bases = 2*Nside**2 - 2*Nside\n",
    "    return int(N_bases)\n",
    "\n",
    "rand_phases = lambda x: np.random.uniform(0, 2*np.pi, x)\n",
    "zero_weight = lambda x, d: x/d if d else 0\n",
    "vector_weight = lambda x, d: np.divide(x, d, out=np.zeros_like(x, dtype=np.float), where=(d!=0))\n",
    "parray = lambda x: np.round(x, decimals=2)\n",
    "\n",
    "def make_gains(Nside):\n",
    "    # Create complex gains with either (amplitude, phase) or (real, imaginary)\n",
    "    Nant = Nside**2\n",
    "    gain_amp = np.random.normal(1, .05, Nant)\n",
    "    gain_phase = rand_phases(Nant)\n",
    "    tgain = gain_amp*np.exp(1j*gain_phase)    \n",
    "    return tgain\n",
    "\n",
    "def make_data(Nside, gains, noise=0.1):\n",
    "    Nant = Nside**2\n",
    "    Nbase = get_num_baselines(Nside)\n",
    "    vis_true = np.random.normal(0,1,size=(Nbase,2)).view(np.complex128).flatten() ## size of unique baselines\n",
    "    ant_i, ant_j, visndx, data = [], [], [], []\n",
    "    ndx=0\n",
    "    ndx2base={}\n",
    "    base2ndx={}\n",
    "    for i in range(Nant):\n",
    "        xi,yi=np.unravel_index(i,(Nside,Nside))\n",
    "        for j in range (i+1,Nant):\n",
    "            xj,yj=np.unravel_index(j,(Nside,Nside))\n",
    "            assert (xj>=xi)\n",
    "            baseline = (xj-xi,yj-yi)\n",
    "            if baseline in base2ndx:\n",
    "                cndx = base2ndx[baseline]\n",
    "            else:\n",
    "                cndx = ndx\n",
    "                base2ndx[baseline]=ndx\n",
    "                ndx2base[ndx]=baseline\n",
    "                ndx+=1\n",
    "            ant_i.append(i)\n",
    "            ant_j.append(j)\n",
    "            visndx.append(cndx)\n",
    "            data.append(vis_true[cndx]*gains[i]*np.conj(gains[j]))\n",
    "            \n",
    "    assert(ndx==Nbase)\n",
    "    ant_i = np.array(ant_i)\n",
    "    ant_j = np.array(ant_j)\n",
    "    visndx = np.array(visndx)\n",
    "    data = np.array(data)\n",
    "    noise = np.random.normal(0,noise,size=(len(data),2)).view(np.complex128).flatten() ## size of unique baselines\n",
    "    data += noise\n",
    "    return vis_true, data, ant_i, ant_j, visndx, ndx2base, base2ndx"
   ]
  },
  {
   "cell_type": "code",
   "execution_count": 4,
   "metadata": {},
   "outputs": [],
   "source": [
    "def make_pred(gains, vis, ant_i, ant_j, visndx):\n",
    "    gains_i = gains[ant_i]\n",
    "    cgains_j = np.conj(gains[ant_j])\n",
    "    pred = gains_i*cgains_j*vis[visndx]\n",
    "    return pred"
   ]
  },
  {
   "cell_type": "code",
   "execution_count": 363,
   "metadata": {},
   "outputs": [],
   "source": [
    "def vchi2(data, gains, vis, ant_i, ant_j, visndx, noise):\n",
    "    pred = make_pred(gains, vis, ant_i, ant_j, visndx)\n",
    "    chi2 = (np.abs((data - pred)**2)/(noise**2)).sum().real\n",
    "    dof = len(data)*2\n",
    "    return chi2, dof"
   ]
  },
  {
   "cell_type": "code",
   "execution_count": 358,
   "metadata": {},
   "outputs": [],
   "source": [
    "def chi2(data, gains, vis, ant_i, ant_j, visndx, noise=0.1):\n",
    "    pred = make_pred(gains, vis, ant_i, ant_j, visndx)\n",
    "    chi2 = np.abs((data - pred)**2).sum()/(noise**2)\n",
    "    dof = len(data)*2\n",
    "    return chi2, dof"
   ]
  },
  {
   "cell_type": "code",
   "execution_count": 364,
   "metadata": {},
   "outputs": [],
   "source": [
    "def chimincal(iter_max, data, g0, v0, ant_i, ant_j, visndx, noise=0.1, delta=0.4, epsilon=1e-5):\n",
    "    chiscores = []\n",
    "    garr = g0.copy()\n",
    "    varr = v0.copy()\n",
    "    N = 1\n",
    "    Nant = len(g0)\n",
    "    Nbase = len(v0)\n",
    "    \n",
    "    chi, dof = vchi2(data, garr, varr, ant_i, ant_j, visndx, noise)\n",
    "    chiscores.append(chi/dof)\n",
    "    \n",
    "    \n",
    "    for n in tqdm(range(iter_max)):\n",
    "        gprime = np.zeros(Nant, dtype=np.complex128)\n",
    "        for i in range(Nant):\n",
    "            numer = np.complex(0, 0)\n",
    "            denom = np.complex(0, 0)\n",
    "            iant = np.where(ant_i == i)[0]\n",
    "            jant = np.where(ant_j == i)[0]\n",
    "            numer += (data[iant] * garr[ant_j[iant]]*np.conj(varr[visndx[iant]])).sum()\n",
    "            denom += (np.abs(garr[ant_j[iant]]*varr[visndx[iant]])**2).sum()\n",
    "            numer += (np.conj(data[jant]) * garr[ant_i[jant]]*varr[visndx[jant]]).sum()\n",
    "            denom += (np.abs(garr[ant_i[jant]]*varr[visndx[jant]])**2).sum()\n",
    "            gprime[i] += zero_weight(numer, denom)\n",
    "\n",
    "        garr = (1 - delta)*garr + delta*gprime\n",
    "        \n",
    "        vprime = np.zeros(Nbase, dtype=np.complex128)\n",
    "        for i in range(Nbase):\n",
    "#             vdata = data/(garr[ant_i]*np.conj(garr[ant_j]))\n",
    "#             vprime[i] = np.mean(vdata[visndx==i])\n",
    "            \n",
    "#             numer = data[indxs].sum()\n",
    "#             denom = (garr[ant_i[indxs]]*np.conj(garr[ant_j[indxs]])).sum()\n",
    "#             vprime[i] += zero_weight(numer, denom)\n",
    "\n",
    "            indxs = np.where(visndx==i)\n",
    "            numer = (data[indxs]*np.conj(garr[ant_i[indxs]])*garr[ant_j[indxs]]).sum()\n",
    "            denom = (np.abs(garr[ant_i[indxs]]*np.conj(garr[ant_j[indxs]]))**2).sum()\n",
    "            vprime[i] = zero_weight(numer, denom)\n",
    "\n",
    "        varr = (1-delta)*varr + delta*vprime\n",
    "#         varr = vprime\n",
    "\n",
    "        gscale = N/np.mean(np.abs(garr))\n",
    "        garr *= gscale\n",
    "        varr *= (1/gscale)**2\n",
    "        \n",
    "        chi, dof = vchi2(data, garr, varr, ant_i, ant_j, visndx, noise)\n",
    "        chiscores.append(chi/dof)\n",
    "        if n > 20:\n",
    "            if np.abs(chiscores[-2] - chiscores[-1]) < epsilon:\n",
    "                break\n",
    "    return garr, varr, chiscores, n"
   ]
  },
  {
   "cell_type": "markdown",
   "metadata": {},
   "source": [
    "\n",
    "### NxN beam complications <a name=\"NxN\"></a>"
   ]
  },
  {
   "cell_type": "code",
   "execution_count": 7,
   "metadata": {},
   "outputs": [],
   "source": [
    "def get_circle_array(rad, Nspacing, tap, gpos):\n",
    "    x=np.outer(np.linspace(-0.5,+0.5,Nspacing),np.ones(Nspacing))\n",
    "    y=x.T\n",
    "    t=np.linspace(0,2.0,100)\n",
    "    shapefun = lambda t:1-1/(1+np.exp(-2*(t-rad)/tap))\n",
    "    beam = shapefun(np.sqrt((x - gpos[0])**2+(y - gpos[1])**2))\n",
    "    return beam"
   ]
  },
  {
   "cell_type": "code",
   "execution_count": 8,
   "metadata": {},
   "outputs": [],
   "source": [
    "def get_weighted_array(alpha, Nspacing, numdraws=1e5):\n",
    "    # Overlap a circular beam onto a pixelized grid \n",
    "    Nbeam = Nspacing**2\n",
    "    rmax = alpha*.5\n",
    "    ndraws = int(numdraws)\n",
    "    spacing = np.linspace(0,1,Nspacing+1)\n",
    "    centered_spacing = spacing - .5\n",
    "    empty_weight_beam = np.zeros((Nspacing, Nspacing), dtype=np.complex128)\n",
    "    \n",
    "    for i in range(Nbeam):\n",
    "        xi, yi = np.unravel_index(i, (Nspacing, Nspacing))\n",
    "        draws = np.array([np.random.uniform(centered_spacing[xi], centered_spacing[xi+1], ndraws), np.random.uniform(centered_spacing[yi], centered_spacing[yi+1], ndraws)])\n",
    "        dist = np.linalg.norm(draws, axis=0)\n",
    "        empty_weight_beam[xi, yi] = np.sum(dist < rmax)/ndraws #* np.exp(1j*rand_phases(1))\n",
    "#     sym_beam = .5*(empty_weight_beam + empty_weight_beam.T)\n",
    "    return empty_weight_beam"
   ]
  },
  {
   "cell_type": "code",
   "execution_count": 9,
   "metadata": {},
   "outputs": [],
   "source": [
    "# Helper function to get a (2*br-1, 2*br-1) grid around point x\n",
    "\n",
    "def n_mesh(br):\n",
    "    nmesh = lambda x: tuple(np.meshgrid(range(x[0]-br, x[0]+br+1), range(x[1]-br, x[1]+br+1), indexing='ij'))\n",
    "    return nmesh\n",
    "\n",
    "five_mesh = n_mesh(2)"
   ]
  },
  {
   "cell_type": "code",
   "execution_count": 10,
   "metadata": {},
   "outputs": [],
   "source": [
    "def make_uv_grid(Nside):\n",
    "    uv_size = Nside*2 - 1\n",
    "    center = (Nside-1,Nside-1)\n",
    "    npcenter = np.array(center)\n",
    "    img_size = (uv_size, uv_size)\n",
    "    random_image = np.random.normal(0, 1, img_size)\n",
    "    centered_uv = np.fft.fftshift(np.fft.fft2(random_image))\n",
    "#     centered_uv[center] = 0\n",
    "    topleft_uv = np.fft.ifftshift(centered_uv)\n",
    "    \n",
    "    return centered_uv, topleft_uv, npcenter"
   ]
  },
  {
   "cell_type": "code",
   "execution_count": 11,
   "metadata": {},
   "outputs": [],
   "source": [
    "def get_new_shape(Nside, beam_radius=3):\n",
    "    # Helper function to get shape of convolved u-v space\n",
    "    orig_shape = (2*Nside-1, Nside)\n",
    "    new_shape = tuple([i*beam_radius + (beam_radius - 1) for i in orig_shape])\n",
    "    return new_shape"
   ]
  },
  {
   "cell_type": "code",
   "execution_count": 1790,
   "metadata": {},
   "outputs": [],
   "source": [
    "def make_visibilities(Nside, beam_radius):\n",
    "    n = Nside\n",
    "    br = beam_radius\n",
    "    \n",
    "    # Useful shapes/sizes to have on hand\n",
    "    new_shape = get_new_shape(n, br)\n",
    "    new_size = np.prod(new_shape)\n",
    "    center = (int((new_shape[0]-1)/2), br-1)\n",
    "    \n",
    "    #Matrices of visibiltiies and possible indices\n",
    "    random_vis = np.random.normal(0,1 , (new_shape[0], new_shape[1], 2)).view(np.complex128)\n",
    "    poss_index = np.arange(new_size).reshape(new_shape)\n",
    "    \n",
    "    #Clear off the leftmost columns to remove redundant conjugate stuff\n",
    "    poss_index[0:center[0], 0:br] = 0\n",
    "    poss_index[center[0]:, 0:br-1] = 0\n",
    "    \n",
    "    oversampled_baselines = poss_index.nonzero()[0].shape[0]\n",
    "    visib = np.zeros(oversampled_baselines, dtype=np.complex128)\n",
    "    #Baseline - index dictionaries\n",
    "    new_ndx = 0\n",
    "    n2b = {}\n",
    "    b2n = {}\n",
    "    n2true = {}\n",
    "    true2n = {}\n",
    "    for i in range(1, new_size):\n",
    "        xi,yi = np.unravel_index(i, new_shape)\n",
    "        if poss_index[xi,yi] == 0:\n",
    "            continue\n",
    "        else:\n",
    "            baseline = (xi-center[0], yi-center[1])\n",
    "            if baseline[0] < 0:\n",
    "                baseline = (-1*baseline[0], -1*baseline[1])\n",
    "\n",
    "            if baseline in b2n:\n",
    "                cndx = new_ndx\n",
    "            else:\n",
    "                cndx = new_ndx\n",
    "                b2n[baseline] = new_ndx\n",
    "                n2b[new_ndx] = baseline\n",
    "                if tuple(np.mod(baseline, br)) == (0,0):\n",
    "                    modtuple = tuple(np.floor_divide(baseline, br))\n",
    "                    true2n[modtuple] = new_ndx\n",
    "                    n2true[new_ndx] = modtuple\n",
    "                new_ndx += 1\n",
    "        visib[cndx] = random_vis[xi,yi]\n",
    "    return n2b, b2n, n2true, true2n, visib"
   ]
  },
  {
   "cell_type": "code",
   "execution_count": 1553,
   "metadata": {},
   "outputs": [],
   "source": [
    "def vis_to_grid(visib, ndx2base, size):\n",
    "    # Turn our flat list of visibilities into a grid based on the dictionary\n",
    "    # Meshes make properly yanking data from a grid straight-forward and also takes into account proper\n",
    "    # negative indexing which makes it preferable to the flat visibility list.\n",
    "    \n",
    "    # Double the size to make sure to avoid rewriting values with negative indexing\n",
    "    uv_size = (2*size[0], 2*size[1])\n",
    "    new_grid = np.zeros(uv_size, dtype=np.complex128)\n",
    "    for i,v in enumerate(visib):\n",
    "        base = ndx2base[i]\n",
    "        inv_base = tuple(-1*np.array(base))\n",
    "        new_grid[base] = v\n",
    "        new_grid[inv_base] = np.conj(v)\n",
    "    return new_grid"
   ]
  },
  {
   "cell_type": "code",
   "execution_count": 1705,
   "metadata": {},
   "outputs": [],
   "source": [
    "def create_fake_flatndx(Nside, n_beam):\n",
    "    Nant = Nside**2\n",
    "    conv_beamrad = 2*n_beam - 1\n",
    "    beam_rad = int((n_beam-1)/2)+1\n",
    "    n2b, b2n, n2t, t2n, _ = make_visibilities(Nside, n_beam)\n",
    "    datandx = []\n",
    "    ant_i = []\n",
    "    ant_j = []\n",
    "    \n",
    "    mesh = n_mesh(beam_rad)\n",
    "    \n",
    "    for i in range(Nant):\n",
    "        xi,yi = np.unravel_index(i, (Nside, Nside))\n",
    "        for j in range(i+1, Nant):\n",
    "            ant_i.append(i)\n",
    "            ant_j.append(j)\n",
    "            xj,yj = np.unravel_index(j, (Nside, Nside))\n",
    "            assert (xj>=xi)\n",
    "            baseline = (xj-xi,yj-yi)\n",
    "            \n",
    "            virtual_n = t2n[baseline]\n",
    "            grid_base = n2b[virtual_n]\n",
    "            \n",
    "            virtual_points = mesh(grid_base)\n",
    "            \n",
    "            datandx.append(virtual_points)\n",
    "    flat = vector_b2n(b2n, datandx)\n",
    "    ant_i = np.array(ant_i)\n",
    "    ant_j = np.array(ant_j)\n",
    "    return flat, ant_i, ant_j"
   ]
  },
  {
   "cell_type": "code",
   "execution_count": 1555,
   "metadata": {},
   "outputs": [],
   "source": [
    "def make_data_grid(Nside, gains, beams, noise=0, verbose=True):\n",
    "    \n",
    "    Nant = Nside**2\n",
    "    Nbase = get_num_baselines(Nside)\n",
    "    # Get sample beam to understand shape of convolved beams\n",
    "    samp_beam = signal.convolve(beams[0], beams[0])\n",
    "    \n",
    "    #Radius and corresponding mesh\n",
    "    beam_radius = int((samp_beam.shape[0]-1)/2) + 1\n",
    "    mesh = n_mesh(beam_radius-1)\n",
    "    \n",
    "    # Create visibilities\n",
    "    n2b, b2n, n2t, t2n, visib = make_visibilities(Nside, beam_radius)\n",
    "    if verbose:\n",
    "        print(\"Made visib\")\n",
    "    \n",
    "    new_shape = get_new_shape(Nside, beam_radius)\n",
    "    vis_grid = vis_to_grid(visib, n2b, new_shape)\n",
    "    if verbose:\n",
    "        print(\"Made grid\")\n",
    "    \n",
    "    ant_i, ant_j, visndx, data, datandx = [], [], [], [], []\n",
    "    \n",
    "    for i in range(Nant):\n",
    "        xi,yi=np.unravel_index(i,(Nside, Nside))\n",
    "        for j in range (i+1,Nant):\n",
    "            conv_beam = signal.convolve(beams[i], np.conj(beams[j][::-1, ::-1]))\n",
    "            xj,yj=np.unravel_index(j,(Nside, Nside))\n",
    "            assert (xj>=xi)\n",
    "            baseline = (xj-xi,yj-yi)\n",
    "            \n",
    "            virtual_n = t2n[baseline]\n",
    "            grid_base = n2b[virtual_n]\n",
    "            \n",
    "            virtual_points = mesh(grid_base)\n",
    "            data_sum = np.dot(conv_beam.flatten(), vis_grid[virtual_points].flatten()) * gains[i] * np.conj(gains[j])\n",
    "            \n",
    "            ant_i.append(i)\n",
    "            ant_j.append(j)\n",
    "            visndx.append(virtual_n)\n",
    "            data.append(data_sum)\n",
    "            datandx.append(virtual_points)\n",
    "    \n",
    "    if verbose:\n",
    "        print(\"Created data\")\n",
    "    \n",
    "    ant_i = np.array(ant_i)\n",
    "    ant_j = np.array(ant_j)\n",
    "    visndx = np.array(visndx)\n",
    "    data = np.array(data)\n",
    "    noise = np.random.normal(0,noise,size=(len(data),2)).view(np.complex128).flatten() ## size of unique baselines\n",
    "    data += noise\n",
    "    return visib, data, ant_i, ant_j, visndx, datandx, n2b, b2n, n2t, t2n, vis_grid"
   ]
  },
  {
   "cell_type": "code",
   "execution_count": 1707,
   "metadata": {},
   "outputs": [],
   "source": [
    "def vector_b2n(b2n, datandx):\n",
    "    # Convert datandx (points on the grid) to flat indices using b2n dictionary\n",
    "    newndx = []\n",
    "    for l in datandx:\n",
    "        x,y = l\n",
    "        flattened = []\n",
    "        ndx_size = x.size\n",
    "        ndx_shape = x.shape\n",
    "        for i in range(ndx_size):\n",
    "            point = np.unravel_index(i, ndx_shape)\n",
    "            k = np.array([x[point], y[point]])\n",
    "            key = tuple(k)\n",
    "            if key in b2n:\n",
    "                flattened.append(b2n[key])\n",
    "            else:\n",
    "                key = tuple(-1*k)\n",
    "                flattened.append(-1*b2n[key])\n",
    "        newndx.append(flattened)\n",
    "    newndx = np.array(newndx)\n",
    "    return newndx"
   ]
  },
  {
   "cell_type": "code",
   "execution_count": 1557,
   "metadata": {},
   "outputs": [],
   "source": [
    "def conjugate_visib(vis, ndxs):\n",
    "    # Returns the proper list of relevant visibilites given ndxs\n",
    "    # Negative refers to using a conjugate rather than doubling the size of the array\n",
    "    flat = []\n",
    "    for i in ndxs:\n",
    "        if i >= 0:\n",
    "            flat.append(vis[i])\n",
    "        else:\n",
    "            flat.append(np.conj(vis[-1*i]))\n",
    "    return np.array(flat)"
   ]
  },
  {
   "cell_type": "code",
   "execution_count": 1558,
   "metadata": {},
   "outputs": [],
   "source": [
    "def guess_rms(beams, n=100, imax=1000):\n",
    "    output_m = beams[0].shape[0]\n",
    "    blen = len(beams)\n",
    "    fin_size = (2*output_m - 1)**2\n",
    "    variances = []\n",
    "    for p in range(n):\n",
    "        dats = []\n",
    "        for q in range(imax):\n",
    "            i,j = np.random.choice(blen, 2)\n",
    "            post = signal.convolve(beams[i], np.conjugate(beams[j][::-1, ::-1])).flatten()\n",
    "            fake_data = np.dot(post, np.random.normal(0, 1, (fin_size, 2)).view(dtype=np.complex128).flatten())\n",
    "            dats.append(fake_data)\n",
    "        dats = np.array(dats)\n",
    "        variances.append(np.var(dats))\n",
    "    variances = np.array(variances)\n",
    "    return np.sqrt(np.mean(variances))"
   ]
  },
  {
   "cell_type": "code",
   "execution_count": 1559,
   "metadata": {},
   "outputs": [],
   "source": [
    "def flat_model(vis, beams, gains, ant_i, ant_j, flatndx):\n",
    "    # Make prediction\n",
    "    postage = np.array([signal.convolve(beams[ant_i[i]], np.conjugate(beams[ant_j[i]][::-1, ::-1])).flatten() for i in range(len(flatndx))])\n",
    "    gains_i = gains[ant_i]\n",
    "    gains_j = np.conj(gains[ant_j])\n",
    "    flatbread = np.array([conjugate_visib(vis, v)*postage[i] for i, v in enumerate(flatndx)])\n",
    "    pred = np.sum(flatbread, axis=1)*gains_i*gains_j\n",
    "    return pred"
   ]
  },
  {
   "cell_type": "code",
   "execution_count": 1560,
   "metadata": {},
   "outputs": [],
   "source": [
    "def gen_chi2(data, pred, noise=0.1):\n",
    "    # Generic chi2 definition\n",
    "    chitwo = np.abs((data - pred)**2).sum()/(noise**2)\n",
    "    dof = len(data)*2\n",
    "    return chitwo, dof, chitwo/dof"
   ]
  },
  {
   "cell_type": "code",
   "execution_count": 1561,
   "metadata": {},
   "outputs": [],
   "source": [
    "def vec_chi2(data, pred, nv, dof):\n",
    "    chitwo = (np.abs((data-pred)**2)/(nv**2)).sum().real\n",
    "    return chitwo, dof, chitwo/dof"
   ]
  },
  {
   "cell_type": "markdown",
   "metadata": {},
   "source": [
    "### Visibility solving <a name=\"vis\"></a>"
   ]
  },
  {
   "cell_type": "code",
   "execution_count": 1562,
   "metadata": {},
   "outputs": [],
   "source": [
    "def imag_to_reals(vec):\n",
    "    # Helper function for linear estimator\n",
    "    reals = vec.real\n",
    "    imags = vec.imag\n",
    "    flat_vec = np.concatenate((reals, imags))\n",
    "    return flat_vec"
   ]
  },
  {
   "cell_type": "code",
   "execution_count": 1563,
   "metadata": {},
   "outputs": [],
   "source": [
    "def reals_to_imag(vec):\n",
    "    vlen = int(len(vec)/2)\n",
    "    comp_vec = vec[:vlen] + 1j*vec[vlen:]\n",
    "    return comp_vec"
   ]
  },
  {
   "cell_type": "code",
   "execution_count": 1564,
   "metadata": {},
   "outputs": [],
   "source": [
    "def linear_solver_A(beams, gains, data, ant_i, ant_j, fndx):\n",
    "    # Solve for visibilities using a linear method\n",
    "    big_ans = imag_to_reals(data)\n",
    "    data_len = len(data)\n",
    "    v_size = len(set(np.abs(fndx).flatten())) + 1\n",
    "    postage = np.array([signal.convolve(beams[ant_i[i]], np.conjugate(beams[ant_j[i]][::-1, ::-1])).flatten()*gains[ant_i[i]]*np.conjugate(gains[ant_j[i]]) for i in range(len(fndx))])\n",
    "#     bigA = sparse.lil_matrix((2*data_len, 2*v_size))\n",
    "    bigA = np.zeros((2*data_len, 2*v_size))\n",
    "    for i,v in enumerate(fndx):\n",
    "        absv = np.abs(v)\n",
    "        bigA[i,absv] = postage[i].real\n",
    "        bigA[i, v_size+absv] = -1*np.sign(v)*postage[i].imag\n",
    "        bigA[i+data_len, absv] = postage[i].imag\n",
    "        bigA[i+data_len, v_size+absv] = np.sign(v)*postage[i].real\n",
    "    bigCSR = sparse.csr_matrix(bigA)\n",
    "    return bigCSR, big_ans"
   ]
  },
  {
   "cell_type": "code",
   "execution_count": 1565,
   "metadata": {},
   "outputs": [],
   "source": [
    "def vis_solv(vis, beams, gains, data, noise, ant_i, ant_j, fndx, fvis):\n",
    "    bigA, bigB = linear_solver_A(beams, gains_true, data, ant_i, ant_j, fndx)\n",
    "    At = bigA.T\n",
    "    sinv = sparse.diags(np.ones(2*fvis))\n",
    "    inv_noise = 1/noise\n",
    "    doubled_nv = np.concatenate((inv_noise, inv_noise))\n",
    "    ninv = sparse.diags(doubled_nv)\n",
    "    lhs = (sinv + At@ninv@bigA)\n",
    "    rhs = (At@ninv)@bigB\n",
    "    wein_m  = reals_to_imag(sparse.linalg.spsolve(lhs, rhs))\n",
    "    return wein_m"
   ]
  },
  {
   "cell_type": "code",
   "execution_count": 1566,
   "metadata": {},
   "outputs": [],
   "source": [
    "def old_vis_solver(guess, beams, gains, data, ant_i, ant_j, fndx):\n",
    "    bigA, bigB = linear_solver_A(beams, gains, data, ant_i, ant_j, fndx)\n",
    "    map_sol = sparse.linalg.lsmr(bigA, bigB)[0]\n",
    "    comb_sol = reals_to_imag(map_sol)\n",
    "    return comb_sol"
   ]
  },
  {
   "cell_type": "markdown",
   "metadata": {},
   "source": [
    "### Beam solving <a name=\"beams\"></a>"
   ]
  },
  {
   "cell_type": "code",
   "execution_count": 1567,
   "metadata": {},
   "outputs": [],
   "source": [
    "def padded_circulant(col):\n",
    "    c_len = len(col)\n",
    "    first_row = np.zeros(c_len, dtype=np.complex128)\n",
    "    first_row[0] = col[0]\n",
    "    first_col = np.zeros(2*c_len - 1, dtype=np.complex128)\n",
    "    first_col[0:c_len] = col\n",
    "    toep_mat = linalg.toeplitz(first_col, first_row)\n",
    "    return toep_mat"
   ]
  },
  {
   "cell_type": "code",
   "execution_count": 1568,
   "metadata": {},
   "outputs": [],
   "source": [
    "def doubly_block_toep(beam_j):\n",
    "    pad_zero = np.zeros(beam_j.shape[0], dtype=np.complex128)\n",
    "    h1 = padded_circulant(beam_j[0])\n",
    "    h2 = padded_circulant(beam_j[1])\n",
    "    h3 = padded_circulant(beam_j[2])\n",
    "    h4 = padded_circulant(pad_zero)\n",
    "    h5 = padded_circulant(pad_zero)\n",
    "    blocked_toep = np.block([\n",
    "        [h1, h5, h4],\n",
    "        [h2, h1, h5],\n",
    "        [h3, h2, h1],\n",
    "        [h4, h3, h2],\n",
    "        [h5, h4, h3]\n",
    "    ])\n",
    "    return blocked_toep"
   ]
  },
  {
   "cell_type": "code",
   "execution_count": 1569,
   "metadata": {},
   "outputs": [],
   "source": [
    "def generic_block_toep(beam_j):\n",
    "    pad_zero = np.zeros(beam_j.shape[0], dtype=np.complex128)\n",
    "    nb = beam_j.shape[0]\n",
    "    finshape = 2*nb - 1\n",
    "    block_matrix = []\n",
    "    circ_ndx = linalg.circulant(np.arange(finshape))[:,0:nb]\n",
    "    for i in range(finshape):\n",
    "        if i < nb:\n",
    "            block_matrix.append(padded_circulant(beam_j[i]))\n",
    "        else:\n",
    "            block_matrix.append(padded_circulant(pad_zero))\n",
    "    blocked = np.array(block_matrix)\n",
    "    unshape_circ = blocked[circ_ndx]\n",
    "    shaped_circ = unshape_circ.transpose(0, 2, 1, 3).reshape(finshape**2, nb**2)\n",
    "    return shaped_circ   "
   ]
  },
  {
   "cell_type": "code",
   "execution_count": 1570,
   "metadata": {},
   "outputs": [],
   "source": [
    "def beam_mean(beams):\n",
    "    avg_beam = np.sum(np.mean(beams, axis=0))\n",
    "    meaned_beams = beams/avg_beam\n",
    "    return meaned_beams"
   ]
  },
  {
   "cell_type": "code",
   "execution_count": 1814,
   "metadata": {},
   "outputs": [],
   "source": [
    "def beam_solver(vis, beam_guess, gains, data, ant_i, ant_j, flatndx, Nside):\n",
    "    Nant = Nside**2\n",
    "    n_beam = beam_guess.shape[1]\n",
    "    fn_bm = 2*n_beam - 1\n",
    "    matrix_beams = np.zeros((beam_guess.shape[0], fn_bm**2, n_beam**2), dtype=np.complex128)\n",
    "    \n",
    "    symbeam = int((n_beam + 1)/2)\n",
    "    symconv = signal.convolve(np.ones((symbeam, symbeam), dtype=np.complex128), np.ones((symbeam, symbeam), dtype=np.complex128)).flatten()\n",
    "    center_ofsymbeam = int((n_beam**2 - 1)/2)\n",
    "\n",
    "    for i,v in enumerate(beam_guess):\n",
    "        matrix_beams[i] = generic_block_toep(v)\n",
    "    \n",
    "    matrix_beams = np.array(matrix_beams)\n",
    "    \n",
    "    new_beams = beam_guess.copy()\n",
    "    for ant_ndx in range(Nant):\n",
    "        beam_solver = np.zeros((Nant-1, n_beam**2), dtype=np.complex128)\n",
    "        rhs_vis = np.zeros(Nant-1, dtype=np.complex128)\n",
    "        \n",
    "        ant_filter = ant_i==ant_ndx\n",
    "        sum_ants = np.sum(ant_filter)\n",
    "        jant_filter = ant_j==ant_ndx\n",
    "        \n",
    "        rhs_vis[:sum_ants] = data[ant_filter]\n",
    "        rhs_vis[sum_ants:] = np.conjugate(data[jant_filter])                    \n",
    "        \n",
    "        for i in range(sum_ants):\n",
    "            beam_solver[i] = conjugate_visib(vis, flatndx[ant_filter][i])[None,:] \\\n",
    "                @ np.conjugate(matrix_beams[ant_j[ant_filter]][i][::-1, ::-1])*gains[ant_i[ant_filter]][i]*np.conjugate(gains[ant_j[ant_filter]][i])\n",
    "        for j in range(np.sum(jant_filter)):\n",
    "            beam_solver[sum_ants + j] = (np.conjugate(conjugate_visib(vis, flatndx[jant_filter][j])[None,:]) \\\n",
    "                @ np.conjugate(matrix_beams[ant_i[jant_filter]][j]))[::-1,::-1]*gains[ant_j[jant_filter]][j]*np.conjugate(gains[ant_i[jant_filter]][j])\n",
    "        \n",
    "        jsymline = np.zeros(n_beam**2, dtype=np.complex128)\n",
    "        jsymline[center_ofsymbeam] = 1*50\n",
    "        beam_solver = np.concatenate((beam_solver, jsymline[None,:]))\n",
    "        rhs_vis = np.concatenate((rhs_vis, [50]))\n",
    "        \n",
    "        \n",
    "#         if enforce_sym:\n",
    "#             for j in set(symconv):\n",
    "#                 jsymline = np.zeros(n_beam**2, dtype=np.complex128)\n",
    "#                 if j==symconv[center_ofsymbeam]:\n",
    "# #                     jsymline = np.zeros(n_beam**2, dtype=np.complex128)\n",
    "# #                     jsymline[center_ofsymbeam] = 1*50\n",
    "# #                     beam_solver = np.concatenate((beam_solver, jsymline[None,:]))\n",
    "# #                     rhs_vis = np.concatenate((rhs_vis, [50*bcenter[ant_ndx]]))\n",
    "#                     continue\n",
    "#                 else:\n",
    "#                     jsymndx = np.where(symconv == j)[0]\n",
    "#                     symlen = len(jsymndx)\n",
    "#                     for k in range(symlen):\n",
    "#                         for l in range(k+1, symlen):\n",
    "#                             ksymline = np.zeros(n_beam**2, dtype=np.complex128)\n",
    "#                             ksymline[jsymndx[k]] = 50\n",
    "#                             ksymline[jsymndx[l]] = -50\n",
    "#                             beam_solver = np.concatenate((beam_solver, ksymline[None,:]))\n",
    "#                             rhs_vis = np.concatenate((rhs_vis, [0]))\n",
    "\n",
    "            \n",
    "#         zerobeam = np.linalg.lstsq(beam_solver, rhs_vis, rcond=None)[0]\n",
    "        \n",
    "        zerobeam = optimize.lsq_linear(beam_solver, rhs_vis).x\n",
    "        shaped_beam = zerobeam.reshape((n_beam, n_beam))\n",
    "        matrix_beams[ant_ndx] = generic_block_toep(shaped_beam)\n",
    "        new_beams[ant_ndx] = shaped_beam\n",
    "    return new_beams"
   ]
  },
  {
   "cell_type": "code",
   "execution_count": 1745,
   "metadata": {},
   "outputs": [],
   "source": [
    "def solve_everything(iter_max, vis_guess, beam_guess, gains, data, ant_i, ant_j, flatndx, Nside, noise, chi_eps=1, score_stop=.8, wiener=True):\n",
    "    chis = []\n",
    "    scores = []\n",
    "    model = flat_model(vis_guess, beam_guess, gains, ant_i, ant_j, flatndx)\n",
    "    dof = Nside**4 - Nside**2 - 2*(len(vis_guess.flatten())-1 + len(beam_guess.flatten()))\n",
    "    chi, _, score = vec_chi2(data, model, noise, dof)\n",
    "    chis.append(chi)\n",
    "    scores.append(score)\n",
    "    fvis = len(vis_guess)\n",
    "    n = 0\n",
    "    \n",
    "    if iter_max != 0:\n",
    "        counter = iter_max\n",
    "    else:\n",
    "        counter = 10\n",
    "    \n",
    "    while counter >= 0:\n",
    "        \n",
    "        if wiener:\n",
    "            new_vis = vis_solv(vis_guess, beam_guess, gains, data, noise, ant_i, ant_j, flatndx, fvis)\n",
    "        else:\n",
    "            new_vis = old_vis_solver(vis_guess, beam_guess, gains, data, ant_i, ant_j, flatndx)\n",
    "            \n",
    "        vis_guess = new_vis\n",
    "        \n",
    "        new_beams = beam_solver(vis_guess, beam_guess, gains, data, ant_i, ant_j, flatndx, Nside)\n",
    "        beam_guess = new_beams\n",
    "        \n",
    "        model = flat_model(vis_guess, beam_guess, gains, ant_i, ant_j, flatndx)\n",
    "        chi, _, score = vec_chi2(data, model, noise, dof)\n",
    "        \n",
    "        chis.append(chi)\n",
    "        scores.append(score)\n",
    "        \n",
    "        dchi = np.abs(chi - chis[-2])\n",
    "\n",
    "        if (dchi < chi_eps):\n",
    "            break\n",
    "        if score < score_stop:\n",
    "            break\n",
    "        if n%5==0:\n",
    "            print(n, score, dchi)\n",
    "        if iter_max != 0:\n",
    "            counter -= 1\n",
    "        n += 1\n",
    "        \n",
    "    chis = np.array(chis)\n",
    "    scores = np.array(scores)\n",
    "    print(n, score)\n",
    "    \n",
    "    return vis_guess, beam_guess, chis, scores"
   ]
  },
  {
   "cell_type": "code",
   "execution_count": 1573,
   "metadata": {},
   "outputs": [],
   "source": [
    "def pointing_error(phase_mag, n_beam, beams, Nside):\n",
    "    Nant = Nside**2\n",
    "    px = np.random.normal(0,phase_mag,Nant)\n",
    "    py = np.random.normal(0,phase_mag,Nant)\n",
    "    \n",
    "    x = np.outer(np.linspace(-0.5,0.5,n_beam),np.ones(n_beam))\n",
    "    y = x.T\n",
    "    \n",
    "    new_beams = np.zeros_like(beams)\n",
    "    for i in range(Nant):\n",
    "        new_beams[i] = beams[i]*np.exp(1j*((x)*px[i]+(y)*py[i]))\n",
    "    \n",
    "    return new_beams, px, py"
   ]
  },
  {
   "cell_type": "code",
   "execution_count": 1574,
   "metadata": {},
   "outputs": [],
   "source": [
    "def scale_phased(vis, beams, beam_scale, phase, n2b, n_beam):\n",
    "    term_phase = np.array([np.array(n2b[n])/n_beam for n in np.arange(len(n2b))])\n",
    "    beam_ndx = np.array(np.unravel_index(np.arange(len(beams)), (Nside, Nside)))\n",
    "    phase_dphi = phase\n",
    "    \n",
    "    phase_vis = vis*np.exp(1j*np.dot(term_phase, phase_dphi))\n",
    "\n",
    "    beam_r = int((n_beam-1)/2)\n",
    "    beam_mesh = n_mesh(beam_r)\n",
    "    \n",
    "    phase_beams = []\n",
    "    for i in range(len(beam_ndx[0])):\n",
    "        pos_beamy, pos_beamx = np.array(beam_mesh(beam_ndx[:,i]*n_beam))/n_beam\n",
    "        beam_flipped = np.array([pos_beamy[::-1], pos_beamx[:,::-1]])\n",
    "        offsets = np.sum(beam_flipped*phase_dphi[:,None,None], axis=0)\n",
    "        phase_vec = np.exp(1j*offsets)\n",
    "        phase_beams.append(beams[i]*phase_vec)\n",
    "    phase_beams = np.array(phase_beams)\n",
    "    \n",
    "    fin_beams = phase_beams * beam_scale\n",
    "    fin_vis = phase_vis * (1/beam_scale)**2\n",
    "    return fin_vis, fin_beams"
   ]
  },
  {
   "cell_type": "markdown",
   "metadata": {},
   "source": [
    "#### Generate data and set up variables"
   ]
  },
  {
   "cell_type": "code",
   "execution_count": 1791,
   "metadata": {},
   "outputs": [],
   "source": [
    "Nside = 10\n",
    "Nant = Nside * Nside\n",
    "Nbase = get_num_baselines(Nside)\n",
    "gains_true = np.ones(Nant)\n",
    "n_beam = 29\n",
    "# beam_gains = np.random.normal(1,.1,(Nant, 2)).view(dtype=np.complex128).flatten()\n",
    "beam_comp_phase = np.exp(1j*rand_phases(Nant))\n",
    "geom_error = 0.1\n",
    "phase_error = 0.1\n",
    "gpos = np.random.normal(0, geom_error, (Nant, 2))"
   ]
  },
  {
   "cell_type": "code",
   "execution_count": 1792,
   "metadata": {},
   "outputs": [],
   "source": [
    "unmean_beams = np.array([get_circle_array(.4, n_beam, .05, gpos[i])*beam_comp_phase[i] for i in range(Nant)])\n",
    "beams = unmean_beams*1"
   ]
  },
  {
   "cell_type": "code",
   "execution_count": 1793,
   "metadata": {},
   "outputs": [],
   "source": [
    "beams, px, py = pointing_error(phase_error, n_beam, beams, Nside)"
   ]
  },
  {
   "cell_type": "code",
   "execution_count": 1794,
   "metadata": {},
   "outputs": [],
   "source": [
    "# beams = beams + 1e-5*np.random.random((*beams.shape, 2)).view(dtype=np.complex128).reshape(beams.shape)"
   ]
  },
  {
   "cell_type": "code",
   "execution_count": 1795,
   "metadata": {},
   "outputs": [
    {
     "name": "stdout",
     "output_type": "stream",
     "text": [
      "Made visib\n",
      "Made grid\n",
      "Created data\n"
     ]
    }
   ],
   "source": [
    "vis_true, data_n, ant_i, ant_j, visndx, datandx, n2b, b2n, n2t, t2n, tl_grid = make_data_grid(Nside, gains_true, beams, noise=0)\n",
    "# flatndx = vector_b2n(b2n, datandx)\n",
    "data_len = len(data_n)"
   ]
  },
  {
   "cell_type": "code",
   "execution_count": 1796,
   "metadata": {},
   "outputs": [],
   "source": [
    "rms = guess_rms(beams, 100, 75)\n",
    "noise_pervisib = rms"
   ]
  },
  {
   "cell_type": "code",
   "execution_count": 1797,
   "metadata": {},
   "outputs": [],
   "source": [
    "chin = np.ones(data_len, dtype=np.complex128)*noise_pervisib\n",
    "nvec = np.random.normal(0, noise_pervisib, (data_len, 2)).view(np.complex128).flatten()"
   ]
  },
  {
   "cell_type": "code",
   "execution_count": 1798,
   "metadata": {},
   "outputs": [],
   "source": [
    "snr = 1"
   ]
  },
  {
   "cell_type": "code",
   "execution_count": 1799,
   "metadata": {},
   "outputs": [],
   "source": [
    "add_chin = chin/snr\n",
    "add_noise = nvec/snr"
   ]
  },
  {
   "cell_type": "code",
   "execution_count": 1800,
   "metadata": {},
   "outputs": [],
   "source": [
    "data = data_n + add_noise"
   ]
  },
  {
   "cell_type": "code",
   "execution_count": 1801,
   "metadata": {},
   "outputs": [],
   "source": [
    "conv_beam_size = (2*n_beam - 1)**2\n",
    "beam_size = n_beam**2"
   ]
  },
  {
   "cell_type": "markdown",
   "metadata": {},
   "source": [
    "#### Solve for the relevant properties given \"bad\" guesses"
   ]
  },
  {
   "cell_type": "code",
   "execution_count": 1830,
   "metadata": {},
   "outputs": [],
   "source": [
    "outbeam = 3\n",
    "bshape = (len(beams), outbeam, outbeam)\n",
    "fakeflat, fanti, fantj = create_fake_flatndx(15, outbeam)\n",
    "fakevislen = len(set(np.abs(fakeflat).flatten()))"
   ]
  },
  {
   "cell_type": "code",
   "execution_count": 1842,
   "metadata": {},
   "outputs": [],
   "source": [
    "dof = Nside**4 - Nside**2 - 2*(fakevislen + outbeam**2*Nant)"
   ]
  },
  {
   "cell_type": "code",
   "execution_count": 1817,
   "metadata": {},
   "outputs": [],
   "source": [
    "bad_guess = np.random.normal(0, 1, (fakevislen + 1, 2)).view(np.complex128).flatten()\n",
    "improv_beam = np.random.normal(0, 1, (*bshape, 2)).view(np.complex128).reshape(bshape)"
   ]
  },
  {
   "cell_type": "code",
   "execution_count": 1808,
   "metadata": {},
   "outputs": [],
   "source": [
    "# unmean_improv = np.array([get_circle_array(.4, outbeam, .05, gpos[i])*beam_comp_phase[i] for i in range(Nant)])\n",
    "# improv_beam = unmean_improv*1\n",
    "\n",
    "# new_beams = np.zeros_like(improv_beam)\n",
    "# x = np.outer(np.linspace(-0.5,0.5,outbeam),np.ones(outbeam))\n",
    "# y = x.T\n",
    "# for i in range(Nant):\n",
    "#     new_beams[i] = improv_beam[i]*np.exp(1j*((x)*px[i]+(y)*py[i]))\n",
    "\n",
    "# np.save('./data/cluster_data.npy', data)\n",
    "# np.save('./data/cluster_chin.npy', add_chin)\n",
    "# np.save('./data/cluster_beams.npy', new_beams)"
   ]
  },
  {
   "cell_type": "code",
   "execution_count": 1818,
   "metadata": {},
   "outputs": [
    {
     "name": "stdout",
     "output_type": "stream",
     "text": [
      "Guess solution  (14809.849485244602, 4620, 3.2055951266763207)\n"
     ]
    }
   ],
   "source": [
    "horrific = flat_model(bad_guess, new_beams, gains_true, ant_i, ant_j, fakeflat)\n",
    "print(\"Guess solution \", vec_chi2(data, horrific, add_chin, dof))"
   ]
  },
  {
   "cell_type": "code",
   "execution_count": 1820,
   "metadata": {},
   "outputs": [
    {
     "name": "stdout",
     "output_type": "stream",
     "text": [
      "0 2.6390332143543294 2617.5160349275993\n",
      "5 1.8162722288860673 220.79781237903626\n",
      "10 1.6641509404151558 111.05656791296224\n",
      "12 1.6212212239662709\n"
     ]
    }
   ],
   "source": [
    "itersolve = solve_everything(0, bad_guess, new_beams, gains_true, data, ant_i, ant_j, fakeflat, Nside, \n",
    "                             add_chin, score_stop=.3, wiener=True, chi_eps=100)"
   ]
  },
  {
   "cell_type": "code",
   "execution_count": 1819,
   "metadata": {},
   "outputs": [
    {
     "name": "stdout",
     "output_type": "stream",
     "text": [
      "Flat solution  (7490.042054724172, 4620, 1.6212212239662709)\n"
     ]
    }
   ],
   "source": [
    "challah = flat_model(itersolve[0], itersolve[1], gains_true, ant_i, ant_j, fakeflat)\n",
    "print(\"Flat solution \", vec_chi2(data, challah, chin, dof))\n",
    "# print(len(itersolve[-1]), itersolve[-1][-1]"
   ]
  },
  {
   "cell_type": "code",
   "execution_count": 1295,
   "metadata": {},
   "outputs": [
    {
     "data": {
      "image/png": "[encoded data removed]",
      "text/plain": [
       "<Figure size 432x288 with 1 Axes>"
      ]
     },
     "metadata": {
      "image/png": {
       "height": 270,
       "width": 396
      },
      "needs_background": "light"
     },
     "output_type": "display_data"
    }
   ],
   "source": [
    "# plt.plot(np.log10(itersolve[-1]), '.');\n",
    "# plt.title(r\"$\\log{\\left(\\frac {\\chi^2}{DoF}\\right)}$\");\n",
    "\n",
    "plt.plot(itersolve[-1], '.');\n",
    "plt.title(r\"$\\frac{\\chi^2}{DoF}$ - Generalized Calibration\");\n",
    "\n",
    "plt.semilogy();"
   ]
  },
  {
   "cell_type": "markdown",
   "metadata": {},
   "source": [
    "#### Show that standard redundant calibration is bad"
   ]
  },
  {
   "cell_type": "code",
   "execution_count": 816,
   "metadata": {},
   "outputs": [],
   "source": [
    "beam_gain_guess = np.random.normal(0, 1, (Nant, 2)).view(np.complex128).flatten()"
   ]
  },
  {
   "cell_type": "code",
   "execution_count": 486,
   "metadata": {
    "collapsed": true,
    "jupyter": {
     "outputs_hidden": true
    }
   },
   "outputs": [
    {
     "data": {
      "application/vnd.jupyter.widget-view+json": {
       "model_id": "50999a8adb86415c94e14e3902a425c2",
       "version_major": 2,
       "version_minor": 0
      },
      "text/plain": [
       "HBox(children=(FloatProgress(value=0.0), HTML(value='')))"
      ]
     },
     "metadata": {},
     "output_type": "display_data"
    },
    {
     "name": "stdout",
     "output_type": "stream",
     "text": [
      "\n"
     ]
    },
    {
     "ename": "KeyboardInterrupt",
     "evalue": "",
     "output_type": "error",
     "traceback": [
      "\u001b[0;31m---------------------------------------------------------------------------\u001b[0m",
      "\u001b[0;31mKeyboardInterrupt\u001b[0m                         Traceback (most recent call last)",
      "\u001b[0;32m<ipython-input-486-07acc5cdd707>\u001b[0m in \u001b[0;36m<module>\u001b[0;34m\u001b[0m\n\u001b[1;32m      1\u001b[0m \u001b[0mbad_guess\u001b[0m \u001b[0;34m=\u001b[0m \u001b[0mnp\u001b[0m\u001b[0;34m.\u001b[0m\u001b[0mrandom\u001b[0m\u001b[0;34m.\u001b[0m\u001b[0mnormal\u001b[0m\u001b[0;34m(\u001b[0m\u001b[0;36m0\u001b[0m\u001b[0;34m,\u001b[0m \u001b[0;36m1\u001b[0m\u001b[0;34m,\u001b[0m \u001b[0;34m(\u001b[0m\u001b[0mlen\u001b[0m\u001b[0;34m(\u001b[0m\u001b[0mvis_true\u001b[0m\u001b[0;34m)\u001b[0m\u001b[0;34m,\u001b[0m \u001b[0;36m2\u001b[0m\u001b[0;34m)\u001b[0m\u001b[0;34m)\u001b[0m\u001b[0;34m.\u001b[0m\u001b[0mview\u001b[0m\u001b[0;34m(\u001b[0m\u001b[0mnp\u001b[0m\u001b[0;34m.\u001b[0m\u001b[0mcomplex128\u001b[0m\u001b[0;34m)\u001b[0m\u001b[0;34m.\u001b[0m\u001b[0mflatten\u001b[0m\u001b[0;34m(\u001b[0m\u001b[0;34m)\u001b[0m\u001b[0;34m\u001b[0m\u001b[0;34m\u001b[0m\u001b[0m\n\u001b[0;32m----> 2\u001b[0;31m \u001b[0mchig\u001b[0m\u001b[0;34m,\u001b[0m \u001b[0mchiv\u001b[0m\u001b[0;34m,\u001b[0m \u001b[0mc\u001b[0m\u001b[0;34m,\u001b[0m \u001b[0mn\u001b[0m \u001b[0;34m=\u001b[0m \u001b[0mchimincal\u001b[0m\u001b[0;34m(\u001b[0m\u001b[0;36m100\u001b[0m\u001b[0;34m,\u001b[0m \u001b[0mdata\u001b[0m\u001b[0;34m,\u001b[0m \u001b[0mbeam_gain_guess\u001b[0m\u001b[0;34m,\u001b[0m \u001b[0mbad_guess\u001b[0m\u001b[0;34m,\u001b[0m \u001b[0mant_i\u001b[0m\u001b[0;34m,\u001b[0m \u001b[0mant_j\u001b[0m\u001b[0;34m,\u001b[0m \u001b[0mvisndx\u001b[0m\u001b[0;34m,\u001b[0m \u001b[0mdelta\u001b[0m\u001b[0;34m=\u001b[0m\u001b[0;36m.4\u001b[0m\u001b[0;34m)\u001b[0m\u001b[0;34m\u001b[0m\u001b[0;34m\u001b[0m\u001b[0m\n\u001b[0m",
      "\u001b[0;32m<ipython-input-6-d061b4395028>\u001b[0m in \u001b[0;36mchimincal\u001b[0;34m(iter_max, data, g0, v0, ant_i, ant_j, visndx, noise, delta, epsilon)\u001b[0m\n\u001b[1;32m     36\u001b[0m \u001b[0;34m\u001b[0m\u001b[0m\n\u001b[1;32m     37\u001b[0m             \u001b[0mindxs\u001b[0m \u001b[0;34m=\u001b[0m \u001b[0mnp\u001b[0m\u001b[0;34m.\u001b[0m\u001b[0mwhere\u001b[0m\u001b[0;34m(\u001b[0m\u001b[0mvisndx\u001b[0m\u001b[0;34m==\u001b[0m\u001b[0mi\u001b[0m\u001b[0;34m)\u001b[0m\u001b[0;34m\u001b[0m\u001b[0;34m\u001b[0m\u001b[0m\n\u001b[0;32m---> 38\u001b[0;31m             \u001b[0mnumer\u001b[0m \u001b[0;34m=\u001b[0m \u001b[0;34m(\u001b[0m\u001b[0mdata\u001b[0m\u001b[0;34m[\u001b[0m\u001b[0mindxs\u001b[0m\u001b[0;34m]\u001b[0m\u001b[0;34m*\u001b[0m\u001b[0mnp\u001b[0m\u001b[0;34m.\u001b[0m\u001b[0mconj\u001b[0m\u001b[0;34m(\u001b[0m\u001b[0mgarr\u001b[0m\u001b[0;34m[\u001b[0m\u001b[0mant_i\u001b[0m\u001b[0;34m[\u001b[0m\u001b[0mindxs\u001b[0m\u001b[0;34m]\u001b[0m\u001b[0;34m]\u001b[0m\u001b[0;34m)\u001b[0m\u001b[0;34m*\u001b[0m\u001b[0mgarr\u001b[0m\u001b[0;34m[\u001b[0m\u001b[0mant_j\u001b[0m\u001b[0;34m[\u001b[0m\u001b[0mindxs\u001b[0m\u001b[0;34m]\u001b[0m\u001b[0;34m]\u001b[0m\u001b[0;34m)\u001b[0m\u001b[0;34m.\u001b[0m\u001b[0msum\u001b[0m\u001b[0;34m(\u001b[0m\u001b[0;34m)\u001b[0m\u001b[0;34m\u001b[0m\u001b[0;34m\u001b[0m\u001b[0m\n\u001b[0m\u001b[1;32m     39\u001b[0m             \u001b[0mdenom\u001b[0m \u001b[0;34m=\u001b[0m \u001b[0;34m(\u001b[0m\u001b[0mnp\u001b[0m\u001b[0;34m.\u001b[0m\u001b[0mabs\u001b[0m\u001b[0;34m(\u001b[0m\u001b[0mgarr\u001b[0m\u001b[0;34m[\u001b[0m\u001b[0mant_i\u001b[0m\u001b[0;34m[\u001b[0m\u001b[0mindxs\u001b[0m\u001b[0;34m]\u001b[0m\u001b[0;34m]\u001b[0m\u001b[0;34m*\u001b[0m\u001b[0mnp\u001b[0m\u001b[0;34m.\u001b[0m\u001b[0mconj\u001b[0m\u001b[0;34m(\u001b[0m\u001b[0mgarr\u001b[0m\u001b[0;34m[\u001b[0m\u001b[0mant_j\u001b[0m\u001b[0;34m[\u001b[0m\u001b[0mindxs\u001b[0m\u001b[0;34m]\u001b[0m\u001b[0;34m]\u001b[0m\u001b[0;34m)\u001b[0m\u001b[0;34m)\u001b[0m\u001b[0;34m**\u001b[0m\u001b[0;36m2\u001b[0m\u001b[0;34m)\u001b[0m\u001b[0;34m.\u001b[0m\u001b[0msum\u001b[0m\u001b[0;34m(\u001b[0m\u001b[0;34m)\u001b[0m\u001b[0;34m\u001b[0m\u001b[0;34m\u001b[0m\u001b[0m\n\u001b[1;32m     40\u001b[0m             \u001b[0mvprime\u001b[0m\u001b[0;34m[\u001b[0m\u001b[0mi\u001b[0m\u001b[0;34m]\u001b[0m \u001b[0;34m=\u001b[0m \u001b[0mzero_weight\u001b[0m\u001b[0;34m(\u001b[0m\u001b[0mnumer\u001b[0m\u001b[0;34m,\u001b[0m \u001b[0mdenom\u001b[0m\u001b[0;34m)\u001b[0m\u001b[0;34m\u001b[0m\u001b[0;34m\u001b[0m\u001b[0m\n",
      "\u001b[0;31mKeyboardInterrupt\u001b[0m: "
     ]
    }
   ],
   "source": [
    "bad_guess = np.random.normal(0, 1, (len(vis_true), 2)).view(np.complex128).flatten()\n",
    "chig, chiv, c, n = chimincal(100, data, beam_gain_guess, bad_guess, ant_i, ant_j, visndx, delta=.4)"
   ]
  },
  {
   "cell_type": "code",
   "execution_count": 817,
   "metadata": {},
   "outputs": [
    {
     "data": {
      "application/vnd.jupyter.widget-view+json": {
       "model_id": "025894b2296e469ea82c8f22832e3445",
       "version_major": 2,
       "version_minor": 0
      },
      "text/plain": [
       "HBox(children=(FloatProgress(value=0.0), HTML(value='')))"
      ]
     },
     "metadata": {},
     "output_type": "display_data"
    },
    {
     "name": "stdout",
     "output_type": "stream",
     "text": [
      "\n"
     ]
    }
   ],
   "source": [
    "worse_guess = np.random.normal(0, 1, (fakevislen, 2)).view(np.complex128).flatten()\n",
    "chig, chiv, c, n = chimincal(100, data, beam_gain_guess, worse_guess, fanti, fantj, fakeflat[:,12], delta=.4, noise=chin)"
   ]
  },
  {
   "cell_type": "code",
   "execution_count": 818,
   "metadata": {},
   "outputs": [
    {
     "name": "stdout",
     "output_type": "stream",
     "text": [
      "0.94964268123069\n"
     ]
    },
    {
     "data": {
      "image/png": "[encoded data removed]",
      "text/plain": [
       "<Figure size 432x288 with 1 Axes>"
      ]
     },
     "metadata": {
      "image/png": {
       "height": 270,
       "width": 373
      },
      "needs_background": "light"
     },
     "output_type": "display_data"
    }
   ],
   "source": [
    "plt.plot(c, '.')\n",
    "plt.title(r\"$\\frac{\\chi^2}{DoF}$ - Standard Calibration\")\n",
    "plt.semilogy()\n",
    "print(c[-1])"
   ]
  },
  {
   "cell_type": "markdown",
   "metadata": {},
   "source": [
    "### Below this is my random testing/playground <a name=\"playground\"></a>"
   ]
  },
  {
   "cell_type": "code",
   "execution_count": 59,
   "metadata": {},
   "outputs": [
    {
     "ename": "NameError",
     "evalue": "name 'itersolve' is not defined",
     "output_type": "error",
     "traceback": [
      "\u001b[0;31m---------------------------------------------------------------------------\u001b[0m",
      "\u001b[0;31mNameError\u001b[0m                                 Traceback (most recent call last)",
      "\u001b[0;32m<ipython-input-59-f746c23356c6>\u001b[0m in \u001b[0;36m<module>\u001b[0;34m\u001b[0m\n\u001b[1;32m      4\u001b[0m \u001b[0max\u001b[0m\u001b[0;34m[\u001b[0m\u001b[0;36m0\u001b[0m\u001b[0;34m,\u001b[0m\u001b[0;36m0\u001b[0m\u001b[0;34m]\u001b[0m\u001b[0;34m.\u001b[0m\u001b[0mset_title\u001b[0m\u001b[0;34m(\u001b[0m\u001b[0;34m\"True Visibility (Reals)\"\u001b[0m\u001b[0;34m)\u001b[0m\u001b[0;34m;\u001b[0m\u001b[0;34m\u001b[0m\u001b[0;34m\u001b[0m\u001b[0m\n\u001b[1;32m      5\u001b[0m \u001b[0;34m\u001b[0m\u001b[0m\n\u001b[0;32m----> 6\u001b[0;31m \u001b[0max\u001b[0m\u001b[0;34m[\u001b[0m\u001b[0;36m0\u001b[0m\u001b[0;34m,\u001b[0m\u001b[0;36m1\u001b[0m\u001b[0;34m]\u001b[0m\u001b[0;34m.\u001b[0m\u001b[0mhist\u001b[0m\u001b[0;34m(\u001b[0m\u001b[0mitersolve\u001b[0m\u001b[0;34m[\u001b[0m\u001b[0;36m0\u001b[0m\u001b[0;34m]\u001b[0m\u001b[0;34m.\u001b[0m\u001b[0mreal\u001b[0m\u001b[0;34m)\u001b[0m\u001b[0;34m;\u001b[0m\u001b[0;34m\u001b[0m\u001b[0;34m\u001b[0m\u001b[0m\n\u001b[0m\u001b[1;32m      7\u001b[0m \u001b[0max\u001b[0m\u001b[0;34m[\u001b[0m\u001b[0;36m0\u001b[0m\u001b[0;34m,\u001b[0m\u001b[0;36m1\u001b[0m\u001b[0;34m]\u001b[0m\u001b[0;34m.\u001b[0m\u001b[0mset_title\u001b[0m\u001b[0;34m(\u001b[0m\u001b[0;34m\"Solved Visibility (Reals)\"\u001b[0m\u001b[0;34m)\u001b[0m\u001b[0;34m;\u001b[0m\u001b[0;34m\u001b[0m\u001b[0;34m\u001b[0m\u001b[0m\n\u001b[1;32m      8\u001b[0m \u001b[0;34m\u001b[0m\u001b[0m\n",
      "\u001b[0;31mNameError\u001b[0m: name 'itersolve' is not defined"
     ]
    },
    {
     "data": {
      "image/png": "[encoded data removed]",
      "text/plain": [
       "<Figure size 648x504 with 4 Axes>"
      ]
     },
     "metadata": {
      "image/png": {
       "height": 426,
       "width": 557
      },
      "needs_background": "light"
     },
     "output_type": "display_data"
    }
   ],
   "source": [
    "fig, ax = plt.subplots(2, 2, figsize=(9,7))\n",
    "\n",
    "ax[0,0].hist(vis_true.real);\n",
    "ax[0,0].set_title(\"True Visibility (Reals)\");\n",
    "\n",
    "ax[0,1].hist(itersolve[0].real);\n",
    "ax[0,1].set_title(\"Solved Visibility (Reals)\");\n",
    "\n",
    "ax[1,0].hist(beams.flatten().real);\n",
    "ax[1,0].set_title(\"True Beams (Reals)\");\n",
    "\n",
    "ax[1,1].hist(itersolve[1].flatten().real);\n",
    "ax[1,1].set_title(\"Solved Beams (Reals)\");"
   ]
  },
  {
   "cell_type": "code",
   "execution_count": 426,
   "metadata": {},
   "outputs": [],
   "source": [
    "# print(\"True vis variance: \", np.var(vis_true.real))\n",
    "# print(\"Solved vis variance using n_beam=\"+str(outbeam), np.var(itersolve[0].real))\n",
    "\n",
    "# print(\"True beam variance: \", np.var(beams.real))\n",
    "# print(\"Solved beam variance using n_beam=\"+str(outbeam), np.var(itersolve[1].real))\n",
    "\n",
    "# print(\"True vis variance: \", np.var(vis_true.real))\n",
    "# print(\"Solved vis variance using n_beam=\"+str(outbeam), np.var(itersolve[0].real))\n",
    "\n",
    "# print(\"True beam variance: \", np.var(beams.real))\n",
    "# print(\"Solved beam variance using n_beam=\"+str(outbeam), np.var(itersolve[1].real))"
   ]
  },
  {
   "cell_type": "code",
   "execution_count": 819,
   "metadata": {},
   "outputs": [],
   "source": [
    "solved_beam_avgs = np.array([np.sum(b) for b in itersolve[1]])\n",
    "# solved_beam_avgs = np.array([np.sum(b) for b in improv_beam])\n",
    "orig_beam_avgs = np.array([np.sum(b) for b in beams])"
   ]
  },
  {
   "cell_type": "code",
   "execution_count": 820,
   "metadata": {},
   "outputs": [],
   "source": [
    "post_beams = []\n",
    "for i in range(Nant):\n",
    "    for j in range(i+1, Nant):\n",
    "        post_beams.append(signal.convolve(beams[i], np.conjugate(beams[j][::-1, ::-1])).flatten())\n",
    "post_beams = np.array(post_beams)"
   ]
  },
  {
   "cell_type": "code",
   "execution_count": 829,
   "metadata": {},
   "outputs": [],
   "source": [
    "post_improv = []\n",
    "impi = []\n",
    "impj = []\n",
    "for i in range(Nant):\n",
    "    for j in range(i+1, Nant):\n",
    "        impi.append(i)\n",
    "        impj.append(j)\n",
    "#         post_improv.append(signal.convolve(improv_beam[i], np.conjugate(improv_beam[j][::-1, ::-1])).flatten())\n",
    "        post_improv.append(signal.convolve(itersolve[1][i], np.conjugate(itersolve[1][j][::-1, ::-1])).flatten())\n",
    "post_improv = np.array(post_improv)\n",
    "ipmi = np.array(impi)\n",
    "ipmj = np.array(impj)"
   ]
  },
  {
   "cell_type": "code",
   "execution_count": 830,
   "metadata": {},
   "outputs": [
    {
     "data": {
      "text/plain": [
       "(array([  24.,   77.,  274.,  401.,  484.,  612.,  908., 1299.,  792.,\n",
       "          79.]),\n",
       " array([ 29.95254574,  38.70796254,  47.46337933,  56.21879612,\n",
       "         64.97421292,  73.72962971,  82.4850465 ,  91.2404633 ,\n",
       "         99.99588009, 108.75129689, 117.50671368]),\n",
       " <a list of 10 Patch objects>)"
      ]
     },
     "execution_count": 830,
     "metadata": {},
     "output_type": "execute_result"
    },
    {
     "data": {
      "image/png": "[encoded data removed]",
      "text/plain": [
       "<Figure size 432x288 with 1 Axes>"
      ]
     },
     "metadata": {
      "image/png": {
       "height": 248,
       "width": 384
      },
      "needs_background": "light"
     },
     "output_type": "display_data"
    }
   ],
   "source": [
    "plt.hist(np.abs(np.sum(post_beams, axis=1)/np.sum(post_improv, axis=1)))"
   ]
  },
  {
   "cell_type": "code",
   "execution_count": 831,
   "metadata": {},
   "outputs": [
    {
     "data": {
      "text/plain": [
       "Text(0.5, 1.0, 'Magnitude of Postage of True Beams')"
      ]
     },
     "execution_count": 831,
     "metadata": {},
     "output_type": "execute_result"
    },
    {
     "data": {
      "image/png": "[encoded data removed]",
      "text/plain": [
       "<Figure size 864x432 with 2 Axes>"
      ]
     },
     "metadata": {
      "image/png": {
       "height": 372,
       "width": 706
      },
      "needs_background": "light"
     },
     "output_type": "display_data"
    }
   ],
   "source": [
    "fig, ax = plt.subplots(ncols=2, figsize=(12,6))\n",
    "\n",
    "ax[0].hist(np.abs(np.sum(post_improv, axis=1)), density=True);\n",
    "ax[0].set_title(\"Magnitude of Postage of Solved Beams\")\n",
    "ax[1].hist(np.abs(np.sum(post_beams, axis=1)), density=True);\n",
    "ax[1].set_title(\"Magnitude of Postage of True Beams\")"
   ]
  },
  {
   "cell_type": "code",
   "execution_count": 832,
   "metadata": {},
   "outputs": [
    {
     "data": {
      "image/png": "[encoded data removed]",
      "text/plain": [
       "<Figure size 432x288 with 1 Axes>"
      ]
     },
     "metadata": {
      "image/png": {
       "height": 248,
       "width": 377
      },
      "needs_background": "light"
     },
     "output_type": "display_data"
    }
   ],
   "source": [
    "plt.plot(np.arange(Nant), solved_beam_avgs.real, '.', label='Fit');\n",
    "plt.plot(np.arange(Nant), orig_beam_avgs.real, '.', label='True');\n",
    "plt.legend();"
   ]
  },
  {
   "cell_type": "code",
   "execution_count": 833,
   "metadata": {},
   "outputs": [
    {
     "data": {
      "image/png": "[encoded data removed]",
      "text/plain": [
       "<Figure size 432x288 with 1 Axes>"
      ]
     },
     "metadata": {
      "image/png": {
       "height": 250,
       "width": 377
      },
      "needs_background": "light"
     },
     "output_type": "display_data"
    }
   ],
   "source": [
    "plt.plot(np.arange(Nant), solved_beam_avgs.imag, '.', label='Fit');\n",
    "plt.plot(np.arange(Nant), orig_beam_avgs.imag, '.', label='True');\n",
    "plt.legend();"
   ]
  },
  {
   "cell_type": "code",
   "execution_count": 834,
   "metadata": {},
   "outputs": [
    {
     "data": {
      "image/png": "[encoded data removed]",
      "text/plain": [
       "<Figure size 432x288 with 1 Axes>"
      ]
     },
     "metadata": {
      "image/png": {
       "height": 248,
       "width": 377
      },
      "needs_background": "light"
     },
     "output_type": "display_data"
    }
   ],
   "source": [
    "plt.hist(np.abs(beams).flatten(), density=True, stacked=True, histtype='step', fill=False, label='True');\n",
    "plt.hist(np.abs(improv_beam).flatten(), density=True, stacked=True, histtype='step', fill=False, label='Guess');\n",
    "plt.legend();"
   ]
  },
  {
   "cell_type": "code",
   "execution_count": 720,
   "metadata": {},
   "outputs": [
    {
     "data": {
      "image/png": "[encoded data removed]",
      "text/plain": [
       "<Figure size 432x288 with 1 Axes>"
      ]
     },
     "metadata": {
      "image/png": {
       "height": 248,
       "width": 378
      },
      "needs_background": "light"
     },
     "output_type": "display_data"
    }
   ],
   "source": [
    "plt.hist(vis_true.imag, density=True, histtype='step', fill=False, label='True');\n",
    "# plt.hist(bad_guess.real, density=True, histtype='step', fill=False, label='Fit');\n",
    "plt.hist(itersolve[0].imag, density=True, histtype='step', fill=False, label='Fit');\n",
    "plt.legend();"
   ]
  },
  {
   "cell_type": "code",
   "execution_count": 721,
   "metadata": {},
   "outputs": [
    {
     "data": {
      "image/png": "[encoded data removed]",
      "text/plain": [
       "<Figure size 432x288 with 1 Axes>"
      ]
     },
     "metadata": {
      "image/png": {
       "height": 248,
       "width": 378
      },
      "needs_background": "light"
     },
     "output_type": "display_data"
    }
   ],
   "source": [
    "plt.hist(vis_true.real, density=True, histtype='step', fill=False, label='True');\n",
    "# plt.hist(bad_guess.real, density=True, histtype='step', fill=False, label='Fit');\n",
    "plt.hist(itersolve[0].real, density=True, histtype='step', fill=False, label='Fit');\n",
    "plt.legend();"
   ]
  },
  {
   "cell_type": "code",
   "execution_count": 1883,
   "metadata": {},
   "outputs": [
    {
     "name": "stdout",
     "output_type": "stream",
     "text": [
      "976 ms ± 23.6 ms per loop (mean ± std. dev. of 7 runs, 1 loop each)\n"
     ]
    }
   ],
   "source": [
    "%%timeit\n",
    "_ = beam_solver(bad_guess, improv_beam, gains_true, data, ant_i, ant_j, fakeflat, Nside)"
   ]
  },
  {
   "cell_type": "code",
   "execution_count": 1882,
   "metadata": {},
   "outputs": [
    {
     "name": "stdout",
     "output_type": "stream",
     "text": [
      "2.24 s ± 25.8 ms per loop (mean ± std. dev. of 7 runs, 1 loop each)\n"
     ]
    }
   ],
   "source": [
    "%%timeit\n",
    "_ = vis_solver(bad_guess, improv_beam, gains_true, data, ant_i, ant_j, fakeflat)"
   ]
  },
  {
   "cell_type": "code",
   "execution_count": 1885,
   "metadata": {},
   "outputs": [
    {
     "name": "stdout",
     "output_type": "stream",
     "text": [
      "2.98 s ± 686 ms per loop (mean ± std. dev. of 7 runs, 1 loop each)\n"
     ]
    }
   ],
   "source": [
    "%%timeit\n",
    "_ = vis_solv(bad_guess, improv_beam, gains_true, data, noise, ant_i, ant_j, fakeflat, fakevislen)"
   ]
  },
  {
   "cell_type": "code",
   "execution_count": 1889,
   "metadata": {},
   "outputs": [
    {
     "name": "stdout",
     "output_type": "stream",
     "text": [
      "2.13 s ± 9.79 ms per loop (mean ± std. dev. of 7 runs, 1 loop each)\n"
     ]
    }
   ],
   "source": [
    "%%timeit\n",
    "bigA, bigB = linear_solver_A(improv_beam, gains_true, data, ant_i, ant_j, fakeflat)"
   ]
  },
  {
   "cell_type": "code",
   "execution_count": 1920,
   "metadata": {},
   "outputs": [
    {
     "name": "stdout",
     "output_type": "stream",
     "text": [
      "814 ms ± 5.02 ms per loop (mean ± std. dev. of 7 runs, 1 loop each)\n"
     ]
    }
   ],
   "source": [
    "%%timeit\n",
    "bigA, bigB = linear_solver_A(improv_beam, gains_true, data, ant_i, ant_j, fakeflat)"
   ]
  },
  {
   "cell_type": "code",
   "execution_count": 1044,
   "metadata": {},
   "outputs": [
    {
     "name": "stdout",
     "output_type": "stream",
     "text": [
      "246 ms ± 8.04 ms per loop (mean ± std. dev. of 7 runs, 1 loop each)\n"
     ]
    }
   ],
   "source": [
    "%%timeit\n",
    "for i in range(len(fakeflat)):\n",
    "    post[i] = signal.convolve(improv_beam[ant_i[i]], np.conjugate(improv_beam[ant_j[i]][::-1, ::-1])).flatten()*gains_true[ant_i[i]]*np.conjugate(gains_true[ant_j[i]])"
   ]
  },
  {
   "cell_type": "code",
   "execution_count": 1036,
   "metadata": {},
   "outputs": [
    {
     "name": "stdout",
     "output_type": "stream",
     "text": [
      "73.7 ms ± 312 µs per loop (mean ± std. dev. of 7 runs, 10 loops each)\n"
     ]
    }
   ],
   "source": [
    "%%timeit\n",
    "lilA.tocsr()"
   ]
  },
  {
   "cell_type": "code",
   "execution_count": 1508,
   "metadata": {},
   "outputs": [
    {
     "name": "stdout",
     "output_type": "stream",
     "text": [
      "Guess solution  (361034126.6541432, 9900, 36468.093601428605)\n"
     ]
    }
   ],
   "source": [
    "horrific = flat_model(bad_guess, improv_beam, gains_true, ant_i, ant_j, fakeflat)\n",
    "print(\"Guess solution \", gen_chi2(data, horrific, noise))"
   ]
  },
  {
   "cell_type": "code",
   "execution_count": 1561,
   "metadata": {},
   "outputs": [
    {
     "name": "stdout",
     "output_type": "stream",
     "text": [
      "8.05 s ± 417 ms per loop (mean ± std. dev. of 7 runs, 1 loop each)\n"
     ]
    }
   ],
   "source": [
    "%%timeit\n",
    "orig_m = vis_solver(bad_guess, improv_beam, gains_true, data, ant_i, ant_j, fakeflat)"
   ]
  },
  {
   "cell_type": "code",
   "execution_count": 1549,
   "metadata": {},
   "outputs": [
    {
     "name": "stdout",
     "output_type": "stream",
     "text": [
      "Guess solution  (25807670.751166813, 9900, 2606.8354294107894)\n"
     ]
    }
   ],
   "source": [
    "horrific = flat_model(orig_m, improv_beam, gains_true, ant_i, ant_j, fakeflat)\n",
    "print(\"Guess solution \", gen_chi2(data, horrific, noise))"
   ]
  },
  {
   "cell_type": "code",
   "execution_count": 1562,
   "metadata": {},
   "outputs": [
    {
     "name": "stdout",
     "output_type": "stream",
     "text": [
      "2.48 s ± 18.7 ms per loop (mean ± std. dev. of 7 runs, 1 loop each)\n"
     ]
    }
   ],
   "source": [
    "%%timeit\n",
    "wein_m = trial_vis_solv(bad_guess, improv_beam, gains_true, data, noise, ant_i, ant_j, fakeflat, fakevislen)"
   ]
  },
  {
   "cell_type": "code",
   "execution_count": 1560,
   "metadata": {},
   "outputs": [
    {
     "name": "stdout",
     "output_type": "stream",
     "text": [
      "Guess solution  (26376676.171272844, 9900, 2664.310724370994)\n"
     ]
    }
   ],
   "source": [
    "horrific = flat_model(wein_m, improv_beam, gains_true, ant_i, ant_j, fakeflat)\n",
    "print(\"Guess solution \", gen_chi2(data, horrific, noise))"
   ]
  },
  {
   "cell_type": "code",
   "execution_count": 1905,
   "metadata": {},
   "outputs": [
    {
     "name": "stdout",
     "output_type": "stream",
     "text": [
      "2.29 s ± 7.05 ms per loop (mean ± std. dev. of 7 runs, 1 loop each)\n"
     ]
    }
   ],
   "source": [
    "%%timeit\n",
    "postage = np.array([signal.convolve(improv_beam[ant_i[i]], np.conjugate(improv_beam[ant_j[i]][::-1, ::-1])).flatten() for i in range(len(fakeflat))])\n",
    "bigA = sparse.lil_matrix((2*data_len, 2*v_size))\n",
    "for i,v in enumerate(fakeflat):\n",
    "    absv = np.abs(v)\n",
    "    bigA[i,absv] = postage[i].real\n",
    "    bigA[i, v_size+absv] = -1*np.sign(v)*postage[i].imag\n",
    "    bigA[i+data_len, absv] = postage[i].imag\n",
    "    bigA[i+data_len, v_size+absv] = np.sign(v)*postage[i].real"
   ]
  },
  {
   "cell_type": "code",
   "execution_count": 1896,
   "metadata": {},
   "outputs": [],
   "source": [
    "data_len = len(data)"
   ]
  },
  {
   "cell_type": "code",
   "execution_count": 1897,
   "metadata": {},
   "outputs": [],
   "source": [
    "v_size = fakevislen"
   ]
  },
  {
   "cell_type": "code",
   "execution_count": 1912,
   "metadata": {},
   "outputs": [],
   "source": [
    "bigA = np.zeros((2*data_len, 2*v_size))"
   ]
  },
  {
   "cell_type": "code",
   "execution_count": 1913,
   "metadata": {},
   "outputs": [
    {
     "name": "stdout",
     "output_type": "stream",
     "text": [
      "74.3 ms ± 468 µs per loop (mean ± std. dev. of 7 runs, 10 loops each)\n"
     ]
    }
   ],
   "source": [
    "%%timeit\n",
    "for i,v in enumerate(fakeflat):\n",
    "    absv = np.abs(v)\n",
    "    post = postage[i]\n",
    "    bigA[i,absv] = post.real\n",
    "    bigA[i, v_size+absv] = -1*np.sign(v)*post.imag\n",
    "    bigA[i+data_len, absv] = post.imag\n",
    "    bigA[i+data_len, v_size+absv] = np.sign(v)*post.real"
   ]
  },
  {
   "cell_type": "code",
   "execution_count": 1959,
   "metadata": {},
   "outputs": [],
   "source": [
    "bigA, bigB = linear_solver_A(improv_beam, gains_true, data, ant_i, ant_j, fakeflat)"
   ]
  },
  {
   "cell_type": "code",
   "execution_count": 1965,
   "metadata": {},
   "outputs": [],
   "source": [
    "bigCSR = sparse.csr_matrix(bigA)"
   ]
  },
  {
   "cell_type": "code",
   "execution_count": 1969,
   "metadata": {},
   "outputs": [],
   "source": [
    "t2 = sparse.linalg.lsmr(bigCSR, bigB)[0]"
   ]
  },
  {
   "cell_type": "code",
   "execution_count": 1968,
   "metadata": {},
   "outputs": [],
   "source": [
    "t1 = sparse.linalg.lsqr(bigCSR, bigB)[0]"
   ]
  },
  {
   "cell_type": "code",
   "execution_count": 1982,
   "metadata": {},
   "outputs": [],
   "source": [
    "lasg = [1,2,24, 7, 9]"
   ]
  },
  {
   "cell_type": "code",
   "execution_count": 215,
   "metadata": {},
   "outputs": [],
   "source": [
    "v = vis_true"
   ]
  },
  {
   "cell_type": "code",
   "execution_count": 705,
   "metadata": {},
   "outputs": [],
   "source": [
    "gpos = np.random.normal(0, 0, (Nant, 2))\n",
    "unmean_beams = np.array([get_circle_array(.4, n_beam, .05, gpos[i])*beam_comp_phase[i] for i in range(Nant)])\n",
    "beams = unmean_beams"
   ]
  },
  {
   "cell_type": "code",
   "execution_count": 706,
   "metadata": {},
   "outputs": [],
   "source": [
    "postage = np.array([signal.convolve(beams[ant_i[i]], np.conjugate(beams[ant_j[i]][::-1, ::-1])).flatten() for i in range(len(flatndx))])"
   ]
  },
  {
   "cell_type": "code",
   "execution_count": 710,
   "metadata": {},
   "outputs": [
    {
     "data": {
      "application/vnd.jupyter.widget-view+json": {
       "model_id": "e2b5a0b2315f46f1965646a8ce88ed77",
       "version_major": 2,
       "version_minor": 0
      },
      "text/plain": [
       "HBox(children=(FloatProgress(value=0.0), HTML(value='')))"
      ]
     },
     "metadata": {},
     "output_type": "display_data"
    },
    {
     "name": "stdout",
     "output_type": "stream",
     "text": [
      "\n"
     ]
    }
   ],
   "source": [
    "variances = []\n",
    "for i in tqdm(range(100)):\n",
    "    dg = np.array([np.dot(p,np.random.normal(0, 1, ((2*n_beam-1)**2, 2)).view(dtype=np.complex128).flatten()) for p in postage])\n",
    "    variances.append(np.var(dg))"
   ]
  },
  {
   "cell_type": "code",
   "execution_count": 397,
   "metadata": {},
   "outputs": [],
   "source": [
    "tt = get_circle_array(.4, 5, .05, [0,0])"
   ]
  },
  {
   "cell_type": "code",
   "execution_count": 394,
   "metadata": {},
   "outputs": [],
   "source": [
    "tt  = np.ones((5, 5))*(np.pi*.4**2)"
   ]
  },
  {
   "cell_type": "code",
   "execution_count": 398,
   "metadata": {},
   "outputs": [],
   "source": [
    "ntt = tt[None,:,:]*np.exp(1j*np.random.normal(0, 1, 100))[:,None,None]"
   ]
  },
  {
   "cell_type": "code",
   "execution_count": 399,
   "metadata": {},
   "outputs": [
    {
     "data": {
      "text/plain": [
       "24.23654875540744"
      ]
     },
     "execution_count": 399,
     "metadata": {},
     "output_type": "execute_result"
    }
   ],
   "source": [
    "guess_rms(ntt, 100, 50)"
   ]
  },
  {
   "cell_type": "code",
   "execution_count": 1109,
   "metadata": {},
   "outputs": [
    {
     "data": {
      "text/plain": [
       "(25200,)"
      ]
     },
     "execution_count": 1109,
     "metadata": {},
     "output_type": "execute_result"
    }
   ],
   "source": [
    "data.shape"
   ]
  },
  {
   "cell_type": "code",
   "execution_count": 1114,
   "metadata": {},
   "outputs": [],
   "source": [
    "sad = np.load('./data/Nside10_Error0.01_scores.npy')"
   ]
  },
  {
   "cell_type": "code",
   "execution_count": 1431,
   "metadata": {},
   "outputs": [],
   "source": [
    "np.save('./data/cluster_data', data)"
   ]
  },
  {
   "cell_type": "code",
   "execution_count": 1432,
   "metadata": {},
   "outputs": [],
   "source": [
    "np.save('./data/cluster_chin', add_chin)"
   ]
  },
  {
   "cell_type": "code",
   "execution_count": 1440,
   "metadata": {},
   "outputs": [
    {
     "data": {
      "text/plain": [
       "(4950,)"
      ]
     },
     "execution_count": 1440,
     "metadata": {},
     "output_type": "execute_result"
    }
   ],
   "source": [
    "add_chin.shape"
   ]
  },
  {
   "cell_type": "code",
   "execution_count": 1403,
   "metadata": {},
   "outputs": [],
   "source": [
    "isolvem1_true = []"
   ]
  },
  {
   "cell_type": "code",
   "execution_count": 1429,
   "metadata": {
    "collapsed": true,
    "jupyter": {
     "outputs_hidden": true
    }
   },
   "outputs": [
    {
     "data": {
      "application/vnd.jupyter.widget-view+json": {
       "model_id": "0e77be8880794078ae5dcd59d9cd1dbb",
       "version_major": 2,
       "version_minor": 0
      },
      "text/plain": [
       "HBox(children=(FloatProgress(value=0.0, max=50.0), HTML(value='')))"
      ]
     },
     "metadata": {},
     "output_type": "display_data"
    },
    {
     "name": "stdout",
     "output_type": "stream",
     "text": [
      "0 1.4815677551217303 3200.1554932332765\n",
      "5 0.8580214430622918 148.94625631865983\n",
      "10 0.7690022192628659 56.851903478780514\n",
      "15 0.7246255904471588 31.71011655950406\n",
      "20 0.701427692969565 16.241846354022982\n",
      "25 0.6882750827160583 10.162578325553113\n",
      "30 0.6791755228487779 7.4823874048238395\n",
      "35 0.6720570834639737 6.077273634890389\n",
      "40 0.6660497284375457 5.247977120227006\n",
      "45 0.6607432904440755 4.691867613852992\n",
      "50 0.6559610063670746 4.242528771592788\n",
      "55 0.6516330542588517 3.834865204057678\n",
      "60 0.6477636347352099 3.3900204247506736\n",
      "65 0.644416699013109 2.889473890204954\n",
      "70 0.6415969217986721 2.426037027366874\n",
      "75 0.639209812293335 2.07352337010434\n",
      "80 0.6371292990715268 1.8333362357361693\n",
      "85 0.6352538481744332 1.672983113887767\n",
      "90 0.6335188323933075 1.5600300278706527\n",
      "95 0.6318880652694099 1.4727136653864363\n",
      "100 0.6303419387379371 1.3997004817388188\n",
      "105 0.628868024110194 1.3370298842642114\n",
      "110 0.6274554472076167 1.284448848140073\n",
      "115 0.6260931052571008 1.2421477997513648\n",
      "\n"
     ]
    },
    {
     "ename": "KeyboardInterrupt",
     "evalue": "",
     "output_type": "error",
     "traceback": [
      "\u001b[0;31m---------------------------------------------------------------------------\u001b[0m",
      "\u001b[0;31mKeyboardInterrupt\u001b[0m                         Traceback (most recent call last)",
      "\u001b[0;32m<ipython-input-1429-bbb3fa6eadb3>\u001b[0m in \u001b[0;36m<module>\u001b[0;34m\u001b[0m\n\u001b[1;32m      4\u001b[0m     \u001b[0mbad_guess\u001b[0m \u001b[0;34m=\u001b[0m \u001b[0mvis_true\u001b[0m\u001b[0;34m\u001b[0m\u001b[0;34m\u001b[0m\u001b[0m\n\u001b[1;32m      5\u001b[0m     \u001b[0mimprov_beam\u001b[0m \u001b[0;34m=\u001b[0m \u001b[0mbeams\u001b[0m\u001b[0;34m\u001b[0m\u001b[0;34m\u001b[0m\u001b[0m\n\u001b[0;32m----> 6\u001b[0;31m     itersolve = solve_everything(0, bad_guess, improv_beam, gains_true, data, ant_i, ant_j, fakeflat, Nside, \n\u001b[0m\u001b[1;32m      7\u001b[0m                                  add_chin, score_stop=.3, wiener=True, chi_eps=1)\n\u001b[1;32m      8\u001b[0m     \u001b[0misolvem1_true\u001b[0m\u001b[0;34m.\u001b[0m\u001b[0mappend\u001b[0m\u001b[0;34m(\u001b[0m\u001b[0mitersolve\u001b[0m\u001b[0;34m[\u001b[0m\u001b[0;34m-\u001b[0m\u001b[0;36m1\u001b[0m\u001b[0;34m]\u001b[0m\u001b[0;34m[\u001b[0m\u001b[0;34m-\u001b[0m\u001b[0;36m1\u001b[0m\u001b[0;34m]\u001b[0m\u001b[0;34m)\u001b[0m\u001b[0;34m\u001b[0m\u001b[0;34m\u001b[0m\u001b[0m\n",
      "\u001b[0;32m<ipython-input-1425-f716507bf17b>\u001b[0m in \u001b[0;36msolve_everything\u001b[0;34m(iter_max, vis_guess, beam_guess, gains, data, ant_i, ant_j, flatndx, Nside, noise, chi_eps, score_stop, wiener)\u001b[0m\n\u001b[1;32m     18\u001b[0m \u001b[0;34m\u001b[0m\u001b[0m\n\u001b[1;32m     19\u001b[0m         \u001b[0;32mif\u001b[0m \u001b[0mwiener\u001b[0m\u001b[0;34m:\u001b[0m\u001b[0;34m\u001b[0m\u001b[0;34m\u001b[0m\u001b[0m\n\u001b[0;32m---> 20\u001b[0;31m             \u001b[0mnew_vis\u001b[0m \u001b[0;34m=\u001b[0m \u001b[0mvis_solv\u001b[0m\u001b[0;34m(\u001b[0m\u001b[0mvis_guess\u001b[0m\u001b[0;34m,\u001b[0m \u001b[0mbeam_guess\u001b[0m\u001b[0;34m,\u001b[0m \u001b[0mgains\u001b[0m\u001b[0;34m,\u001b[0m \u001b[0mdata\u001b[0m\u001b[0;34m,\u001b[0m \u001b[0mnoise\u001b[0m\u001b[0;34m,\u001b[0m \u001b[0mant_i\u001b[0m\u001b[0;34m,\u001b[0m \u001b[0mant_j\u001b[0m\u001b[0;34m,\u001b[0m \u001b[0mflatndx\u001b[0m\u001b[0;34m,\u001b[0m \u001b[0mfvis\u001b[0m\u001b[0;34m)\u001b[0m\u001b[0;34m\u001b[0m\u001b[0;34m\u001b[0m\u001b[0m\n\u001b[0m\u001b[1;32m     21\u001b[0m         \u001b[0;32melse\u001b[0m\u001b[0;34m:\u001b[0m\u001b[0;34m\u001b[0m\u001b[0;34m\u001b[0m\u001b[0m\n\u001b[1;32m     22\u001b[0m             \u001b[0mnew_vis\u001b[0m \u001b[0;34m=\u001b[0m \u001b[0mold_vis_solver\u001b[0m\u001b[0;34m(\u001b[0m\u001b[0mvis_guess\u001b[0m\u001b[0;34m,\u001b[0m \u001b[0mbeam_guess\u001b[0m\u001b[0;34m,\u001b[0m \u001b[0mgains\u001b[0m\u001b[0;34m,\u001b[0m \u001b[0mdata\u001b[0m\u001b[0;34m,\u001b[0m \u001b[0mant_i\u001b[0m\u001b[0;34m,\u001b[0m \u001b[0mant_j\u001b[0m\u001b[0;34m,\u001b[0m \u001b[0mflatndx\u001b[0m\u001b[0;34m)\u001b[0m\u001b[0;34m\u001b[0m\u001b[0;34m\u001b[0m\u001b[0m\n",
      "\u001b[0;32m<ipython-input-1218-cad22a82c088>\u001b[0m in \u001b[0;36mvis_solv\u001b[0;34m(vis, beams, gains, data, noise, ant_i, ant_j, fndx, fvis)\u001b[0m\n\u001b[1;32m      1\u001b[0m \u001b[0;32mdef\u001b[0m \u001b[0mvis_solv\u001b[0m\u001b[0;34m(\u001b[0m\u001b[0mvis\u001b[0m\u001b[0;34m,\u001b[0m \u001b[0mbeams\u001b[0m\u001b[0;34m,\u001b[0m \u001b[0mgains\u001b[0m\u001b[0;34m,\u001b[0m \u001b[0mdata\u001b[0m\u001b[0;34m,\u001b[0m \u001b[0mnoise\u001b[0m\u001b[0;34m,\u001b[0m \u001b[0mant_i\u001b[0m\u001b[0;34m,\u001b[0m \u001b[0mant_j\u001b[0m\u001b[0;34m,\u001b[0m \u001b[0mfndx\u001b[0m\u001b[0;34m,\u001b[0m \u001b[0mfvis\u001b[0m\u001b[0;34m)\u001b[0m\u001b[0;34m:\u001b[0m\u001b[0;34m\u001b[0m\u001b[0;34m\u001b[0m\u001b[0m\n\u001b[0;32m----> 2\u001b[0;31m     \u001b[0mbigA\u001b[0m\u001b[0;34m,\u001b[0m \u001b[0mbigB\u001b[0m \u001b[0;34m=\u001b[0m \u001b[0mlinear_solver_A\u001b[0m\u001b[0;34m(\u001b[0m\u001b[0mbeams\u001b[0m\u001b[0;34m,\u001b[0m \u001b[0mgains_true\u001b[0m\u001b[0;34m,\u001b[0m \u001b[0mdata\u001b[0m\u001b[0;34m,\u001b[0m \u001b[0mant_i\u001b[0m\u001b[0;34m,\u001b[0m \u001b[0mant_j\u001b[0m\u001b[0;34m,\u001b[0m \u001b[0mfndx\u001b[0m\u001b[0;34m)\u001b[0m\u001b[0;34m\u001b[0m\u001b[0;34m\u001b[0m\u001b[0m\n\u001b[0m\u001b[1;32m      3\u001b[0m     \u001b[0mAt\u001b[0m \u001b[0;34m=\u001b[0m \u001b[0mbigA\u001b[0m\u001b[0;34m.\u001b[0m\u001b[0mT\u001b[0m\u001b[0;34m\u001b[0m\u001b[0;34m\u001b[0m\u001b[0m\n\u001b[1;32m      4\u001b[0m     \u001b[0msinv\u001b[0m \u001b[0;34m=\u001b[0m \u001b[0msparse\u001b[0m\u001b[0;34m.\u001b[0m\u001b[0mdiags\u001b[0m\u001b[0;34m(\u001b[0m\u001b[0mnp\u001b[0m\u001b[0;34m.\u001b[0m\u001b[0mones\u001b[0m\u001b[0;34m(\u001b[0m\u001b[0;36m2\u001b[0m\u001b[0;34m*\u001b[0m\u001b[0mfvis\u001b[0m\u001b[0;34m)\u001b[0m\u001b[0;34m)\u001b[0m\u001b[0;34m\u001b[0m\u001b[0;34m\u001b[0m\u001b[0m\n\u001b[1;32m      5\u001b[0m     \u001b[0minv_noise\u001b[0m \u001b[0;34m=\u001b[0m \u001b[0;36m1\u001b[0m\u001b[0;34m/\u001b[0m\u001b[0mnoise\u001b[0m\u001b[0;34m\u001b[0m\u001b[0;34m\u001b[0m\u001b[0m\n",
      "\u001b[0;32m<ipython-input-23-467352bb2d76>\u001b[0m in \u001b[0;36mlinear_solver_A\u001b[0;34m(beams, gains, data, ant_i, ant_j, fndx)\u001b[0m\n\u001b[1;32m      4\u001b[0m     \u001b[0mdata_len\u001b[0m \u001b[0;34m=\u001b[0m \u001b[0mlen\u001b[0m\u001b[0;34m(\u001b[0m\u001b[0mdata\u001b[0m\u001b[0;34m)\u001b[0m\u001b[0;34m\u001b[0m\u001b[0;34m\u001b[0m\u001b[0m\n\u001b[1;32m      5\u001b[0m     \u001b[0mv_size\u001b[0m \u001b[0;34m=\u001b[0m \u001b[0mlen\u001b[0m\u001b[0;34m(\u001b[0m\u001b[0mset\u001b[0m\u001b[0;34m(\u001b[0m\u001b[0mnp\u001b[0m\u001b[0;34m.\u001b[0m\u001b[0mabs\u001b[0m\u001b[0;34m(\u001b[0m\u001b[0mfndx\u001b[0m\u001b[0;34m)\u001b[0m\u001b[0;34m.\u001b[0m\u001b[0mflatten\u001b[0m\u001b[0;34m(\u001b[0m\u001b[0;34m)\u001b[0m\u001b[0;34m)\u001b[0m\u001b[0;34m)\u001b[0m \u001b[0;34m+\u001b[0m \u001b[0;36m1\u001b[0m\u001b[0;34m\u001b[0m\u001b[0;34m\u001b[0m\u001b[0m\n\u001b[0;32m----> 6\u001b[0;31m     \u001b[0mpostage\u001b[0m \u001b[0;34m=\u001b[0m \u001b[0mnp\u001b[0m\u001b[0;34m.\u001b[0m\u001b[0marray\u001b[0m\u001b[0;34m(\u001b[0m\u001b[0;34m[\u001b[0m\u001b[0msignal\u001b[0m\u001b[0;34m.\u001b[0m\u001b[0mconvolve\u001b[0m\u001b[0;34m(\u001b[0m\u001b[0mbeams\u001b[0m\u001b[0;34m[\u001b[0m\u001b[0mant_i\u001b[0m\u001b[0;34m[\u001b[0m\u001b[0mi\u001b[0m\u001b[0;34m]\u001b[0m\u001b[0;34m]\u001b[0m\u001b[0;34m,\u001b[0m \u001b[0mnp\u001b[0m\u001b[0;34m.\u001b[0m\u001b[0mconjugate\u001b[0m\u001b[0;34m(\u001b[0m\u001b[0mbeams\u001b[0m\u001b[0;34m[\u001b[0m\u001b[0mant_j\u001b[0m\u001b[0;34m[\u001b[0m\u001b[0mi\u001b[0m\u001b[0;34m]\u001b[0m\u001b[0;34m]\u001b[0m\u001b[0;34m[\u001b[0m\u001b[0;34m:\u001b[0m\u001b[0;34m:\u001b[0m\u001b[0;34m-\u001b[0m\u001b[0;36m1\u001b[0m\u001b[0;34m,\u001b[0m \u001b[0;34m:\u001b[0m\u001b[0;34m:\u001b[0m\u001b[0;34m-\u001b[0m\u001b[0;36m1\u001b[0m\u001b[0;34m]\u001b[0m\u001b[0;34m)\u001b[0m\u001b[0;34m)\u001b[0m\u001b[0;34m.\u001b[0m\u001b[0mflatten\u001b[0m\u001b[0;34m(\u001b[0m\u001b[0;34m)\u001b[0m\u001b[0;34m*\u001b[0m\u001b[0mgains\u001b[0m\u001b[0;34m[\u001b[0m\u001b[0mant_i\u001b[0m\u001b[0;34m[\u001b[0m\u001b[0mi\u001b[0m\u001b[0;34m]\u001b[0m\u001b[0;34m]\u001b[0m\u001b[0;34m*\u001b[0m\u001b[0mnp\u001b[0m\u001b[0;34m.\u001b[0m\u001b[0mconjugate\u001b[0m\u001b[0;34m(\u001b[0m\u001b[0mgains\u001b[0m\u001b[0;34m[\u001b[0m\u001b[0mant_j\u001b[0m\u001b[0;34m[\u001b[0m\u001b[0mi\u001b[0m\u001b[0;34m]\u001b[0m\u001b[0;34m]\u001b[0m\u001b[0;34m)\u001b[0m \u001b[0;32mfor\u001b[0m \u001b[0mi\u001b[0m \u001b[0;32min\u001b[0m \u001b[0mrange\u001b[0m\u001b[0;34m(\u001b[0m\u001b[0mlen\u001b[0m\u001b[0;34m(\u001b[0m\u001b[0mfndx\u001b[0m\u001b[0;34m)\u001b[0m\u001b[0;34m)\u001b[0m\u001b[0;34m]\u001b[0m\u001b[0;34m)\u001b[0m\u001b[0;34m\u001b[0m\u001b[0;34m\u001b[0m\u001b[0m\n\u001b[0m\u001b[1;32m      7\u001b[0m \u001b[0;31m#     bigA = sparse.lil_matrix((2*data_len, 2*v_size))\u001b[0m\u001b[0;34m\u001b[0m\u001b[0;34m\u001b[0m\u001b[0;34m\u001b[0m\u001b[0m\n\u001b[1;32m      8\u001b[0m     \u001b[0mbigA\u001b[0m \u001b[0;34m=\u001b[0m \u001b[0mnp\u001b[0m\u001b[0;34m.\u001b[0m\u001b[0mzeros\u001b[0m\u001b[0;34m(\u001b[0m\u001b[0;34m(\u001b[0m\u001b[0;36m2\u001b[0m\u001b[0;34m*\u001b[0m\u001b[0mdata_len\u001b[0m\u001b[0;34m,\u001b[0m \u001b[0;36m2\u001b[0m\u001b[0;34m*\u001b[0m\u001b[0mv_size\u001b[0m\u001b[0;34m)\u001b[0m\u001b[0;34m)\u001b[0m\u001b[0;34m\u001b[0m\u001b[0;34m\u001b[0m\u001b[0m\n",
      "\u001b[0;32m<ipython-input-23-467352bb2d76>\u001b[0m in \u001b[0;36m<listcomp>\u001b[0;34m(.0)\u001b[0m\n\u001b[1;32m      4\u001b[0m     \u001b[0mdata_len\u001b[0m \u001b[0;34m=\u001b[0m \u001b[0mlen\u001b[0m\u001b[0;34m(\u001b[0m\u001b[0mdata\u001b[0m\u001b[0;34m)\u001b[0m\u001b[0;34m\u001b[0m\u001b[0;34m\u001b[0m\u001b[0m\n\u001b[1;32m      5\u001b[0m     \u001b[0mv_size\u001b[0m \u001b[0;34m=\u001b[0m \u001b[0mlen\u001b[0m\u001b[0;34m(\u001b[0m\u001b[0mset\u001b[0m\u001b[0;34m(\u001b[0m\u001b[0mnp\u001b[0m\u001b[0;34m.\u001b[0m\u001b[0mabs\u001b[0m\u001b[0;34m(\u001b[0m\u001b[0mfndx\u001b[0m\u001b[0;34m)\u001b[0m\u001b[0;34m.\u001b[0m\u001b[0mflatten\u001b[0m\u001b[0;34m(\u001b[0m\u001b[0;34m)\u001b[0m\u001b[0;34m)\u001b[0m\u001b[0;34m)\u001b[0m \u001b[0;34m+\u001b[0m \u001b[0;36m1\u001b[0m\u001b[0;34m\u001b[0m\u001b[0;34m\u001b[0m\u001b[0m\n\u001b[0;32m----> 6\u001b[0;31m     \u001b[0mpostage\u001b[0m \u001b[0;34m=\u001b[0m \u001b[0mnp\u001b[0m\u001b[0;34m.\u001b[0m\u001b[0marray\u001b[0m\u001b[0;34m(\u001b[0m\u001b[0;34m[\u001b[0m\u001b[0msignal\u001b[0m\u001b[0;34m.\u001b[0m\u001b[0mconvolve\u001b[0m\u001b[0;34m(\u001b[0m\u001b[0mbeams\u001b[0m\u001b[0;34m[\u001b[0m\u001b[0mant_i\u001b[0m\u001b[0;34m[\u001b[0m\u001b[0mi\u001b[0m\u001b[0;34m]\u001b[0m\u001b[0;34m]\u001b[0m\u001b[0;34m,\u001b[0m \u001b[0mnp\u001b[0m\u001b[0;34m.\u001b[0m\u001b[0mconjugate\u001b[0m\u001b[0;34m(\u001b[0m\u001b[0mbeams\u001b[0m\u001b[0;34m[\u001b[0m\u001b[0mant_j\u001b[0m\u001b[0;34m[\u001b[0m\u001b[0mi\u001b[0m\u001b[0;34m]\u001b[0m\u001b[0;34m]\u001b[0m\u001b[0;34m[\u001b[0m\u001b[0;34m:\u001b[0m\u001b[0;34m:\u001b[0m\u001b[0;34m-\u001b[0m\u001b[0;36m1\u001b[0m\u001b[0;34m,\u001b[0m \u001b[0;34m:\u001b[0m\u001b[0;34m:\u001b[0m\u001b[0;34m-\u001b[0m\u001b[0;36m1\u001b[0m\u001b[0;34m]\u001b[0m\u001b[0;34m)\u001b[0m\u001b[0;34m)\u001b[0m\u001b[0;34m.\u001b[0m\u001b[0mflatten\u001b[0m\u001b[0;34m(\u001b[0m\u001b[0;34m)\u001b[0m\u001b[0;34m*\u001b[0m\u001b[0mgains\u001b[0m\u001b[0;34m[\u001b[0m\u001b[0mant_i\u001b[0m\u001b[0;34m[\u001b[0m\u001b[0mi\u001b[0m\u001b[0;34m]\u001b[0m\u001b[0;34m]\u001b[0m\u001b[0;34m*\u001b[0m\u001b[0mnp\u001b[0m\u001b[0;34m.\u001b[0m\u001b[0mconjugate\u001b[0m\u001b[0;34m(\u001b[0m\u001b[0mgains\u001b[0m\u001b[0;34m[\u001b[0m\u001b[0mant_j\u001b[0m\u001b[0;34m[\u001b[0m\u001b[0mi\u001b[0m\u001b[0;34m]\u001b[0m\u001b[0;34m]\u001b[0m\u001b[0;34m)\u001b[0m \u001b[0;32mfor\u001b[0m \u001b[0mi\u001b[0m \u001b[0;32min\u001b[0m \u001b[0mrange\u001b[0m\u001b[0;34m(\u001b[0m\u001b[0mlen\u001b[0m\u001b[0;34m(\u001b[0m\u001b[0mfndx\u001b[0m\u001b[0;34m)\u001b[0m\u001b[0;34m)\u001b[0m\u001b[0;34m]\u001b[0m\u001b[0;34m)\u001b[0m\u001b[0;34m\u001b[0m\u001b[0;34m\u001b[0m\u001b[0m\n\u001b[0m\u001b[1;32m      7\u001b[0m \u001b[0;31m#     bigA = sparse.lil_matrix((2*data_len, 2*v_size))\u001b[0m\u001b[0;34m\u001b[0m\u001b[0;34m\u001b[0m\u001b[0;34m\u001b[0m\u001b[0m\n\u001b[1;32m      8\u001b[0m     \u001b[0mbigA\u001b[0m \u001b[0;34m=\u001b[0m \u001b[0mnp\u001b[0m\u001b[0;34m.\u001b[0m\u001b[0mzeros\u001b[0m\u001b[0;34m(\u001b[0m\u001b[0;34m(\u001b[0m\u001b[0;36m2\u001b[0m\u001b[0;34m*\u001b[0m\u001b[0mdata_len\u001b[0m\u001b[0;34m,\u001b[0m \u001b[0;36m2\u001b[0m\u001b[0;34m*\u001b[0m\u001b[0mv_size\u001b[0m\u001b[0;34m)\u001b[0m\u001b[0;34m)\u001b[0m\u001b[0;34m\u001b[0m\u001b[0;34m\u001b[0m\u001b[0m\n",
      "\u001b[0;32m~/miniconda3/envs/astro/lib/python3.8/site-packages/scipy/signal/signaltools.py\u001b[0m in \u001b[0;36mconvolve\u001b[0;34m(in1, in2, mode, method)\u001b[0m\n\u001b[1;32m   1292\u001b[0m             \u001b[0;32mreturn\u001b[0m \u001b[0mnp\u001b[0m\u001b[0;34m.\u001b[0m\u001b[0mconvolve\u001b[0m\u001b[0;34m(\u001b[0m\u001b[0mvolume\u001b[0m\u001b[0;34m,\u001b[0m \u001b[0mkernel\u001b[0m\u001b[0;34m,\u001b[0m \u001b[0mmode\u001b[0m\u001b[0;34m)\u001b[0m\u001b[0;34m\u001b[0m\u001b[0;34m\u001b[0m\u001b[0m\n\u001b[1;32m   1293\u001b[0m \u001b[0;34m\u001b[0m\u001b[0m\n\u001b[0;32m-> 1294\u001b[0;31m         \u001b[0;32mreturn\u001b[0m \u001b[0mcorrelate\u001b[0m\u001b[0;34m(\u001b[0m\u001b[0mvolume\u001b[0m\u001b[0;34m,\u001b[0m \u001b[0m_reverse_and_conj\u001b[0m\u001b[0;34m(\u001b[0m\u001b[0mkernel\u001b[0m\u001b[0;34m)\u001b[0m\u001b[0;34m,\u001b[0m \u001b[0mmode\u001b[0m\u001b[0;34m,\u001b[0m \u001b[0;34m'direct'\u001b[0m\u001b[0;34m)\u001b[0m\u001b[0;34m\u001b[0m\u001b[0;34m\u001b[0m\u001b[0m\n\u001b[0m\u001b[1;32m   1295\u001b[0m     \u001b[0;32melse\u001b[0m\u001b[0;34m:\u001b[0m\u001b[0;34m\u001b[0m\u001b[0;34m\u001b[0m\u001b[0m\n\u001b[1;32m   1296\u001b[0m         raise ValueError(\"Acceptable method flags are 'auto',\"\n",
      "\u001b[0;32m~/miniconda3/envs/astro/lib/python3.8/site-packages/scipy/signal/signaltools.py\u001b[0m in \u001b[0;36mcorrelate\u001b[0;34m(in1, in2, mode, method)\u001b[0m\n\u001b[1;32m    241\u001b[0m             \u001b[0min1zpadded\u001b[0m \u001b[0;34m=\u001b[0m \u001b[0mnp\u001b[0m\u001b[0;34m.\u001b[0m\u001b[0mzeros\u001b[0m\u001b[0;34m(\u001b[0m\u001b[0mps\u001b[0m\u001b[0;34m,\u001b[0m \u001b[0min1\u001b[0m\u001b[0;34m.\u001b[0m\u001b[0mdtype\u001b[0m\u001b[0;34m)\u001b[0m\u001b[0;34m\u001b[0m\u001b[0;34m\u001b[0m\u001b[0m\n\u001b[1;32m    242\u001b[0m             \u001b[0msc\u001b[0m \u001b[0;34m=\u001b[0m \u001b[0mtuple\u001b[0m\u001b[0;34m(\u001b[0m\u001b[0mslice\u001b[0m\u001b[0;34m(\u001b[0m\u001b[0;36m0\u001b[0m\u001b[0;34m,\u001b[0m \u001b[0mi\u001b[0m\u001b[0;34m)\u001b[0m \u001b[0;32mfor\u001b[0m \u001b[0mi\u001b[0m \u001b[0;32min\u001b[0m \u001b[0min1\u001b[0m\u001b[0;34m.\u001b[0m\u001b[0mshape\u001b[0m\u001b[0;34m)\u001b[0m\u001b[0;34m\u001b[0m\u001b[0;34m\u001b[0m\u001b[0m\n\u001b[0;32m--> 243\u001b[0;31m             \u001b[0min1zpadded\u001b[0m\u001b[0;34m[\u001b[0m\u001b[0msc\u001b[0m\u001b[0;34m]\u001b[0m \u001b[0;34m=\u001b[0m \u001b[0min1\u001b[0m\u001b[0;34m.\u001b[0m\u001b[0mcopy\u001b[0m\u001b[0;34m(\u001b[0m\u001b[0;34m)\u001b[0m\u001b[0;34m\u001b[0m\u001b[0;34m\u001b[0m\u001b[0m\n\u001b[0m\u001b[1;32m    244\u001b[0m \u001b[0;34m\u001b[0m\u001b[0m\n\u001b[1;32m    245\u001b[0m             \u001b[0;32mif\u001b[0m \u001b[0mmode\u001b[0m \u001b[0;34m==\u001b[0m \u001b[0;34m'full'\u001b[0m\u001b[0;34m:\u001b[0m\u001b[0;34m\u001b[0m\u001b[0;34m\u001b[0m\u001b[0m\n",
      "\u001b[0;31mKeyboardInterrupt\u001b[0m: "
     ]
    }
   ],
   "source": [
    "for i in tqdm(range(10)):\n",
    "#     bad_guess = np.random.normal(0, 1, (fakevislen, 2)).view(np.complex128).flatten()\n",
    "#     improv_beam = np.random.normal(0, 1, (*bshape, 2)).view(np.complex128).reshape(bshape)\n",
    "    bad_guess = vis_true\n",
    "    improv_beam = beams\n",
    "    itersolve = solve_everything(0, bad_guess, improv_beam, gains_true, data, ant_i, ant_j, fakeflat, Nside, \n",
    "                                 add_chin, score_stop=.3, wiener=True, chi_eps=1)\n",
    "    isolvem1_true.append(itersolve[-1][-1])"
   ]
  },
  {
   "cell_type": "code",
   "execution_count": 1395,
   "metadata": {},
   "outputs": [
    {
     "data": {
      "text/plain": [
       "(array([ 8.,  4.,  6., 10.,  7.,  7.,  2.,  3.,  2.,  1.]),\n",
       " array([0.91900827, 0.97514165, 1.03127502, 1.08740839, 1.14354177,\n",
       "        1.19967514, 1.25580851, 1.31194189, 1.36807526, 1.42420863,\n",
       "        1.480342  ]),\n",
       " <a list of 10 Patch objects>)"
      ]
     },
     "execution_count": 1395,
     "metadata": {},
     "output_type": "execute_result"
    },
    {
     "data": {
      "image/png": "[encoded data removed]",
      "text/plain": [
       "<Figure size 432x288 with 1 Axes>"
      ]
     },
     "metadata": {
      "image/png": {
       "height": 248,
       "width": 372
      },
      "needs_background": "light"
     },
     "output_type": "display_data"
    }
   ],
   "source": [
    "plt.hist(np.array(isolve10))"
   ]
  },
  {
   "cell_type": "code",
   "execution_count": 1405,
   "metadata": {},
   "outputs": [
    {
     "data": {
      "text/plain": [
       "(array([6., 9., 5., 5., 5., 5., 8., 5., 1., 1.]),\n",
       " array([0.60051244, 0.61405345, 0.62759447, 0.64113548, 0.65467649,\n",
       "        0.66821751, 0.68175852, 0.69529954, 0.70884055, 0.72238156,\n",
       "        0.73592258]),\n",
       " <a list of 10 Patch objects>)"
      ]
     },
     "execution_count": 1405,
     "metadata": {},
     "output_type": "execute_result"
    },
    {
     "data": {
      "image/png": "[encoded data removed]",
      "text/plain": [
       "<Figure size 432x288 with 1 Axes>"
      ]
     },
     "metadata": {
      "image/png": {
       "height": 248,
       "width": 367
      },
      "needs_background": "light"
     },
     "output_type": "display_data"
    }
   ],
   "source": [
    "plt.hist(np.array(isolve1))"
   ]
  },
  {
   "cell_type": "code",
   "execution_count": 1610,
   "metadata": {},
   "outputs": [],
   "source": [
    "a = make_visibilities(10, 3)"
   ]
  },
  {
   "cell_type": "code",
   "execution_count": 1613,
   "metadata": {},
   "outputs": [],
   "source": [
    "an2b, ab2n, an2t, at2n, avisib = make_visibilities(10, 3)"
   ]
  },
  {
   "cell_type": "code",
   "execution_count": 1623,
   "metadata": {},
   "outputs": [
    {
     "data": {
      "text/plain": [
       "1740"
      ]
     },
     "execution_count": 1623,
     "metadata": {},
     "output_type": "execute_result"
    }
   ],
   "source": [
    "get_num_baselines(30)"
   ]
  },
  {
   "cell_type": "code",
   "execution_count": null,
   "metadata": {},
   "outputs": [],
   "source": []
  }
 ],
 "metadata": {
  "kernelspec": {
   "display_name": "Python 3",
   "language": "python",
   "name": "python3"
  },
  "language_info": {
   "codemirror_mode": {
    "name": "ipython",
    "version": 3
   },
   "file_extension": ".py",
   "mimetype": "text/x-python",
   "name": "python",
   "nbconvert_exporter": "python",
   "pygments_lexer": "ipython3",
   "version": "3.8.5"
  }
 },
 "nbformat": 4,
 "nbformat_minor": 4
}
