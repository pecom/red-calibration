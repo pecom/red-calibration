{
 "cells": [
  {
   "cell_type": "code",
   "execution_count": 1,
   "metadata": {},
   "outputs": [],
   "source": [
    "import numpy as np\n",
    "import matplotlib.pyplot as plt\n",
    "from scipy import stats\n",
    "from scipy import sparse\n",
    "from scipy import optimize\n",
    "from scipy import signal\n",
    "from scipy import linalg\n",
    "from functools import reduce\n",
    "from collections import defaultdict\n",
    "import pprint\n",
    "from tqdm.notebook import tqdm\n",
    "import pandas as pd # Only here to print arrays nicely"
   ]
  },
  {
   "cell_type": "code",
   "execution_count": 2,
   "metadata": {},
   "outputs": [],
   "source": [
    "%matplotlib inline\n",
    "%config InlineBackend.figure_format='retina'"
   ]
  },
  {
   "cell_type": "markdown",
   "metadata": {},
   "source": [
    "# TOC\n",
    "1. [1x1 Beam Functions](#1x1)\n",
    "2. [NxN Beam Complications](#NxN)\n",
    "3. [Visibility Solving](#vis)\n",
    "4. [Beam Solving](#beams)\n",
    "5. [Playground](#playground)"
   ]
  },
  {
   "cell_type": "markdown",
   "metadata": {},
   "source": [
    "### Simplified case for 1x1 beam <a name=\"1x1\"></a>"
   ]
  },
  {
   "cell_type": "code",
   "execution_count": 3,
   "metadata": {},
   "outputs": [],
   "source": [
    "def get_num_baselines(Nside):\n",
    "    # For square of N telescopes, should be 2N-2*sqrt(N) + 1\n",
    "    # Fix to a corner and there are N-1 options for unique baselines. \n",
    "    # Flip over to other side (over x or y axis) and get another N-1 options\n",
    "    # Duplicated Qare the pure x-axis and pure y-axis so -2*(sqrt(N)-1)\n",
    "    # Final +1 is from 0 baseline\n",
    "    \n",
    "    N_bases = 2*Nside**2 - 2*Nside\n",
    "    return int(N_bases)\n",
    "\n",
    "rand_phases = lambda x: np.random.uniform(0, 2*np.pi, x)\n",
    "zero_weight = lambda x, d: x/d if d else 0\n",
    "vector_weights = np.vectorize(zero_weight)\n",
    "parray = lambda x: np.round(x, decimals=2)\n",
    "\n",
    "def make_gains(Nside):\n",
    "    # Create complex gains with either (amplitude, phase) or (real, imaginary)\n",
    "    Nant = Nside**2\n",
    "    gain_amp = np.random.normal(1, .05, Nant)\n",
    "    gain_phase = rand_phases(Nant)\n",
    "    tgain = gain_amp*np.exp(1j*gain_phase)    \n",
    "    return tgain\n",
    "\n",
    "def make_data(Nside, gains, noise=0.1):\n",
    "    Nant = Nside**2\n",
    "    Nbase = get_num_baselines(Nside)\n",
    "    vis_true = np.random.normal(0,1,size=(Nbase,2)).view(np.complex128).flatten() ## size of unique baselines\n",
    "    ant_i, ant_j, visndx, data = [], [], [], []\n",
    "    ndx=0\n",
    "    ndx2base={}\n",
    "    base2ndx={}\n",
    "    for i in range(Nant):\n",
    "        xi,yi=np.unravel_index(i,(Nside,Nside))\n",
    "        for j in range (i+1,Nant):\n",
    "            xj,yj=np.unravel_index(j,(Nside,Nside))\n",
    "            assert (xj>=xi)\n",
    "            baseline = (xj-xi,yj-yi)\n",
    "            if baseline in base2ndx:\n",
    "                cndx = base2ndx[baseline]\n",
    "            else:\n",
    "                cndx = ndx\n",
    "                base2ndx[baseline]=ndx\n",
    "                ndx2base[ndx]=baseline\n",
    "                ndx+=1\n",
    "            ant_i.append(i)\n",
    "            ant_j.append(j)\n",
    "            visndx.append(cndx)\n",
    "            data.append(vis_true[cndx]*gains[i]*np.conj(gains[j]))\n",
    "            \n",
    "    assert(ndx==Nbase)\n",
    "    ant_i = np.array(ant_i)\n",
    "    ant_j = np.array(ant_j)\n",
    "    visndx = np.array(visndx)\n",
    "    data = np.array(data)\n",
    "    noise = np.random.normal(0,noise,size=(len(data),2)).view(np.complex128).flatten() ## size of unique baselines\n",
    "    data += noise\n",
    "    return vis_true, data, ant_i, ant_j, visndx, ndx2base, base2ndx"
   ]
  },
  {
   "cell_type": "code",
   "execution_count": 4,
   "metadata": {},
   "outputs": [],
   "source": [
    "def make_pred(gains, vis, ant_i, ant_j, visndx):\n",
    "    gains_i = gains[ant_i]\n",
    "    cgains_j = np.conj(gains[ant_j])\n",
    "    pred = gains_i*cgains_j*vis[visndx]\n",
    "    return pred"
   ]
  },
  {
   "cell_type": "code",
   "execution_count": 5,
   "metadata": {},
   "outputs": [],
   "source": [
    "def chi2(data, gains, vis, ant_i, ant_j, visndx, noise=0.1):\n",
    "    pred = make_pred(gains, vis, ant_i, ant_j, visndx)\n",
    "    chi2 = np.abs((data - pred)**2).sum()/(noise**2)\n",
    "    dof = len(data)*2\n",
    "    return chi2, dof"
   ]
  },
  {
   "cell_type": "code",
   "execution_count": 6,
   "metadata": {},
   "outputs": [],
   "source": [
    "def chimincal(iter_max, data, g0, v0, ant_i, ant_j, visndx, noise=0.1, delta=0.4, epsilon=1e-5):\n",
    "    chiscores = []\n",
    "    garr = g0.copy()\n",
    "    varr = v0.copy()\n",
    "    N = 1\n",
    "    Nant = len(g0)\n",
    "    Nbase = len(v0)\n",
    "    \n",
    "    for n in range(iter_max):\n",
    "        gprime = np.zeros(Nant, dtype=np.complex128)\n",
    "        for i in range(Nant):\n",
    "            numer = np.complex(0, 0)\n",
    "            denom = np.complex(0, 0)\n",
    "            iant = np.where(ant_i == i)[0]\n",
    "            jant = np.where(ant_j == i)[0]\n",
    "            numer += (data[iant] * garr[ant_j[iant]]*np.conj(varr[visndx[iant]])).sum()\n",
    "            denom += (np.abs(garr[ant_j[iant]]*varr[visndx[iant]])**2).sum()\n",
    "            numer += (np.conj(data[jant]) * garr[ant_i[jant]]*varr[visndx[jant]]).sum()\n",
    "            denom += (np.abs(garr[ant_i[jant]]*varr[visndx[jant]])**2).sum()\n",
    "            gprime[i] += zero_weight(numer, denom)\n",
    "\n",
    "        garr = (1 - delta)*garr + delta*gprime\n",
    "        \n",
    "        vprime = np.zeros(Nbase, dtype=np.complex128)\n",
    "        for i in range(Nbase):\n",
    "#             vdata = data/(garr[ant_i]*np.conj(garr[ant_j]))\n",
    "#             vprime[i] = np.mean(vdata[visndx==i])\n",
    "            \n",
    "#             numer = data[indxs].sum()\n",
    "#             denom = (garr[ant_i[indxs]]*np.conj(garr[ant_j[indxs]])).sum()\n",
    "#             vprime[i] += zero_weight(numer, denom)\n",
    "\n",
    "            indxs = np.where(visndx==i)\n",
    "            numer = (data[indxs]*np.conj(garr[ant_i[indxs]])*garr[ant_j[indxs]]).sum()\n",
    "            denom = (np.abs(garr[ant_i[indxs]]*np.conj(garr[ant_j[indxs]]))**2).sum()\n",
    "            vprime[i] = zero_weight(numer, denom)\n",
    "\n",
    "        varr = (1-delta)*varr + delta*vprime\n",
    "#         varr = vprime\n",
    "\n",
    "\n",
    "    \n",
    "        gscale = N/np.mean(np.abs(garr))\n",
    "        garr *= gscale\n",
    "        varr *= (1/gscale)**2\n",
    "        \n",
    "        chi, _ = chi2(data, garr, varr, ant_i, ant_j, visndx)\n",
    "        chiscores.append(chi)\n",
    "        if n > 20:\n",
    "            if np.abs(chiscores[-2] - chiscores[-1]) < epsilon:\n",
    "                break\n",
    "    return garr, varr, chiscores, n"
   ]
  },
  {
   "cell_type": "markdown",
   "metadata": {},
   "source": [
    "### NxN beam complications <a name=\"NxN\"></a>"
   ]
  },
  {
   "cell_type": "code",
   "execution_count": 7,
   "metadata": {},
   "outputs": [],
   "source": [
    "def get_weighted_array(alpha, Nspacing, numdraws=1e5):\n",
    "    # Overlap a circular beam onto a pixelized grid \n",
    "    Nbeam = Nspacing**2\n",
    "    rmax = alpha*.5\n",
    "    ndraws = int(numdraws)\n",
    "    spacing = np.linspace(0,1,Nspacing+1)\n",
    "    centered_spacing = spacing - .5\n",
    "    empty_weight_beam = np.zeros((Nspacing, Nspacing), dtype=np.complex128)\n",
    "    \n",
    "    for i in range(Nbeam):\n",
    "        xi, yi = np.unravel_index(i, (Nspacing, Nspacing))\n",
    "        draws = np.array([np.random.uniform(centered_spacing[xi], centered_spacing[xi+1], ndraws), np.random.uniform(centered_spacing[yi], centered_spacing[yi+1], ndraws)])\n",
    "        dist = np.linalg.norm(draws, axis=0)\n",
    "        empty_weight_beam[xi, yi] = np.sum(dist < rmax)/ndraws #* np.exp(1j*rand_phases(1))\n",
    "    sym_beam = .5*(empty_weight_beam + empty_weight_beam.T)\n",
    "    return sym_beam"
   ]
  },
  {
   "cell_type": "code",
   "execution_count": 8,
   "metadata": {},
   "outputs": [],
   "source": [
    "# Helper function to get a (2*br-1, 2*br-1) grid around point x\n",
    "\n",
    "def n_mesh(br):\n",
    "    nmesh = lambda x: tuple(np.meshgrid(range(x[0]-br, x[0]+br+1), range(x[1]-br, x[1]+br+1), indexing='ij'))\n",
    "    return nmesh\n",
    "\n",
    "five_mesh = n_mesh(2)"
   ]
  },
  {
   "cell_type": "code",
   "execution_count": 9,
   "metadata": {},
   "outputs": [],
   "source": [
    "def make_uv_grid(Nside):\n",
    "    uv_size = Nside*2 - 1\n",
    "    center = (Nside-1,Nside-1)\n",
    "    npcenter = np.array(center)\n",
    "    img_size = (uv_size, uv_size)\n",
    "    random_image = np.random.normal(0, 1, img_size)\n",
    "    centered_uv = np.fft.fftshift(np.fft.fft2(random_image))\n",
    "#     centered_uv[center] = 0\n",
    "    topleft_uv = np.fft.ifftshift(centered_uv)\n",
    "    \n",
    "    return centered_uv, topleft_uv, npcenter"
   ]
  },
  {
   "cell_type": "code",
   "execution_count": 10,
   "metadata": {},
   "outputs": [],
   "source": [
    "def get_new_shape(Nside, beam_radius=3):\n",
    "    # Helper function to get shape of convolved u-v space\n",
    "    orig_shape = (2*Nside-1, Nside)\n",
    "    new_shape = tuple([i*beam_radius + (beam_radius - 1) for i in orig_shape])\n",
    "    return new_shape"
   ]
  },
  {
   "cell_type": "code",
   "execution_count": 557,
   "metadata": {},
   "outputs": [],
   "source": [
    "def make_visibilities(Nside, beam_radius):\n",
    "    n = Nside\n",
    "    br = beam_radius\n",
    "    \n",
    "    # Useful shapes/sizes to have on hand\n",
    "    new_shape = get_new_shape(n, br)\n",
    "    new_size = np.prod(new_shape)\n",
    "    center = (int((new_shape[0]-1)/2), br-1)\n",
    "    \n",
    "    #Matrices of visibiltiies and possible indices\n",
    "    random_vis = np.random.normal(0,1 , (new_shape[0], new_shape[1], 2)).view(np.complex128)\n",
    "    poss_index = np.arange(new_size).reshape(new_shape)\n",
    "    \n",
    "    #Clear off the leftmost columns to remove redundant conjugate stuff\n",
    "    poss_index[0:center[0], 0:br] = 0\n",
    "    poss_index[center[0]:, 0:br-1] = 0\n",
    "    \n",
    "    oversampled_baselines = poss_index.nonzero()[0].shape[0]\n",
    "    visib = np.zeros(oversampled_baselines, dtype=np.complex128)\n",
    "    #Baseline - index dictionaries\n",
    "    new_ndx = 0\n",
    "    n2b = {}\n",
    "    b2n = {}\n",
    "    n2true = {}\n",
    "    true2n = {}\n",
    "    for i in range(new_size):\n",
    "        xi,yi = np.unravel_index(i, new_shape)\n",
    "        if poss_index[xi,yi] == 0:\n",
    "            continue\n",
    "        else:\n",
    "            baseline = (xi-center[0], yi-center[1])\n",
    "            if baseline[0] < 0:\n",
    "                baseline = (-1*baseline[0], -1*baseline[1])\n",
    "\n",
    "            if baseline in b2n:\n",
    "                cndx = new_ndx\n",
    "            else:\n",
    "                cndx = new_ndx\n",
    "                b2n[baseline] = new_ndx\n",
    "                n2b[new_ndx] = baseline\n",
    "                if tuple(np.mod(baseline, br)) == (0,0):\n",
    "                    modtuple = tuple(np.floor_divide(baseline, br))\n",
    "                    true2n[modtuple] = new_ndx\n",
    "                    n2true[new_ndx] = modtuple\n",
    "                new_ndx += 1\n",
    "        visib[cndx] = random_vis[xi,yi]\n",
    "    return n2b, b2n, n2true, true2n, visib"
   ]
  },
  {
   "cell_type": "code",
   "execution_count": 12,
   "metadata": {},
   "outputs": [],
   "source": [
    "def vis_to_grid(visib, ndx2base, size):\n",
    "    # Turn our flat list of visibilities into a grid based on the dictionary\n",
    "    # Meshes make properly yanking data from a grid straight-forward and also takes into account proper\n",
    "    # negative indexing which makes it preferable to the flat visibility list.\n",
    "    \n",
    "    # Double the size to make sure to avoid rewriting values with negative indexing\n",
    "    uv_size = (2*size[0], 2*size[1])\n",
    "    new_grid = np.zeros(uv_size, dtype=np.complex128)\n",
    "    for i,v in enumerate(visib):\n",
    "        base = ndx2base[i]\n",
    "        inv_base = tuple(-1*np.array(base))\n",
    "        new_grid[base] = v\n",
    "        new_grid[inv_base] = np.conj(v)\n",
    "    return new_grid"
   ]
  },
  {
   "cell_type": "code",
   "execution_count": 593,
   "metadata": {},
   "outputs": [],
   "source": [
    "def create_fake_flatndx(Nside, n_beam):\n",
    "    Nant = Nside**2\n",
    "    conv_beamrad = 2*n_beam - 1\n",
    "    n2b, b2n, n2t, t2n, _ = make_visibilities(Nside, n_beam)\n",
    "    datandx = []\n",
    "    \n",
    "    mesh = n_mesh(n_beam - 1)\n",
    "    \n",
    "    for i in range(Nant):\n",
    "        xi,yi = np.unravel_index(i, (Nside, Nside))\n",
    "        for j in range(i+1, Nant):\n",
    "            xj,yj = np.unravel_index(j, (Nside, Nside))\n",
    "            assert (xj>=xi)\n",
    "            baseline = (xj-xi,yj-yi)\n",
    "            \n",
    "            virtual_n = t2n[baseline]\n",
    "            grid_base = n2b[virtual_n]\n",
    "            \n",
    "            virtual_points = mesh(grid_base)\n",
    "            \n",
    "            datandx.append(virtual_points)\n",
    "    flat = vector_b2n(b2n, datandx)\n",
    "    return flat"
   ]
  },
  {
   "cell_type": "code",
   "execution_count": 594,
   "metadata": {},
   "outputs": [],
   "source": [
    "def make_data_grid(Nside, gains, beams, noise=0.1, verbose=True):\n",
    "    \n",
    "    Nant = Nside**2\n",
    "    Nbase = get_num_baselines(Nside)\n",
    "    # Get sample beam to understand shape of convolved beams\n",
    "    samp_beam = signal.convolve(beams[0], beams[0])\n",
    "    \n",
    "    #Radius and corresponding mesh\n",
    "    beam_radius = int((samp_beam.shape[0]-1)/2) + 1\n",
    "    mesh = n_mesh(beam_radius-1)\n",
    "    \n",
    "    # Create visibilities\n",
    "    n2b, b2n, n2t, t2n, visib = make_visibilities(Nside, beam_radius)\n",
    "    if verbose:\n",
    "        print(\"Made visib\")\n",
    "    \n",
    "    new_shape = get_new_shape(Nside, beam_radius)\n",
    "    vis_grid = vis_to_grid(visib, n2b, new_shape)\n",
    "    if verbose:\n",
    "        print(\"Made grid\")\n",
    "    \n",
    "    ant_i, ant_j, visndx, data, datandx = [], [], [], [], []\n",
    "    \n",
    "    for i in range(Nant):\n",
    "        xi,yi=np.unravel_index(i,(Nside, Nside))\n",
    "        for j in range (i+1,Nant):\n",
    "            conv_beam = signal.convolve(beams[i], np.conj(beams[j][::-1, ::-1]))\n",
    "            xj,yj=np.unravel_index(j,(Nside, Nside))\n",
    "            assert (xj>=xi)\n",
    "            baseline = (xj-xi,yj-yi)\n",
    "            \n",
    "            virtual_n = t2n[baseline]\n",
    "            grid_base = n2b[virtual_n]\n",
    "            \n",
    "            virtual_points = mesh(grid_base)\n",
    "            data_sum = (vis_grid[virtual_points] * gains[i] * np.conj(gains[j]) * conv_beam).sum()\n",
    "            \n",
    "            ant_i.append(i)\n",
    "            ant_j.append(j)\n",
    "            visndx.append(virtual_n)\n",
    "            data.append(data_sum)\n",
    "            datandx.append(virtual_points)\n",
    "    \n",
    "    if verbose:\n",
    "        print(\"Created data\")\n",
    "    \n",
    "    ant_i = np.array(ant_i)\n",
    "    ant_j = np.array(ant_j)\n",
    "    visndx = np.array(visndx)\n",
    "    data = np.array(data)\n",
    "    noise = np.random.normal(0,noise,size=(len(data),2)).view(np.complex128).flatten() ## size of unique baselines\n",
    "    data += noise\n",
    "    return visib, data, ant_i, ant_j, visndx, datandx, n2b, b2n, n2t, t2n, vis_grid"
   ]
  },
  {
   "cell_type": "code",
   "execution_count": 595,
   "metadata": {},
   "outputs": [],
   "source": [
    "def vector_b2n(b2n, datandx):\n",
    "    # Convert datandx (points on the grid) to flat indices using b2n dictionary\n",
    "    newndx = []\n",
    "    for l in datandx:\n",
    "        x,y = l\n",
    "        flattened = []\n",
    "        ndx_size = x.size\n",
    "        ndx_shape = x.shape\n",
    "        for i in range(ndx_size):\n",
    "            point = np.unravel_index(i, ndx_shape)\n",
    "            k = np.array([x[point], y[point]])\n",
    "            key = tuple(k)\n",
    "            if key in b2n:\n",
    "                flattened.append(b2n[key])\n",
    "            else:\n",
    "                key = tuple(-1*k)\n",
    "                flattened.append(-1*b2n[key])\n",
    "        newndx.append(flattened)\n",
    "    newndx = np.array(newndx)\n",
    "    return newndx"
   ]
  },
  {
   "cell_type": "code",
   "execution_count": 596,
   "metadata": {},
   "outputs": [],
   "source": [
    "def conjugate_visib(vis, ndxs):\n",
    "    # Returns the proper list of relevant visibilites given ndxs\n",
    "    # Negative refers to using a conjugate rather than doubling the size of the array\n",
    "    flat = []\n",
    "    for i in ndxs:\n",
    "        if i >= 0:\n",
    "            flat.append(vis[i])\n",
    "        else:\n",
    "            flat.append(np.conj(vis[-1*i]))\n",
    "    return np.array(flat)"
   ]
  },
  {
   "cell_type": "code",
   "execution_count": 597,
   "metadata": {},
   "outputs": [],
   "source": [
    "def flat_model(vis, beams, gains, ant_i, ant_j, flatndx):\n",
    "    # Make prediction\n",
    "    postage = np.array([signal.convolve(beams[ant_i[i]], np.conjugate(beams[ant_j[i]][::-1, ::-1])).flatten() for i in range(len(flatndx))])\n",
    "    gains_i = gains[ant_i]\n",
    "    gains_j = np.conj(gains[ant_j])\n",
    "    flatbread = np.array([conjugate_visib(vis, v)*postage[i] for i, v in enumerate(flatndx)])\n",
    "    pred = np.sum(flatbread, axis=1)*gains_i*gains_j\n",
    "    return pred"
   ]
  },
  {
   "cell_type": "code",
   "execution_count": 598,
   "metadata": {},
   "outputs": [],
   "source": [
    "def gen_chi2(data, pred, noise=0.1):\n",
    "    # Generic chi2 definition\n",
    "    chi2 = np.abs((data - pred)**2).sum()/(noise**2)\n",
    "    dof = len(data)*2\n",
    "    return chi2, dof, chi2/dof"
   ]
  },
  {
   "cell_type": "markdown",
   "metadata": {},
   "source": [
    "### Visibility solving <a name=\"vis\"></a>"
   ]
  },
  {
   "cell_type": "code",
   "execution_count": 18,
   "metadata": {},
   "outputs": [],
   "source": [
    "def imag_to_reals(vec):\n",
    "    # Helper function for linear estimator\n",
    "    reals = vec.real\n",
    "    imags = vec.imag\n",
    "    flat_vec = np.concatenate((reals, imags))\n",
    "    return flat_vec"
   ]
  },
  {
   "cell_type": "code",
   "execution_count": 620,
   "metadata": {},
   "outputs": [],
   "source": [
    "def linear_solver_A(beams, gains, data,ant_i, ant_j, fndx):\n",
    "    # Solve for visibilities using a linear method\n",
    "    big_ans = imag_to_reals(data)\n",
    "    data_len = len(data)\n",
    "    v_size = len(set(np.abs(fndx).flatten())) + 1\n",
    "    postage = np.array([signal.convolve(beams[ant_i[i]], np.conjugate(beams[ant_j[i]][::-1, ::-1])).flatten()*gains[ant_i[i]]*np.conjugate(gains[ant_j[i]]) for i in range(len(fndx))])\n",
    "    bigA = sparse.lil_matrix((2*data_len, 2*v_size))\n",
    "    for i,v in enumerate(fndx):\n",
    "        absv = np.abs(v)\n",
    "        bigA[i,absv] = postage[i].real\n",
    "        bigA[i, v_size+absv] = -1*np.sign(v)*postage[i].imag\n",
    "        bigA[i+data_len, absv] = np.sign(v)*postage[i].imag\n",
    "        bigA[i+data_len, v_size+absv] = postage[i].real\n",
    "    bigCSR = bigA.tocsr()\n",
    "    return bigCSR, big_ans"
   ]
  },
  {
   "cell_type": "code",
   "execution_count": 659,
   "metadata": {},
   "outputs": [],
   "source": [
    "def vis_solver(guess, beams, gains, data, ant_i, ant_j, fndx):\n",
    "    bigA, bigB = linear_solver_A(beams, gains, data, ant_i, ant_j, fndx)\n",
    "    map_guess = imag_to_reals(guess)\n",
    "    map_sol = sparse.linalg.lsqr(bigA, bigB, atol=1e-5)[0]\n",
    "    v_size = len(guess)\n",
    "    comb_sol = map_sol[:v_size] + 1j*map_sol[v_size:]\n",
    "    return comb_sol"
   ]
  },
  {
   "cell_type": "markdown",
   "metadata": {},
   "source": [
    "### Beam solving <a name=\"beams\"></a>"
   ]
  },
  {
   "cell_type": "code",
   "execution_count": 21,
   "metadata": {},
   "outputs": [],
   "source": [
    "def padded_circulant(col):\n",
    "    c_len = len(col)\n",
    "    first_row = np.zeros(c_len, dtype=np.complex128)\n",
    "    first_row[0] = col[0]\n",
    "    first_col = np.zeros(2*c_len - 1, dtype=np.complex128)\n",
    "    first_col[0:c_len] = col\n",
    "    toep_mat = linalg.toeplitz(first_col, first_row)\n",
    "    return toep_mat"
   ]
  },
  {
   "cell_type": "code",
   "execution_count": 22,
   "metadata": {},
   "outputs": [],
   "source": [
    "def doubly_block_toep(beam_j):\n",
    "    pad_zero = np.zeros(beam_j.shape[0], dtype=np.complex128)\n",
    "    h1 = padded_circulant(beam_j[0])\n",
    "    h2 = padded_circulant(beam_j[1])\n",
    "    h3 = padded_circulant(beam_j[2])\n",
    "    h4 = padded_circulant(pad_zero)\n",
    "    h5 = padded_circulant(pad_zero)\n",
    "    blocked_toep = np.block([\n",
    "        [h1, h5, h4],\n",
    "        [h2, h1, h5],\n",
    "        [h3, h2, h1],\n",
    "        [h4, h3, h2],\n",
    "        [h5, h4, h3]\n",
    "    ])\n",
    "    return blocked_toep"
   ]
  },
  {
   "cell_type": "code",
   "execution_count": 777,
   "metadata": {},
   "outputs": [],
   "source": [
    "def generic_block_toep(beam_j):\n",
    "    pad_zero = np.zeros(beam_j.shape[0], dtype=np.complex128)\n",
    "    nb = beam_j.shape[0]\n",
    "    finshape = 2*nb - 1\n",
    "    block_matrix = []\n",
    "    circ_ndx = linalg.circulant(np.arange(finshape))[:,0:nb]\n",
    "    for i in range(finshape):\n",
    "        if i < nb:\n",
    "            block_matrix.append(padded_circulant(beam_j[i]))\n",
    "        else:\n",
    "            block_matrix.append(padded_circulant(pad_zero))\n",
    "    blocked = np.array(block_matrix)\n",
    "    unshape_circ = blocked[circ_ndx]\n",
    "    shaped_circ = unshape_circ.transpose(0, 2, 1, 3).reshape(finshape**2, nb**2)\n",
    "    return shaped_circ   "
   ]
  },
  {
   "cell_type": "code",
   "execution_count": 23,
   "metadata": {},
   "outputs": [],
   "source": [
    "def beam_mean(beams):\n",
    "    avg_beam = np.sum(np.mean(beams, axis=0))\n",
    "    meaned_beams = beams/avg_beam\n",
    "    return meaned_beams"
   ]
  },
  {
   "cell_type": "code",
   "execution_count": 783,
   "metadata": {},
   "outputs": [],
   "source": [
    "def beam_solver(vis, beam_guess, gains, data, ant_i, ant_j, flatndx, Nside):\n",
    "    Nant = Nside**2\n",
    "    n_beam = beam_guess.shape[1]\n",
    "    fn_bm = 2*n_beam - 1\n",
    "    matrix_beams = np.zeros((beam_guess.shape[0], fn_bm**2, n_beam**2), dtype=np.complex128)\n",
    "\n",
    "    for i,v in enumerate(beam_guess):\n",
    "        matrix_beams[i] = generic_block_toep(v)\n",
    "    \n",
    "    matrix_beams = np.array(matrix_beams)\n",
    "    \n",
    "    new_beams = beam_guess.copy()\n",
    "    for ant_ndx in range(Nant):\n",
    "        beam_solver = np.zeros((Nant-1, n_beam**2), dtype=np.complex128)\n",
    "        rhs_vis = np.zeros(Nant-1, dtype=np.complex128)\n",
    "        \n",
    "        ant_filter = ant_i==ant_ndx\n",
    "        sum_ants = np.sum(ant_filter)\n",
    "        jant_filter = ant_j==ant_ndx\n",
    "        \n",
    "        rhs_vis[:sum_ants] = data[ant_filter]\n",
    "        rhs_vis[sum_ants:] = np.conjugate(data[jant_filter])\n",
    "        \n",
    "        for i in range(sum_ants):\n",
    "            beam_solver[i] = conjugate_visib(vis_true, flatndx[ant_filter][i])[None,:] \\\n",
    "                @ np.conjugate(matrix_beams[ant_j[ant_filter]][i][::-1, ::-1])*gains[ant_i[ant_filter]][i]*np.conjugate(gains[ant_j[ant_filter]][i])\n",
    "        for j in range(np.sum(jant_filter)):\n",
    "            beam_solver[sum_ants + j] = (np.conjugate(conjugate_visib(vis_true, flatndx[jant_filter][j])[None,:]) \\\n",
    "                @ np.conjugate(matrix_beams[ant_i[jant_filter]][j]))[::-1,::-1]*gains[ant_j[jant_filter]][j]*np.conjugate(gains[ant_i[jant_filter]][j])\n",
    "                            \n",
    "        zerobeam = np.linalg.lstsq(beam_solver, rhs_vis, rcond=None)[0]\n",
    "        shaped_beam = zerobeam.reshape((n_beam, n_beam))\n",
    "        matrix_beams[ant_ndx] = generic_block_toep(shaped_beam)\n",
    "        new_beams[ant_ndx] = shaped_beam\n",
    "    return new_beams"
   ]
  },
  {
   "cell_type": "code",
   "execution_count": 25,
   "metadata": {},
   "outputs": [],
   "source": [
    "def solve_everything(iter_max, vis_guess, beam_guess, gains, data, ant_i, ant_j, flatndx, Nside, noise):\n",
    "    chis = np.zeros(iter_max+1)\n",
    "    scores = np.zeros(iter_max+1)\n",
    "    model = flat_model(vis_guess, beam_guess, gains, ant_i, ant_j, flatndx)\n",
    "    chi, _, score = gen_chi2(data, model, noise)\n",
    "    chis[0] = chi\n",
    "    scores[0] = score\n",
    "    for n in tqdm(range(iter_max)):\n",
    "        \n",
    "        new_beams = beam_solver(vis_guess, beam_guess, gains, data, ant_i, ant_j, flatndx, Nside)\n",
    "        new_vis = vis_solver(vis_guess, beam_guess, gains, data, ant_i, ant_j, flatndx)\n",
    "        beam_guess = new_beams\n",
    "        vis_guess = new_vis\n",
    "        model = flat_model(vis_guess, beam_guess, gains, ant_i, ant_j, flatndx)\n",
    "        chi, _, score = gen_chi2(data, model, noise)\n",
    "        \n",
    "        chis[n+1] = chi\n",
    "        scores[n+1] = score\n",
    "    \n",
    "    return new_vis, new_beams, chis, scores"
   ]
  },
  {
   "cell_type": "code",
   "execution_count": 472,
   "metadata": {},
   "outputs": [],
   "source": [
    "def scale_phased(vis, beams, beam_scale, phase, n2b, n_beam):\n",
    "    term_phase = np.array([np.array(n2b[n])/n_beam for n in np.arange(len(n2b))])\n",
    "    beam_ndx = np.array(np.unravel_index(np.arange(len(beams)), (Nside, Nside)))\n",
    "    phase_dphi = phase\n",
    "    \n",
    "    phase_vis = vis*np.exp(1j*np.dot(term_phase, phase_dphi))\n",
    "    beam_r = int((n_beam-1)/2)\n",
    "    beam_mesh = n_mesh(beam_r)\n",
    "    \n",
    "    phase_beams = []\n",
    "    for i in range(len(beam_ndx[0])):\n",
    "        pos_beamy, pos_beamx = np.array(beam_mesh(beam_ndx[:,i]*3))/3\n",
    "        beam_flipped = np.array([pos_beamy[::-1], pos_beamx[:,::-1]])\n",
    "        offsets = np.sum(beam_flipped*phase_dphi[:,None,None], axis=0)\n",
    "        phase_vec = np.exp(1j*offsets)\n",
    "        phase_beams.append(beams[i]*phase_vec)\n",
    "    phase_beams = np.array(phase_beams)\n",
    "    \n",
    "    fin_beams = phase_beams * beam_scale\n",
    "    fin_vis = phase_vis * (1/beam_scale)**2\n",
    "    return fin_vis, fin_beams"
   ]
  },
  {
   "cell_type": "markdown",
   "metadata": {},
   "source": [
    "#### Generate data and set up variables"
   ]
  },
  {
   "cell_type": "code",
   "execution_count": 846,
   "metadata": {},
   "outputs": [
    {
     "name": "stdout",
     "output_type": "stream",
     "text": [
      "Made visib\n",
      "Made grid\n",
      "Created data\n"
     ]
    }
   ],
   "source": [
    "Nside = 20\n",
    "Nant = Nside * Nside\n",
    "Nbase = get_num_baselines(Nside)\n",
    "noise = .1\n",
    "# gains_true = make_gains(Nside)\n",
    "gains_true = np.ones(Nant)\n",
    "# vis_true, data, ant_i, ant_j, visndx, ndx2base, base2ndx = make_data(Nsmide, gains_true)\n",
    "n_beam = 5\n",
    "weighted_beam = get_weighted_array(1, n_beam)\n",
    "beam_gains = np.random.normal(1,.1,(Nant, 2)).view(dtype=np.complex128).flatten()\n",
    "unmean_beams = np.array([get_weighted_array(.8, n_beam, 100)*beam_gains[i] for i in range(Nant)])\n",
    "beams = unmean_beams\n",
    "vis_true, data, ant_i, ant_j, visndx, datandx, n2b, b2n, n2t, t2n, tl_grid = make_data_grid(Nside, gains_true, beams, noise)\n",
    "flatndx = vector_b2n(b2n, datandx)\n",
    "data_len = len(data)"
   ]
  },
  {
   "cell_type": "code",
   "execution_count": 847,
   "metadata": {},
   "outputs": [],
   "source": [
    "# conv_beam_size = 25\n",
    "# beam_size = 9"
   ]
  },
  {
   "cell_type": "code",
   "execution_count": 848,
   "metadata": {},
   "outputs": [],
   "source": [
    "conv_beam_size = (2*n_beam - 1)**2\n",
    "beam_size = n_beam**2"
   ]
  },
  {
   "cell_type": "markdown",
   "metadata": {},
   "source": [
    "#### Check that the correct values give us a good prediction"
   ]
  },
  {
   "cell_type": "code",
   "execution_count": 849,
   "metadata": {},
   "outputs": [
    {
     "name": "stdout",
     "output_type": "stream",
     "text": [
      "Flat solution  (158856.34004053584, 159600, 0.9953404764444601)\n"
     ]
    }
   ],
   "source": [
    "flatbread = flat_model(vis_true, beams, gains_true, ant_i, ant_j, flatndx)\n",
    "print(\"Flat solution \", gen_chi2(data, flatbread, noise))"
   ]
  },
  {
   "cell_type": "markdown",
   "metadata": {},
   "source": [
    "#### Solve for the relevant properties given \"bad\" guesses"
   ]
  },
  {
   "cell_type": "code",
   "execution_count": 850,
   "metadata": {},
   "outputs": [],
   "source": [
    "bshape = (len(beams), 3,3 )"
   ]
  },
  {
   "cell_type": "code",
   "execution_count": 851,
   "metadata": {},
   "outputs": [],
   "source": [
    "fakeflat = create_fake_flatndx(Nside, 3)"
   ]
  },
  {
   "cell_type": "code",
   "execution_count": 852,
   "metadata": {},
   "outputs": [],
   "source": [
    "fakevislen = len(set(np.abs(fakeflat).flatten()))+1"
   ]
  },
  {
   "cell_type": "code",
   "execution_count": 853,
   "metadata": {},
   "outputs": [],
   "source": [
    "bad_guess = np.random.normal(0, 1, (fakevislen, 2)).view(np.complex128).flatten()\n",
    "improv_beam = np.random.normal(0, 1, (*bshape, 2)).view(np.complex128).reshape(bshape)"
   ]
  },
  {
   "cell_type": "code",
   "execution_count": 832,
   "metadata": {},
   "outputs": [],
   "source": [
    "bad_guess = itersolve[0]\n",
    "improv_beam = itersolve[1]"
   ]
  },
  {
   "cell_type": "code",
   "execution_count": 854,
   "metadata": {},
   "outputs": [
    {
     "data": {
      "application/vnd.jupyter.widget-view+json": {
       "model_id": "9321f4b4826b496aa3e065378060ec38",
       "version_major": 2,
       "version_minor": 0
      },
      "text/plain": [
       "HBox(children=(FloatProgress(value=0.0, max=10.0), HTML(value='')))"
      ]
     },
     "metadata": {},
     "output_type": "display_data"
    },
    {
     "name": "stdout",
     "output_type": "stream",
     "text": [
      "\n"
     ]
    }
   ],
   "source": [
    "itersolve = solve_everything(10, bad_guess, improv_beam, gains_true, data, ant_i, ant_j, fakeflat, Nside, noise)"
   ]
  },
  {
   "cell_type": "code",
   "execution_count": 855,
   "metadata": {},
   "outputs": [
    {
     "name": "stdout",
     "output_type": "stream",
     "text": [
      "Flat solution  (10265687758.583904, 159600, 64321.35187082647)\n"
     ]
    }
   ],
   "source": [
    "challah = flat_model(itersolve[0], itersolve[1], gains_true, ant_i, ant_j, fakeflat)\n",
    "print(\"Flat solution \", gen_chi2(data, challah, noise))"
   ]
  },
  {
   "cell_type": "code",
   "execution_count": 856,
   "metadata": {},
   "outputs": [
    {
     "name": "stdout",
     "output_type": "stream",
     "text": [
      "64321.35187082647\n"
     ]
    },
    {
     "data": {
      "image/png": "[encoded data removed]",
      "text/plain": [
       "<Figure size 432x288 with 1 Axes>"
      ]
     },
     "metadata": {
      "image/png": {
       "height": 270,
       "width": 373
      },
      "needs_background": "light"
     },
     "output_type": "display_data"
    }
   ],
   "source": [
    "# plt.plot(np.log10(itersolve[-1]), '.');\n",
    "# plt.title(r\"$\\log{\\left(\\frac{\\chi^2}{DoF}\\right)}$\");\n",
    "\n",
    "plt.plot(itersolve[-1], '.');\n",
    "plt.title(r\"$\\frac{\\chi^2}{DoF}$\");\n",
    "\n",
    "plt.semilogy()\n",
    "print(itersolve[-1][-1])"
   ]
  },
  {
   "cell_type": "markdown",
   "metadata": {},
   "source": [
    "#### Check phase degeneracy"
   ]
  },
  {
   "cell_type": "code",
   "execution_count": 473,
   "metadata": {},
   "outputs": [],
   "source": [
    "phase_vis, phase_beams = scale_phased(vis_true, beams, 1, np.array([.12, .1]), n2b, n_beam)"
   ]
  },
  {
   "cell_type": "code",
   "execution_count": 474,
   "metadata": {},
   "outputs": [
    {
     "name": "stdout",
     "output_type": "stream",
     "text": [
      "Flat solution  (50424.437661409684, 50400, 1.000484874234319)\n"
     ]
    }
   ],
   "source": [
    "pita = flat_model(phase_vis, phase_beams, gains_true, ant_i, ant_j, flatndx)\n",
    "print(\"Flat solution \", gen_chi2(data, pita, noise))"
   ]
  },
  {
   "cell_type": "markdown",
   "metadata": {},
   "source": [
    "### Below this is my random testing/playground <a name=\"playground\"></a>"
   ]
  },
  {
   "cell_type": "code",
   "execution_count": 424,
   "metadata": {},
   "outputs": [],
   "source": [
    "vguess = itersolve[0]\n",
    "bguess = itersolve[1]"
   ]
  },
  {
   "cell_type": "code",
   "execution_count": 475,
   "metadata": {},
   "outputs": [
    {
     "name": "stdout",
     "output_type": "stream",
     "text": [
      "Flat solution  (41085.87429071134, 50400, 0.8151959184664949)\n"
     ]
    }
   ],
   "source": [
    "phase_vis, phase_guess = scale_phased(vguess, bguess, 1, correct_phase, n2b, n_beam)\n",
    "\n",
    "pita = flat_model(phase_vis, phase_guess, gains_true, ant_i, ant_j, flatndx)\n",
    "print(\"Flat solution \", gen_chi2(data, pita, noise))"
   ]
  },
  {
   "cell_type": "code",
   "execution_count": 524,
   "metadata": {},
   "outputs": [],
   "source": [
    "def pred_phaser(pred, data, visndx, grid_max, Nside, n_beam, n2t):\n",
    "    deltax = np.linspace(0, (2*n_beam)/(Nside-1)*np.pi, grid_max)\n",
    "    deltay = np.linspace(0, (2*n_beam)/(Nside-1)*np.pi, grid_max)\n",
    "    vis_pos = np.array([np.array(n2t[v]) for v in visndx])\n",
    "    \n",
    "    for i in tqdm(range(grid_max)):\n",
    "        for j in range(grid_max):\n",
    "            phase_vec = np.array([deltax[i], deltay[j]])\n",
    "            phase_correction = np.exp(1j*np.dot(vis_pos, phase_vec))\n",
    "            phased_pred = pred*phase_correction\n",
    "            _,_, score = gen_chi2(data, phased_pred, noise)\n",
    "            if score < 10:\n",
    "                print(\"Phase \", i, j, score)"
   ]
  },
  {
   "cell_type": "code",
   "execution_count": 545,
   "metadata": {},
   "outputs": [
    {
     "data": {
      "application/vnd.jupyter.widget-view+json": {
       "model_id": "794469621d0b424fa229199748fb32cf",
       "version_major": 2,
       "version_minor": 0
      },
      "text/plain": [
       "HBox(children=(FloatProgress(value=0.0, max=300.0), HTML(value='')))"
      ]
     },
     "metadata": {},
     "output_type": "display_data"
    },
    {
     "name": "stdout",
     "output_type": "stream",
     "text": [
      "Phase  0 0 0.8151959184664952\n",
      "Phase  0 1 0.8892123758803535\n",
      "Phase  0 2 1.1131585492780205\n",
      "Phase  0 3 1.487030766422744\n",
      "Phase  0 4 2.0108228971194695\n",
      "Phase  0 5 2.684526353347955\n",
      "Phase  0 6 3.50813008944924\n",
      "Phase  0 7 4.481620602365473\n",
      "Phase  0 8 5.60498193193307\n",
      "Phase  0 9 6.8781956612292126\n",
      "Phase  0 10 8.30124091697168\n",
      "Phase  0 11 9.874094369972005\n",
      "Phase  1 0 0.8806831974768696\n",
      "Phase  1 1 0.9569574445169429\n",
      "Phase  1 2 1.183160879752472\n",
      "Phase  1 3 1.559289749968435\n",
      "Phase  1 4 2.085337844003001\n",
      "Phase  1 5 2.7612964928826256\n",
      "Phase  1 6 3.587154570010501\n",
      "Phase  1 7 4.562898491408352\n",
      "Phase  1 8 5.6885122160115795\n",
      "Phase  1 9 6.963977246017738\n",
      "Phase  1 10 8.389272627288332\n",
      "Phase  1 11 9.964374949803952\n",
      "Phase  2 0 1.0772076878347416\n",
      "Phase  2 1 1.1557392210536235\n",
      "Phase  2 2 1.384198524122068\n",
      "Phase  2 3 1.7625817628710987\n",
      "Phase  2 4 2.2908826452114144\n",
      "Phase  2 5 2.9690924212704606\n",
      "Phase  2 6 3.797199883582854\n",
      "Phase  2 7 4.775191367334157\n",
      "Phase  2 8 5.903050750658\n",
      "Phase  2 9 7.18075945498652\n",
      "Phase  2 10 8.60829644545415\n",
      "Phase  3 0 1.4047663873518907\n",
      "Phase  3 1 1.4855546467173963\n",
      "Phase  3 2 1.71626836705161\n",
      "Phase  3 3 2.0969036332577313\n",
      "Phase  3 4 2.6274540723601016\n",
      "Phase  3 5 3.3079108536432544\n",
      "Phase  3 6 4.138262688844318\n",
      "Phase  3 7 5.11849583239876\n",
      "Phase  3 8 6.248594081739482\n",
      "Phase  3 9 7.528538777649234\n",
      "Phase  3 10 8.95830880466638\n",
      "Phase  4 0 1.863354291732598\n",
      "Phase  4 1 1.946398660636988\n",
      "Phase  4 2 2.179365291130689\n",
      "Phase  4 3 2.5622501872170154\n",
      "Phase  4 4 3.0950468950768713\n",
      "Phase  4 5 3.77774650320979\n",
      "Phase  4 6 4.610337642628301\n",
      "Phase  4 7 5.592806487105648\n",
      "Phase  4 8 6.7251367534768605\n",
      "Phase  4 9 8.007309701993135\n",
      "Phase  4 10 9.439304136729563\n",
      "Phase  5 0 2.452964394677898\n",
      "Phase  5 1 2.538264199948239\n",
      "Phase  5 2 2.773482176980208\n",
      "Phase  5 3 3.1586142489069724\n",
      "Phase  5 4 3.6936538811107402\n",
      "Phase  5 5 4.3785920813657535\n",
      "Phase  5 6 5.213417400034643\n",
      "Phase  5 7 6.198115930318104\n",
      "Phase  5 8 7.332671308557956\n",
      "Phase  5 9 8.61706471459347\n",
      "Phase  6 0 3.1735876880315286\n",
      "Phase  6 1 3.261142199941189\n",
      "Phase  6 2 3.4986099034005895\n",
      "Phase  6 3 3.8859866407043135\n",
      "Phase  6 4 4.423265796482404\n",
      "Phase  6 5 5.110438297845341\n",
      "Phase  6 6 5.947492614582348\n",
      "Phase  6 7 6.934414759413068\n",
      "Phase  6 8 8.071188288292557\n",
      "Phase  6 9 9.357794300769608\n",
      "Phase  7 0 4.025213161967578\n",
      "Phase  7 1 4.115021594248849\n",
      "Phase  7 2 4.354737347561694\n",
      "Phase  7 3 4.744356183395474\n",
      "Phase  7 4 5.283871405676413\n",
      "Phase  7 5 5.9732738609145475\n",
      "Phase  7 6 6.812551938404015\n",
      "Phase  7 7 7.801691570476681\n",
      "Phase  7 8 8.9406762328091\n",
      "Phase  8 0 5.007827805219824\n",
      "Phase  8 1 5.099889315077688\n",
      "Phase  8 2 5.341851385234426\n",
      "Phase  8 3 5.733709696409354\n",
      "Phase  8 4 6.2754574718750264\n",
      "Phase  8 5 6.967085477606174\n",
      "Phase  8 6 7.808582022481947\n",
      "Phase  8 7 8.799932958541524\n",
      "Phase  8 8 9.94112168129302\n",
      "Phase  9 0 6.121416605352758\n",
      "Phase  9 1 6.215730293479767\n",
      "Phase  9 2 6.459936891064013\n",
      "Phase  9 3 6.854031998091731\n",
      "Phase  9 4 7.398008757233767\n",
      "Phase  9 5 8.091857853996478\n",
      "Phase  9 6 8.935567516925941\n",
      "Phase  9 7 9.929123517865522\n",
      "Phase  10 0 7.3659625490742835\n",
      "Phase  10 1 7.462527459666599\n",
      "Phase  10 2 7.7089767388849735\n",
      "Phase  10 3 8.10530590602135\n",
      "Phase  10 4 8.651508023198629\n",
      "Phase  10 5 9.347573695523518\n",
      "Phase  11 0 8.741446622590093\n",
      "Phase  11 1 8.840261743364637\n",
      "Phase  11 2 9.088951802077755\n",
      "Phase  11 3 9.487512237367696\n",
      "\n"
     ]
    }
   ],
   "source": [
    "pred_phaser(challah, data, visndx, 300, Nside*10, n_beam, n2t)"
   ]
  },
  {
   "cell_type": "code",
   "execution_count": 539,
   "metadata": {},
   "outputs": [],
   "source": [
    "deltax = np.linspace(0, (2*n_beam)/(2*Nside-1)*np.pi, 300)\n",
    "deltay = np.linspace(0, (2*n_beam)/(2*Nside-1)*np.pi, 300)"
   ]
  },
  {
   "cell_type": "code",
   "execution_count": 540,
   "metadata": {},
   "outputs": [],
   "source": [
    "phase_vec = np.array([deltax[1], deltay[1]])"
   ]
  },
  {
   "cell_type": "code",
   "execution_count": 541,
   "metadata": {},
   "outputs": [
    {
     "data": {
      "text/plain": [
       "array([0.00217386, 0.00217386])"
      ]
     },
     "execution_count": 541,
     "metadata": {},
     "output_type": "execute_result"
    }
   ],
   "source": [
    "phase_vec"
   ]
  },
  {
   "cell_type": "code",
   "execution_count": 542,
   "metadata": {},
   "outputs": [],
   "source": [
    "phase_correction = np.exp(1j*np.array([np.dot(np.array(n2t[v]), phase_vec) for v in visndx]))"
   ]
  },
  {
   "cell_type": "code",
   "execution_count": 543,
   "metadata": {},
   "outputs": [],
   "source": [
    "phased_challah = challah*phase_correction"
   ]
  },
  {
   "cell_type": "code",
   "execution_count": 544,
   "metadata": {},
   "outputs": [
    {
     "name": "stdout",
     "output_type": "stream",
     "text": [
      "Phase 12:  (230732.6157063632, 50400, 4.578028089411968)\n"
     ]
    }
   ],
   "source": [
    "print(\"Phase 12: \", gen_chi2(data, phased_challah, noise))"
   ]
  },
  {
   "cell_type": "code",
   "execution_count": null,
   "metadata": {},
   "outputs": [],
   "source": []
  },
  {
   "cell_type": "code",
   "execution_count": null,
   "metadata": {},
   "outputs": [],
   "source": []
  }
 ],
 "metadata": {
  "kernelspec": {
   "display_name": "Python 3",
   "language": "python",
   "name": "python3"
  },
  "language_info": {
   "codemirror_mode": {
    "name": "ipython",
    "version": 3
   },
   "file_extension": ".py",
   "mimetype": "text/x-python",
   "name": "python",
   "nbconvert_exporter": "python",
   "pygments_lexer": "ipython3",
   "version": "3.8.5"
  }
 },
 "nbformat": 4,
 "nbformat_minor": 4
}
