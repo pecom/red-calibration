{
 "cells": [
  {
   "cell_type": "code",
   "execution_count": 1,
   "metadata": {},
   "outputs": [],
   "source": [
    "import numpy as np\n",
    "import matplotlib.pyplot as plt\n",
    "from scipy import stats\n",
    "from scipy import sparse\n",
    "from scipy import optimize\n",
    "from scipy import signal\n",
    "from functools import reduce\n",
    "from collections import defaultdict\n",
    "import pprint\n",
    "from tqdm.notebook import tqdm\n",
    "import pandas as pd # Only here to print arrays nicely"
   ]
  },
  {
   "cell_type": "code",
   "execution_count": 2,
   "metadata": {},
   "outputs": [],
   "source": [
    "%matplotlib inline\n",
    "%config InlineBackend.figure_format='retina'"
   ]
  },
  {
   "cell_type": "markdown",
   "metadata": {},
   "source": [
    "# TOC\n",
    "1. [1x1 Beam Functions](#1x1)\n",
    "2. [NxN Beam Complications](#NxN)\n",
    "3. [Playground](#playground)"
   ]
  },
  {
   "cell_type": "markdown",
   "metadata": {},
   "source": [
    "### Simplified case for 1x1 beam <a name=\"1x1\"></a>"
   ]
  },
  {
   "cell_type": "code",
   "execution_count": 3,
   "metadata": {},
   "outputs": [],
   "source": [
    "def get_num_baselines(Nside):\n",
    "    # For square of N telescopes, should be 2N-2*sqrt(N) + 1\n",
    "    # Fix to a corner and there are N-1 options for unique baselines. \n",
    "    # Flip over to other side (over x or y axis) and get another N-1 options\n",
    "    # Duplicated are the pure x-axis and pure y-axis so -2*(sqrt(N)-1)\n",
    "    # Final +1 is from 0 baseline\n",
    "    \n",
    "    N_bases = 2*Nside**2 - 2*Nside\n",
    "    return int(N_bases)\n",
    "\n",
    "rand_phases = lambda x: np.random.uniform(0, 2*np.pi, x)\n",
    "zero_weight = lambda x, d: x/d if d else 0\n",
    "\n",
    "def make_gains(Nside):\n",
    "    # Create complex gains with either (amplitude, phase) or (real, imaginary)\n",
    "    Nant = Nside**2\n",
    "    gain_amp = np.random.normal(1, .05, Nant)\n",
    "    gain_phase = rand_phases(Nant)\n",
    "    tgain = gain_amp*np.exp(1j*gain_phase)    \n",
    "    return tgain\n",
    "\n",
    "def make_data(Nside, gains, noise=0.1):\n",
    "    Nant = Nside**2\n",
    "    Nbase = get_num_baselines(Nside)\n",
    "    vis_true = np.random.normal(0,1,size=(Nbase,2)).view(np.complex128).flatten() ## size of unique baselines\n",
    "    ant_i, ant_j, visndx, data = [], [], [], []\n",
    "    ndx=0\n",
    "    ndx2base={}\n",
    "    base2ndx={}\n",
    "    for i in range(Nant):\n",
    "        xi,yi=np.unravel_index(i,(Nside,Nside))\n",
    "        for j in range (i+1,Nant):\n",
    "            xj,yj=np.unravel_index(j,(Nside,Nside))\n",
    "            assert (xj>=xi)\n",
    "            baseline = (xj-xi,yj-yi)\n",
    "            if baseline in base2ndx:\n",
    "                cndx = base2ndx[baseline]\n",
    "            else:\n",
    "                cndx = ndx\n",
    "                base2ndx[baseline]=ndx\n",
    "                ndx2base[ndx]=baseline\n",
    "                ndx+=1\n",
    "            ant_i.append(i)\n",
    "            ant_j.append(j)\n",
    "            visndx.append(cndx)\n",
    "            data.append(vis_true[cndx]*gains[i]*np.conj(gains[j]))\n",
    "            \n",
    "    assert(ndx==Nbase)\n",
    "    ant_i = np.array(ant_i)\n",
    "    ant_j = np.array(ant_j)\n",
    "    visndx = np.array(visndx)\n",
    "    data = np.array(data)\n",
    "    noise = np.random.normal(0,noise,size=(len(data),2)).view(np.complex128).flatten() ## size of unique baselines\n",
    "    data += noise\n",
    "    return vis_true, data, ant_i, ant_j, visndx, ndx2base, base2ndx"
   ]
  },
  {
   "cell_type": "code",
   "execution_count": 4,
   "metadata": {},
   "outputs": [],
   "source": [
    "def make_pred(gains, vis, ant_i, ant_j, visndx):\n",
    "    gains_i = gains[ant_i]\n",
    "    cgains_j = np.conj(gains[ant_j])\n",
    "    pred = gains_i*cgains_j*vis[visndx]\n",
    "    return pred"
   ]
  },
  {
   "cell_type": "code",
   "execution_count": 5,
   "metadata": {},
   "outputs": [],
   "source": [
    "def chi2(data, gains, vis, ant_i, ant_j, visndx, noise=0.1):\n",
    "    pred = make_pred(gains, vis, ant_i, ant_j, visndx)\n",
    "    chi2 = np.abs((data - pred)**2).sum()/(noise**2)\n",
    "    dof = len(data)*2\n",
    "    return chi2, dof"
   ]
  },
  {
   "cell_type": "markdown",
   "metadata": {},
   "source": [
    "### NxN beam complications <a name=\"NxN\"></a>"
   ]
  },
  {
   "cell_type": "code",
   "execution_count": 6,
   "metadata": {},
   "outputs": [],
   "source": [
    "def get_weighted_array(alpha, Nspacing, numdraws=1e5):\n",
    "    Nbeam = Nspacing**2\n",
    "    rmax = alpha*.5\n",
    "    ndraws = int(numdraws)\n",
    "    spacing = np.linspace(0,1,Nspacing+1)\n",
    "    centered_spacing = spacing - .5\n",
    "    empty_weight_beam = np.zeros((Nspacing, Nspacing))\n",
    "    \n",
    "    for i in range(Nbeam):\n",
    "        xi, yi = np.unravel_index(i, (Nspacing, Nspacing))\n",
    "        draws = np.array([np.random.uniform(centered_spacing[xi], centered_spacing[xi+1], ndraws), np.random.uniform(centered_spacing[yi], centered_spacing[yi+1], ndraws)])\n",
    "        dist = np.linalg.norm(draws, axis=0)\n",
    "        empty_weight_beam[xi, yi] = np.sum(dist < rmax)/ndraws\n",
    "    sym_beam = .5*(empty_weight_beam + empty_weight_beam.T)\n",
    "    return sym_beam"
   ]
  },
  {
   "cell_type": "code",
   "execution_count": 319,
   "metadata": {},
   "outputs": [],
   "source": [
    "def n_mesh(br):\n",
    "    nmesh = lambda x: tuple(np.meshgrid(range(x[0]-br, x[0]+br+1), range(x[1]-br, x[1]+br+1), indexing='ij'))\n",
    "    return nmesh\n",
    "\n",
    "five_mesh = n_mesh(2)"
   ]
  },
  {
   "cell_type": "code",
   "execution_count": 320,
   "metadata": {},
   "outputs": [],
   "source": [
    "def make_uv_grid(Nside):\n",
    "    uv_size = Nside*2 - 1\n",
    "    center = (Nside-1,Nside-1)\n",
    "    npcenter = np.array(center)\n",
    "    img_size = (uv_size, uv_size)\n",
    "    random_image = np.random.normal(0, 1, img_size)\n",
    "    centered_uv = np.fft.fftshift(np.fft.fft2(random_image))\n",
    "#     centered_uv[center] = 0\n",
    "    topleft_uv = np.fft.ifftshift(centered_uv)\n",
    "    \n",
    "    return centered_uv, topleft_uv, npcenter"
   ]
  },
  {
   "cell_type": "code",
   "execution_count": 321,
   "metadata": {},
   "outputs": [],
   "source": [
    "def make_visibilities(Nside, beam_radius):\n",
    "    n = Nside\n",
    "    br = beam_radius\n",
    "    \n",
    "    # Useful shapes/sizes to have on hand\n",
    "    orig_shape = (2*n-1, n)\n",
    "    new_shape = tuple([i*br + (br - 1) for i in orig_shape])\n",
    "    new_size = np.prod(new_shape)\n",
    "    center = (int((new_shape[0]-1)/2), br-1)\n",
    "    \n",
    "    #Matrices of visibiltiies and possible indices\n",
    "    random_vis = np.random.normal(0, 1, (new_shape[0], new_shape[1], 2)).view(np.complex128)\n",
    "    poss_index = np.arange(new_size).reshape(new_shape)\n",
    "    \n",
    "    #Clear off the leftmost columns to remove redundant conjugate stuff\n",
    "    poss_index[0:center[0], 0:br] = 0\n",
    "    poss_index[center[0]:, 0:br-1] = 0\n",
    "    \n",
    "    oversampled_baselines = poss_index.nonzero()[0].shape[0]\n",
    "    visib = np.zeros(oversampled_baselines, dtype=np.complex128)\n",
    "    #Baseline - index dictionaries\n",
    "    new_ndx = 0\n",
    "    n2b = {}\n",
    "    b2n = {}\n",
    "    n2true = {}\n",
    "    true2n = {}\n",
    "    for i in range(new_size):\n",
    "        xi,yi = np.unravel_index(i, new_shape)\n",
    "        if poss_index[xi,yi] == 0:\n",
    "            continue\n",
    "        else:\n",
    "            baseline = (xi-center[0], yi-center[1])\n",
    "            if baseline[0] < 0:\n",
    "                baseline = (-1*baseline[0], -1*baseline[1])\n",
    "\n",
    "            if baseline in b2n:\n",
    "                cndx = new_ndx\n",
    "            else:\n",
    "                cndx = new_ndx\n",
    "                b2n[baseline] = new_ndx\n",
    "                n2b[new_ndx] = baseline\n",
    "                if tuple(np.mod(baseline, br)) == (0,0):\n",
    "                    modtuple = tuple(np.floor_divide(baseline, 3))\n",
    "                    true2n[modtuple] = new_ndx\n",
    "                    n2true[new_ndx] = modtuple\n",
    "                new_ndx += 1\n",
    "        visib[cndx] = random_vis[xi,yi]\n",
    "    return n2b, b2n, n2true, true2n, visib"
   ]
  },
  {
   "cell_type": "code",
   "execution_count": 352,
   "metadata": {},
   "outputs": [],
   "source": [
    "def vis_to_grid(visib, ndx2base, size):\n",
    "    # Double the size to make sure to avoid rewriting values with negative indexing\n",
    "    uv_size = (2*size[0], 2*size[1])\n",
    "    new_grid = np.zeros(uv_size, dtype=np.complex128)\n",
    "    for i,v in enumerate(visib):\n",
    "        base = ndx2base[i]\n",
    "        inv_base = tuple(-1*np.array(base))\n",
    "        new_grid[base] = v\n",
    "        new_grid[inv_base] = np.conj(v)\n",
    "    return new_grid"
   ]
  },
  {
   "cell_type": "code",
   "execution_count": 353,
   "metadata": {},
   "outputs": [],
   "source": [
    "def make_data_grid(Nside, gains, conv_beam, noise=0.1, verbose=True):\n",
    "    Nant = Nside**2\n",
    "    Nbase = get_num_baselines(Nside)\n",
    "    beam_radius = int((conv_beam.shape[0]-1)/2) + 1\n",
    "    mesh = n_mesh(beam_radius-1)\n",
    "    \n",
    "    n2b, b2n, n2t, t2n, visib = make_visibilities(Nside, beam_radius)\n",
    "    if verbose:\n",
    "        print(\"Made visib\")\n",
    "    orig_shape = (2*Nside-1, Nside)\n",
    "    new_shape = tuple([i*beam_radius + (beam_radius - 1) for i in orig_shape])\n",
    "    \n",
    "    vis_grid = vis_to_grid(visib, n2b, new_shape)\n",
    "    if verbose:\n",
    "        print(\"Made grid\")\n",
    "    \n",
    "    ant_i, ant_j, visndx, data, datandx = [], [], [], [], []\n",
    "    \n",
    "    for i in range(Nant):\n",
    "        xi,yi=np.unravel_index(i,(Nside, Nside))\n",
    "        for j in range (i+1,Nant):\n",
    "            xj,yj=np.unravel_index(j,(Nside, Nside))\n",
    "            assert (xj>=xi)\n",
    "            baseline = (xj-xi,yj-yi)\n",
    "            \n",
    "            virtual_n = t2n[baseline]\n",
    "            grid_base = n2b[virtual_n]\n",
    "            \n",
    "            virtual_points = mesh(grid_base)\n",
    "            data_sum = (vis_grid[virtual_points].T * gains[i] * np.conj(gains[j]) * conv_beam).sum()\n",
    "            \n",
    "            ant_i.append(i)\n",
    "            ant_j.append(j)\n",
    "            visndx.append(virtual_n)\n",
    "            data.append(data_sum)\n",
    "            datandx.append(virtual_points)\n",
    "    \n",
    "    if verbose:\n",
    "        print(\"Created data\")\n",
    "    \n",
    "    ant_i = np.array(ant_i)\n",
    "    ant_j = np.array(ant_j)\n",
    "    visndx = np.array(visndx)\n",
    "    data = np.array(data)\n",
    "    noise = np.random.normal(0,noise,size=(len(data),2)).view(np.complex128).flatten() ## size of unique baselines\n",
    "    data += noise\n",
    "    return visib, data, ant_i, ant_j, visndx, datandx, n2b, b2n, n2t, t2n, vis_grid"
   ]
  },
  {
   "cell_type": "code",
   "execution_count": 354,
   "metadata": {},
   "outputs": [],
   "source": [
    "def vector_b2n(b2n, datandx):\n",
    "    newndx = []\n",
    "    for l in datandx:\n",
    "        x,y = l\n",
    "        flattened = []\n",
    "        ndx_size = x.size\n",
    "        ndx_shape = x.shape\n",
    "        for i in range(ndx_size):\n",
    "            point = np.unravel_index(i, ndx_shape)\n",
    "            k = np.array([x[point], y[point]])\n",
    "            key = tuple(k)\n",
    "            if key in b2n:\n",
    "                flattened.append(b2n[key])\n",
    "            else:\n",
    "                key = tuple(-1*k)\n",
    "                flattened.append(-1*b2n[key])\n",
    "        newndx.append(flattened)\n",
    "    newndx = np.array(newndx)\n",
    "    return newndx"
   ]
  },
  {
   "cell_type": "code",
   "execution_count": 355,
   "metadata": {},
   "outputs": [],
   "source": [
    "def conjugate_visib(vis, ndxs):\n",
    "    flat = []\n",
    "    for i in ndxs:\n",
    "        if i >= 0:\n",
    "            flat.append(vis[i])\n",
    "        else:\n",
    "            flat.append(np.conj(vis[-1*i]))\n",
    "    return np.array(flat)"
   ]
  },
  {
   "cell_type": "code",
   "execution_count": 356,
   "metadata": {},
   "outputs": [],
   "source": [
    "def forward_model(vis, gains, conv_beam, ant_i, ant_j, n2b, datandx):\n",
    "    Nside = int(np.sqrt(len(gains_true)))\n",
    "    beam_radius = int((conv_beam.shape[0]-1)/2) + 1\n",
    "    \n",
    "    orig_shape = (2*Nside-1, Nside)\n",
    "    new_shape = tuple([i*beam_radius + (beam_radius - 1) for i in orig_shape])\n",
    "    vis_grid = vis_to_grid(vis, n2b, new_shape)\n",
    "    \n",
    "    pred = []\n",
    "    \n",
    "    for i in range(len(ant_i)):\n",
    "        pred.append((vis_grid[datandx[i]] * gains[ant_i[i]] * np.conj(gains[ant_j[i]]) * conv_beam).sum())\n",
    "    pred = np.array(pred)\n",
    "    return pred"
   ]
  },
  {
   "cell_type": "code",
   "execution_count": 647,
   "metadata": {},
   "outputs": [],
   "source": [
    "def flat_model(vis, gains, conv_beam, ant_i, ant_j, flatndx):\n",
    "    flatbeam = conv_beam.flatten()\n",
    "    gains_i = gains[ant_i]\n",
    "    gains_j = np.conj(gains[ant_j])\n",
    "    flatbread = np.array([conjugate_visib(vis, i)*flatbeam for i in flatndx])\n",
    "    pred = np.sum(flatbread, axis=1)*gains_i*gains_j\n",
    "    return pred"
   ]
  },
  {
   "cell_type": "code",
   "execution_count": 652,
   "metadata": {},
   "outputs": [],
   "source": [
    "def gen_chi2(data, pred, noise=0.1):\n",
    "    chi2 = np.abs((data - pred)**2).sum()/(noise**2)\n",
    "    dof = len(data)*2\n",
    "    return chi2, dof"
   ]
  },
  {
   "cell_type": "code",
   "execution_count": 847,
   "metadata": {},
   "outputs": [
    {
     "name": "stdout",
     "output_type": "stream",
     "text": [
      "Made visib\n",
      "Made grid\n",
      "Created data\n"
     ]
    }
   ],
   "source": [
    "Nside = 15\n",
    "Nant = Nside * Nside\n",
    "Nbase = get_num_baselines(Nside)\n",
    "gains_true = make_gains(Nside)\n",
    "# gains_true = np.ones(Nant, dtype=np.complex128)\n",
    "# vis_true, data, ant_i, ant_j, visndx, ndx2base, base2ndx = make_data(Nside, gains_true)\n",
    "weighted_beam = get_weighted_array(2, 3)\n",
    "conv_beam = signal.convolve(weighted_beam, weighted_beam)\n",
    "vis_true, data, ant_i, ant_j, visndx, datandx, n2b, b2n, n2t, t2n, tl_grid = make_data_grid(Nside, gains_true, conv_beam, noise=0.1)\n",
    "flatndx = vector_b2n(b2n, datandx)\n",
    "data_len = len(data)\n",
    "no_noise = make_pred(gains_true, vis_true, ant_i, ant_j, visndx)"
   ]
  },
  {
   "cell_type": "code",
   "execution_count": 848,
   "metadata": {},
   "outputs": [],
   "source": [
    "# phased_gains = gains_true*np.exp(1j*rand_phases(Nant)/5)"
   ]
  },
  {
   "cell_type": "code",
   "execution_count": 849,
   "metadata": {},
   "outputs": [],
   "source": [
    "test_b = forward_model(vis_true, gains_true, conv_beam, ant_i, ant_j, n2b, datandx)\n",
    "flatbread = flat_model(vis_true, gains_true, conv_beam, ant_i, ant_j, flatndx)"
   ]
  },
  {
   "cell_type": "code",
   "execution_count": 850,
   "metadata": {},
   "outputs": [
    {
     "name": "stdout",
     "output_type": "stream",
     "text": [
      "Grid solution  (50060.37129582962, 50400)\n",
      "Flat solution  (50060.37129582963, 50400)\n"
     ]
    }
   ],
   "source": [
    "print(\"Grid solution \", gen_chi2(data, test_b))\n",
    "print(\"Flat solution \", gen_chi2(data, flatbread))"
   ]
  },
  {
   "cell_type": "markdown",
   "metadata": {},
   "source": [
    "### Below this is my random testing/playground <a name=\"playground\"></a>"
   ]
  },
  {
   "cell_type": "code",
   "execution_count": 538,
   "metadata": {},
   "outputs": [],
   "source": [
    "real_part = data.real\n",
    "imag_part = data.imag\n",
    "big_ans = np.concatenate((real_part, imag_part))"
   ]
  },
  {
   "cell_type": "code",
   "execution_count": 539,
   "metadata": {},
   "outputs": [
    {
     "data": {
      "text/plain": [
       "(8.572082173967576-12.945855975832021j)"
      ]
     },
     "execution_count": 539,
     "metadata": {},
     "output_type": "execute_result"
    }
   ],
   "source": [
    "data[0]"
   ]
  },
  {
   "cell_type": "code",
   "execution_count": 540,
   "metadata": {},
   "outputs": [],
   "source": [
    "v_size = len(set(np.abs(flatndx).flatten())) + 1"
   ]
  },
  {
   "cell_type": "code",
   "execution_count": 541,
   "metadata": {},
   "outputs": [],
   "source": [
    "bigA = np.zeros((2*data_len, 2*v_size))"
   ]
  },
  {
   "cell_type": "code",
   "execution_count": 542,
   "metadata": {},
   "outputs": [],
   "source": [
    "for i,v in enumerate(flatndx):\n",
    "    absv = np.abs(v)\n",
    "    bigA[i][absv] = conv_beam.flatten()\n",
    "    bigA[i+data_len][v_size+absv] = conv_beam.flatten()*np.sign(v)"
   ]
  },
  {
   "cell_type": "code",
   "execution_count": 543,
   "metadata": {},
   "outputs": [
    {
     "data": {
      "text/plain": [
       "(50400, 7922)"
      ]
     },
     "execution_count": 543,
     "metadata": {},
     "output_type": "execute_result"
    }
   ],
   "source": [
    "bigA.shape"
   ]
  },
  {
   "cell_type": "code",
   "execution_count": 544,
   "metadata": {},
   "outputs": [],
   "source": [
    "shitsol = sparse.linalg.lsqr(bigA, big_ans)[0]"
   ]
  },
  {
   "cell_type": "code",
   "execution_count": 545,
   "metadata": {},
   "outputs": [],
   "source": [
    "comb_sol = shitsol[0:v_size] + 1j*shitsol[v_size:]"
   ]
  },
  {
   "cell_type": "code",
   "execution_count": 547,
   "metadata": {},
   "outputs": [
    {
     "data": {
      "text/plain": [
       "array([ 0.18113216+0.57474405j,  1.09030433+0.89907105j,\n",
       "       -1.26751616+0.50466849j, ..., -0.41401121-1.0902055j ,\n",
       "       -0.32645529-0.26837623j,  0.74284627+0.95022292j])"
      ]
     },
     "execution_count": 547,
     "metadata": {},
     "output_type": "execute_result"
    }
   ],
   "source": [
    "comb_sol - vis_true"
   ]
  },
  {
   "cell_type": "code",
   "execution_count": 1004,
   "metadata": {},
   "outputs": [
    {
     "data": {
      "text/plain": [
       "(50060.37129582963, 50400)"
      ]
     },
     "execution_count": 1004,
     "metadata": {},
     "output_type": "execute_result"
    }
   ],
   "source": [
    "# bad_guess = np.random.normal(0,1,(v_size,2)).view(dtype=np.complex128).flatten()\n",
    "bad_guess = vis_true.copy()\n",
    "bad_sol = flat_model(bad_guess, gains_true, conv_beam, ant_i, ant_j, flatndx)\n",
    "gen_chi2(data, bad_sol)"
   ]
  },
  {
   "cell_type": "code",
   "execution_count": 1005,
   "metadata": {},
   "outputs": [],
   "source": [
    "postage = conv_beam.flatten()"
   ]
  },
  {
   "cell_type": "code",
   "execution_count": 1006,
   "metadata": {},
   "outputs": [],
   "source": [
    "worthy = np.array(list(n2t.keys()))"
   ]
  },
  {
   "cell_type": "code",
   "execution_count": 1016,
   "metadata": {},
   "outputs": [
    {
     "data": {
      "text/plain": [
       "array([-6.54911643+42.7901869j , -3.27455821+21.39509345j,\n",
       "       -2.18303881+14.26339563j, -3.27455821+21.39509345j,\n",
       "       -6.54911643+42.7901869j , -3.27455821+21.39509345j,\n",
       "       -1.63727911+10.69754673j, -1.0915194  +7.13169782j,\n",
       "       -1.63727911+10.69754673j, -3.27455821+21.39509345j,\n",
       "       -2.18303881+14.26339563j, -1.0915194  +7.13169782j,\n",
       "       -0.7276796  +4.75446521j, -1.0915194  +7.13169782j,\n",
       "       -2.18303881+14.26339563j, -3.27455821+21.39509345j,\n",
       "       -1.63727911+10.69754673j, -1.0915194  +7.13169782j,\n",
       "       -1.63727911+10.69754673j, -3.27455821+21.39509345j,\n",
       "       -6.54911643+42.7901869j , -3.27455821+21.39509345j,\n",
       "       -2.18303881+14.26339563j, -3.27455821+21.39509345j,\n",
       "       -6.54911643+42.7901869j ])"
      ]
     },
     "execution_count": 1016,
     "metadata": {},
     "output_type": "execute_result"
    }
   ],
   "source": [
    "(data[vis_filter][0]*np.conj(postage_gain)[0])/denom[0]"
   ]
  },
  {
   "cell_type": "code",
   "execution_count": 1019,
   "metadata": {},
   "outputs": [
    {
     "data": {
      "text/plain": [
       "array([-0.68475733+2.48596873j, -1.21277244-1.76633059j,\n",
       "        0.38811293+1.48790256j,  0.69475538+0.07013047j,\n",
       "        1.13519156-0.32153291j,  0.7379021 +1.05524192j,\n",
       "        1.2058483 +1.31474819j,  0.48744833-0.9765338j ,\n",
       "        1.11022111+1.13296432j, -1.13233573+0.36075726j,\n",
       "       -1.01774266+0.42070244j,  0.22484705+0.32629892j,\n",
       "       -1.72676809+1.4588596j , -0.13492856+1.4947835j ,\n",
       "        0.19236687-0.61333918j, -2.03853377+1.70156156j,\n",
       "        1.67878163-0.3532522j ,  1.31163535+0.53540815j,\n",
       "       -0.8460338 -0.055717j  ,  0.14515933+0.71607523j,\n",
       "        0.37553013+0.70514269j, -1.12685984+1.00357374j,\n",
       "       -0.99206222+1.06052488j, -2.34878691-1.82847571j,\n",
       "        1.09374805+0.7505384j ])"
      ]
     },
     "execution_count": 1019,
     "metadata": {},
     "output_type": "execute_result"
    }
   ],
   "source": [
    "vis_true[flatndx[vis_filter][0]]"
   ]
  },
  {
   "cell_type": "code",
   "execution_count": 1007,
   "metadata": {},
   "outputs": [],
   "source": [
    "for w in worthy[:10]:\n",
    "    if w==zerondx:\n",
    "        continue\n",
    "    vis_filter = (visndx==w)\n",
    "    \n",
    "    gain_factor = gains_true[ant_i[vis_filter]]*np.conj(gains_true[ant_j[vis_filter]])\n",
    "    postage_gain = (gain_factor[:,None]*postage[None,:])\n",
    "    numer = data[vis_filter][:,None]*np.conjugate(postage_gain)\n",
    "    denom = np.abs(postage_gain)**2\n",
    "    \n",
    "    delta_v = numer.sum(axis=0)/denom.sum(axis=0)\n",
    "    bad_guess[flatndx[vis_filter][0]] += np.conj(delta_v)"
   ]
  },
  {
   "cell_type": "code",
   "execution_count": 941,
   "metadata": {},
   "outputs": [],
   "source": [
    "for w in worthy:\n",
    "    if w==zerondx:\n",
    "        continue\n",
    "    vis_filter = (visndx==w)\n",
    "    \n",
    "    gain_factor = gains_true[ant_i[vis_filter]]*np.conj(gains_true[ant_j[vis_filter]])\n",
    "    postage_gain = (gain_factor[:,None]*postage[None,:])\n",
    "    \n",
    "    delta_v = np.mean(data[vis_filter][:,None]/postage_gain, axis=0)\n",
    "    bad_guess[flatndx[vis_filter][0]] += delta_v"
   ]
  },
  {
   "cell_type": "code",
   "execution_count": 1008,
   "metadata": {},
   "outputs": [
    {
     "data": {
      "text/plain": [
       "(5125784613.202412, 50400)"
      ]
     },
     "execution_count": 1008,
     "metadata": {},
     "output_type": "execute_result"
    }
   ],
   "source": [
    "bad_sol = flat_model(bad_guess, gains_true, conv_beam, ant_i, ant_j, flatndx)\n",
    "gen_chi2(data, bad_sol)"
   ]
  },
  {
   "cell_type": "code",
   "execution_count": 989,
   "metadata": {},
   "outputs": [
    {
     "data": {
      "text/plain": [
       "array([1.00566882, 0.93609095, 0.9419405 , 0.97761385, 1.06171111])"
      ]
     },
     "execution_count": 989,
     "metadata": {},
     "output_type": "execute_result"
    }
   ],
   "source": [
    "np.abs(gain_factor)"
   ]
  },
  {
   "cell_type": "code",
   "execution_count": 825,
   "metadata": {},
   "outputs": [
    {
     "data": {
      "text/plain": [
       "False"
      ]
     },
     "execution_count": 825,
     "metadata": {},
     "output_type": "execute_result"
    }
   ],
   "source": [
    "3843634763 > 3870766810"
   ]
  },
  {
   "cell_type": "code",
   "execution_count": 758,
   "metadata": {},
   "outputs": [],
   "source": [
    "gain_factor = gains_true[ant_i[vis_filter]]*np.conj(gains_true[ant_j[vis_filter]])"
   ]
  },
  {
   "cell_type": "code",
   "execution_count": 766,
   "metadata": {},
   "outputs": [
    {
     "data": {
      "text/plain": [
       "array([[ 0.23237224-1.0239595j ,  0.46474447-2.04791899j,\n",
       "         0.69711671-3.07187849j,  0.46474447-2.04791899j,\n",
       "         0.23237224-1.0239595j ,  0.46474447-2.04791899j,\n",
       "         0.92948894-4.09583798j,  1.39423341-6.14375698j,\n",
       "         0.92948894-4.09583798j,  0.46474447-2.04791899j,\n",
       "         0.69711671-3.07187849j,  1.39423341-6.14375698j,\n",
       "         2.09135012-9.21563547j,  1.39423341-6.14375698j,\n",
       "         0.69711671-3.07187849j,  0.46474447-2.04791899j,\n",
       "         0.92948894-4.09583798j,  1.39423341-6.14375698j,\n",
       "         0.92948894-4.09583798j,  0.46474447-2.04791899j,\n",
       "         0.23237224-1.0239595j ,  0.46474447-2.04791899j,\n",
       "         0.69711671-3.07187849j,  0.46474447-2.04791899j,\n",
       "         0.23237224-1.0239595j ],\n",
       "       [-0.25582099-1.04530926j, -0.51164199-2.09061853j,\n",
       "        -0.76746298-3.13592779j, -0.51164199-2.09061853j,\n",
       "        -0.25582099-1.04530926j, -0.51164199-2.09061853j,\n",
       "        -1.02328397-4.18123706j, -1.53492596-6.27185558j,\n",
       "        -1.02328397-4.18123706j, -0.51164199-2.09061853j,\n",
       "        -0.76746298-3.13592779j, -1.53492596-6.27185558j,\n",
       "        -2.30238894-9.40778338j, -1.53492596-6.27185558j,\n",
       "        -0.76746298-3.13592779j, -0.51164199-2.09061853j,\n",
       "        -1.02328397-4.18123706j, -1.53492596-6.27185558j,\n",
       "        -1.02328397-4.18123706j, -0.51164199-2.09061853j,\n",
       "        -0.25582099-1.04530926j, -0.51164199-2.09061853j,\n",
       "        -0.76746298-3.13592779j, -0.51164199-2.09061853j,\n",
       "        -0.25582099-1.04530926j],\n",
       "       [ 0.49501505-0.92031559j,  0.9900301 -1.84063118j,\n",
       "         1.48504516-2.76094677j,  0.9900301 -1.84063118j,\n",
       "         0.49501505-0.92031559j,  0.9900301 -1.84063118j,\n",
       "         1.98006021-3.68126236j,  2.97009031-5.52189353j,\n",
       "         1.98006021-3.68126236j,  0.9900301 -1.84063118j,\n",
       "         1.48504516-2.76094677j,  2.97009031-5.52189353j,\n",
       "         4.45513547-8.2828403j ,  2.97009031-5.52189353j,\n",
       "         1.48504516-2.76094677j,  0.9900301 -1.84063118j,\n",
       "         1.98006021-3.68126236j,  2.97009031-5.52189353j,\n",
       "         1.98006021-3.68126236j,  0.9900301 -1.84063118j,\n",
       "         0.49501505-0.92031559j,  0.9900301 -1.84063118j,\n",
       "         1.48504516-2.76094677j,  0.9900301 -1.84063118j,\n",
       "         0.49501505-0.92031559j],\n",
       "       [ 0.62108621-0.7913576j ,  1.24217241-1.5827152j ,\n",
       "         1.86325862-2.3740728j ,  1.24217241-1.5827152j ,\n",
       "         0.62108621-0.7913576j ,  1.24217241-1.5827152j ,\n",
       "         2.48434483-3.1654304j ,  3.72651724-4.7481456j ,\n",
       "         2.48434483-3.1654304j ,  1.24217241-1.5827152j ,\n",
       "         1.86325862-2.3740728j ,  3.72651724-4.7481456j ,\n",
       "         5.58977586-7.1222184j ,  3.72651724-4.7481456j ,\n",
       "         1.86325862-2.3740728j ,  1.24217241-1.5827152j ,\n",
       "         2.48434483-3.1654304j ,  3.72651724-4.7481456j ,\n",
       "         2.48434483-3.1654304j ,  1.24217241-1.5827152j ,\n",
       "         0.62108621-0.7913576j ,  1.24217241-1.5827152j ,\n",
       "         1.86325862-2.3740728j ,  1.24217241-1.5827152j ,\n",
       "         0.62108621-0.7913576j ],\n",
       "       [ 1.02809651+0.01029644j,  2.05619303+0.02059289j,\n",
       "         3.08428954+0.03088933j,  2.05619303+0.02059289j,\n",
       "         1.02809651+0.01029644j,  2.05619303+0.02059289j,\n",
       "         4.11238605+0.04118578j,  6.16857908+0.06177867j,\n",
       "         4.11238605+0.04118578j,  2.05619303+0.02059289j,\n",
       "         3.08428954+0.03088933j,  6.16857908+0.06177867j,\n",
       "         9.25286862+0.092668j  ,  6.16857908+0.06177867j,\n",
       "         3.08428954+0.03088933j,  2.05619303+0.02059289j,\n",
       "         4.11238605+0.04118578j,  6.16857908+0.06177867j,\n",
       "         4.11238605+0.04118578j,  2.05619303+0.02059289j,\n",
       "         1.02809651+0.01029644j,  2.05619303+0.02059289j,\n",
       "         3.08428954+0.03088933j,  2.05619303+0.02059289j,\n",
       "         1.02809651+0.01029644j],\n",
       "       [-0.24996237+1.00778304j, -0.49992475+2.01556607j,\n",
       "        -0.74988712+3.02334911j, -0.49992475+2.01556607j,\n",
       "        -0.24996237+1.00778304j, -0.49992475+2.01556607j,\n",
       "        -0.99984949+4.03113214j, -1.49977424+6.04669821j,\n",
       "        -0.99984949+4.03113214j, -0.49992475+2.01556607j,\n",
       "        -0.74988712+3.02334911j, -1.49977424+6.04669821j,\n",
       "        -2.24966136+9.07004732j, -1.49977424+6.04669821j,\n",
       "        -0.74988712+3.02334911j, -0.49992475+2.01556607j,\n",
       "        -0.99984949+4.03113214j, -1.49977424+6.04669821j,\n",
       "        -0.99984949+4.03113214j, -0.49992475+2.01556607j,\n",
       "        -0.24996237+1.00778304j, -0.49992475+2.01556607j,\n",
       "        -0.74988712+3.02334911j, -0.49992475+2.01556607j,\n",
       "        -0.24996237+1.00778304j],\n",
       "       [ 0.72023495-0.68864404j,  1.4404699 -1.37728808j,\n",
       "         2.16070485-2.06593213j,  1.4404699 -1.37728808j,\n",
       "         0.72023495-0.68864404j,  1.4404699 -1.37728808j,\n",
       "         2.8809398 -2.75457617j,  4.3214097 -4.13186425j,\n",
       "         2.8809398 -2.75457617j,  1.4404699 -1.37728808j,\n",
       "         2.16070485-2.06593213j,  4.3214097 -4.13186425j,\n",
       "         6.48211455-6.19779638j,  4.3214097 -4.13186425j,\n",
       "         2.16070485-2.06593213j,  1.4404699 -1.37728808j,\n",
       "         2.8809398 -2.75457617j,  4.3214097 -4.13186425j,\n",
       "         2.8809398 -2.75457617j,  1.4404699 -1.37728808j,\n",
       "         0.72023495-0.68864404j,  1.4404699 -1.37728808j,\n",
       "         2.16070485-2.06593213j,  1.4404699 -1.37728808j,\n",
       "         0.72023495-0.68864404j],\n",
       "       [ 0.04299469-1.04430243j,  0.08598937-2.08860487j,\n",
       "         0.12898406-3.1329073j ,  0.08598937-2.08860487j,\n",
       "         0.04299469-1.04430243j,  0.08598937-2.08860487j,\n",
       "         0.17197875-4.17720974j,  0.25796812-6.26581461j,\n",
       "         0.17197875-4.17720974j,  0.08598937-2.08860487j,\n",
       "         0.12898406-3.1329073j ,  0.25796812-6.26581461j,\n",
       "         0.38695219-9.39872191j,  0.25796812-6.26581461j,\n",
       "         0.12898406-3.1329073j ,  0.08598937-2.08860487j,\n",
       "         0.17197875-4.17720974j,  0.25796812-6.26581461j,\n",
       "         0.17197875-4.17720974j,  0.08598937-2.08860487j,\n",
       "         0.04299469-1.04430243j,  0.08598937-2.08860487j,\n",
       "         0.12898406-3.1329073j ,  0.08598937-2.08860487j,\n",
       "         0.04299469-1.04430243j],\n",
       "       [ 0.41320689+0.98950819j,  0.82641379+1.97901637j,\n",
       "         1.23962068+2.96852456j,  0.82641379+1.97901637j,\n",
       "         0.41320689+0.98950819j,  0.82641379+1.97901637j,\n",
       "         1.65282758+3.95803275j,  2.47924136+5.93704912j,\n",
       "         1.65282758+3.95803275j,  0.82641379+1.97901637j,\n",
       "         1.23962068+2.96852456j,  2.47924136+5.93704912j,\n",
       "         3.71886204+8.90557368j,  2.47924136+5.93704912j,\n",
       "         1.23962068+2.96852456j,  0.82641379+1.97901637j,\n",
       "         1.65282758+3.95803275j,  2.47924136+5.93704912j,\n",
       "         1.65282758+3.95803275j,  0.82641379+1.97901637j,\n",
       "         0.41320689+0.98950819j,  0.82641379+1.97901637j,\n",
       "         1.23962068+2.96852456j,  0.82641379+1.97901637j,\n",
       "         0.41320689+0.98950819j],\n",
       "       [ 0.80195029+0.57943515j,  1.60390058+1.15887031j,\n",
       "         2.40585087+1.73830546j,  1.60390058+1.15887031j,\n",
       "         0.80195029+0.57943515j,  1.60390058+1.15887031j,\n",
       "         3.20780116+2.31774061j,  4.81170174+3.47661092j,\n",
       "         3.20780116+2.31774061j,  1.60390058+1.15887031j,\n",
       "         2.40585087+1.73830546j,  4.81170174+3.47661092j,\n",
       "         7.21755261+5.21491638j,  4.81170174+3.47661092j,\n",
       "         2.40585087+1.73830546j,  1.60390058+1.15887031j,\n",
       "         3.20780116+2.31774061j,  4.81170174+3.47661092j,\n",
       "         3.20780116+2.31774061j,  1.60390058+1.15887031j,\n",
       "         0.80195029+0.57943515j,  1.60390058+1.15887031j,\n",
       "         2.40585087+1.73830546j,  1.60390058+1.15887031j,\n",
       "         0.80195029+0.57943515j],\n",
       "       [-1.02743211+0.32954589j, -2.05486423+0.65909179j,\n",
       "        -3.08229634+0.98863768j, -2.05486423+0.65909179j,\n",
       "        -1.02743211+0.32954589j, -2.05486423+0.65909179j,\n",
       "        -4.10972845+1.31818357j, -6.16459268+1.97727536j,\n",
       "        -4.10972845+1.31818357j, -2.05486423+0.65909179j,\n",
       "        -3.08229634+0.98863768j, -6.16459268+1.97727536j,\n",
       "        -9.24688902+2.96591304j, -6.16459268+1.97727536j,\n",
       "        -3.08229634+0.98863768j, -2.05486423+0.65909179j,\n",
       "        -4.10972845+1.31818357j, -6.16459268+1.97727536j,\n",
       "        -4.10972845+1.31818357j, -2.05486423+0.65909179j,\n",
       "        -1.02743211+0.32954589j, -2.05486423+0.65909179j,\n",
       "        -3.08229634+0.98863768j, -2.05486423+0.65909179j,\n",
       "        -1.02743211+0.32954589j],\n",
       "       [-0.5632409 +0.84830117j, -1.1264818 +1.69660233j,\n",
       "        -1.6897227 +2.5449035j , -1.1264818 +1.69660233j,\n",
       "        -0.5632409 +0.84830117j, -1.1264818 +1.69660233j,\n",
       "        -2.2529636 +3.39320466j, -3.3794454 +5.08980699j,\n",
       "        -2.2529636 +3.39320466j, -1.1264818 +1.69660233j,\n",
       "        -1.6897227 +2.5449035j , -3.3794454 +5.08980699j,\n",
       "        -5.0691681 +7.63471049j, -3.3794454 +5.08980699j,\n",
       "        -1.6897227 +2.5449035j , -1.1264818 +1.69660233j,\n",
       "        -2.2529636 +3.39320466j, -3.3794454 +5.08980699j,\n",
       "        -2.2529636 +3.39320466j, -1.1264818 +1.69660233j,\n",
       "        -0.5632409 +0.84830117j, -1.1264818 +1.69660233j,\n",
       "        -1.6897227 +2.5449035j , -1.1264818 +1.69660233j,\n",
       "        -0.5632409 +0.84830117j],\n",
       "       [ 0.58303932+0.87459447j,  1.16607864+1.74918893j,\n",
       "         1.74911796+2.6237834j ,  1.16607864+1.74918893j,\n",
       "         0.58303932+0.87459447j,  1.16607864+1.74918893j,\n",
       "         2.33215728+3.49837786j,  3.49823592+5.2475668j ,\n",
       "         2.33215728+3.49837786j,  1.16607864+1.74918893j,\n",
       "         1.74911796+2.6237834j ,  3.49823592+5.2475668j ,\n",
       "         5.24735387+7.87135019j,  3.49823592+5.2475668j ,\n",
       "         1.74911796+2.6237834j ,  1.16607864+1.74918893j,\n",
       "         2.33215728+3.49837786j,  3.49823592+5.2475668j ,\n",
       "         2.33215728+3.49837786j,  1.16607864+1.74918893j,\n",
       "         0.58303932+0.87459447j,  1.16607864+1.74918893j,\n",
       "         1.74911796+2.6237834j ,  1.16607864+1.74918893j,\n",
       "         0.58303932+0.87459447j],\n",
       "       [ 1.09479997+0.22760361j,  2.18959993+0.45520722j,\n",
       "         3.2843999 +0.68281083j,  2.18959993+0.45520722j,\n",
       "         1.09479997+0.22760361j,  2.18959993+0.45520722j,\n",
       "         4.37919986+0.91041444j,  6.56879979+1.36562166j,\n",
       "         4.37919986+0.91041444j,  2.18959993+0.45520722j,\n",
       "         3.2843999 +0.68281083j,  6.56879979+1.36562166j,\n",
       "         9.85319969+2.04843248j,  6.56879979+1.36562166j,\n",
       "         3.2843999 +0.68281083j,  2.18959993+0.45520722j,\n",
       "         4.37919986+0.91041444j,  6.56879979+1.36562166j,\n",
       "         4.37919986+0.91041444j,  2.18959993+0.45520722j,\n",
       "         1.09479997+0.22760361j,  2.18959993+0.45520722j,\n",
       "         3.2843999 +0.68281083j,  2.18959993+0.45520722j,\n",
       "         1.09479997+0.22760361j]])"
      ]
     },
     "execution_count": 766,
     "metadata": {},
     "output_type": "execute_result"
    }
   ],
   "source": [
    "(gain_factor[:,None]*postage[None,:])"
   ]
  },
  {
   "cell_type": "code",
   "execution_count": 742,
   "metadata": {},
   "outputs": [
    {
     "data": {
      "text/plain": [
       "array([135, 136, 137, 138, 139, 140, 141, 142, 150, 151, 152, 153, 154,\n",
       "       155, 156, 157, 165, 166, 167, 168, 169, 170, 171, 172, 180, 181,\n",
       "       182, 183, 184, 185, 186, 187, 195, 196, 197, 198, 199, 200, 201,\n",
       "       202, 210, 211, 212, 213, 214, 215, 216, 217])"
      ]
     },
     "execution_count": 742,
     "metadata": {},
     "output_type": "execute_result"
    }
   ],
   "source": [
    "ant_j[visndx==768]"
   ]
  },
  {
   "cell_type": "code",
   "execution_count": 741,
   "metadata": {},
   "outputs": [
    {
     "data": {
      "text/plain": [
       "array([ 7,  8,  9, 10, 11, 12, 13, 14, 22, 23, 24, 25, 26, 27, 28, 29, 37,\n",
       "       38, 39, 40, 41, 42, 43, 44, 52, 53, 54, 55, 56, 57, 58, 59, 67, 68,\n",
       "       69, 70, 71, 72, 73, 74, 82, 83, 84, 85, 86, 87, 88, 89])"
      ]
     },
     "execution_count": 741,
     "metadata": {},
     "output_type": "execute_result"
    }
   ],
   "source": [
    "ant_i[visndx==768]"
   ]
  },
  {
   "cell_type": "code",
   "execution_count": 739,
   "metadata": {},
   "outputs": [
    {
     "data": {
      "text/plain": [
       "array([-7.01401852e-01+0.12855667j,  1.37751191e+00+1.21423085j,\n",
       "       -6.76871922e-01+1.63387525j,  6.03894778e-01-1.14250081j,\n",
       "        7.09671917e-02-1.51288659j, -4.85959352e-01+0.01834192j,\n",
       "        8.64883651e-01-1.52771531j,  2.66959149e-01+1.63910829j,\n",
       "       -1.05098781e-01+1.72608095j,  1.07551708e+00-0.47287593j,\n",
       "       -6.46178666e-01+0.87097628j, -6.57957192e-01-0.76530253j,\n",
       "        1.67089073e+00+1.02808064j, -5.30878356e-02+1.11174005j,\n",
       "       -1.03937779e-01-0.02624642j, -1.06312863e+00+1.70952402j,\n",
       "       -1.20832531e-02+1.04804652j,  5.57699315e-01-1.07683029j,\n",
       "        1.61528370e-01+1.70459352j, -1.14291713e-01+0.04836087j,\n",
       "       -6.45276530e-01-0.56959394j, -6.81217283e-01+0.22483326j,\n",
       "        3.91895657e-01+0.30665726j,  1.08178598e+00+0.20186523j,\n",
       "       -5.58863799e-04-0.2952243j ])"
      ]
     },
     "execution_count": 739,
     "metadata": {},
     "output_type": "execute_result"
    }
   ],
   "source": [
    "bigV"
   ]
  },
  {
   "cell_type": "code",
   "execution_count": null,
   "metadata": {},
   "outputs": [],
   "source": []
  }
 ],
 "metadata": {
  "kernelspec": {
   "display_name": "Python 3",
   "language": "python",
   "name": "python3"
  },
  "language_info": {
   "codemirror_mode": {
    "name": "ipython",
    "version": 3
   },
   "file_extension": ".py",
   "mimetype": "text/x-python",
   "name": "python",
   "nbconvert_exporter": "python",
   "pygments_lexer": "ipython3",
   "version": "3.8.5"
  }
 },
 "nbformat": 4,
 "nbformat_minor": 4
}
