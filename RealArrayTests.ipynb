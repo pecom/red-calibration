{
 "cells": [
  {
   "cell_type": "code",
   "execution_count": 879,
   "metadata": {},
   "outputs": [],
   "source": [
    "import numpy as np\n",
    "import matplotlib.pyplot as plt\n",
    "from scipy import stats\n",
    "from scipy import sparse\n",
    "from scipy import optimize\n",
    "from scipy import signal\n",
    "from scipy import linalg\n",
    "from functools import reduce\n",
    "from collections import defaultdict\n",
    "import pprint\n",
    "from tqdm.notebook import tqdm\n",
    "import pandas as pd # Only here to print arrays nicely"
   ]
  },
  {
   "cell_type": "code",
   "execution_count": 2,
   "metadata": {},
   "outputs": [],
   "source": [
    "%matplotlib inline\n",
    "%config InlineBackend.figure_format='retina'"
   ]
  },
  {
   "cell_type": "markdown",
   "metadata": {},
   "source": [
    "# TOC\n",
    "1. [1x1 Beam Functions](#1x1)\n",
    "2. [NxN Beam Complications](#NxN)\n",
    "3. [Visibility Solving](#vis)\n",
    "4. [Beam Solving](#beams)\n",
    "5. [Playground](#playground)"
   ]
  },
  {
   "cell_type": "markdown",
   "metadata": {},
   "source": [
    "### Simplified case for 1x1 beam <a name=\"1x1\"></a>"
   ]
  },
  {
   "cell_type": "code",
   "execution_count": 281,
   "metadata": {},
   "outputs": [],
   "source": [
    "def get_num_baselines(Nside):\n",
    "    # For square of N telescopes, should be 2N-2*sqrt(N) + 1\n",
    "    # Fix to a corner and there are N-1 options for unique baselines. \n",
    "    # Flip over to other side (over x or y axis) and get another N-1 options\n",
    "    # Duplicated Qare the pure x-axis and pure y-axis so -2*(sqrt(N)-1)\n",
    "    # Final +1 is from 0 baseline\n",
    "    \n",
    "    N_bases = 2*Nside**2 - 2*Nside\n",
    "    return int(N_bases)\n",
    "\n",
    "rand_phases = lambda x: np.random.uniform(0, 2*np.pi, x)\n",
    "zero_weight = lambda x, d: x/d if d else 0\n",
    "vector_weights = np.vectorize(zero_weight)\n",
    "parray = lambda x: np.round(x, decimals=2)\n",
    "\n",
    "def make_gains(Nside):\n",
    "    # Create complex gains with either (amplitude, phase) or (real, imaginary)\n",
    "    Nant = Nside**2\n",
    "    gain_amp = np.random.normal(1, .05, Nant)\n",
    "    gain_phase = rand_phases(Nant)\n",
    "    tgain = gain_amp*np.exp(1j*gain_phase)    \n",
    "    return tgain\n",
    "\n",
    "def make_data(Nside, gains, noise=0.1):\n",
    "    Nant = Nside**2\n",
    "    Nbase = get_num_baselines(Nside)\n",
    "    vis_true = np.random.normal(0,1,size=(Nbase,2)).view(np.complex128).flatten() ## size of unique baselines\n",
    "    ant_i, ant_j, visndx, data = [], [], [], []\n",
    "    ndx=0\n",
    "    ndx2base={}\n",
    "    base2ndx={}\n",
    "    for i in range(Nant):\n",
    "        xi,yi=np.unravel_index(i,(Nside,Nside))\n",
    "        for j in range (i+1,Nant):\n",
    "            xj,yj=np.unravel_index(j,(Nside,Nside))\n",
    "            assert (xj>=xi)\n",
    "            baseline = (xj-xi,yj-yi)\n",
    "            if baseline in base2ndx:\n",
    "                cndx = base2ndx[baseline]\n",
    "            else:\n",
    "                cndx = ndx\n",
    "                base2ndx[baseline]=ndx\n",
    "                ndx2base[ndx]=baseline\n",
    "                ndx+=1\n",
    "            ant_i.append(i)\n",
    "            ant_j.append(j)\n",
    "            visndx.append(cndx)\n",
    "            data.append(vis_true[cndx]*gains[i]*np.conj(gains[j]))\n",
    "            \n",
    "    assert(ndx==Nbase)\n",
    "    ant_i = np.array(ant_i)\n",
    "    ant_j = np.array(ant_j)\n",
    "    visndx = np.array(visndx)\n",
    "    data = np.array(data)\n",
    "    noise = np.random.normal(0,noise,size=(len(data),2)).view(np.complex128).flatten() ## size of unique baselines\n",
    "    data += noise\n",
    "    return vis_true, data, ant_i, ant_j, visndx, ndx2base, base2ndx"
   ]
  },
  {
   "cell_type": "code",
   "execution_count": 4,
   "metadata": {},
   "outputs": [],
   "source": [
    "def make_pred(gains, vis, ant_i, ant_j, visndx):\n",
    "    gains_i = gains[ant_i]\n",
    "    cgains_j = np.conj(gains[ant_j])\n",
    "    pred = gains_i*cgains_j*vis[visndx]\n",
    "    return pred"
   ]
  },
  {
   "cell_type": "code",
   "execution_count": 5,
   "metadata": {},
   "outputs": [],
   "source": [
    "def chi2(data, gains, vis, ant_i, ant_j, visndx, noise=0.1):\n",
    "    pred = make_pred(gains, vis, ant_i, ant_j, visndx)\n",
    "    chi2 = np.abs((data - pred)**2).sum()/(noise**2)\n",
    "    dof = len(data)*2\n",
    "    return chi2, dof"
   ]
  },
  {
   "cell_type": "code",
   "execution_count": 711,
   "metadata": {},
   "outputs": [],
   "source": [
    "def chimincal(iter_max, data, g0, v0, ant_i, ant_j, visndx, noise=0.1, delta=0.4, epsilon=1e-5):\n",
    "    chiscores = []\n",
    "    garr = g0.copy()\n",
    "    varr = v0.copy()\n",
    "    N = 1\n",
    "    Nant = len(g0)\n",
    "    Nbase = len(v0)\n",
    "    \n",
    "    for n in range(iter_max):\n",
    "        gprime = np.zeros(Nant, dtype=np.complex128)\n",
    "        for i in range(Nant):\n",
    "            numer = np.complex(0, 0)\n",
    "            denom = np.complex(0, 0)\n",
    "            iant = np.where(ant_i == i)[0]\n",
    "            jant = np.where(ant_j == i)[0]\n",
    "            numer += (data[iant] * garr[ant_j[iant]]*np.conj(varr[visndx[iant]])).sum()\n",
    "            denom += (np.abs(garr[ant_j[iant]]*varr[visndx[iant]])**2).sum()\n",
    "            numer += (np.conj(data[jant]) * garr[ant_i[jant]]*varr[visndx[jant]]).sum()\n",
    "            denom += (np.abs(garr[ant_i[jant]]*varr[visndx[jant]])**2).sum()\n",
    "            gprime[i] += zero_weight(numer, denom)\n",
    "\n",
    "        garr = (1 - delta)*garr + delta*gprime\n",
    "        \n",
    "        vprime = np.zeros(Nbase, dtype=np.complex128)\n",
    "        for i in range(Nbase):\n",
    "#             vdata = data/(garr[ant_i]*np.conj(garr[ant_j]))\n",
    "#             vprime[i] = np.mean(vdata[visndx==i])\n",
    "            \n",
    "#             numer = data[indxs].sum()\n",
    "#             denom = (garr[ant_i[indxs]]*np.conj(garr[ant_j[indxs]])).sum()\n",
    "#             vprime[i] += zero_weight(numer, denom)\n",
    "\n",
    "            indxs = np.where(visndx==i)\n",
    "            numer = (data[indxs]*np.conj(garr[ant_i[indxs]])*garr[ant_j[indxs]]).sum()\n",
    "            denom = (np.abs(garr[ant_i[indxs]]*np.conj(garr[ant_j[indxs]]))**2).sum()\n",
    "            vprime[i] = zero_weight(numer, denom)\n",
    "\n",
    "        varr = (1-delta)*varr + delta*vprime\n",
    "#         varr = vprime\n",
    "\n",
    "\n",
    "    \n",
    "        gscale = N/np.mean(np.abs(garr))\n",
    "        garr *= gscale\n",
    "        varr *= (1/gscale)**2\n",
    "        \n",
    "        chi, _ = chi2(data, garr, varr, ant_i, ant_j, visndx)\n",
    "        chiscores.append(chi)\n",
    "        if n > 20:\n",
    "            if np.abs(chiscores[-2] - chiscores[-1]) < epsilon:\n",
    "                break\n",
    "    return garr, varr, chiscores, n"
   ]
  },
  {
   "cell_type": "markdown",
   "metadata": {},
   "source": [
    "### NxN beam complications <a name=\"NxN\"></a>"
   ]
  },
  {
   "cell_type": "code",
   "execution_count": 661,
   "metadata": {},
   "outputs": [],
   "source": [
    "def get_weighted_array(alpha, Nspacing, numdraws=1e5):\n",
    "    # Overlap a circular beam onto a pixelized grid \n",
    "    Nbeam = Nspacing**2\n",
    "    rmax = alpha*.5\n",
    "    ndraws = int(numdraws)\n",
    "    spacing = np.linspace(0,1,Nspacing+1)\n",
    "    centered_spacing = spacing - .5\n",
    "    empty_weight_beam = np.zeros((Nspacing, Nspacing), dtype=np.complex128)\n",
    "    \n",
    "    for i in range(Nbeam):\n",
    "        xi, yi = np.unravel_index(i, (Nspacing, Nspacing))\n",
    "        draws = np.array([np.random.uniform(centered_spacing[xi], centered_spacing[xi+1], ndraws), np.random.uniform(centered_spacing[yi], centered_spacing[yi+1], ndraws)])\n",
    "        dist = np.linalg.norm(draws, axis=0)\n",
    "        empty_weight_beam[xi, yi] = np.sum(dist < rmax)/ndraws #* np.exp(1j*rand_phases(1))\n",
    "    sym_beam = .5*(empty_weight_beam + empty_weight_beam.T)\n",
    "    return sym_beam"
   ]
  },
  {
   "cell_type": "code",
   "execution_count": 662,
   "metadata": {},
   "outputs": [],
   "source": [
    "# Helper function to get a (2*br-1, 2*br-1) grid around point x\n",
    "\n",
    "def n_mesh(br):\n",
    "    nmesh = lambda x: tuple(np.meshgrid(range(x[0]-br, x[0]+br+1), range(x[1]-br, x[1]+br+1), indexing='ij'))\n",
    "    return nmesh\n",
    "\n",
    "five_mesh = n_mesh(2)"
   ]
  },
  {
   "cell_type": "code",
   "execution_count": 8,
   "metadata": {},
   "outputs": [],
   "source": [
    "def make_uv_grid(Nside):\n",
    "    uv_size = Nside*2 - 1\n",
    "    center = (Nside-1,Nside-1)\n",
    "    npcenter = np.array(center)\n",
    "    img_size = (uv_size, uv_size)\n",
    "    random_image = np.random.normal(0, 1, img_size)\n",
    "    centered_uv = np.fft.fftshift(np.fft.fft2(random_image))\n",
    "#     centered_uv[center] = 0\n",
    "    topleft_uv = np.fft.ifftshift(centered_uv)\n",
    "    \n",
    "    return centered_uv, topleft_uv, npcenter"
   ]
  },
  {
   "cell_type": "code",
   "execution_count": 1146,
   "metadata": {},
   "outputs": [],
   "source": [
    "def get_new_shape(Nside, beam_radius=3):\n",
    "    # Helper function to get shape of convolved u-v space\n",
    "    orig_shape = (2*Nside-1, Nside)\n",
    "    new_shape = tuple([i*beam_radius + (beam_radius - 1) for i in orig_shape])\n",
    "    return new_shape"
   ]
  },
  {
   "cell_type": "code",
   "execution_count": 1755,
   "metadata": {},
   "outputs": [],
   "source": [
    "def make_visibilities(Nside, beam_radius):\n",
    "    n = Nside\n",
    "    br = beam_radius\n",
    "    \n",
    "    # Useful shapes/sizes to have on hand\n",
    "    new_shape = get_new_shape(n, br)\n",
    "    new_size = np.prod(new_shape)\n",
    "    center = (int((new_shape[0]-1)/2), br-1)\n",
    "    \n",
    "    #Matrices of visibiltiies and possible indices\n",
    "    random_vis = np.random.normal(5, 3, (new_shape[0], new_shape[1], 2)).view(np.complex128)\n",
    "    poss_index = np.arange(new_size).reshape(new_shape)\n",
    "    \n",
    "    #Clear off the leftmost columns to remove redundant conjugate stuff\n",
    "    poss_index[0:center[0], 0:br] = 0\n",
    "    poss_index[center[0]:, 0:br-1] = 0\n",
    "    \n",
    "    oversampled_baselines = poss_index.nonzero()[0].shape[0]\n",
    "    visib = np.zeros(oversampled_baselines, dtype=np.complex128)\n",
    "    #Baseline - index dictionaries\n",
    "    new_ndx = 0\n",
    "    n2b = {}\n",
    "    b2n = {}\n",
    "    n2true = {}\n",
    "    true2n = {}\n",
    "    for i in range(new_size):\n",
    "        xi,yi = np.unravel_index(i, new_shape)\n",
    "        if poss_index[xi,yi] == 0:\n",
    "            continue\n",
    "        else:\n",
    "            baseline = (xi-center[0], yi-center[1])\n",
    "            if baseline[0] < 0:\n",
    "                baseline = (-1*baseline[0], -1*baseline[1])\n",
    "\n",
    "            if baseline in b2n:\n",
    "                cndx = new_ndx\n",
    "            else:\n",
    "                cndx = new_ndx\n",
    "                b2n[baseline] = new_ndx\n",
    "                n2b[new_ndx] = baseline\n",
    "                if tuple(np.mod(baseline, br)) == (0,0):\n",
    "                    modtuple = tuple(np.floor_divide(baseline, 3))\n",
    "                    true2n[modtuple] = new_ndx\n",
    "                    n2true[new_ndx] = modtuple\n",
    "                new_ndx += 1\n",
    "        visib[cndx] = random_vis[xi,yi]\n",
    "    return n2b, b2n, n2true, true2n, visib"
   ]
  },
  {
   "cell_type": "code",
   "execution_count": 10,
   "metadata": {},
   "outputs": [],
   "source": [
    "def vis_to_grid(visib, ndx2base, size):\n",
    "    # Turn our flat list of visibilities into a grid based on the dictionary\n",
    "    # Meshes make properly yanking data from a grid straight-forward and also takes into account proper\n",
    "    # negative indexing which makes it preferable to the flat visibility list.\n",
    "    \n",
    "    # Double the size to make sure to avoid rewriting values with negative indexing\n",
    "    uv_size = (2*size[0], 2*size[1])\n",
    "    new_grid = np.zeros(uv_size, dtype=np.complex128)\n",
    "    for i,v in enumerate(visib):\n",
    "        base = ndx2base[i]\n",
    "        inv_base = tuple(-1*np.array(base))\n",
    "        new_grid[base] = v\n",
    "        new_grid[inv_base] = np.conj(v)\n",
    "    return new_grid"
   ]
  },
  {
   "cell_type": "code",
   "execution_count": 614,
   "metadata": {},
   "outputs": [],
   "source": [
    "def make_data_grid(Nside, gains, beams, noise=0.1, verbose=True):\n",
    "    \n",
    "    Nant = Nside**2\n",
    "    Nbase = get_num_baselines(Nside)\n",
    "    # Get sample beam to understand shape of convolved beams\n",
    "    samp_beam = signal.convolve(beams[0], beams[0])\n",
    "    \n",
    "    #Radius and corresponding mesh\n",
    "    beam_radius = int((samp_beam.shape[0]-1)/2) + 1\n",
    "    mesh = n_mesh(beam_radius-1)\n",
    "    \n",
    "    # Create visibilities\n",
    "    n2b, b2n, n2t, t2n, visib = make_visibilities(Nside, beam_radius)\n",
    "    if verbose:\n",
    "        print(\"Made visib\")\n",
    "    \n",
    "    new_shape = get_new_shape(Nside, beam_radius)\n",
    "    vis_grid = vis_to_grid(visib, n2b, new_shape)\n",
    "    if verbose:\n",
    "        print(\"Made grid\")\n",
    "    \n",
    "    ant_i, ant_j, visndx, data, datandx = [], [], [], [], []\n",
    "    \n",
    "    for i in range(Nant):\n",
    "        xi,yi=np.unravel_index(i,(Nside, Nside))\n",
    "        for j in range (i+1,Nant):\n",
    "            conv_beam = signal.convolve(beams[i], np.conj(beams[j]))\n",
    "            xj,yj=np.unravel_index(j,(Nside, Nside))\n",
    "            assert (xj>=xi)\n",
    "            baseline = (xj-xi,yj-yi)\n",
    "            \n",
    "            virtual_n = t2n[baseline]\n",
    "            grid_base = n2b[virtual_n]\n",
    "            \n",
    "            virtual_points = mesh(grid_base)\n",
    "            data_sum = (vis_grid[virtual_points] * gains[i] * np.conj(gains[j]) * conv_beam).sum()\n",
    "            \n",
    "            ant_i.append(i)\n",
    "            ant_j.append(j)\n",
    "            visndx.append(virtual_n)\n",
    "            data.append(data_sum)\n",
    "            datandx.append(virtual_points)\n",
    "    \n",
    "    if verbose:\n",
    "        print(\"Created data\")\n",
    "    \n",
    "    ant_i = np.array(ant_i)\n",
    "    ant_j = np.array(ant_j)\n",
    "    visndx = np.array(visndx)\n",
    "    data = np.array(data)\n",
    "    noise = np.random.normal(0,noise,size=(len(data),2)).view(np.complex128).flatten() ## size of unique baselines\n",
    "    data += noise\n",
    "    return visib, data, ant_i, ant_j, visndx, datandx, n2b, b2n, n2t, t2n, vis_grid"
   ]
  },
  {
   "cell_type": "code",
   "execution_count": 664,
   "metadata": {},
   "outputs": [],
   "source": [
    "def vector_b2n(b2n, datandx):\n",
    "    # Convert datandx (points on the grid) to flat indices using b2n dictionary\n",
    "    newndx = []\n",
    "    for l in datandx:\n",
    "        x,y = l\n",
    "        flattened = []\n",
    "        ndx_size = x.size\n",
    "        ndx_shape = x.shape\n",
    "        for i in range(ndx_size):\n",
    "            point = np.unravel_index(i, ndx_shape)\n",
    "            k = np.array([x[point], y[point]])\n",
    "            key = tuple(k)\n",
    "            if key in b2n:\n",
    "                flattened.append(b2n[key])\n",
    "            else:\n",
    "                key = tuple(-1*k)\n",
    "                flattened.append(-1*b2n[key])\n",
    "        newndx.append(flattened)\n",
    "    newndx = np.array(newndx)\n",
    "    return newndx"
   ]
  },
  {
   "cell_type": "code",
   "execution_count": 665,
   "metadata": {},
   "outputs": [],
   "source": [
    "def conjugate_visib(vis, ndxs):\n",
    "    # Returns the proper list of relevant visibilites given ndxs\n",
    "    # Negative refers to using a conjugate rather than doubling the size of the array\n",
    "    flat = []\n",
    "    for i in ndxs:\n",
    "        if i >= 0:\n",
    "            flat.append(vis[i])\n",
    "        else:\n",
    "            flat.append(np.conj(vis[-1*i]))\n",
    "    return np.array(flat)"
   ]
  },
  {
   "cell_type": "code",
   "execution_count": 1553,
   "metadata": {},
   "outputs": [],
   "source": [
    "def flat_model(vis, beams, gains, ant_i, ant_j, flatndx):\n",
    "    # Make prediction\n",
    "    postage = np.array([signal.convolve(beams[ant_i[i]], np.conjugate(beams[ant_j[i]])).flatten() for i in range(len(flatndx))])\n",
    "    gains_i = gains[ant_i]\n",
    "    gains_j = np.conj(gains[ant_j])\n",
    "    flatbread = np.array([conjugate_visib(vis, v)*postage[i] for i, v in enumerate(flatndx)])\n",
    "    pred = np.sum(flatbread, axis=1)*gains_i*gains_j\n",
    "    return pred"
   ]
  },
  {
   "cell_type": "code",
   "execution_count": 667,
   "metadata": {},
   "outputs": [],
   "source": [
    "def gen_chi2(data, pred, noise=0.1):\n",
    "    # Generic chi2 definition\n",
    "    chi2 = np.abs((data - pred)**2).sum()/(noise**2)\n",
    "    dof = len(data)*2\n",
    "    return chi2, dof, chi2/dof"
   ]
  },
  {
   "cell_type": "markdown",
   "metadata": {},
   "source": [
    "### Visibility solving <a name=\"vis\"></a>"
   ]
  },
  {
   "cell_type": "code",
   "execution_count": 668,
   "metadata": {},
   "outputs": [],
   "source": [
    "def imag_to_reals(vec):\n",
    "    # Helper function for linear estimator\n",
    "    reals = vec.real\n",
    "    imags = vec.imag\n",
    "    flat_vec = np.concatenate((reals, imags))\n",
    "    return flat_vec"
   ]
  },
  {
   "cell_type": "code",
   "execution_count": 1486,
   "metadata": {},
   "outputs": [],
   "source": [
    "def linear_solver_A(beams, gains, data,ant_i, ant_j, fndx):\n",
    "    # Solve for visibilities using a linear method\n",
    "    big_ans = imag_to_reals(data)\n",
    "    data_len = len(data)\n",
    "    v_size = len(set(np.abs(fndx).flatten())) + 1\n",
    "    postage = np.array([signal.convolve(beams[ant_i[i]], np.conjugate(beams[ant_j[i]])).flatten()*gains[ant_i[i]]*np.conjugate(gains[ant_j[i]]) for i in range(len(fndx))])\n",
    "    bigA = sparse.lil_matrix((2*data_len, 2*v_size))\n",
    "    for i,v in enumerate(flatndx):\n",
    "        absv = np.abs(v)\n",
    "        bigA[i,absv] = postage[i].real\n",
    "        bigA[i, v_size+absv] = -1*np.sign(v)*postage[i].imag\n",
    "        bigA[i+data_len, absv] = np.sign(v)*postage[i].imag\n",
    "        bigA[i+data_len, v_size+absv] = postage[i].real\n",
    "    bigCSR = bigA.tocsr()\n",
    "    return bigCSR, big_ans"
   ]
  },
  {
   "cell_type": "code",
   "execution_count": 1487,
   "metadata": {},
   "outputs": [],
   "source": [
    "def vis_solver(guess, beams, gains, data, ant_i, ant_j, fndx):\n",
    "    bigA, bigB = linear_solver_A(beams, gains, data, ant_i, ant_j, fndx)\n",
    "    map_guess = imag_to_reals(guess)\n",
    "    map_sol = sparse.linalg.lsqr(bigA, bigB, atol=1e-5, x0=map_guess)[0]\n",
    "    v_size = len(guess)\n",
    "    comb_sol = map_sol[:v_size] + 1j*map_sol[v_size:]\n",
    "    return comb_sol"
   ]
  },
  {
   "cell_type": "markdown",
   "metadata": {},
   "source": [
    "### Beam solving <a name=\"beams\"></a>"
   ]
  },
  {
   "cell_type": "code",
   "execution_count": 905,
   "metadata": {},
   "outputs": [],
   "source": [
    "def padded_circulant(col):\n",
    "    c_len = len(col)\n",
    "    first_row = np.zeros(c_len, dtype=np.complex128)\n",
    "    first_row[0] = col[0]\n",
    "    first_col = np.zeros(2*c_len - 1, dtype=np.complex128)\n",
    "    first_col[0:c_len] = col\n",
    "    toep_mat = linalg.toeplitz(first_col, first_row)\n",
    "    return toep_mat"
   ]
  },
  {
   "cell_type": "code",
   "execution_count": 911,
   "metadata": {},
   "outputs": [],
   "source": [
    "def doubly_block_toep(beam_j):\n",
    "    pad_zero = np.zeros(beam_j.shape[0], dtype=np.complex128)\n",
    "    h1 = padded_circulant(beam_j[0])\n",
    "    h2 = padded_circulant(beam_j[1])\n",
    "    h3 = padded_circulant(beam_j[2])\n",
    "    h4 = padded_circulant(pad_zero)\n",
    "    h5 = padded_circulant(pad_zero)\n",
    "    blocked_toep = np.block([\n",
    "        [h1, h5, h4],\n",
    "        [h2, h1, h5],\n",
    "        [h3, h2, h1],\n",
    "        [h4, h3, h2],\n",
    "        [h5, h4, h3]\n",
    "    ])\n",
    "    return blocked_toep"
   ]
  },
  {
   "cell_type": "code",
   "execution_count": 1550,
   "metadata": {},
   "outputs": [],
   "source": [
    "def beam_solver(vis, beam_guess, gains, data, ant_i, ant_j, flatndx, Nside):\n",
    "    Nant = Nside**2\n",
    "    matrix_beams = np.zeros((beam_guess.shape[0], 25, 9), dtype=np.complex128)\n",
    "\n",
    "    for i,v in enumerate(beam_guess):\n",
    "        matrix_beams[i] = doubly_block_toep(v)\n",
    "    \n",
    "    new_beams = beam_guess.copy()\n",
    "    for ant_ndx in range(Nant):\n",
    "        beam_solver = np.zeros((Nant-1, 9), dtype=np.complex128)\n",
    "        rhs_vis = np.zeros(Nant-1, dtype=np.complex128)\n",
    "        \n",
    "        ant_filter = ant_i==ant_ndx\n",
    "        sum_ants = np.sum(ant_filter)\n",
    "        jant_filter = ant_j==ant_ndx\n",
    "        \n",
    "        rhs_vis[:sum_ants] = data[ant_filter]\n",
    "        rhs_vis[sum_ants:] = np.conjugate(data[jant_filter])\n",
    "        \n",
    "        for i in range(sum_ants):\n",
    "            beam_solver[i] = conjugate_visib(vis_true, flatndx[ant_filter][i])[None,:] \\\n",
    "                @ np.conjugate(matrix_beams[ant_j[ant_filter]][i])*gains[ant_i[ant_filter]][i]*np.conjugate(gains[ant_j[ant_filter]][i])\n",
    "        for j in range(np.sum(jant_filter)):\n",
    "            beam_solver[sum_ants + j] = np.conjugate(conjugate_visib(vis_true, flatndx[jant_filter][j])[None,:] \\\n",
    "                @ matrix_beams[ant_i[jant_filter]][j]*gains[ant_j[jant_filter]][j]*np.conjugate(gains[ant_i[jant_filter]][j]))\n",
    "                            \n",
    "        zerobeam = np.linalg.lstsq(beam_solver, rhs_vis, rcond=None)[0]\n",
    "        shaped_beam = zerobeam.reshape((3,3))\n",
    "        matrix_beams[ant_ndx] = doubly_block_toep(shaped_beam)\n",
    "        new_beams[ant_ndx] = shaped_beam\n",
    "    return new_beams"
   ]
  },
  {
   "cell_type": "code",
   "execution_count": 1723,
   "metadata": {},
   "outputs": [],
   "source": [
    "def solve_everything(iter_max, vis_guess, beam_guess, gains, data, ant_i, ant_j, flatndx, Nside, noise):\n",
    "    chis = np.zeros(iter_max+1)\n",
    "    scores = np.zeros(iter_max+1)\n",
    "    model = flat_model(vis_guess, beam_guess, gains, ant_i, ant_j, flatndx)\n",
    "    chi, _, score = gen_chi2(data, model, noise)\n",
    "    chis[0] = chi\n",
    "    scores[0] = score\n",
    "    for n in tqdm(range(iter_max)):\n",
    "        \n",
    "        new_beams = beam_solver(vis_guess, beam_guess, gains, data, ant_i, ant_j, flatndx, Nside)\n",
    "        new_vis = vis_solver(vis_guess, beam_guess, gains, data, ant_i, ant_j, flatndx)\n",
    "        beam_guess = new_beams\n",
    "        vis_guess = new_vis\n",
    "        model = flat_model(vis_guess, beam_guess, gains, ant_i, ant_j, flatndx)\n",
    "        chi, _, score = gen_chi2(data, model, noise)\n",
    "        \n",
    "        chis[n+1] = chi\n",
    "        scores[n+1] = score\n",
    "    \n",
    "    return new_vis, new_beams, chis, scores"
   ]
  },
  {
   "cell_type": "code",
   "execution_count": 1756,
   "metadata": {},
   "outputs": [
    {
     "name": "stdout",
     "output_type": "stream",
     "text": [
      "Made visib\n",
      "Made grid\n",
      "Created data\n"
     ]
    }
   ],
   "source": [
    "Nside = 10\n",
    "Nant = Nside * Nside\n",
    "Nbase = get_num_baselines(Nside)\n",
    "noise = .3\n",
    "# gains_true = make_gains(Nside)\n",
    "gains_true = np.ones(Nant)\n",
    "# vis_true, data, ant_i, ant_j, visndx, ndx2base, base2ndx = make_data(Nsmide, gains_true)\n",
    "weighted_beam = get_weighted_array(1, 3)\n",
    "beam_gains = np.random.normal(0,1,(Nant, 2)).view(dtype=np.complex128).flatten()\n",
    "beams = np.array([get_weighted_array(1, 3, 8)*beam_gains[i] for i in range(Nant)])\n",
    "vis_true, data, ant_i, ant_j, visndx, datandx, n2b, b2n, n2t, t2n, tl_grid = make_data_grid(Nside, gains_true, beams, noise)\n",
    "flatndx = vector_b2n(b2n, datandx)\n",
    "data_len = len(data)"
   ]
  },
  {
   "cell_type": "code",
   "execution_count": 1757,
   "metadata": {},
   "outputs": [],
   "source": [
    "conv_beam_size = 25\n",
    "beam_size = 9"
   ]
  },
  {
   "cell_type": "code",
   "execution_count": 1758,
   "metadata": {},
   "outputs": [
    {
     "name": "stdout",
     "output_type": "stream",
     "text": [
      "Flat solution  (9900.767103769567, 9900, 1.000077485229249)\n"
     ]
    }
   ],
   "source": [
    "flatbread = flat_model(vis_true, beams, gains_true, ant_i, ant_j, flatndx)\n",
    "print(\"Flat solution \", gen_chi2(data, flatbread, noise))"
   ]
  },
  {
   "cell_type": "code",
   "execution_count": 1759,
   "metadata": {},
   "outputs": [
    {
     "name": "stdout",
     "output_type": "stream",
     "text": [
      "30642.999149938423 9900 3.0952524393877194\n"
     ]
    }
   ],
   "source": [
    "bad_guess = np.random.normal(0, 1, (len(vis_true), 2)).view(np.complex128).flatten()\n",
    "comb_sol = vis_solver(bad_guess, beams, gains_true, data, ant_i, ant_j, flatndx)\n",
    "comb_model = flat_model(comb_sol, beams, gains_true, ant_i, ant_j, flatndx)\n",
    "mapchi, dof, score = gen_chi2(data, comb_model, noise)\n",
    "print(mapchi, dof, score)"
   ]
  },
  {
   "cell_type": "code",
   "execution_count": 1760,
   "metadata": {},
   "outputs": [],
   "source": [
    "bshape = beams.shape\n",
    "improv_beam = np.random.normal(0, 1, (bshape[0], bshape[1], bshape[2], 2)).view(np.complex128).reshape((beams.shape))"
   ]
  },
  {
   "cell_type": "code",
   "execution_count": 1761,
   "metadata": {},
   "outputs": [
    {
     "data": {
      "text/plain": [
       "(5272604919.949429, 9900, 532586.3555504474)"
      ]
     },
     "execution_count": 1761,
     "metadata": {},
     "output_type": "execute_result"
    }
   ],
   "source": [
    "improv_beam = beam_solver(vis_true, improv_beam, gains_true, data, ant_i, ant_j, flatndx, Nside)\n",
    "beamsol = flat_model(vis_true, improv_beam, gains_true, ant_i, ant_j, flatndx)\n",
    "gen_chi2(data, beamsol, noise)"
   ]
  },
  {
   "cell_type": "code",
   "execution_count": 1762,
   "metadata": {},
   "outputs": [],
   "source": [
    "bad_guess = np.random.normal(5,3 , (len(vis_true), 2)).view(np.complex128).flatten()\n",
    "improv_beam = np.random.normal(0, 1, (bshape[0], bshape[1], bshape[2], 2)).view(np.complex128).reshape((beams.shape))"
   ]
  },
  {
   "cell_type": "code",
   "execution_count": 1781,
   "metadata": {},
   "outputs": [
    {
     "data": {
      "application/vnd.jupyter.widget-view+json": {
       "model_id": "3e1fd9ed8fb84776a807ab1ab809e275",
       "version_major": 2,
       "version_minor": 0
      },
      "text/plain": [
       "HBox(children=(FloatProgress(value=0.0, max=10.0), HTML(value='')))"
      ]
     },
     "metadata": {},
     "output_type": "display_data"
    },
    {
     "name": "stdout",
     "output_type": "stream",
     "text": [
      "\n"
     ]
    }
   ],
   "source": [
    "itersolve = solve_everything(10, bad_guess, improv_beam, gains_true, data, ant_i, ant_j, flatndx, Nside, noise)"
   ]
  },
  {
   "cell_type": "code",
   "execution_count": 1775,
   "metadata": {},
   "outputs": [],
   "source": [
    "vis_ratio = (vis_true/itersolve[0]).flatten()\n",
    "beam_ratio = (beams/itersolve[1]).flatten()"
   ]
  },
  {
   "cell_type": "code",
   "execution_count": 1776,
   "metadata": {},
   "outputs": [
    {
     "name": "stdout",
     "output_type": "stream",
     "text": [
      "beam factor:  (-0.18768633989417505+0.9662143326180697j)\n",
      "vis factor:  (0.47682301393475357-0.029889418004591328j)\n"
     ]
    }
   ],
   "source": [
    "print(\"beam factor: \", np.mean(beam_ratio))\n",
    "print(\"vis factor: \", np.mean(vis_ratio))"
   ]
  },
  {
   "cell_type": "code",
   "execution_count": 1777,
   "metadata": {},
   "outputs": [
    {
     "name": "stdout",
     "output_type": "stream",
     "text": [
      "Flat solution  (9900.767103769567, 9900, 1.000077485229249)\n"
     ]
    }
   ],
   "source": [
    "flatbread = flat_model(vis_true, beams, gains_true, ant_i, ant_j, flatndx)\n",
    "print(\"Flat solution \", gen_chi2(data, flatbread, noise))"
   ]
  },
  {
   "cell_type": "code",
   "execution_count": 1782,
   "metadata": {},
   "outputs": [
    {
     "name": "stdout",
     "output_type": "stream",
     "text": [
      "Flat solution  (89530.14135498187, 9900, 9.04344862171534)\n"
     ]
    }
   ],
   "source": [
    "challah = flat_model(itersolve[0], itersolve[1], gains_true, ant_i, ant_j, flatndx)\n",
    "print(\"Flat solution \", gen_chi2(data, challah, noise))"
   ]
  },
  {
   "cell_type": "code",
   "execution_count": 1716,
   "metadata": {},
   "outputs": [],
   "source": [
    "phase = np.exp(1j*.4)\n",
    "phased = np.exp(-1j*.4)"
   ]
  },
  {
   "cell_type": "code",
   "execution_count": 1719,
   "metadata": {},
   "outputs": [
    {
     "data": {
      "text/plain": [
       "(0.9210609940028851-0.3894183423086505j)"
      ]
     },
     "execution_count": 1719,
     "metadata": {},
     "output_type": "execute_result"
    }
   ],
   "source": [
    "phased"
   ]
  },
  {
   "cell_type": "code",
   "execution_count": 1670,
   "metadata": {},
   "outputs": [],
   "source": [
    "# solved_model = flat_model(itersolve[1], itersolve[0], gains_true, ant_i, ant_j, flatndx)\n",
    "# gen_chi2(data, solved_model)"
   ]
  },
  {
   "cell_type": "code",
   "execution_count": 1739,
   "metadata": {},
   "outputs": [
    {
     "name": "stdout",
     "output_type": "stream",
     "text": [
      "0.6984714150104334\n"
     ]
    },
    {
     "data": {
      "image/png": "[encoded data removed]",
      "text/plain": [
       "<Figure size 432x288 with 1 Axes>"
      ]
     },
     "metadata": {
      "image/png": {
       "height": 270,
       "width": 374
      },
      "needs_background": "light"
     },
     "output_type": "display_data"
    }
   ],
   "source": [
    "# plt.plot(np.log10(itersolve[-1]), '.');\n",
    "# plt.title(r\"$\\log{\\left(\\frac{\\chi^2}{DoF}\\right)}$\");\n",
    "\n",
    "plt.plot(itersolve[-1], '.');\n",
    "plt.title(r\"$\\frac{\\chi^2}{DoF}$\");\n",
    "\n",
    "plt.semilogy()\n",
    "print(itersolve[-1][-1])"
   ]
  },
  {
   "cell_type": "markdown",
   "metadata": {},
   "source": [
    "### Below this is my random testing/playground <a name=\"playground\"></a>\n",
    "I have my chi2 minimization algorithm underneath but it doesn't work well at all"
   ]
  },
  {
   "cell_type": "code",
   "execution_count": 641,
   "metadata": {},
   "outputs": [
    {
     "data": {
      "text/plain": [
       "(50481.00287299071, 50400, 1.0016071998609268)"
      ]
     },
     "execution_count": 641,
     "metadata": {},
     "output_type": "execute_result"
    }
   ],
   "source": [
    "# bad_guess = np.random.normal(0,1,(v_size,2)).view(dtype=np.complex128).flatten()\n",
    "bad_guess = vis_true.copy()\n",
    "bad_sol = flat_model(bad_guess, gains_true, beams, ant_i, ant_j, flatndx)\n",
    "gen_chi2(data, bad_sol)"
   ]
  },
  {
   "cell_type": "code",
   "execution_count": 1453,
   "metadata": {},
   "outputs": [],
   "source": []
  },
  {
   "cell_type": "code",
   "execution_count": 1552,
   "metadata": {},
   "outputs": [],
   "source": []
  },
  {
   "cell_type": "code",
   "execution_count": 1549,
   "metadata": {},
   "outputs": [
    {
     "name": "stdout",
     "output_type": "stream",
     "text": [
      "8899.686832468908 9900 0.8989582659059503\n"
     ]
    }
   ],
   "source": [
    "bad_guess = np.random.normal(0, 1, (len(vis_true), 2)).view(np.complex128).flatten()\n",
    "comb_sol = vis_solver(bad_guess, beams, gains_true, data, ant_i, ant_j, flatndx)\n",
    "\n",
    "# v_size = len(vis_true)\n",
    "# comb_sol = map_sol[:v_size] + 1j*map_sol[v_size:]\n",
    "comb_model = flat_model(comb_sol, gains_true, beams, ant_i, ant_j, flatndx)\n",
    "mapchi, dof, score = gen_chi2(data, comb_model)\n",
    "print(mapchi, dof, score)"
   ]
  },
  {
   "cell_type": "code",
   "execution_count": 1563,
   "metadata": {},
   "outputs": [
    {
     "data": {
      "application/vnd.jupyter.widget-view+json": {
       "model_id": "0091c924f09b467fa98bc5532978d872",
       "version_major": 2,
       "version_minor": 0
      },
      "text/plain": [
       "HBox(children=(FloatProgress(value=0.0, max=10.0), HTML(value='')))"
      ]
     },
     "metadata": {},
     "output_type": "display_data"
    },
    {
     "name": "stdout",
     "output_type": "stream",
     "text": [
      "\n"
     ]
    }
   ],
   "source": [
    "itersolve = solve_everything(10, bad_guess, improv_beam, gains_true, data, ant_i, ant_j, flatndx, Nside)"
   ]
  },
  {
   "cell_type": "code",
   "execution_count": 1565,
   "metadata": {},
   "outputs": [
    {
     "data": {
      "text/plain": [
       "array([8.89922948e+08, 4.30042980e+09, 6.77909608e+09, 2.86317653e+07,\n",
       "       3.50749372e+06, 6.46451359e+05, 1.25737622e+05, 4.23031397e+04,\n",
       "       2.20373882e+04, 1.65626284e+04, 1.46069368e+04])"
      ]
     },
     "execution_count": 1565,
     "metadata": {},
     "output_type": "execute_result"
    }
   ],
   "source": [
    "itersolve[-2]"
   ]
  },
  {
   "cell_type": "code",
   "execution_count": 1435,
   "metadata": {},
   "outputs": [],
   "source": [
    "matrix_beams = np.zeros((beams.shape[0], 25, 9), dtype=np.complex128)\n",
    "\n",
    "for i,v in enumerate(beams):\n",
    "    matrix_beams[i] = doubly_block_toep(v)"
   ]
  },
  {
   "cell_type": "code",
   "execution_count": 1436,
   "metadata": {},
   "outputs": [],
   "source": [
    "beam_solver = np.zeros((Nant-1, 9), dtype=np.complex128)\n",
    "rhs_vis = np.zeros(Nant-1, dtype=np.complex128)\n",
    "new_beams = beams.copy()\n",
    "andx = 0"
   ]
  },
  {
   "cell_type": "code",
   "execution_count": 1437,
   "metadata": {},
   "outputs": [],
   "source": [
    "for andx in range(Nant):\n",
    "    ant_filter = ant_i==andx\n",
    "    sum_ants = np.sum(ant_filter)\n",
    "    jant_filter = ant_j==andx\n",
    "\n",
    "    rhs_vis[:sum_ants] = data[ant_filter]\n",
    "    rhs_vis[sum_ants:] = np.conjugate(data[jant_filter])\n",
    "\n",
    "    for i in range(sum_ants):\n",
    "        beam_solver[i] = conjugate_visib(vis_true, flatndx[ant_filter][i])[None,:] \\\n",
    "        @ np.conjugate(matrix_beams[ant_j[ant_filter]][i])\n",
    "\n",
    "    for j in range(np.sum(jant_filter)):\n",
    "        beam_solver[sum_ants + j] = np.conjugate(conjugate_visib(vis_true, flatndx[jant_filter][j])[None,:] \\\n",
    "                                                 @ matrix_beams[ant_i[jant_filter]][j])\n",
    "\n",
    "    zerobeam = np.linalg.lstsq(beam_solver, rhs_vis, rcond=None)[0]\n",
    "\n",
    "    new_beams[andx] = zerobeam.reshape((3,3))"
   ]
  },
  {
   "cell_type": "code",
   "execution_count": 1438,
   "metadata": {},
   "outputs": [
    {
     "name": "stdout",
     "output_type": "stream",
     "text": [
      "beamed solution  (8261.005110183145, 9900, 0.8344449606245601)\n"
     ]
    }
   ],
   "source": [
    "flatbread = flat_model(vis_true, gains_true, new_beams, ant_i, ant_j, flatndx)\n",
    "print(\"beamed solution \", gen_chi2(data, flatbread))"
   ]
  },
  {
   "cell_type": "code",
   "execution_count": null,
   "metadata": {},
   "outputs": [],
   "source": []
  },
  {
   "cell_type": "code",
   "execution_count": 1084,
   "metadata": {},
   "outputs": [],
   "source": [
    "est_beams = np.zeros_like(beams, dtype=np.complex128)"
   ]
  },
  {
   "cell_type": "code",
   "execution_count": 1136,
   "metadata": {},
   "outputs": [],
   "source": [
    "iter_max = 10\n",
    "beam_est = beams\n",
    "vis_est = vis_true\n",
    "worthy = np.array(list(n2t.keys()))"
   ]
  },
  {
   "cell_type": "code",
   "execution_count": 1215,
   "metadata": {},
   "outputs": [],
   "source": [
    "def badchimin_routine(iter_max, beam_est, vis_est, data, ant_i, ant_j, visndx, flatndx):\n",
    "\n",
    "    matrix_beams = np.zeros((beam_est.shape[0], 25, 9), dtype=np.complex128)\n",
    "    gains = np.ones(len(beam_est), dtype=np.complex128)\n",
    "    zerondx = b2n[(0,0)]\n",
    "\n",
    "    for n in tqdm(range(iter_max)):\n",
    "        for i,v in enumerate(beam_est):\n",
    "            matrix_beams[i] = doubly_block_toep(v)\n",
    "\n",
    "        est_beams = np.zeros_like(beam_est, dtype=np.complex128)\n",
    "        weights_visib = np.zeros_like(bad_guess, dtype=np.complex128)\n",
    "        gener_v = np.zeros_like(bad_guess, dtype=np.complex128)\n",
    "        for i in range(len(beams)-1):\n",
    "            ant_filter = (ant_i==i)\n",
    "\n",
    "            numer = np.zeros(9, dtype=np.complex128)\n",
    "            denom = np.zeros(9, dtype=np.complex128)\n",
    "            for ndx,f in enumerate(flatndx[ant_filter]):\n",
    "                valpha = conjugate_visib(vis_est, f)\n",
    "                valphac = np.conjugate(valpha)\n",
    "                beamj = ant_j[ant_filter][ndx]\n",
    "                numer += (data[ant_filter][ndx]*(valpha[None,:]@matrix_beams[beamj])).flatten()\n",
    "                pair1 = conjugate_visib(vis_est, f)@matrix_beams[beamj]\n",
    "                denom += np.abs(pair1)**2\n",
    "            if (np.abs(denom) < 1e-6).any():\n",
    "                print(i)\n",
    "            est_beams[i] = vector_weights(numer, denom).reshape((3,3))\n",
    "            est_beams[i] /= est_beams[i][1,1]\n",
    "\n",
    "        for w in worthy:\n",
    "            if w==zerondx:\n",
    "                continue\n",
    "            vis_filter = (visndx==w)\n",
    "\n",
    "            postage = np.array([signal.convolve(beam_est[ant_i[vis_filter][i]], np.conjugate(beam_est[ant_j[vis_filter][i]])).flatten() for i in range(np.sum(vis_filter))])\n",
    "\n",
    "    #         gain_factor = gains_true[ant_i[vis_filter]]*np.conj(gains_true[ant_j[vis_filter]])\n",
    "    #         postage_gain = postage*gain_factor[:,None]\n",
    "            postage_gain = postage\n",
    "            numer = np.sum(data[vis_filter][:,None]*np.conjugate(postage_gain), axis=0)\n",
    "            denom = np.sum(np.abs(postage_gain)**2, axis=0)\n",
    "\n",
    "            delta_v = numer/(25*denom)\n",
    "            gener_v[flatndx[vis_filter][0]] += delta_v\n",
    "            weights_visib[flatndx[vis_filter][0]] += 1\n",
    "        avged_guess = vector_weights(gener_v, weights_visib)\n",
    "\n",
    "        beam_est = est_beams\n",
    "        vis_est = avged_guess\n",
    "        iter_est = flat_model(vis_est, gains, beam_est, ant_i, ant_j, flatndx)\n",
    "        chiout = gen_chi2(data, iter_est)\n",
    "    \n",
    "    return beam_est, vis_est, chiout"
   ]
  },
  {
   "cell_type": "code",
   "execution_count": 1035,
   "metadata": {},
   "outputs": [],
   "source": [
    "for i in range(len(beams)):\n",
    "    ant_filter = (ant_i==i)\n",
    "    \n",
    "    numer = np.zeros(9, dtype=np.complex128)\n",
    "    denom = np.zeros(9, dtype=np.complex128)\n",
    "    for ndx,f in enumerate(flatndx[ant_filter]):\n",
    "        valpha = conjugate_visib(vis_true, f)\n",
    "        valphac = np.conjugate(valpha)\n",
    "        beamj = ant_j[ant_filter][ndx]\n",
    "        numer += (data[ant_filter][ndx]*(valpha[None,:]@matrix_beams[beamj])).flatten()\n",
    "        pair1 = conjugate_visib(vis_true, f)@matrix_beams[beamj]\n",
    "        denom += np.abs(pair1)**2\n",
    "    est_beams[i] = (numer/denom).reshape((3,3))"
   ]
  },
  {
   "cell_type": "code",
   "execution_count": 1137,
   "metadata": {},
   "outputs": [],
   "source": [
    "for w in worthy:\n",
    "    if w==zerondx:\n",
    "        continue\n",
    "    vis_filter = (visndx==w)\n",
    "\n",
    "    postage = np.array([signal.convolve(beams[ant_i[vis_filter][i]], np.conjugate(beams[ant_j[vis_filter][i]])).flatten() for i in range(np.sum(vis_filter))])\n",
    "\n",
    "    gain_factor = gains_true[ant_i[vis_filter]]*np.conj(gains_true[ant_j[vis_filter]])\n",
    "    postage_gain = postage*gain_factor[:,None]\n",
    "    numer = np.sum(data[vis_filter][:,None]*np.conjugate(postage_gain), axis=0)\n",
    "    denom = np.sum(np.abs(postage_gain)**2, axis=0)\n",
    "\n",
    "    delta_v = numer/(25*denom)\n",
    "    gener_v[flatndx[vis_filter][0]] += delta_v\n",
    "    weights_visib[flatndx[vis_filter][0]] += 1"
   ]
  },
  {
   "cell_type": "code",
   "execution_count": 1138,
   "metadata": {},
   "outputs": [],
   "source": [
    "avged_guess = vector_weights(gener_v, weights_visib)"
   ]
  },
  {
   "cell_type": "code",
   "execution_count": 1139,
   "metadata": {},
   "outputs": [
    {
     "data": {
      "text/plain": [
       "array([ 0.67705485+0.02073502j, -0.18589106+0.58982548j,\n",
       "        0.41033905-0.08324838j, ..., -0.41243607-0.34515172j,\n",
       "       -0.54547997-0.45649098j, -1.6909879 -1.41512204j])"
      ]
     },
     "execution_count": 1139,
     "metadata": {},
     "output_type": "execute_result"
    }
   ],
   "source": [
    "avged_guess"
   ]
  },
  {
   "cell_type": "code",
   "execution_count": 736,
   "metadata": {},
   "outputs": [
    {
     "name": "stdout",
     "output_type": "stream",
     "text": [
      "1147143407.0389664 50400 22760.781885693777\n"
     ]
    }
   ],
   "source": [
    "bad_sol = flat_model(avged_guess, gains_true, beams, ant_i, ant_j, flatndx)\n",
    "badchi, dof, ratio = gen_chi2(data, bad_sol)\n",
    "print(badchi, dof, ratio)"
   ]
  },
  {
   "cell_type": "markdown",
   "metadata": {},
   "source": [
    "Essentially, it puts ends up putting values such that after convolution each pixel in the 5x5 is the same (the data/25).\n",
    "But where there is overlap between the data points, averaging just makes it bad at both measurements which leads to the horrible chi2."
   ]
  },
  {
   "cell_type": "code",
   "execution_count": 710,
   "metadata": {},
   "outputs": [],
   "source": [
    "v_size = len(set(np.abs(flatndx).flatten())) + 1"
   ]
  },
  {
   "cell_type": "code",
   "execution_count": 700,
   "metadata": {},
   "outputs": [],
   "source": [
    "bigCSR, bigB = linear_solver_A(data, flatndx, beams, ant_i, ant_j)"
   ]
  },
  {
   "cell_type": "code",
   "execution_count": 701,
   "metadata": {},
   "outputs": [],
   "source": [
    "map_sol = sparse.linalg.lsqr(bigCSR, bigB, atol=1e-3)[0]"
   ]
  },
  {
   "cell_type": "code",
   "execution_count": 702,
   "metadata": {},
   "outputs": [],
   "source": [
    "comb_sol = map_sol[:v_size] + 1j*map_sol[v_size:]"
   ]
  },
  {
   "cell_type": "code",
   "execution_count": 703,
   "metadata": {},
   "outputs": [
    {
     "data": {
      "image/png": "[encoded data removed]",
      "text/plain": [
       "<Figure size 432x288 with 1 Axes>"
      ]
     },
     "metadata": {
      "image/png": {
       "height": 248,
       "width": 381
      },
      "needs_background": "light"
     },
     "output_type": "display_data"
    }
   ],
   "source": [
    "plt.hist(np.log10(np.abs(comb_sol - vis_true) + 1e-5), histtype='step', label='Difference');\n",
    "plt.hist(np.log10(np.abs(vis_true) + 1e-5), histtype='step', label='True');\n",
    "plt.hist(np.log10(np.abs(comb_sol) + 1e-5), histtype='step', label='Prediction');\n",
    "plt.legend(loc='upper left');"
   ]
  },
  {
   "cell_type": "code",
   "execution_count": 704,
   "metadata": {},
   "outputs": [],
   "source": [
    "comb_model = flat_model(comb_sol, gains_true, beams, ant_i, ant_j, flatndx)"
   ]
  },
  {
   "cell_type": "code",
   "execution_count": 705,
   "metadata": {},
   "outputs": [
    {
     "data": {
      "text/plain": [
       "(55149.88370110746, 50400, 1.0942437242283225)"
      ]
     },
     "execution_count": 705,
     "metadata": {},
     "output_type": "execute_result"
    }
   ],
   "source": [
    "gen_chi2(data, comb_model)"
   ]
  }
 ],
 "metadata": {
  "kernelspec": {
   "display_name": "Python 3",
   "language": "python",
   "name": "python3"
  },
  "language_info": {
   "codemirror_mode": {
    "name": "ipython",
    "version": 3
   },
   "file_extension": ".py",
   "mimetype": "text/x-python",
   "name": "python",
   "nbconvert_exporter": "python",
   "pygments_lexer": "ipython3",
   "version": "3.8.5"
  }
 },
 "nbformat": 4,
 "nbformat_minor": 4
}
