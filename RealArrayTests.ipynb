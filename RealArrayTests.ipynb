{
 "cells": [
  {
   "cell_type": "code",
   "execution_count": 1412,
   "metadata": {},
   "outputs": [],
   "source": [
    "import numpy as np\n",
    "import matplotlib.pyplot as plt\n",
    "from scipy import stats\n",
    "from scipy import sparse\n",
    "from scipy import optimize\n",
    "from scipy import signal\n",
    "from functools import reduce\n",
    "from collections import defaultdict\n",
    "import pprint\n",
    "from tqdm.notebook import tqdm"
   ]
  },
  {
   "cell_type": "code",
   "execution_count": 2,
   "metadata": {},
   "outputs": [],
   "source": [
    "%matplotlib inline\n",
    "%config InlineBackend.figure_format='retina'"
   ]
  },
  {
   "cell_type": "code",
   "execution_count": 709,
   "metadata": {},
   "outputs": [],
   "source": [
    "def get_num_baselines(Nside):\n",
    "    # For square of N telescopes, should be 2N-2*sqrt(N) + 1\n",
    "    # Fix to a corner and there are N-1 options for unique baselines. \n",
    "    # Flip over to other side (over x or y axis) and get another N-1 options\n",
    "    # Duplicated are the pure x-axis and pure y-axis so -2*(sqrt(N)-1)\n",
    "    # Final +1 is from 0 baseline\n",
    "    \n",
    "    N_bases = 2*Nside**2 - 2*Nside\n",
    "    return int(N_bases)\n",
    "\n",
    "rand_phases = lambda x: np.random.uniform(0, 2*np.pi, x)\n",
    "zero_weight = lambda x, d: x/d if d else 0\n",
    "\n",
    "def make_gains(Nside):\n",
    "    # Create complex gains with either (amplitude, phase) or (real, imaginary)\n",
    "    Nant = Nside**2\n",
    "    gain_amp = np.random.normal(1, .05, Nant)\n",
    "    gain_phase = rand_phases(Nant)\n",
    "    tgain = gain_amp*np.exp(1j*gain_phase)    \n",
    "    return tgain\n",
    "\n",
    "def make_data(Nside, gains, noise=0.1):\n",
    "    Nant = Nside**2\n",
    "    Nbase = get_num_baselines(Nside)\n",
    "    vis_true = np.random.normal(0,1,size=(Nbase,2)).view(np.complex128).flatten() ## size of unique baselines\n",
    "    ant_i, ant_j, visndx, data = [], [], [], []\n",
    "    ndx=0\n",
    "    ndx2base={}\n",
    "    base2ndx={}\n",
    "    for i in range(Nant):\n",
    "        xi,yi=np.unravel_index(i,(Nside,Nside))\n",
    "        for j in range (i+1,Nant):\n",
    "            xj,yj=np.unravel_index(j,(Nside,Nside))\n",
    "            assert (xj>=xi)\n",
    "            baseline = (xj-xi,yj-yi)\n",
    "            if baseline in base2ndx:\n",
    "                cndx = base2ndx[baseline]\n",
    "            else:\n",
    "                cndx = ndx\n",
    "                base2ndx[baseline]=ndx\n",
    "                ndx2base[ndx]=baseline\n",
    "                ndx+=1\n",
    "            ant_i.append(i)\n",
    "            ant_j.append(j)\n",
    "            visndx.append(cndx)\n",
    "            data.append(vis_true[cndx]*gains[i]*np.conj(gains[j]))\n",
    "            \n",
    "    assert(ndx==Nbase)\n",
    "    ant_i = np.array(ant_i)\n",
    "    ant_j = np.array(ant_j)\n",
    "    visndx = np.array(visndx)\n",
    "    data = np.array(data)\n",
    "    noise = np.random.normal(0,noise,size=(len(data),2)).view(np.complex128).flatten() ## size of unique baselines\n",
    "    data += noise\n",
    "    return vis_true, data, ant_i, ant_j, visndx, ndx2base, base2ndx"
   ]
  },
  {
   "cell_type": "code",
   "execution_count": 728,
   "metadata": {},
   "outputs": [],
   "source": [
    "def make_uv_grid(Nside):\n",
    "    uv_size = Nside*2 - 1\n",
    "    center = (Nside-1,Nside-1)\n",
    "    npcenter = np.array(center)\n",
    "    random_uv_grid = np.zeros((uv_size, uv_size, 2)).view(np.complex128)\n",
    "    poss_uv = random_uv_grid.reshape((uv_size, uv_size))\n",
    "    \n",
    "    # Bottom right and top left should be conjugates\n",
    "    for i in range(Nside-1, uv_size):\n",
    "        for j in range(Nside, uv_size):\n",
    "            rel_to_center = np.array([i,j]) - npcenter\n",
    "            conj_pos = tuple(npcenter - rel_to_center)\n",
    "            visb = np.random.normal(0,1,2).view(np.complex128)\n",
    "            poss_uv[i,j] = visb\n",
    "            poss_uv[conj_pos] = np.conj(visb)\n",
    "    \n",
    "    # Top right and bottom left should be conjugates\n",
    "    for i in range(Nside, uv_size):\n",
    "        for j in range(0, Nside):\n",
    "            rel_to_center = np.array([i,j]) - npcenter\n",
    "            conj_pos = tuple(npcenter - rel_to_center)\n",
    "            visb = np.random.normal(0,1,2).view(np.complex128)\n",
    "            poss_uv[i,j] = visb\n",
    "            poss_uv[conj_pos] = np.conj(visb)\n",
    "            \n",
    "    poss_uv[center] = 0\n",
    "    return poss_uv, npcenter"
   ]
  },
  {
   "cell_type": "code",
   "execution_count": 1961,
   "metadata": {},
   "outputs": [],
   "source": [
    "def make_data_grid(Nside, gains, weight_beam, noise=0.1):\n",
    "    Nant = Nside**2\n",
    "    Nbase = get_num_baselines(Nside)\n",
    "    beam1_f = weight_beam\n",
    "    beamsize = weight_beam.shape[0]\n",
    "    beam_radius = int((beamsize-1)/2)\n",
    "    uv_grid, npcenter = make_uv_grid(Nside+beam_radius)\n",
    "    vis_true = np.zeros(Nbase, dtype=np.complex128)\n",
    "    ant_i, ant_j, visndx, data, data_indx = [], [], [], [], []\n",
    "    ndx=0\n",
    "    ndx2base={}\n",
    "    base2ndx={}\n",
    "    for i in range(Nant):\n",
    "        xi,yi=np.unravel_index(i,(Nside,Nside))\n",
    "        for j in range (i+1,Nant):\n",
    "            xj,yj=np.unravel_index(j,(Nside,Nside))\n",
    "            assert (xj>=xi)\n",
    "            baseline = (xj-xi,yj-yi)\n",
    "            if baseline in base2ndx:\n",
    "                cndx = base2ndx[baseline]\n",
    "            else:\n",
    "                cndx = ndx\n",
    "                base2ndx[baseline]=ndx\n",
    "                ndx2base[ndx]=baseline\n",
    "                ndx+=1\n",
    "            center = npcenter + baseline\n",
    "            uv_indices = tuple(np.meshgrid(range(center[0]-beam_radius,center[0]+beam_radius+1),range(center[1]-beam_radius,center[1]+beam_radius+1)))\n",
    "            uv_points = uv_grid[uv_indices]*weight_beam\n",
    "            vis_true[cndx] = uv_grid[tuple(center)]\n",
    "            ant_i.append(i)\n",
    "            ant_j.append(j)\n",
    "            visndx.append(cndx)\n",
    "            data.append(np.sum(signal.fftconvolve(uv_points, beam1_f).T*gains[i]*np.conj(gains[j])))\n",
    "            data_indx.append(uv_indices)\n",
    "            \n",
    "    assert(ndx==Nbase)\n",
    "    ant_i = np.array(ant_i)\n",
    "    ant_j = np.array(ant_j)\n",
    "    visndx = np.array(visndx)\n",
    "    data = np.array(data)\n",
    "    noise = np.random.normal(0,noise,size=(len(data),2)).view(np.complex128).flatten() ## size of unique baselines\n",
    "    data += noise\n",
    "    return vis_true, data, ant_i, ant_j, visndx, data_indx, uv_grid, ndx2base, base2ndx"
   ]
  },
  {
   "cell_type": "code",
   "execution_count": 1892,
   "metadata": {},
   "outputs": [],
   "source": [
    "def make_pred(gains, vis, ant_i, ant_j, visndx):\n",
    "    gains_i = gains[ant_i]\n",
    "    cgains_j = np.conj(gains[ant_j])\n",
    "    pred = gains_i*cgains_j*vis[visndx]\n",
    "    return pred"
   ]
  },
  {
   "cell_type": "code",
   "execution_count": 1893,
   "metadata": {},
   "outputs": [],
   "source": [
    "def chi2 (data, gains, vis, ant_i, ant_j, visndx, noise=0.1):\n",
    "    pred = make_pred(gains, vis, ant_i, ant_j, visndx)\n",
    "    chi2 = np.abs((data - pred)**2).sum()/(noise**2)\n",
    "    dof = len(data)*2\n",
    "    return chi2, dof"
   ]
  },
  {
   "cell_type": "code",
   "execution_count": 1894,
   "metadata": {},
   "outputs": [],
   "source": [
    "def flat_to_matrix(Nside, flattened, a_i, a_j):\n",
    "    Nant = Nside**2\n",
    "    temp_mat = np.zeros((Nant, Nant), dtype=np.complex128)\n",
    "    temp_mat[a_i, a_j] = flattened\n",
    "    temp_mat[a_j, a_i] = np.conj(flattened)\n",
    "    return temp_mat"
   ]
  },
  {
   "cell_type": "code",
   "execution_count": 1953,
   "metadata": {},
   "outputs": [],
   "source": [
    "def solve_grid(data, data_ndx, scale=1, beamweight=None):\n",
    "   \n",
    "    new_uv_size = max(list(map(np.max, data_ndx)))+1\n",
    "    new_uv_indx = np.arange(new_uv_size**2).reshape((new_uv_size, new_uv_size))\n",
    "    real2ndx = {}\n",
    "    ndx2real = {}\n",
    "    real_counter = 0\n",
    "    if beamweight is None:\n",
    "        beamweight = np.ones(data_ndx[0][0].flatten().shape[0])\n",
    "    \n",
    "    for i in data_ndx:\n",
    "        for k in set(new_uv_indx[i].flatten()):\n",
    "            if k not in real2ndx:\n",
    "                real2ndx[k] = real_counter\n",
    "                ndx2real[real_counter] = k\n",
    "                real_counter += 1\n",
    "    vector_real = np.vectorize(real2ndx.get)\n",
    "    vector_ndx = np.vectorize(ndx2real.get)\n",
    "    \n",
    "    A = np.zeros((data_len, len(ndx2real)))\n",
    "    b = data/scale\n",
    "    for i,v in enumerate(data_ndx):\n",
    "        sky_ndxs = new_uv_indx[v].flatten()\n",
    "        non_zeros = vector_real(sky_ndxs)\n",
    "        A[i][non_zeros] = beamweight\n",
    "    shitsol = np.linalg.lstsq(A,b, rcond=None)[0]\n",
    "    score = np.sum(np.abs(A@shitsol - b))\n",
    "    return shitsol, ndx2real, real2ndx, score, A, b"
   ]
  },
  {
   "cell_type": "code",
   "execution_count": 1896,
   "metadata": {},
   "outputs": [],
   "source": [
    "def get_weighted_array(alpha, Nspacing, numdraws=1e5):\n",
    "\n",
    "    Nbeam = Nspacing**2\n",
    "    rmax = alpha*.5\n",
    "    ndraws = int(numdraws)\n",
    "    spacing = np.linspace(0,1,Nspacing+1)\n",
    "    centered_spacing = spacing - .5\n",
    "    empty_weight_beam = np.zeros((Nspacing, Nspacing))\n",
    "    \n",
    "    for i in range(Nbeam):\n",
    "        xi, yi = np.unravel_index(i, (Nspacing, Nspacing))\n",
    "        draws = np.array([np.random.uniform(centered_spacing[xi], centered_spacing[xi+1], ndraws), np.random.uniform(centered_spacing[yi], centered_spacing[yi+1], ndraws)])\n",
    "        dist = np.linalg.norm(draws, axis=0)\n",
    "        empty_weight_beam[xi, yi] = np.sum(dist < rmax)/num_draws\n",
    "    sym_beam = .5*(empty_weight_beam + empty_weight_beam.T)\n",
    "    return sym_beam"
   ]
  },
  {
   "cell_type": "code",
   "execution_count": 1980,
   "metadata": {},
   "outputs": [],
   "source": [
    "Nside = 5\n",
    "Nant = Nside * Nside\n",
    "Nbase = get_num_baselines(Nside)\n",
    "# gains_true = make_gains(Nside)\n",
    "gains_true = np.ones(Nant, dtype=np.complex128)\n",
    "# uv_grid, npcenter = make_uv_grid(Nside)\n",
    "# vis_true, data, ant_i, ant_j, visndx, ndx2base, base2ndx = make_data(Nside, gains_true)\n",
    "weighted_beam = get_weighted_array(.8, 3)\n",
    "vis_true, data, ant_i, ant_j, visndx, data_ndx, uv_grid, ndx2base, base2ndx = make_data_grid(Nside, gains_true, weighted_beam, noise=0.1)\n",
    "data_len = len(data)\n",
    "no_noise = make_pred(gains_true, vis_true, ant_i, ant_j, visndx)"
   ]
  },
  {
   "cell_type": "code",
   "execution_count": 1981,
   "metadata": {},
   "outputs": [
    {
     "name": "stdout",
     "output_type": "stream",
     "text": [
      "(6.8020242745627275-2.7010526117826834j)\n"
     ]
    }
   ],
   "source": [
    "# print(np.sum(signal.convolve(weighted_beam, weighted_beam)))\n",
    "# print(np.sum(weighted_beam))\n",
    "# print(np.sum(uv_grid[data_ndx[0]]))\n",
    "print(data[0]/np.sum(uv_grid[data_ndx[0]]))\n",
    "# print(data[0]/np.sum(weighted_beam))"
   ]
  },
  {
   "cell_type": "code",
   "execution_count": 1982,
   "metadata": {},
   "outputs": [],
   "source": [
    "sol, n2r, _, score, A, b = solve_grid(data, data_ndx, np.sum(weighted_beam), weighted_beam.flatten())\n",
    "finsize = np.product(uv_grid.shape)\n",
    "real_sol = np.array([uv_grid[np.unravel_index(n2r[i], uv_grid.shape)] for i in np.arange(len(n2r))])"
   ]
  },
  {
   "cell_type": "code",
   "execution_count": 1986,
   "metadata": {},
   "outputs": [
    {
     "data": {
      "text/plain": [
       "8.17824163971092"
      ]
     },
     "execution_count": 1986,
     "metadata": {},
     "output_type": "execute_result"
    }
   ],
   "source": [
    "np.sum(np.abs(A@real_sol - b))"
   ]
  },
  {
   "cell_type": "code",
   "execution_count": 1925,
   "metadata": {},
   "outputs": [
    {
     "data": {
      "text/plain": [
       "(1918227.0581338815, 600)"
      ]
     },
     "execution_count": 1925,
     "metadata": {},
     "output_type": "execute_result"
    }
   ],
   "source": [
    "phased_gains = gains_true*np.exp(1j*rand_phases(Nant)/5)\n",
    "chi2(data, gains_true, vis_true, ant_i, ant_j, visndx)"
   ]
  },
  {
   "cell_type": "markdown",
   "metadata": {},
   "source": [
    "### Below this is my random testing/playground"
   ]
  },
  {
   "cell_type": "code",
   "execution_count": 1342,
   "metadata": {},
   "outputs": [],
   "source": [
    "uv_grid, npcenter = make_uv_grid(Nside+1)"
   ]
  },
  {
   "cell_type": "code",
   "execution_count": 1869,
   "metadata": {},
   "outputs": [],
   "source": [
    "beam_size = 3\n",
    "beam_radius = 1\n",
    "center = tuple(npcenter+(3,0))"
   ]
  },
  {
   "cell_type": "code",
   "execution_count": 1870,
   "metadata": {},
   "outputs": [],
   "source": [
    "beam1_f = np.ones((beam_size,beam_size))\n",
    "beam2_f = np.zeros((9,9))\n",
    "grab_3uv = np.zeros((3,3), dtype=np.complex128)"
   ]
  },
  {
   "cell_type": "code",
   "execution_count": 1871,
   "metadata": {},
   "outputs": [],
   "source": [
    "conv_beam = signal.convolve(beam1_f, beam1_f)"
   ]
  },
  {
   "cell_type": "code",
   "execution_count": 1872,
   "metadata": {},
   "outputs": [],
   "source": [
    "lhs = signal.convolve(beam1_f, uv_grid[center[0]-beam_radius:center[0]+beam_radius+1,center[1]-beam_radius:center[1]+beam_radius+1])"
   ]
  },
  {
   "cell_type": "code",
   "execution_count": 1873,
   "metadata": {},
   "outputs": [
    {
     "data": {
      "text/plain": [
       "(8, 5)"
      ]
     },
     "execution_count": 1873,
     "metadata": {},
     "output_type": "execute_result"
    }
   ],
   "source": [
    "center"
   ]
  },
  {
   "cell_type": "code",
   "execution_count": 1874,
   "metadata": {},
   "outputs": [
    {
     "data": {
      "text/plain": [
       "(-0.28916879703790555-0.00415327649319357j)"
      ]
     },
     "execution_count": 1874,
     "metadata": {},
     "output_type": "execute_result"
    }
   ],
   "source": [
    "uv_grid[7,5]"
   ]
  },
  {
   "cell_type": "code",
   "execution_count": 1876,
   "metadata": {},
   "outputs": [
    {
     "data": {
      "text/plain": [
       "array([[ 8.29324085e-01,  5.40155288e-01,  2.79812923e+00,\n",
       "         1.96880514e+00,  2.25797394e+00],\n",
       "       [ 2.01181620e+00,  7.88935884e-01,  3.54302605e+00,\n",
       "         1.53120985e+00,  2.75409017e+00],\n",
       "       [ 9.31314099e-01,  5.76049880e-01,  2.83118508e+00,\n",
       "         1.89987098e+00,  2.25513520e+00],\n",
       "       [ 1.01990014e-01,  3.58945919e-02,  3.30558512e-02,\n",
       "        -6.89341623e-02, -2.83874067e-03],\n",
       "       [-1.08050210e+00, -2.12886004e-01, -7.11840975e-01,\n",
       "         3.68661126e-01, -4.98954971e-01]])"
      ]
     },
     "execution_count": 1876,
     "metadata": {},
     "output_type": "execute_result"
    }
   ],
   "source": [
    "lhs.real"
   ]
  },
  {
   "cell_type": "code",
   "execution_count": 1858,
   "metadata": {},
   "outputs": [
    {
     "data": {
      "text/plain": [
       "(25.48066569885156-16.240879940093766j)"
      ]
     },
     "execution_count": 1858,
     "metadata": {},
     "output_type": "execute_result"
    }
   ],
   "source": [
    "np.sum(lhs)"
   ]
  },
  {
   "cell_type": "code",
   "execution_count": null,
   "metadata": {},
   "outputs": [],
   "source": []
  }
 ],
 "metadata": {
  "kernelspec": {
   "display_name": "Python 3",
   "language": "python",
   "name": "python3"
  },
  "language_info": {
   "codemirror_mode": {
    "name": "ipython",
    "version": 3
   },
   "file_extension": ".py",
   "mimetype": "text/x-python",
   "name": "python",
   "nbconvert_exporter": "python",
   "pygments_lexer": "ipython3",
   "version": "3.8.5"
  }
 },
 "nbformat": 4,
 "nbformat_minor": 4
}
