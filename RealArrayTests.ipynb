{
 "cells": [
  {
   "cell_type": "code",
   "execution_count": 1,
   "metadata": {},
   "outputs": [],
   "source": [
    "import numpy as np\n",
    "import matplotlib.pyplot as plt\n",
    "from scipy import stats\n",
    "from scipy import sparse\n",
    "from scipy import optimize\n",
    "from scipy import signal\n",
    "from functools import reduce\n",
    "from collections import defaultdict\n",
    "import pprint\n",
    "from tqdm.notebook import tqdm\n",
    "import pandas as pd # Only here to print arrays nicely"
   ]
  },
  {
   "cell_type": "code",
   "execution_count": 2,
   "metadata": {},
   "outputs": [],
   "source": [
    "%matplotlib inline\n",
    "%config InlineBackend.figure_format='retina'"
   ]
  },
  {
   "cell_type": "markdown",
   "metadata": {},
   "source": [
    "# TOC\n",
    "1. [1x1 Beam Functions](#1x1)\n",
    "2. [NxN Beam Complications](#NxN)\n",
    "3. [Playground](#playground)"
   ]
  },
  {
   "cell_type": "markdown",
   "metadata": {},
   "source": [
    "### Simplified case for 1x1 beam <a name=\"1x1\"></a>"
   ]
  },
  {
   "cell_type": "code",
   "execution_count": 3,
   "metadata": {},
   "outputs": [],
   "source": [
    "def get_num_baselines(Nside):\n",
    "    # For square of N telescopes, should be 2N-2*sqrt(N) + 1\n",
    "    # Fix to a corner and there are N-1 options for unique baselines. \n",
    "    # Flip over to other side (over x or y axis) and get another N-1 options\n",
    "    # Duplicated are the pure x-axis and pure y-axis so -2*(sqrt(N)-1)\n",
    "    # Final +1 is from 0 baseline\n",
    "    \n",
    "    N_bases = 2*Nside**2 - 2*Nside\n",
    "    return int(N_bases)\n",
    "\n",
    "rand_phases = lambda x: np.random.uniform(0, 2*np.pi, x)\n",
    "zero_weight = lambda x, d: x/d if d else 0\n",
    "\n",
    "def make_gains(Nside):\n",
    "    # Create complex gains with either (amplitude, phase) or (real, imaginary)\n",
    "    Nant = Nside**2\n",
    "    gain_amp = np.random.normal(1, .05, Nant)\n",
    "    gain_phase = rand_phases(Nant)\n",
    "    tgain = gain_amp*np.exp(1j*gain_phase)    \n",
    "    return tgain\n",
    "\n",
    "def make_data(Nside, gains, noise=0.1):\n",
    "    Nant = Nside**2\n",
    "    Nbase = get_num_baselines(Nside)\n",
    "    vis_true = np.random.normal(0,1,size=(Nbase,2)).view(np.complex128).flatten() ## size of unique baselines\n",
    "    ant_i, ant_j, visndx, data = [], [], [], []\n",
    "    ndx=0\n",
    "    ndx2base={}\n",
    "    base2ndx={}\n",
    "    for i in range(Nant):\n",
    "        xi,yi=np.unravel_index(i,(Nside,Nside))\n",
    "        for j in range (i+1,Nant):\n",
    "            xj,yj=np.unravel_index(j,(Nside,Nside))\n",
    "            assert (xj>=xi)\n",
    "            baseline = (xj-xi,yj-yi)\n",
    "            if baseline in base2ndx:\n",
    "                cndx = base2ndx[baseline]\n",
    "            else:\n",
    "                cndx = ndx\n",
    "                base2ndx[baseline]=ndx\n",
    "                ndx2base[ndx]=baseline\n",
    "                ndx+=1\n",
    "            ant_i.append(i)\n",
    "            ant_j.append(j)\n",
    "            visndx.append(cndx)\n",
    "            data.append(vis_true[cndx]*gains[i]*np.conj(gains[j]))\n",
    "            \n",
    "    assert(ndx==Nbase)\n",
    "    ant_i = np.array(ant_i)\n",
    "    ant_j = np.array(ant_j)\n",
    "    visndx = np.array(visndx)\n",
    "    data = np.array(data)\n",
    "    noise = np.random.normal(0,noise,size=(len(data),2)).view(np.complex128).flatten() ## size of unique baselines\n",
    "    data += noise\n",
    "    return vis_true, data, ant_i, ant_j, visndx, ndx2base, base2ndx"
   ]
  },
  {
   "cell_type": "code",
   "execution_count": 4,
   "metadata": {},
   "outputs": [],
   "source": [
    "def make_pred(gains, vis, ant_i, ant_j, visndx):\n",
    "    gains_i = gains[ant_i]\n",
    "    cgains_j = np.conj(gains[ant_j])\n",
    "    pred = gains_i*cgains_j*vis[visndx]\n",
    "    return pred"
   ]
  },
  {
   "cell_type": "code",
   "execution_count": 5,
   "metadata": {},
   "outputs": [],
   "source": [
    "def chi2(data, gains, vis, ant_i, ant_j, visndx, noise=0.1):\n",
    "    pred = make_pred(gains, vis, ant_i, ant_j, visndx)\n",
    "    chi2 = np.abs((data - pred)**2).sum()/(noise**2)\n",
    "    dof = len(data)*2\n",
    "    return chi2, dof"
   ]
  },
  {
   "cell_type": "markdown",
   "metadata": {},
   "source": [
    "### NxN beam complications <a name=\"NxN\"></a>"
   ]
  },
  {
   "cell_type": "code",
   "execution_count": 6,
   "metadata": {},
   "outputs": [],
   "source": [
    "def get_weighted_array(alpha, Nspacing, numdraws=1e5):\n",
    "    Nbeam = Nspacing**2\n",
    "    rmax = alpha*.5\n",
    "    ndraws = int(numdraws)\n",
    "    spacing = np.linspace(0,1,Nspacing+1)\n",
    "    centered_spacing = spacing - .5\n",
    "    empty_weight_beam = np.zeros((Nspacing, Nspacing))\n",
    "    \n",
    "    for i in range(Nbeam):\n",
    "        xi, yi = np.unravel_index(i, (Nspacing, Nspacing))\n",
    "        draws = np.array([np.random.uniform(centered_spacing[xi], centered_spacing[xi+1], ndraws), np.random.uniform(centered_spacing[yi], centered_spacing[yi+1], ndraws)])\n",
    "        dist = np.linalg.norm(draws, axis=0)\n",
    "        empty_weight_beam[xi, yi] = np.sum(dist < rmax)/ndraws\n",
    "    sym_beam = .5*(empty_weight_beam + empty_weight_beam.T)\n",
    "    return sym_beam"
   ]
  },
  {
   "cell_type": "code",
   "execution_count": 319,
   "metadata": {},
   "outputs": [],
   "source": [
    "def n_mesh(br):\n",
    "    nmesh = lambda x: tuple(np.meshgrid(range(x[0]-br, x[0]+br+1), range(x[1]-br, x[1]+br+1), indexing='ij'))\n",
    "    return nmesh\n",
    "\n",
    "five_mesh = n_mesh(2)"
   ]
  },
  {
   "cell_type": "code",
   "execution_count": 320,
   "metadata": {},
   "outputs": [],
   "source": [
    "def make_uv_grid(Nside):\n",
    "    uv_size = Nside*2 - 1\n",
    "    center = (Nside-1,Nside-1)\n",
    "    npcenter = np.array(center)\n",
    "    img_size = (uv_size, uv_size)\n",
    "    random_image = np.random.normal(0, 1, img_size)\n",
    "    centered_uv = np.fft.fftshift(np.fft.fft2(random_image))\n",
    "#     centered_uv[center] = 0\n",
    "    topleft_uv = np.fft.ifftshift(centered_uv)\n",
    "    \n",
    "    return centered_uv, topleft_uv, npcenter"
   ]
  },
  {
   "cell_type": "code",
   "execution_count": 321,
   "metadata": {},
   "outputs": [],
   "source": [
    "def make_visibilities(Nside, beam_radius):\n",
    "    n = Nside\n",
    "    br = beam_radius\n",
    "    \n",
    "    # Useful shapes/sizes to have on hand\n",
    "    orig_shape = (2*n-1, n)\n",
    "    new_shape = tuple([i*br + (br - 1) for i in orig_shape])\n",
    "    new_size = np.prod(new_shape)\n",
    "    center = (int((new_shape[0]-1)/2), br-1)\n",
    "    \n",
    "    #Matrices of visibiltiies and possible indices\n",
    "    random_vis = np.random.normal(0, 1, (new_shape[0], new_shape[1], 2)).view(np.complex128)\n",
    "    poss_index = np.arange(new_size).reshape(new_shape)\n",
    "    \n",
    "    #Clear off the leftmost columns to remove redundant conjugate stuff\n",
    "    poss_index[0:center[0], 0:br] = 0\n",
    "    poss_index[center[0]:, 0:br-1] = 0\n",
    "    \n",
    "    oversampled_baselines = poss_index.nonzero()[0].shape[0]\n",
    "    visib = np.zeros(oversampled_baselines, dtype=np.complex128)\n",
    "    #Baseline - index dictionaries\n",
    "    new_ndx = 0\n",
    "    n2b = {}\n",
    "    b2n = {}\n",
    "    n2true = {}\n",
    "    true2n = {}\n",
    "    for i in range(new_size):\n",
    "        xi,yi = np.unravel_index(i, new_shape)\n",
    "        if poss_index[xi,yi] == 0:\n",
    "            continue\n",
    "        else:\n",
    "            baseline = (xi-center[0], yi-center[1])\n",
    "            if baseline[0] < 0:\n",
    "                baseline = (-1*baseline[0], -1*baseline[1])\n",
    "\n",
    "            if baseline in b2n:\n",
    "                cndx = new_ndx\n",
    "            else:\n",
    "                cndx = new_ndx\n",
    "                b2n[baseline] = new_ndx\n",
    "                n2b[new_ndx] = baseline\n",
    "                if tuple(np.mod(baseline, br)) == (0,0):\n",
    "                    modtuple = tuple(np.floor_divide(baseline, 3))\n",
    "                    true2n[modtuple] = new_ndx\n",
    "                    n2true[new_ndx] = modtuple\n",
    "                new_ndx += 1\n",
    "        visib[cndx] = random_vis[xi,yi]\n",
    "    return n2b, b2n, n2true, true2n, visib"
   ]
  },
  {
   "cell_type": "code",
   "execution_count": 352,
   "metadata": {},
   "outputs": [],
   "source": [
    "def vis_to_grid(visib, ndx2base, size):\n",
    "    # Double the size to make sure to avoid rewriting values with negative indexing\n",
    "    uv_size = (2*size[0], 2*size[1])\n",
    "    new_grid = np.zeros(uv_size, dtype=np.complex128)\n",
    "    for i,v in enumerate(visib):\n",
    "        base = ndx2base[i]\n",
    "        inv_base = tuple(-1*np.array(base))\n",
    "        new_grid[base] = v\n",
    "        new_grid[inv_base] = np.conj(v)\n",
    "    return new_grid"
   ]
  },
  {
   "cell_type": "code",
   "execution_count": 353,
   "metadata": {},
   "outputs": [],
   "source": [
    "def make_data_grid(Nside, gains, conv_beam, noise=0.1, verbose=True):\n",
    "    Nant = Nside**2\n",
    "    Nbase = get_num_baselines(Nside)\n",
    "    beam_radius = int((conv_beam.shape[0]-1)/2) + 1\n",
    "    mesh = n_mesh(beam_radius-1)\n",
    "    \n",
    "    n2b, b2n, n2t, t2n, visib = make_visibilities(Nside, beam_radius)\n",
    "    if verbose:\n",
    "        print(\"Made visib\")\n",
    "    orig_shape = (2*Nside-1, Nside)\n",
    "    new_shape = tuple([i*beam_radius + (beam_radius - 1) for i in orig_shape])\n",
    "    \n",
    "    vis_grid = vis_to_grid(visib, n2b, new_shape)\n",
    "    if verbose:\n",
    "        print(\"Made grid\")\n",
    "    \n",
    "    ant_i, ant_j, visndx, data, datandx = [], [], [], [], []\n",
    "    \n",
    "    for i in range(Nant):\n",
    "        xi,yi=np.unravel_index(i,(Nside, Nside))\n",
    "        for j in range (i+1,Nant):\n",
    "            xj,yj=np.unravel_index(j,(Nside, Nside))\n",
    "            assert (xj>=xi)\n",
    "            baseline = (xj-xi,yj-yi)\n",
    "            \n",
    "            virtual_n = t2n[baseline]\n",
    "            grid_base = n2b[virtual_n]\n",
    "            \n",
    "            virtual_points = mesh(grid_base)\n",
    "            data_sum = (vis_grid[virtual_points].T * gains[i] * np.conj(gains[j]) * conv_beam).sum()\n",
    "            \n",
    "            ant_i.append(i)\n",
    "            ant_j.append(j)\n",
    "            visndx.append(virtual_n)\n",
    "            data.append(data_sum)\n",
    "            datandx.append(virtual_points)\n",
    "    \n",
    "    if verbose:\n",
    "        print(\"Created data\")\n",
    "    \n",
    "    ant_i = np.array(ant_i)\n",
    "    ant_j = np.array(ant_j)\n",
    "    visndx = np.array(visndx)\n",
    "    data = np.array(data)\n",
    "    noise = np.random.normal(0,noise,size=(len(data),2)).view(np.complex128).flatten() ## size of unique baselines\n",
    "    data += noise\n",
    "    return visib, data, ant_i, ant_j, visndx, datandx, n2b, b2n, n2t, t2n, vis_grid"
   ]
  },
  {
   "cell_type": "code",
   "execution_count": 354,
   "metadata": {},
   "outputs": [],
   "source": [
    "def vector_b2n(b2n, datandx):\n",
    "    newndx = []\n",
    "    for l in datandx:\n",
    "        x,y = l\n",
    "        flattened = []\n",
    "        ndx_size = x.size\n",
    "        ndx_shape = x.shape\n",
    "        for i in range(ndx_size):\n",
    "            point = np.unravel_index(i, ndx_shape)\n",
    "            k = np.array([x[point], y[point]])\n",
    "            key = tuple(k)\n",
    "            if key in b2n:\n",
    "                flattened.append(b2n[key])\n",
    "            else:\n",
    "                key = tuple(-1*k)\n",
    "                flattened.append(-1*b2n[key])\n",
    "        newndx.append(flattened)\n",
    "    newndx = np.array(newndx)\n",
    "    return newndx"
   ]
  },
  {
   "cell_type": "code",
   "execution_count": 355,
   "metadata": {},
   "outputs": [],
   "source": [
    "def conjugate_visib(vis, ndxs):\n",
    "    flat = []\n",
    "    for i in ndxs:\n",
    "        if i >= 0:\n",
    "            flat.append(vis[i])\n",
    "        else:\n",
    "            flat.append(np.conj(vis[-1*i]))\n",
    "    return np.array(flat)"
   ]
  },
  {
   "cell_type": "code",
   "execution_count": 356,
   "metadata": {},
   "outputs": [],
   "source": [
    "def forward_model(vis, gains, conv_beam, ant_i, ant_j, n2b, datandx):\n",
    "    Nside = int(np.sqrt(len(gains_true)))\n",
    "    beam_radius = int((conv_beam.shape[0]-1)/2) + 1\n",
    "    \n",
    "    orig_shape = (2*Nside-1, Nside)\n",
    "    new_shape = tuple([i*beam_radius + (beam_radius - 1) for i in orig_shape])\n",
    "    vis_grid = vis_to_grid(vis, n2b, new_shape)\n",
    "    \n",
    "    pred = []\n",
    "    \n",
    "    for i in range(len(ant_i)):\n",
    "        pred.append((vis_grid[datandx[i]] * gains[ant_i[i]] * np.conj(gains[ant_j[i]]) * conv_beam).sum())\n",
    "    pred = np.array(pred)\n",
    "    return pred"
   ]
  },
  {
   "cell_type": "code",
   "execution_count": 357,
   "metadata": {},
   "outputs": [
    {
     "name": "stdout",
     "output_type": "stream",
     "text": [
      "Made visib\n",
      "Made grid\n",
      "Created data\n"
     ]
    }
   ],
   "source": [
    "Nside = 15\n",
    "Nant = Nside * Nside\n",
    "Nbase = get_num_baselines(Nside)\n",
    "# gains_true = make_gains(Nside)\n",
    "gains_true = np.ones(Nant, dtype=np.complex128)\n",
    "# uv_grid, npcenter = make_uv_grid(Nside)\n",
    "# vis_true, data, ant_i, ant_j, visndx, ndx2base, base2ndx = make_data(Nside, gains_true)\n",
    "weighted_beam = get_weighted_array(1, 3)\n",
    "conv_beam = signal.convolve(weighted_beam, weighted_beam)\n",
    "vis_true, data, ant_i, ant_j, visndx, datandx, n2b, b2n, n2t, t2n, tl_grid = make_data_grid(Nside, gains_true, conv_beam, noise=0.1)\n",
    "flatndx = vector_b2n(b2n, datandx)\n",
    "data_len = len(data)\n",
    "no_noise = make_pred(gains_true, vis_true, ant_i, ant_j, visndx)"
   ]
  },
  {
   "cell_type": "code",
   "execution_count": 328,
   "metadata": {},
   "outputs": [
    {
     "data": {
      "text/plain": [
       "(-21.758139569614144+15.395245031421835j)"
      ]
     },
     "execution_count": 328,
     "metadata": {},
     "output_type": "execute_result"
    }
   ],
   "source": [
    "np.sum(tl_grid[datandx[0]].T*conv_beam)"
   ]
  },
  {
   "cell_type": "code",
   "execution_count": 329,
   "metadata": {},
   "outputs": [],
   "source": [
    "test_b = forward_model(vis_true, gains_true, conv_beam, ant_i, ant_j, n2b, datandx)"
   ]
  },
  {
   "cell_type": "code",
   "execution_count": 330,
   "metadata": {},
   "outputs": [
    {
     "data": {
      "text/plain": [
       "(-21.758139569614144+15.395245031421835j)"
      ]
     },
     "execution_count": 330,
     "metadata": {},
     "output_type": "execute_result"
    }
   ],
   "source": [
    "test_b[0]"
   ]
  },
  {
   "cell_type": "code",
   "execution_count": 33,
   "metadata": {},
   "outputs": [
    {
     "name": "stdout",
     "output_type": "stream",
     "text": [
      "(1.0054034714561515-0.002289114396490778j)\n"
     ]
    }
   ],
   "source": [
    "# print(np.sum(signal.convolve(weighted_beam, weighted_beam)))\n",
    "# print(np.sum(weighted_beam))\n",
    "# print(np.sum(uv_grid[data_ndx[0]]))\n",
    "print(data[0]/np.sum(tl_grid[datandx[0]]))\n",
    "# print(data[0]/np.sum(weighted_beam))"
   ]
  },
  {
   "cell_type": "code",
   "execution_count": 188,
   "metadata": {},
   "outputs": [],
   "source": [
    "sol, n2r, _, score, A, b = solve_grid(data, data_ndx, np.sum(weighted_beam), weighted_beam.flatten())\n",
    "finsize = np.product(uv_grid.shape)\n",
    "real_sol = np.array([uv_grid[np.unravel_index(n2r[i], uv_grid.shape)] for i in np.arange(len(n2r))])"
   ]
  },
  {
   "cell_type": "code",
   "execution_count": 189,
   "metadata": {},
   "outputs": [
    {
     "name": "stdout",
     "output_type": "stream",
     "text": [
      "Real sol:  13436.846278151952\n",
      "lin sol:  3643.9062704599846\n"
     ]
    }
   ],
   "source": [
    "print(\"Real sol: \", np.sum(np.abs(A@real_sol - b)))\n",
    "print(\"lin sol: \", np.sum(np.abs(A@sol - b)))"
   ]
  },
  {
   "cell_type": "code",
   "execution_count": 187,
   "metadata": {},
   "outputs": [
    {
     "data": {
      "text/plain": [
       "(3124100516.744245, 600)"
      ]
     },
     "execution_count": 187,
     "metadata": {},
     "output_type": "execute_result"
    }
   ],
   "source": [
    "phased_gains = gains_true*np.exp(1j*rand_phases(Nant)/5)\n",
    "chi2(data, gains_true, vis_true, ant_i, ant_j, visndx)"
   ]
  },
  {
   "cell_type": "markdown",
   "metadata": {},
   "source": [
    "### Below this is my random testing/playground <a name=\"playground\"></a>"
   ]
  },
  {
   "cell_type": "code",
   "execution_count": 403,
   "metadata": {},
   "outputs": [],
   "source": [
    "real_part = data.real\n",
    "imag_part = data.imag"
   ]
  },
  {
   "cell_type": "code",
   "execution_count": 404,
   "metadata": {},
   "outputs": [],
   "source": [
    "v_size = len(set(np.abs(flatndx).flatten())) + 1"
   ]
  },
  {
   "cell_type": "code",
   "execution_count": 405,
   "metadata": {},
   "outputs": [],
   "source": [
    "realA = np.zeros((data_len, v_size))"
   ]
  },
  {
   "cell_type": "code",
   "execution_count": 406,
   "metadata": {},
   "outputs": [],
   "source": [
    "for i,v in enumerate(flatndx):\n",
    "    absv = np.abs(v)\n",
    "    realA[i][absv] = conv_beam.flatten()"
   ]
  },
  {
   "cell_type": "code",
   "execution_count": 408,
   "metadata": {},
   "outputs": [
    {
     "name": "stderr",
     "output_type": "stream",
     "text": [
      "<ipython-input-408-1e2be06cd092>:1: FutureWarning: `rcond` parameter will change to the default of machine precision times ``max(M, N)`` where M and N are the input matrix dimensions.\n",
      "To use the future default and silence this warning we advise to pass `rcond=None`, to keep using the old, explicitly pass `rcond=-1`.\n",
      "  shitsol = np.linalg.lstsq(realA, real_part)\n"
     ]
    },
    {
     "ename": "KeyboardInterrupt",
     "evalue": "",
     "output_type": "error",
     "traceback": [
      "\u001b[0;31m---------------------------------------------------------------------------\u001b[0m",
      "\u001b[0;31mKeyboardInterrupt\u001b[0m                         Traceback (most recent call last)",
      "\u001b[0;32m<ipython-input-408-1e2be06cd092>\u001b[0m in \u001b[0;36m<module>\u001b[0;34m\u001b[0m\n\u001b[0;32m----> 1\u001b[0;31m \u001b[0mshitsol\u001b[0m \u001b[0;34m=\u001b[0m \u001b[0mnp\u001b[0m\u001b[0;34m.\u001b[0m\u001b[0mlinalg\u001b[0m\u001b[0;34m.\u001b[0m\u001b[0mlstsq\u001b[0m\u001b[0;34m(\u001b[0m\u001b[0mrealA\u001b[0m\u001b[0;34m,\u001b[0m \u001b[0mreal_part\u001b[0m\u001b[0;34m)\u001b[0m\u001b[0;34m\u001b[0m\u001b[0;34m\u001b[0m\u001b[0m\n\u001b[0m",
      "\u001b[0;32m<__array_function__ internals>\u001b[0m in \u001b[0;36mlstsq\u001b[0;34m(*args, **kwargs)\u001b[0m\n",
      "\u001b[0;32m~/miniconda3/envs/astro/lib/python3.8/site-packages/numpy/linalg/linalg.py\u001b[0m in \u001b[0;36mlstsq\u001b[0;34m(a, b, rcond)\u001b[0m\n\u001b[1;32m   2257\u001b[0m         \u001b[0;31m# lapack can't handle n_rhs = 0 - so allocate the array one larger in that axis\u001b[0m\u001b[0;34m\u001b[0m\u001b[0;34m\u001b[0m\u001b[0;34m\u001b[0m\u001b[0m\n\u001b[1;32m   2258\u001b[0m         \u001b[0mb\u001b[0m \u001b[0;34m=\u001b[0m \u001b[0mzeros\u001b[0m\u001b[0;34m(\u001b[0m\u001b[0mb\u001b[0m\u001b[0;34m.\u001b[0m\u001b[0mshape\u001b[0m\u001b[0;34m[\u001b[0m\u001b[0;34m:\u001b[0m\u001b[0;34m-\u001b[0m\u001b[0;36m2\u001b[0m\u001b[0;34m]\u001b[0m \u001b[0;34m+\u001b[0m \u001b[0;34m(\u001b[0m\u001b[0mm\u001b[0m\u001b[0;34m,\u001b[0m \u001b[0mn_rhs\u001b[0m \u001b[0;34m+\u001b[0m \u001b[0;36m1\u001b[0m\u001b[0;34m)\u001b[0m\u001b[0;34m,\u001b[0m \u001b[0mdtype\u001b[0m\u001b[0;34m=\u001b[0m\u001b[0mb\u001b[0m\u001b[0;34m.\u001b[0m\u001b[0mdtype\u001b[0m\u001b[0;34m)\u001b[0m\u001b[0;34m\u001b[0m\u001b[0;34m\u001b[0m\u001b[0m\n\u001b[0;32m-> 2259\u001b[0;31m     \u001b[0mx\u001b[0m\u001b[0;34m,\u001b[0m \u001b[0mresids\u001b[0m\u001b[0;34m,\u001b[0m \u001b[0mrank\u001b[0m\u001b[0;34m,\u001b[0m \u001b[0ms\u001b[0m \u001b[0;34m=\u001b[0m \u001b[0mgufunc\u001b[0m\u001b[0;34m(\u001b[0m\u001b[0ma\u001b[0m\u001b[0;34m,\u001b[0m \u001b[0mb\u001b[0m\u001b[0;34m,\u001b[0m \u001b[0mrcond\u001b[0m\u001b[0;34m,\u001b[0m \u001b[0msignature\u001b[0m\u001b[0;34m=\u001b[0m\u001b[0msignature\u001b[0m\u001b[0;34m,\u001b[0m \u001b[0mextobj\u001b[0m\u001b[0;34m=\u001b[0m\u001b[0mextobj\u001b[0m\u001b[0;34m)\u001b[0m\u001b[0;34m\u001b[0m\u001b[0;34m\u001b[0m\u001b[0m\n\u001b[0m\u001b[1;32m   2260\u001b[0m     \u001b[0;32mif\u001b[0m \u001b[0mm\u001b[0m \u001b[0;34m==\u001b[0m \u001b[0;36m0\u001b[0m\u001b[0;34m:\u001b[0m\u001b[0;34m\u001b[0m\u001b[0;34m\u001b[0m\u001b[0m\n\u001b[1;32m   2261\u001b[0m         \u001b[0mx\u001b[0m\u001b[0;34m[\u001b[0m\u001b[0;34m...\u001b[0m\u001b[0;34m]\u001b[0m \u001b[0;34m=\u001b[0m \u001b[0;36m0\u001b[0m\u001b[0;34m\u001b[0m\u001b[0;34m\u001b[0m\u001b[0m\n",
      "\u001b[0;31mKeyboardInterrupt\u001b[0m: "
     ]
    }
   ],
   "source": [
    "shitsol = np.linalg.lstsq(realA, real_part)"
   ]
  },
  {
   "cell_type": "code",
   "execution_count": null,
   "metadata": {},
   "outputs": [],
   "source": []
  },
  {
   "cell_type": "code",
   "execution_count": 387,
   "metadata": {},
   "outputs": [
    {
     "data": {
      "text/plain": [
       "1936"
      ]
     },
     "execution_count": 387,
     "metadata": {},
     "output_type": "execute_result"
    }
   ],
   "source": [
    "b2n[(0,0)]"
   ]
  },
  {
   "cell_type": "code",
   "execution_count": null,
   "metadata": {},
   "outputs": [],
   "source": []
  }
 ],
 "metadata": {
  "kernelspec": {
   "display_name": "Python 3",
   "language": "python",
   "name": "python3"
  },
  "language_info": {
   "codemirror_mode": {
    "name": "ipython",
    "version": 3
   },
   "file_extension": ".py",
   "mimetype": "text/x-python",
   "name": "python",
   "nbconvert_exporter": "python",
   "pygments_lexer": "ipython3",
   "version": "3.8.5"
  }
 },
 "nbformat": 4,
 "nbformat_minor": 4
}
