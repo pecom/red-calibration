{
 "cells": [
  {
   "cell_type": "code",
   "execution_count": 1,
   "metadata": {},
   "outputs": [],
   "source": [
    "import numpy as np\n",
    "import matplotlib.pyplot as plt\n",
    "from scipy import stats\n",
    "from scipy import sparse\n",
    "from scipy import optimize\n",
    "from scipy import signal\n",
    "from scipy import linalg\n",
    "from functools import reduce\n",
    "from collections import defaultdict\n",
    "from tqdm.notebook import tqdm"
   ]
  },
  {
   "cell_type": "code",
   "execution_count": 2,
   "metadata": {},
   "outputs": [],
   "source": [
    "%matplotlib inline\n",
    "%config InlineBackend.figure_format='retina'"
   ]
  },
  {
   "cell_type": "markdown",
   "metadata": {},
   "source": [
    "# TOC\n",
    "1. [1x1 Beam Functions](#1x1)\n",
    "2. [NxN Beam Complications](#NxN)\n",
    "3. [Visibility Solving](#vis)\n",
    "4. [Beam Solving](#beams)\n",
    "5. [Playground](#playground)"
   ]
  },
  {
   "cell_type": "markdown",
   "metadata": {},
   "source": [
    "### Simplified case for 1x1 beam <a name=\"1x1\"></a>"
   ]
  },
  {
   "cell_type": "code",
   "execution_count": 3,
   "metadata": {},
   "outputs": [],
   "source": [
    "def get_num_baselines(Nside):\n",
    "    # For square of N telescopes, should be 2N-2*sqrt(N) + 1\n",
    "    # Fix to a corner and there are N-1 options for unique baselines. \n",
    "    # Flip over to other side (over x or y axis) and get another N-1 options\n",
    "    # Duplicated Qare the pure x-axis and pure y-axis so -2*(sqrt(N)-1)\n",
    "    # Final +1 is from 0 baseline\n",
    "    \n",
    "    N_bases = 2*Nside**2 - 2*Nside\n",
    "    return int(N_bases)\n",
    "\n",
    "rand_phases = lambda x: np.random.uniform(0, 2*np.pi, x)\n",
    "zero_weight = lambda x, d: x/d if d else 0\n",
    "vector_weight = lambda x, d: np.divide(x, d, out=np.zeros_like(x, dtype=np.float), where=(d!=0))\n",
    "parray = lambda x: np.round(x, decimals=2)\n",
    "\n",
    "def make_gains(Nside):\n",
    "    # Create complex gains with either (amplitude, phase) or (real, imaginary)\n",
    "    Nant = Nside**2\n",
    "    gain_amp = np.random.normal(1, .05, Nant)\n",
    "    gain_phase = rand_phases(Nant)\n",
    "    tgain = gain_amp*np.exp(1j*gain_phase)    \n",
    "    return tgain\n",
    "\n",
    "def make_data(Nside, gains, noise=0.1):\n",
    "    Nant = Nside**2\n",
    "    Nbase = get_num_baselines(Nside)\n",
    "    vis_true = np.random.normal(0,1,size=(Nbase,2)).view(np.complex128).flatten() ## size of unique baselines\n",
    "    ant_i, ant_j, visndx, data = [], [], [], []\n",
    "    ndx=0\n",
    "    ndx2base={}\n",
    "    base2ndx={}\n",
    "    for i in range(Nant):\n",
    "        xi,yi=np.unravel_index(i,(Nside,Nside))\n",
    "        for j in range (i+1,Nant):\n",
    "            xj,yj=np.unravel_index(j,(Nside,Nside))\n",
    "            assert (xj>=xi)\n",
    "            baseline = (xj-xi,yj-yi)\n",
    "            if baseline in base2ndx:\n",
    "                cndx = base2ndx[baseline]\n",
    "            else:\n",
    "                cndx = ndx\n",
    "                base2ndx[baseline]=ndx\n",
    "                ndx2base[ndx]=baseline\n",
    "                ndx+=1\n",
    "            ant_i.append(i)\n",
    "            ant_j.append(j)\n",
    "            visndx.append(cndx)\n",
    "            data.append(vis_true[cndx]*gains[i]*np.conj(gains[j]))\n",
    "            \n",
    "    assert(ndx==Nbase)\n",
    "    ant_i = np.array(ant_i)\n",
    "    ant_j = np.array(ant_j)\n",
    "    visndx = np.array(visndx)\n",
    "    data = np.array(data)\n",
    "    noise = np.random.normal(0,noise,size=(len(data),2)).view(np.complex128).flatten() ## size of unique baselines\n",
    "    data += noise\n",
    "    return vis_true, data, ant_i, ant_j, visndx, ndx2base, base2ndx"
   ]
  },
  {
   "cell_type": "code",
   "execution_count": 4,
   "metadata": {},
   "outputs": [],
   "source": [
    "def make_pred(gains, vis, ant_i, ant_j, visndx):\n",
    "    gains_i = gains[ant_i]\n",
    "    cgains_j = np.conj(gains[ant_j])\n",
    "    pred = gains_i*cgains_j*vis[visndx]\n",
    "    return pred"
   ]
  },
  {
   "cell_type": "code",
   "execution_count": 5,
   "metadata": {},
   "outputs": [],
   "source": [
    "def chi2(data, gains, vis, ant_i, ant_j, visndx, noise=0.1):\n",
    "    pred = make_pred(gains, vis, ant_i, ant_j, visndx)\n",
    "    chi2 = np.abs((data - pred)**2).sum()/(noise**2)\n",
    "    dof = len(data)*2\n",
    "    return chi2, dof"
   ]
  },
  {
   "cell_type": "code",
   "execution_count": 132,
   "metadata": {},
   "outputs": [],
   "source": [
    "def chimincal(iter_max, data, g0, v0, ant_i, ant_j, visndx, noise=0.1, delta=0.4, epsilon=1e-5):\n",
    "    chiscores = []\n",
    "    garr = g0.copy()\n",
    "    varr = v0.copy()\n",
    "    N = 1\n",
    "    Nant = len(g0)\n",
    "    Nbase = len(v0)\n",
    "    \n",
    "    chi, dof = chi2(data, garr, varr, ant_i, ant_j, visndx)\n",
    "    chiscores.append(chi/dof)\n",
    "    \n",
    "    \n",
    "    for n in tqdm(range(iter_max)):\n",
    "        gprime = np.zeros(Nant, dtype=np.complex128)\n",
    "        for i in range(Nant):\n",
    "            numer = np.complex(0, 0)\n",
    "            denom = np.complex(0, 0)\n",
    "            iant = np.where(ant_i == i)[0]\n",
    "            jant = np.where(ant_j == i)[0]\n",
    "            numer += (data[iant] * garr[ant_j[iant]]*np.conj(varr[visndx[iant]])).sum()\n",
    "            denom += (np.abs(garr[ant_j[iant]]*varr[visndx[iant]])**2).sum()\n",
    "            numer += (np.conj(data[jant]) * garr[ant_i[jant]]*varr[visndx[jant]]).sum()\n",
    "            denom += (np.abs(garr[ant_i[jant]]*varr[visndx[jant]])**2).sum()\n",
    "            gprime[i] += zero_weight(numer, denom)\n",
    "\n",
    "        garr = (1 - delta)*garr + delta*gprime\n",
    "        \n",
    "        vprime = np.zeros(Nbase, dtype=np.complex128)\n",
    "        for i in range(Nbase):\n",
    "#             vdata = data/(garr[ant_i]*np.conj(garr[ant_j]))\n",
    "#             vprime[i] = np.mean(vdata[visndx==i])\n",
    "            \n",
    "#             numer = data[indxs].sum()\n",
    "#             denom = (garr[ant_i[indxs]]*np.conj(garr[ant_j[indxs]])).sum()\n",
    "#             vprime[i] += zero_weight(numer, denom)\n",
    "\n",
    "            indxs = np.where(visndx==i)\n",
    "            numer = (data[indxs]*np.conj(garr[ant_i[indxs]])*garr[ant_j[indxs]]).sum()\n",
    "            denom = (np.abs(garr[ant_i[indxs]]*np.conj(garr[ant_j[indxs]]))**2).sum()\n",
    "            vprime[i] = zero_weight(numer, denom)\n",
    "\n",
    "        varr = (1-delta)*varr + delta*vprime\n",
    "#         varr = vprime\n",
    "\n",
    "        gscale = N/np.mean(np.abs(garr))\n",
    "        garr *= gscale\n",
    "        varr *= (1/gscale)**2\n",
    "        \n",
    "        chi, dof = chi2(data, garr, varr, ant_i, ant_j, visndx, noise=noise)\n",
    "        chiscores.append(chi/dof)\n",
    "        if n > 20:\n",
    "            if np.abs(chiscores[-2] - chiscores[-1]) < epsilon:\n",
    "                break\n",
    "    return garr, varr, chiscores, n"
   ]
  },
  {
   "cell_type": "markdown",
   "metadata": {},
   "source": [
    "### NxN beam complications <a name=\"NxN\"></a>"
   ]
  },
  {
   "cell_type": "code",
   "execution_count": 7,
   "metadata": {},
   "outputs": [],
   "source": [
    "def get_circle_array(rad, Nspacing, tap, gpos):\n",
    "    x=np.outer(np.linspace(-0.5,+0.5,Nspacing),np.ones(Nspacing))\n",
    "    y=x.T\n",
    "    t=np.linspace(0,2.0,100)\n",
    "    shapefun = lambda t:1-1/(1+np.exp(-2*(t-rad)/tap))\n",
    "    beam = shapefun(np.sqrt((x - gpos[0])**2+(y - gpos[1])**2))\n",
    "    return beam"
   ]
  },
  {
   "cell_type": "code",
   "execution_count": 8,
   "metadata": {},
   "outputs": [],
   "source": [
    "def get_weighted_array(alpha, Nspacing, numdraws=1e5):\n",
    "    # Overlap a circular beam onto a pixelized grid \n",
    "    Nbeam = Nspacing**2\n",
    "    rmax = alpha*.5\n",
    "    ndraws = int(numdraws)\n",
    "    spacing = np.linspace(0,1,Nspacing+1)\n",
    "    centered_spacing = spacing - .5\n",
    "    empty_weight_beam = np.zeros((Nspacing, Nspacing), dtype=np.complex128)\n",
    "    \n",
    "    for i in range(Nbeam):\n",
    "        xi, yi = np.unravel_index(i, (Nspacing, Nspacing))\n",
    "        draws = np.array([np.random.uniform(centered_spacing[xi], centered_spacing[xi+1], ndraws), np.random.uniform(centered_spacing[yi], centered_spacing[yi+1], ndraws)])\n",
    "        dist = np.linalg.norm(draws, axis=0)\n",
    "        empty_weight_beam[xi, yi] = np.sum(dist < rmax)/ndraws #* np.exp(1j*rand_phases(1))\n",
    "#     sym_beam = .5*(empty_weight_beam + empty_weight_beam.T)\n",
    "    return empty_weight_beam"
   ]
  },
  {
   "cell_type": "code",
   "execution_count": 9,
   "metadata": {},
   "outputs": [],
   "source": [
    "# Helper function to get a (2*br-1, 2*br-1) grid around point x\n",
    "\n",
    "def n_mesh(br):\n",
    "    nmesh = lambda x: tuple(np.meshgrid(range(x[0]-br, x[0]+br+1), range(x[1]-br, x[1]+br+1), indexing='ij'))\n",
    "    return nmesh\n",
    "\n",
    "five_mesh = n_mesh(2)"
   ]
  },
  {
   "cell_type": "code",
   "execution_count": 10,
   "metadata": {},
   "outputs": [],
   "source": [
    "def make_uv_grid(Nside):\n",
    "    uv_size = Nside*2 - 1\n",
    "    center = (Nside-1,Nside-1)\n",
    "    npcenter = np.array(center)\n",
    "    img_size = (uv_size, uv_size)\n",
    "    random_image = np.random.normal(0, 1, img_size)\n",
    "    centered_uv = np.fft.fftshift(np.fft.fft2(random_image))\n",
    "#     centered_uv[center] = 0\n",
    "    topleft_uv = np.fft.ifftshift(centered_uv)\n",
    "    \n",
    "    return centered_uv, topleft_uv, npcenter"
   ]
  },
  {
   "cell_type": "code",
   "execution_count": 11,
   "metadata": {},
   "outputs": [],
   "source": [
    "def get_new_shape(Nside, beam_radius=3):\n",
    "    # Helper function to get shape of convolved u-v space\n",
    "    orig_shape = (2*Nside-1, Nside)\n",
    "    new_shape = tuple([i*beam_radius + (beam_radius - 1) for i in orig_shape])\n",
    "    return new_shape"
   ]
  },
  {
   "cell_type": "code",
   "execution_count": 12,
   "metadata": {},
   "outputs": [],
   "source": [
    "def make_visibilities(Nside, beam_radius):\n",
    "    n = Nside\n",
    "    br = beam_radius\n",
    "    \n",
    "    # Useful shapes/sizes to have on hand\n",
    "    new_shape = get_new_shape(n, br)\n",
    "    new_size = np.prod(new_shape)\n",
    "    center = (int((new_shape[0]-1)/2), br-1)\n",
    "    \n",
    "    #Matrices of visibiltiies and possible indices\n",
    "    random_vis = np.random.normal(0,1 , (new_shape[0], new_shape[1], 2)).view(np.complex128)\n",
    "    poss_index = np.arange(new_size).reshape(new_shape)\n",
    "    \n",
    "    #Clear off the leftmost columns to remove redundant conjugate stuff\n",
    "    poss_index[0:center[0], 0:br] = 0\n",
    "    poss_index[center[0]:, 0:br-1] = 0\n",
    "    \n",
    "    oversampled_baselines = poss_index.nonzero()[0].shape[0]\n",
    "    visib = np.zeros(oversampled_baselines, dtype=np.complex128)\n",
    "    #Baseline - index dictionaries\n",
    "    new_ndx = 0\n",
    "    n2b = {}\n",
    "    b2n = {}\n",
    "    n2true = {}\n",
    "    true2n = {}\n",
    "    for i in range(new_size):\n",
    "        xi,yi = np.unravel_index(i, new_shape)\n",
    "        if poss_index[xi,yi] == 0:\n",
    "            continue\n",
    "        else:\n",
    "            baseline = (xi-center[0], yi-center[1])\n",
    "            if baseline[0] < 0:\n",
    "                baseline = (-1*baseline[0], -1*baseline[1])\n",
    "\n",
    "            if baseline in b2n:\n",
    "                cndx = new_ndx\n",
    "            else:\n",
    "                cndx = new_ndx\n",
    "                b2n[baseline] = new_ndx\n",
    "                n2b[new_ndx] = baseline\n",
    "                if tuple(np.mod(baseline, br)) == (0,0):\n",
    "                    modtuple = tuple(np.floor_divide(baseline, br))\n",
    "                    true2n[modtuple] = new_ndx\n",
    "                    n2true[new_ndx] = modtuple\n",
    "                new_ndx += 1\n",
    "        visib[cndx] = random_vis[xi,yi]\n",
    "    return n2b, b2n, n2true, true2n, visib"
   ]
  },
  {
   "cell_type": "code",
   "execution_count": 13,
   "metadata": {},
   "outputs": [],
   "source": [
    "def vis_to_grid(visib, ndx2base, size):\n",
    "    # Turn our flat list of visibilities into a grid based on the dictionary\n",
    "    # Meshes make properly yanking data from a grid straight-forward and also takes into account proper\n",
    "    # negative indexing which makes it preferable to the flat visibility list.\n",
    "    \n",
    "    # Double the size to make sure to avoid rewriting values with negative indexing\n",
    "    uv_size = (2*size[0], 2*size[1])\n",
    "    new_grid = np.zeros(uv_size, dtype=np.complex128)\n",
    "    for i,v in enumerate(visib):\n",
    "        base = ndx2base[i]\n",
    "        inv_base = tuple(-1*np.array(base))\n",
    "        new_grid[base] = v\n",
    "        new_grid[inv_base] = np.conj(v)\n",
    "    return new_grid"
   ]
  },
  {
   "cell_type": "code",
   "execution_count": 14,
   "metadata": {},
   "outputs": [],
   "source": [
    "def create_fake_flatndx(Nside, n_beam):\n",
    "    Nant = Nside**2\n",
    "    conv_beamrad = 2*n_beam - 1\n",
    "    n2b, b2n, n2t, t2n, _ = make_visibilities(Nside, n_beam)\n",
    "    datandx = []\n",
    "    ant_i = []\n",
    "    ant_j = []\n",
    "    \n",
    "    mesh = n_mesh(n_beam - 1)\n",
    "    \n",
    "    for i in range(Nant):\n",
    "        xi,yi = np.unravel_index(i, (Nside, Nside))\n",
    "        for j in range(i+1, Nant):\n",
    "            ant_i.append(i)\n",
    "            ant_j.append(j)\n",
    "            xj,yj = np.unravel_index(j, (Nside, Nside))\n",
    "            assert (xj>=xi)\n",
    "            baseline = (xj-xi,yj-yi)\n",
    "            \n",
    "            virtual_n = t2n[baseline]\n",
    "            grid_base = n2b[virtual_n]\n",
    "            \n",
    "            virtual_points = mesh(grid_base)\n",
    "            \n",
    "            datandx.append(virtual_points)\n",
    "    flat = vector_b2n(b2n, datandx)\n",
    "    ant_i = np.array(ant_i)\n",
    "    ant_j = np.array(ant_j)\n",
    "    return flat, ant_i, ant_j"
   ]
  },
  {
   "cell_type": "code",
   "execution_count": 15,
   "metadata": {},
   "outputs": [],
   "source": [
    "def make_data_grid(Nside, gains, beams, visfactor=1, noise=0.1, verbose=True):\n",
    "    \n",
    "    Nant = Nside**2\n",
    "    Nbase = get_num_baselines(Nside)\n",
    "    # Get sample beam to understand shape of convolved beams\n",
    "    samp_beam = signal.convolve(beams[0], beams[0])\n",
    "    \n",
    "    #Radius and corresponding mesh\n",
    "    beam_radius = int((samp_beam.shape[0]-1)/2) + 1\n",
    "    mesh = n_mesh(beam_radius-1)\n",
    "    \n",
    "    # Create visibilities\n",
    "    n2b, b2n, n2t, t2n, visib = make_visibilities(Nside, beam_radius)\n",
    "    if verbose:\n",
    "        print(\"Made visib\")\n",
    "    visib *= visfactor\n",
    "    \n",
    "    new_shape = get_new_shape(Nside, beam_radius)\n",
    "    vis_grid = vis_to_grid(visib, n2b, new_shape)\n",
    "    if verbose:\n",
    "        print(\"Made grid\")\n",
    "    \n",
    "    ant_i, ant_j, visndx, data, datandx = [], [], [], [], []\n",
    "    \n",
    "    for i in range(Nant):\n",
    "        xi,yi=np.unravel_index(i,(Nside, Nside))\n",
    "        for j in range (i+1,Nant):\n",
    "            conv_beam = signal.convolve(beams[i], np.conj(beams[j][::-1, ::-1]))\n",
    "            xj,yj=np.unravel_index(j,(Nside, Nside))\n",
    "            assert (xj>=xi)\n",
    "            baseline = (xj-xi,yj-yi)\n",
    "            \n",
    "            virtual_n = t2n[baseline]\n",
    "            grid_base = n2b[virtual_n]\n",
    "            \n",
    "            virtual_points = mesh(grid_base)\n",
    "            data_sum = (vis_grid[virtual_points] * gains[i] * np.conj(gains[j]) * conv_beam).sum()\n",
    "            \n",
    "            ant_i.append(i)\n",
    "            ant_j.append(j)\n",
    "            visndx.append(virtual_n)\n",
    "            data.append(data_sum)\n",
    "            datandx.append(virtual_points)\n",
    "    \n",
    "    if verbose:\n",
    "        print(\"Created data\")\n",
    "    \n",
    "    ant_i = np.array(ant_i)\n",
    "    ant_j = np.array(ant_j)\n",
    "    visndx = np.array(visndx)\n",
    "    data = np.array(data)\n",
    "    noise = np.random.normal(0,noise,size=(len(data),2)).view(np.complex128).flatten() ## size of unique baselines\n",
    "    data += noise\n",
    "    return visib, data, ant_i, ant_j, visndx, datandx, n2b, b2n, n2t, t2n, vis_grid"
   ]
  },
  {
   "cell_type": "code",
   "execution_count": 16,
   "metadata": {},
   "outputs": [],
   "source": [
    "def vector_b2n(b2n, datandx):\n",
    "    # Convert datandx (points on the grid) to flat indices using b2n dictionary\n",
    "    newndx = []\n",
    "    for l in datandx:\n",
    "        x,y = l\n",
    "        flattened = []\n",
    "        ndx_size = x.size\n",
    "        ndx_shape = x.shape\n",
    "        for i in range(ndx_size):\n",
    "            point = np.unravel_index(i, ndx_shape)\n",
    "            k = np.array([x[point], y[point]])\n",
    "            key = tuple(k)\n",
    "            if key in b2n:\n",
    "                flattened.append(b2n[key])\n",
    "            else:\n",
    "                key = tuple(-1*k)\n",
    "                flattened.append(-1*b2n[key])\n",
    "        newndx.append(flattened)\n",
    "    newndx = np.array(newndx)\n",
    "    return newndx"
   ]
  },
  {
   "cell_type": "code",
   "execution_count": 17,
   "metadata": {},
   "outputs": [],
   "source": [
    "def conjugate_visib(vis, ndxs):\n",
    "    # Returns the proper list of relevant visibilites given ndxs\n",
    "    # Negative refers to using a conjugate rather than doubling the size of the array\n",
    "    flat = []\n",
    "    for i in ndxs:\n",
    "        if i >= 0:\n",
    "            flat.append(vis[i])\n",
    "        else:\n",
    "            flat.append(np.conj(vis[-1*i]))\n",
    "    return np.array(flat)"
   ]
  },
  {
   "cell_type": "code",
   "execution_count": 18,
   "metadata": {},
   "outputs": [],
   "source": [
    "def flat_model(vis, beams, gains, ant_i, ant_j, flatndx):\n",
    "    # Make prediction\n",
    "    postage = np.array([signal.convolve(beams[ant_i[i]], np.conjugate(beams[ant_j[i]][::-1, ::-1])).flatten() for i in range(len(flatndx))])\n",
    "    gains_i = gains[ant_i]\n",
    "    gains_j = np.conj(gains[ant_j])\n",
    "    flatbread = np.array([conjugate_visib(vis, v)*postage[i] for i, v in enumerate(flatndx)])\n",
    "    pred = np.sum(flatbread, axis=1)*gains_i*gains_j\n",
    "    return pred"
   ]
  },
  {
   "cell_type": "code",
   "execution_count": 19,
   "metadata": {},
   "outputs": [],
   "source": [
    "def gen_chi2(data, pred, noise=0.1):\n",
    "    # Generic chi2 definition\n",
    "    chitwo = np.abs((data - pred)**2).sum()/(noise**2)\n",
    "    dof = len(data)*2\n",
    "    return chitwo, dof, chitwo/dof"
   ]
  },
  {
   "cell_type": "markdown",
   "metadata": {},
   "source": [
    "### Visibility solving <a name=\"vis\"></a>"
   ]
  },
  {
   "cell_type": "code",
   "execution_count": 20,
   "metadata": {},
   "outputs": [],
   "source": [
    "def imag_to_reals(vec):\n",
    "    # Helper function for linear estimator\n",
    "    reals = vec.real\n",
    "    imags = vec.imag\n",
    "    flat_vec = np.concatenate((reals, imags))\n",
    "    return flat_vec"
   ]
  },
  {
   "cell_type": "code",
   "execution_count": 21,
   "metadata": {},
   "outputs": [],
   "source": [
    "def reals_to_imag(vec):\n",
    "    vlen = int(len(vec)/2)\n",
    "    comp_vec = vec[:vlen] + 1j*vec[vlen:]\n",
    "    return comp_vec"
   ]
  },
  {
   "cell_type": "code",
   "execution_count": 22,
   "metadata": {},
   "outputs": [],
   "source": [
    "def linear_solver_A(beams, gains, data, ant_i, ant_j, fndx):\n",
    "    # Solve for visibilities using a linear method\n",
    "    big_ans = imag_to_reals(data)\n",
    "    data_len = len(data)\n",
    "    v_size = len(set(np.abs(fndx).flatten())) + 1\n",
    "    postage = np.array([signal.convolve(beams[ant_i[i]], np.conjugate(beams[ant_j[i]][::-1, ::-1])).flatten()*gains[ant_i[i]]*np.conjugate(gains[ant_j[i]]) for i in range(len(fndx))])\n",
    "#     bigA = sparse.lil_matrix((2*data_len, 2*v_size))\n",
    "    bigA = np.zeros((2*data_len, 2*v_size))\n",
    "    for i,v in enumerate(fndx):\n",
    "        absv = np.abs(v)\n",
    "        bigA[i,absv] = postage[i].real\n",
    "        bigA[i, v_size+absv] = -1*np.sign(v)*postage[i].imag\n",
    "        bigA[i+data_len, absv] = postage[i].imag\n",
    "        bigA[i+data_len, v_size+absv] = np.sign(v)*postage[i].real\n",
    "    bigCSR = sparse.csr_matrix(bigA)\n",
    "    return bigCSR, big_ans"
   ]
  },
  {
   "cell_type": "code",
   "execution_count": 23,
   "metadata": {},
   "outputs": [],
   "source": [
    "def vis_solv(vis, beams, gains, data, noise, ant_i, ant_j, fndx, fvis):\n",
    "    bigA, bigB = linear_solver_A(beams, gains_true, data, ant_i, ant_j, fndx)\n",
    "    At = bigA.T\n",
    "    sinv = sparse.diags(np.ones(2*fvis))\n",
    "    ninv = sparse.diags(noise*np.ones(2*len(data)))\n",
    "    lhs = (sinv + At@ninv@bigA)\n",
    "    rhs = (At@ninv)@bigB\n",
    "    wein_m  = reals_to_imag(sparse.linalg.spsolve(lhs, rhs))\n",
    "    return wein_m"
   ]
  },
  {
   "cell_type": "code",
   "execution_count": 24,
   "metadata": {},
   "outputs": [],
   "source": [
    "def old_vis_solver(guess, beams, gains, data, ant_i, ant_j, fndx):\n",
    "    bigA, bigB = linear_solver_A(beams, gains, data, ant_i, ant_j, fndx)\n",
    "    map_sol = sparse.linalg.lsmr(bigA, bigB)[0]\n",
    "    comb_sol = reals_to_imag(map_sol)\n",
    "    return comb_sol"
   ]
  },
  {
   "cell_type": "markdown",
   "metadata": {},
   "source": [
    "### Beam solving <a name=\"beams\"></a>"
   ]
  },
  {
   "cell_type": "code",
   "execution_count": 25,
   "metadata": {},
   "outputs": [],
   "source": [
    "def padded_circulant(col):\n",
    "    c_len = len(col)\n",
    "    first_row = np.zeros(c_len, dtype=np.complex128)\n",
    "    first_row[0] = col[0]\n",
    "    first_col = np.zeros(2*c_len - 1, dtype=np.complex128)\n",
    "    first_col[0:c_len] = col\n",
    "    toep_mat = linalg.toeplitz(first_col, first_row)\n",
    "    return toep_mat"
   ]
  },
  {
   "cell_type": "code",
   "execution_count": 26,
   "metadata": {},
   "outputs": [],
   "source": [
    "def doubly_block_toep(beam_j):\n",
    "    pad_zero = np.zeros(beam_j.shape[0], dtype=np.complex128)\n",
    "    h1 = padded_circulant(beam_j[0])\n",
    "    h2 = padded_circulant(beam_j[1])\n",
    "    h3 = padded_circulant(beam_j[2])\n",
    "    h4 = padded_circulant(pad_zero)\n",
    "    h5 = padded_circulant(pad_zero)\n",
    "    blocked_toep = np.block([\n",
    "        [h1, h5, h4],\n",
    "        [h2, h1, h5],\n",
    "        [h3, h2, h1],\n",
    "        [h4, h3, h2],\n",
    "        [h5, h4, h3]\n",
    "    ])\n",
    "    return blocked_toep"
   ]
  },
  {
   "cell_type": "code",
   "execution_count": 27,
   "metadata": {},
   "outputs": [],
   "source": [
    "def generic_block_toep(beam_j):\n",
    "    pad_zero = np.zeros(beam_j.shape[0], dtype=np.complex128)\n",
    "    nb = beam_j.shape[0]\n",
    "    finshape = 2*nb - 1\n",
    "    block_matrix = []\n",
    "    circ_ndx = linalg.circulant(np.arange(finshape))[:,0:nb]\n",
    "    for i in range(finshape):\n",
    "        if i < nb:\n",
    "            block_matrix.append(padded_circulant(beam_j[i]))\n",
    "        else:\n",
    "            block_matrix.append(padded_circulant(pad_zero))\n",
    "    blocked = np.array(block_matrix)\n",
    "    unshape_circ = blocked[circ_ndx]\n",
    "    shaped_circ = unshape_circ.transpose(0, 2, 1, 3).reshape(finshape**2, nb**2)\n",
    "    return shaped_circ   "
   ]
  },
  {
   "cell_type": "code",
   "execution_count": 28,
   "metadata": {},
   "outputs": [],
   "source": [
    "def beam_mean(beams):\n",
    "    avg_beam = np.sum(np.mean(beams, axis=0))\n",
    "    meaned_beams = beams/avg_beam\n",
    "    return meaned_beams"
   ]
  },
  {
   "cell_type": "code",
   "execution_count": 29,
   "metadata": {},
   "outputs": [],
   "source": [
    "def beam_solver(vis, beam_guess, gains, data, ant_i, ant_j, flatndx, Nside):\n",
    "    Nant = Nside**2\n",
    "    n_beam = beam_guess.shape[1]\n",
    "    fn_bm = 2*n_beam - 1\n",
    "    matrix_beams = np.zeros((beam_guess.shape[0], fn_bm**2, n_beam**2), dtype=np.complex128)\n",
    "    \n",
    "    symbeam = int((n_beam + 1)/2)\n",
    "    symconv = signal.convolve(np.ones((symbeam, symbeam), dtype=np.complex128), np.ones((symbeam, symbeam), dtype=np.complex128)).flatten()\n",
    "    center_ofsymbeam = int((n_beam**2 - 1)/2)\n",
    "\n",
    "    for i,v in enumerate(beam_guess):\n",
    "        matrix_beams[i] = generic_block_toep(v)\n",
    "    \n",
    "    matrix_beams = np.array(matrix_beams)\n",
    "    \n",
    "    new_beams = beam_guess.copy()\n",
    "    for ant_ndx in range(Nant):\n",
    "        beam_solver = np.zeros((Nant-1, n_beam**2), dtype=np.complex128)\n",
    "        rhs_vis = np.zeros(Nant-1, dtype=np.complex128)\n",
    "        \n",
    "        ant_filter = ant_i==ant_ndx\n",
    "        sum_ants = np.sum(ant_filter)\n",
    "        jant_filter = ant_j==ant_ndx\n",
    "        \n",
    "        rhs_vis[:sum_ants] = data[ant_filter]\n",
    "        rhs_vis[sum_ants:] = np.conjugate(data[jant_filter])                    \n",
    "        \n",
    "        for i in range(sum_ants):\n",
    "            beam_solver[i] = conjugate_visib(vis, flatndx[ant_filter][i])[None,:] \\\n",
    "                @ np.conjugate(matrix_beams[ant_j[ant_filter]][i][::-1, ::-1])*gains[ant_i[ant_filter]][i]*np.conjugate(gains[ant_j[ant_filter]][i])\n",
    "        for j in range(np.sum(jant_filter)):\n",
    "            beam_solver[sum_ants + j] = (np.conjugate(conjugate_visib(vis, flatndx[jant_filter][j])[None,:]) \\\n",
    "                @ np.conjugate(matrix_beams[ant_i[jant_filter]][j]))[::-1,::-1]*gains[ant_j[jant_filter]][j]*np.conjugate(gains[ant_i[jant_filter]][j])\n",
    "        \n",
    "#         if enforce_sym:\n",
    "#             for j in set(symconv):\n",
    "#                 jsymline = np.zeros(n_beam**2, dtype=np.complex128)\n",
    "#                 if j==symconv[center_ofsymbeam]:\n",
    "# #                     jsymline = np.zeros(n_beam**2, dtype=np.complex128)\n",
    "# #                     jsymline[center_ofsymbeam] = 1*50\n",
    "# #                     beam_solver = np.concatenate((beam_solver, jsymline[None,:]))\n",
    "# #                     rhs_vis = np.concatenate((rhs_vis, [50*bcenter[ant_ndx]]))\n",
    "#                     continue\n",
    "#                 else:\n",
    "#                     jsymndx = np.where(symconv == j)[0]\n",
    "#                     symlen = len(jsymndx)\n",
    "#                     for k in range(symlen):\n",
    "#                         for l in range(k+1, symlen):\n",
    "#                             ksymline = np.zeros(n_beam**2, dtype=np.complex128)\n",
    "#                             ksymline[jsymndx[k]] = 50\n",
    "#                             ksymline[jsymndx[l]] = -50\n",
    "#                             beam_solver = np.concatenate((beam_solver, ksymline[None,:]))\n",
    "#                             rhs_vis = np.concatenate((rhs_vis, [0]))\n",
    "\n",
    "            \n",
    "#         zerobeam = np.linalg.lstsq(beam_solver, rhs_vis, rcond=None)[0]\n",
    "        \n",
    "        zerobeam = optimize.lsq_linear(beam_solver, rhs_vis).x\n",
    "        shaped_beam = zerobeam.reshape((n_beam, n_beam))\n",
    "        matrix_beams[ant_ndx] = generic_block_toep(shaped_beam)\n",
    "        new_beams[ant_ndx] = shaped_beam\n",
    "    return new_beams"
   ]
  },
  {
   "cell_type": "code",
   "execution_count": 97,
   "metadata": {},
   "outputs": [],
   "source": [
    "def solve_everything(iter_max, vis_guess, beam_guess, gains, data, ant_i, ant_j, flatndx, Nside, noise, chi_eps=1, wiener=True):\n",
    "    chis = []\n",
    "    scores = []\n",
    "    model = flat_model(vis_guess, beam_guess, gains, ant_i, ant_j, flatndx)\n",
    "    chi, _, score = gen_chi2(data, model, noise)\n",
    "    chis.append(chi)\n",
    "    scores.append(score)\n",
    "    fvis = len(vis_guess)\n",
    "    n = 0\n",
    "    \n",
    "    if iter_max != 0:\n",
    "        counter = iter_max\n",
    "    else:\n",
    "        counter = 10\n",
    "    \n",
    "    while counter >= 0:\n",
    "        \n",
    "        if wiener:\n",
    "            new_vis = vis_solv(vis_guess, beam_guess, gains, data, noise, ant_i, ant_j, flatndx, fvis)\n",
    "        else:\n",
    "            new_vis = old_vis_solver(vis_guess, beam_guess, gains, data, ant_i, ant_j, flatndx)\n",
    "            \n",
    "        vis_guess = new_vis\n",
    "        \n",
    "        new_beams = beam_solver(vis_guess, beam_guess, gains, data, ant_i, ant_j, flatndx, Nside)\n",
    "        beam_guess = new_beams\n",
    "        \n",
    "        model = flat_model(vis_guess, beam_guess, gains, ant_i, ant_j, flatndx)\n",
    "        chi, _, score = gen_chi2(data, model, noise)\n",
    "        \n",
    "        chis.append(chi)\n",
    "        scores.append(score)\n",
    "\n",
    "        if (np.abs(chi - chis[-2]) < chi_eps):\n",
    "            break\n",
    "        if score < 1:\n",
    "            break\n",
    "        if n%5==0:\n",
    "            print(n, score)\n",
    "        if iter_max != 0:\n",
    "            counter -= 1\n",
    "        n += 1\n",
    "        \n",
    "    chis = np.array(chis)\n",
    "    scores = np.array(scores)\n",
    "    print(n, score)\n",
    "    \n",
    "    return vis_guess, beam_guess, chis, scores"
   ]
  },
  {
   "cell_type": "code",
   "execution_count": 31,
   "metadata": {},
   "outputs": [],
   "source": [
    "def pointing_error(phase_mag, n_beam, beams, Nside):\n",
    "    Nant = Nside**2\n",
    "    px = np.random.normal(0,phase_mag,Nant)\n",
    "    py = np.random.normal(0,phase_mag,Nant)\n",
    "    \n",
    "    x = np.outer(np.linspace(-0.5,0.5,n_beam),np.ones(n_beam))\n",
    "    y = x.T\n",
    "    \n",
    "    new_beams = np.zeros_like(beams)\n",
    "    for i in range(Nant):\n",
    "        new_beams[i] = beams[i]*np.exp(1j*((x)*px[i]+(y)*py[i]))\n",
    "    \n",
    "    return new_beams, px, py"
   ]
  },
  {
   "cell_type": "code",
   "execution_count": 32,
   "metadata": {},
   "outputs": [],
   "source": [
    "def scale_phased(vis, beams, beam_scale, phase, n2b, n_beam):\n",
    "    term_phase = np.array([np.array(n2b[n])/n_beam for n in np.arange(len(n2b))])\n",
    "    beam_ndx = np.array(np.unravel_index(np.arange(len(beams)), (Nside, Nside)))\n",
    "    phase_dphi = phase\n",
    "    \n",
    "    phase_vis = vis*np.exp(1j*np.dot(term_phase, phase_dphi))\n",
    "\n",
    "    beam_r = int((n_beam-1)/2)\n",
    "    beam_mesh = n_mesh(beam_r)\n",
    "    \n",
    "    phase_beams = []\n",
    "    for i in range(len(beam_ndx[0])):\n",
    "        pos_beamy, pos_beamx = np.array(beam_mesh(beam_ndx[:,i]*n_beam))/n_beam\n",
    "        beam_flipped = np.array([pos_beamy[::-1], pos_beamx[:,::-1]])\n",
    "        offsets = np.sum(beam_flipped*phase_dphi[:,None,None], axis=0)\n",
    "        phase_vec = np.exp(1j*offsets)\n",
    "        phase_beams.append(beams[i]*phase_vec)\n",
    "    phase_beams = np.array(phase_beams)\n",
    "    \n",
    "    fin_beams = phase_beams * beam_scale\n",
    "    fin_vis = phase_vis * (1/beam_scale)**2\n",
    "    return fin_vis, fin_beams"
   ]
  },
  {
   "cell_type": "markdown",
   "metadata": {},
   "source": [
    "#### Generate data and set up variables"
   ]
  },
  {
   "cell_type": "code",
   "execution_count": 137,
   "metadata": {},
   "outputs": [],
   "source": [
    "Nside = 10\n",
    "Nant = Nside * Nside\n",
    "Nbase = get_num_baselines(Nside)\n",
    "noise = .2\n",
    "gains_true = np.ones(Nant)\n",
    "n_beam = 11\n",
    "# beam_gains = np.random.normal(1,.1,(Nant, 2)).view(dtype=np.complex128).flatten()\n",
    "beam_comp_phase = np.exp(1j*rand_phases(Nant))\n",
    "geom_error = 0\n",
    "gpos = np.random.normal(0, geom_error, (Nant, 2))"
   ]
  },
  {
   "cell_type": "code",
   "execution_count": 138,
   "metadata": {},
   "outputs": [],
   "source": [
    "unmean_beams = np.array([get_circle_array(.4, n_beam, .05, gpos[i])*beam_comp_phase[i] for i in range(Nant)])\n",
    "beams = unmean_beams"
   ]
  },
  {
   "cell_type": "code",
   "execution_count": 139,
   "metadata": {},
   "outputs": [],
   "source": [
    "# beams, px, py = pointing_error(.3, n_beam, beams, Nside)"
   ]
  },
  {
   "cell_type": "code",
   "execution_count": 140,
   "metadata": {},
   "outputs": [],
   "source": [
    "# beams = beams + 1e-5*np.random.random((*beams.shape, 2)).view(dtype=np.complex128).reshape(beams.shape)"
   ]
  },
  {
   "cell_type": "code",
   "execution_count": 141,
   "metadata": {},
   "outputs": [
    {
     "name": "stdout",
     "output_type": "stream",
     "text": [
      "Made visib\n",
      "Made grid\n",
      "Created data\n"
     ]
    }
   ],
   "source": [
    "vis_true, data, ant_i, ant_j, visndx, datandx, n2b, b2n, n2t, t2n, tl_grid = make_data_grid(Nside, gains_true, beams, visfactor=1, noise=noise)\n",
    "# flatndx = vector_b2n(b2n, datandx)\n",
    "data_len = len(data)"
   ]
  },
  {
   "cell_type": "code",
   "execution_count": 142,
   "metadata": {},
   "outputs": [],
   "source": [
    "conv_beam_size = (2*n_beam - 1)**2\n",
    "beam_size = n_beam**2"
   ]
  },
  {
   "cell_type": "markdown",
   "metadata": {},
   "source": [
    "#### Check that the correct values give us a good prediction"
   ]
  },
  {
   "cell_type": "code",
   "execution_count": 143,
   "metadata": {},
   "outputs": [],
   "source": [
    "# flatbread = flat_model(vis_true, beams, gains_true, ant_i, ant_j, flatndx)\n",
    "# print(\"Flat solution \", gen_chi2(data, flatbread, noise))"
   ]
  },
  {
   "cell_type": "markdown",
   "metadata": {},
   "source": [
    "#### Solve for the relevant properties given \"bad\" guesses"
   ]
  },
  {
   "cell_type": "code",
   "execution_count": 144,
   "metadata": {},
   "outputs": [],
   "source": [
    "outbeam = 3\n",
    "bshape = (len(beams), outbeam, outbeam)\n",
    "fakeflat, fanti, fantj = create_fake_flatndx(Nside, outbeam)\n",
    "fakevislen = len(set(np.abs(fakeflat).flatten()))+1"
   ]
  },
  {
   "cell_type": "code",
   "execution_count": 145,
   "metadata": {},
   "outputs": [],
   "source": [
    "bad_guess = np.random.normal(0, 1, (fakevislen, 2)).view(np.complex128).flatten()\n",
    "improv_beam = np.random.normal(0, 1, (*bshape, 2)).view(np.complex128).reshape(bshape)"
   ]
  },
  {
   "cell_type": "code",
   "execution_count": 146,
   "metadata": {},
   "outputs": [
    {
     "name": "stdout",
     "output_type": "stream",
     "text": [
      "Guess solution  (14208808000.177437, 9900, 1435233.1313310543)\n"
     ]
    }
   ],
   "source": [
    "horrific = flat_model(bad_guess, improv_beam, gains_true, ant_i, ant_j, fakeflat)\n",
    "print(\"Guess solution \", gen_chi2(data, horrific, noise))"
   ]
  },
  {
   "cell_type": "code",
   "execution_count": null,
   "metadata": {
    "scrolled": true
   },
   "outputs": [
    {
     "name": "stdout",
     "output_type": "stream",
     "text": [
      "0 824811.5679027016\n",
      "5 4406.167976470549\n",
      "10 87.91739582968833\n",
      "15 43.51727333901892\n",
      "20 33.17323193065764\n",
      "25 28.035921845135526\n",
      "30 25.256038532690823\n",
      "35 23.36430168491759\n",
      "40 21.72668696515247\n",
      "45 20.16266504888518\n",
      "50 18.668188127556093\n",
      "55 17.27845512752649\n",
      "60 16.02064216616125\n",
      "65 14.907312417445231\n",
      "70 13.938893440111364\n",
      "75 13.106827306341453\n",
      "80 12.397212231747373\n",
      "85 11.794344811078739\n",
      "90 11.283293916008239\n",
      "95 10.851328850404979\n",
      "100 10.48855900094725\n",
      "105 10.188212006212794\n",
      "110 9.946744855058434\n",
      "115 9.763600981554614\n",
      "120 9.640236232807053\n",
      "125 9.578665774328863\n",
      "130 9.580042000934103\n",
      "135 9.643066477596056\n",
      "140 9.76405006549605\n",
      "145 9.936947444584781\n",
      "150 10.14758693768806\n",
      "155 10.368417593286745\n",
      "160 10.563804825531683\n",
      "165 10.701137908793019\n",
      "170 10.755926012415427\n",
      "175 10.707141545809145\n",
      "180 10.524117257954929\n",
      "185 10.13399018523995\n",
      "190 9.270747701107426\n",
      "195 7.210582859808906\n",
      "200 7.531368165623054\n",
      "205 7.995627392867455\n",
      "210 8.4620242526248\n",
      "215 8.896706936161328\n",
      "220 9.282005404283424\n",
      "225 9.620785723479637\n",
      "230 9.927811148439366\n",
      "235 10.218259360314278\n",
      "240 10.499374655067717\n",
      "245 10.770753734844934\n",
      "250 11.029040539089719\n",
      "255 11.27123958898597\n",
      "260 11.495761148672132\n",
      "265 11.702288048189034\n",
      "270 11.891320338861462\n",
      "275 12.06376834228199\n",
      "280 12.220687143022218\n",
      "285 12.36313466797689\n",
      "290 12.492109070564958\n",
      "295 12.608527641058691\n",
      "300 12.713223489328248\n",
      "305 12.806947962147678\n",
      "310 12.890374025794543\n",
      "315 12.964099478013779\n",
      "320 13.028650258781603\n",
      "325 13.084484426691386\n",
      "330 13.131997224955793\n",
      "335 13.171527404635937\n",
      "340 13.203364728005605\n",
      "345 13.227758380343593\n",
      "350 13.244925879408532\n",
      "355 13.255061992513177\n",
      "360 13.258347155217297\n",
      "365 13.254954938889673\n",
      "370 13.245058236867477\n",
      "375 13.228834020043879\n",
      "380 13.206466731705948\n",
      "385 13.178150611367984\n",
      "390 13.144091419085017\n",
      "395 13.104508132755518\n",
      "400 13.059635183332896\n",
      "405 13.009725665404437\n",
      "410 12.955055721305946\n",
      "415 12.895929973588386\n",
      "420 12.8326875093646\n",
      "425 12.76570754938988\n",
      "430 12.69541362039037\n",
      "435 12.622274861349885\n",
      "440 12.546803113721774\n",
      "445 12.469544746104216\n",
      "450 12.391066779644346\n",
      "455 12.31193776462623\n",
      "460 12.232704858744025\n",
      "465 12.153869439497171\n",
      "470 12.075864097847997\n",
      "475 11.999033843364014\n",
      "480 11.923623790353478\n",
      "485 11.849774639323824\n",
      "490 11.777526164781165\n",
      "495 11.706827919181666\n",
      "500 11.637555634305322\n",
      "505 11.569531403632558\n",
      "510 11.502545626237131\n",
      "515 11.43637879618493\n",
      "520 11.370821445333243\n",
      "525 11.305690834226697\n",
      "530 11.24084331830476\n",
      "535 11.176181700136771\n",
      "540 11.111657318356254\n",
      "545 11.04726710437593\n",
      "550 10.983046310924985\n",
      "555 10.919058014106904\n",
      "560 10.855380745166476\n",
      "565 10.79209567489525\n",
      "570 10.729274649205374\n",
      "575 10.666970092332463\n",
      "580 10.605207418188504\n",
      "585 10.543980192725002\n",
      "590 10.483247938763773\n",
      "595 10.42293621653431\n",
      "600 10.362938471699353\n",
      "605 10.303119115678024\n",
      "610 10.24331736648622\n",
      "615 10.1833514988016\n",
      "620 10.123023291713203\n",
      "625 10.062122594036163\n",
      "630 10.00043203403074\n",
      "635 9.937731982137874\n",
      "640 9.8738059421098\n",
      "645 9.808446609967415\n",
      "650 9.741462906520196\n",
      "655 9.672688339491863\n",
      "660 9.60199103744002\n",
      "665 9.529285637936756\n",
      "670 9.454546815563381\n",
      "675 9.37782355084025\n",
      "680 9.29925233581903\n",
      "685 9.219066634491766\n",
      "690 9.137599482103573\n",
      "695 9.05527655015125\n",
      "700 8.972598512861108\n",
      "705 8.890113851036846\n",
      "710 8.808385588130644\n",
      "715 8.727956991899253\n",
      "720 8.649321412114015\n",
      "725 8.572900169180937\n",
      "730 8.49903031329712\n",
      "735 8.42796191517702\n",
      "740 8.35986295793527\n",
      "745 8.294829152443457\n",
      "750 8.23289602513705\n",
      "755 8.17405115890875\n",
      "760 8.118245201870346\n",
      "765 8.065400966946639\n",
      "770 8.015420504064432\n",
      "775 7.968190398440725\n",
      "780 7.923585745591658\n",
      "785 7.881473306426855\n",
      "790 7.841714287433858\n",
      "795 7.804167052059615\n",
      "800 7.768689882586545\n",
      "805 7.735143715640872\n",
      "810 7.703394613801771\n",
      "815 7.673315655558509\n",
      "820 7.644787956225659\n",
      "825 7.617700673085314\n",
      "830 7.5919500600848835\n",
      "835 7.567437851603376\n",
      "840 7.544069397518267\n",
      "845 7.5217519959946815\n",
      "850 7.500393775047022\n",
      "855 7.47990330160189\n",
      "860 7.460189909146382\n",
      "865 7.441164587616446\n",
      "870 7.422741199432276\n",
      "875 7.4048377755670725\n",
      "880 7.387377684895507\n",
      "885 7.370290535309448\n",
      "890 7.353512733898023\n",
      "895 7.336987692298898\n",
      "900 7.320665706570377\n",
      "905 7.304503567649198\n",
      "910 7.288463971806369\n",
      "915 7.272514803232496\n",
      "920 7.256628356791604\n",
      "925 7.240780559983555\n",
      "930 7.224950241772455\n",
      "935 7.209118483029872\n",
      "940 7.1932680707169325\n",
      "945 7.177383065694093\n",
      "950 7.161448484033176\n",
      "955 7.14545008338124\n",
      "960 7.129374240257044\n",
      "965 7.113207900911811\n",
      "970 7.096938587283288\n",
      "975 7.080554440079652\n",
      "980 7.064044283047647\n",
      "985 7.047397694882888\n",
      "990 7.030605078201586\n",
      "995 7.013657717653828\n",
      "1000 6.996547821794323\n",
      "1005 6.979268545254639\n",
      "1010 6.961813989483838\n",
      "1015 6.944179181317112\n",
      "1020 6.926360029704681\n",
      "1025 6.908353261369504\n",
      "1030 6.890156336793677\n",
      "1035 6.8717673483322566\n",
      "1040 6.853184902824294\n",
      "1045 6.834407991624741\n",
      "1050 6.815435851840611\n",
      "1055 6.796267823235152\n",
      "1060 6.776903206547534\n",
      "1065 6.757341129825497\n",
      "1070 6.737580430668135\n",
      "1075 6.717619563197506\n",
      "1080 6.697456539457974\n",
      "1085 6.6770889153571975\n",
      "1090 6.65651383101136\n",
      "1095 6.635728114499602\n",
      "1100 6.6147284557473265\n",
      "1105 6.5935116540024366\n",
      "1110 6.572074937334705\n",
      "1115 6.550416346386198\n",
      "1120 6.528535166746843\n",
      "1125 6.506432386057299\n",
      "1130 6.484111143402145\n",
      "1135 6.461577131535568\n",
      "1140 6.438838907775753\n",
      "1145 6.415908069226491\n",
      "1150 6.392799252724057\n",
      "1155 6.3695299307983\n",
      "1160 6.3461199913993545\n",
      "1165 6.322591109501784\n",
      "1170 6.298965940956276\n",
      "1175 6.275267189153197\n",
      "1180 6.251516610551319\n",
      "1185 6.227734032293562\n",
      "1190 6.203936453065136\n",
      "1195 6.180137287089676\n",
      "1200 6.156345792355832\n"
     ]
    }
   ],
   "source": [
    "itersolve = solve_everything(0, bad_guess, improv_beam, gains_true, data, ant_i, ant_j, fakeflat, Nside, noise, wiener=True)"
   ]
  },
  {
   "cell_type": "code",
   "execution_count": null,
   "metadata": {},
   "outputs": [],
   "source": [
    "challah = flat_model(itersolve[0], itersolve[1], gains_true, ant_i, ant_j, fakeflat)\n",
    "print(\"Flat solution \", gen_chi2(data, challah, noise))"
   ]
  },
  {
   "cell_type": "code",
   "execution_count": null,
   "metadata": {},
   "outputs": [],
   "source": [
    "# plt.plot(np.log10(itersolve[-1]), '.');\n",
    "# plt.title(r\"$\\log{\\left(\\frac {\\chi^2}{DoF}\\right)}$\");\n",
    "\n",
    "plt.plot(itersolve[-1], '.');\n",
    "plt.title(r\"$\\frac{\\chi^2}{DoF}$ - Generalized Calibration\");\n",
    "\n",
    "plt.semilogy();"
   ]
  },
  {
   "cell_type": "markdown",
   "metadata": {},
   "source": [
    "#### Check phase degeneracy"
   ]
  },
  {
   "cell_type": "code",
   "execution_count": 89,
   "metadata": {},
   "outputs": [],
   "source": [
    "phase_vis, phase_beams = scale_phased(vis_true, beams, 1, np.array([.12, .1]), n2b, n_beam)"
   ]
  },
  {
   "cell_type": "code",
   "execution_count": 90,
   "metadata": {},
   "outputs": [
    {
     "name": "stdout",
     "output_type": "stream",
     "text": [
      "Flat solution  (20526.517035332265, 20592, 0.9968199803483034)\n"
     ]
    }
   ],
   "source": [
    "pita = flat_model(phase_vis, phase_beams, gains_true, ant_i, ant_j, flatndx)\n",
    "print(\"Flat solution \", gen_chi2(data, pita, noise))"
   ]
  },
  {
   "cell_type": "markdown",
   "metadata": {},
   "source": [
    "#### Show that standard redundant calibration is bad"
   ]
  },
  {
   "cell_type": "code",
   "execution_count": 125,
   "metadata": {},
   "outputs": [],
   "source": [
    "beam_gain_guess = np.random.normal(0, 1, (Nant, 2)).view(np.complex128).flatten()"
   ]
  },
  {
   "cell_type": "code",
   "execution_count": 179,
   "metadata": {},
   "outputs": [
    {
     "data": {
      "application/vnd.jupyter.widget-view+json": {
       "model_id": "2ea41ecba58240ea87da03ecf0378dba",
       "version_major": 2,
       "version_minor": 0
      },
      "text/plain": [
       "HBox(children=(FloatProgress(value=0.0), HTML(value='')))"
      ]
     },
     "metadata": {},
     "output_type": "display_data"
    },
    {
     "name": "stdout",
     "output_type": "stream",
     "text": [
      "\n"
     ]
    }
   ],
   "source": [
    "bad_guess = np.random.normal(0, 1, (len(vis_true), 2)).view(np.complex128).flatten()\n",
    "chig, chiv, c, n = chimincal(100, data, beam_gain_guess, bad_guess, ant_i, ant_j, visndx, delta=.4)"
   ]
  },
  {
   "cell_type": "code",
   "execution_count": 135,
   "metadata": {},
   "outputs": [
    {
     "data": {
      "application/vnd.jupyter.widget-view+json": {
       "model_id": "9698c8a536c34161a3319b937ced15d2",
       "version_major": 2,
       "version_minor": 0
      },
      "text/plain": [
       "HBox(children=(FloatProgress(value=0.0), HTML(value='')))"
      ]
     },
     "metadata": {},
     "output_type": "display_data"
    },
    {
     "name": "stdout",
     "output_type": "stream",
     "text": [
      "\n"
     ]
    }
   ],
   "source": [
    "worse_guess = np.random.normal(0, 1, (fakevislen, 2)).view(np.complex128).flatten()\n",
    "chig, chiv, c, n = chimincal(100, data, beam_gain_guess, worse_guess, ant_i, ant_j, fakeflat[:,12], delta=.4, noise=.2)"
   ]
  },
  {
   "cell_type": "code",
   "execution_count": 136,
   "metadata": {},
   "outputs": [
    {
     "name": "stdout",
     "output_type": "stream",
     "text": [
      "0.9365325695977669\n"
     ]
    },
    {
     "data": {
      "image/png": "[encoded data removed]",
      "text/plain": [
       "<Figure size 432x288 with 1 Axes>"
      ]
     },
     "metadata": {
      "image/png": {
       "height": 270,
       "width": 373
      },
      "needs_background": "light"
     },
     "output_type": "display_data"
    }
   ],
   "source": [
    "plt.plot(c, '.')\n",
    "plt.title(r\"$\\frac{\\chi^2}{DoF}$ - Standard Calibration\")\n",
    "plt.semilogy()\n",
    "print(c[-1])"
   ]
  },
  {
   "cell_type": "markdown",
   "metadata": {},
   "source": [
    "### Below this is my random testing/playground <a name=\"playground\"></a>"
   ]
  },
  {
   "cell_type": "code",
   "execution_count": 712,
   "metadata": {},
   "outputs": [
    {
     "data": {
      "image/png": "[encoded data removed]",
      "text/plain": [
       "<Figure size 648x504 with 4 Axes>"
      ]
     },
     "metadata": {
      "image/png": {
       "height": 426,
       "width": 549
      },
      "needs_background": "light"
     },
     "output_type": "display_data"
    }
   ],
   "source": [
    "fig, ax = plt.subplots(2, 2, figsize=(9,7))\n",
    "\n",
    "ax[0,0].hist(vis_true.real);\n",
    "ax[0,0].set_title(\"True Visibility (Reals)\");\n",
    "\n",
    "ax[0,1].hist(itersolve[0].real);\n",
    "ax[0,1].set_title(\"Solved Visibility (Reals)\");\n",
    "\n",
    "ax[1,0].hist(beams.flatten().real);\n",
    "ax[1,0].set_title(\"True Beams (Reals)\");\n",
    "\n",
    "ax[1,1].hist(itersolve[1].flatten().real);\n",
    "ax[1,1].set_title(\"Solved Beams (Reals)\");"
   ]
  },
  {
   "cell_type": "code",
   "execution_count": 426,
   "metadata": {},
   "outputs": [],
   "source": [
    "# print(\"True vis variance: \", np.var(vis_true.real))\n",
    "# print(\"Solved vis variance using n_beam=\"+str(outbeam), np.var(itersolve[0].real))\n",
    "\n",
    "# print(\"True beam variance: \", np.var(beams.real))\n",
    "# print(\"Solved beam variance using n_beam=\"+str(outbeam), np.var(itersolve[1].real))\n",
    "\n",
    "# print(\"True vis variance: \", np.var(vis_true.real))\n",
    "# print(\"Solved vis variance using n_beam=\"+str(outbeam), np.var(itersolve[0].real))\n",
    "\n",
    "# print(\"True beam variance: \", np.var(beams.real))\n",
    "# print(\"Solved beam variance using n_beam=\"+str(outbeam), np.var(itersolve[1].real))"
   ]
  },
  {
   "cell_type": "code",
   "execution_count": 819,
   "metadata": {},
   "outputs": [],
   "source": [
    "solved_beam_avgs = np.array([np.sum(b) for b in itersolve[1]])\n",
    "# solved_beam_avgs = np.array([np.sum(b) for b in improv_beam])\n",
    "orig_beam_avgs = np.array([np.sum(b) for b in beams])"
   ]
  },
  {
   "cell_type": "code",
   "execution_count": 820,
   "metadata": {},
   "outputs": [],
   "source": [
    "post_beams = []\n",
    "for i in range(Nant):\n",
    "    for j in range(i+1, Nant):\n",
    "        post_beams.append(signal.convolve(beams[i], np.conjugate(beams[j][::-1, ::-1])).flatten())\n",
    "post_beams = np.array(post_beams)"
   ]
  },
  {
   "cell_type": "code",
   "execution_count": 829,
   "metadata": {},
   "outputs": [],
   "source": [
    "post_improv = []\n",
    "impi = []\n",
    "impj = []\n",
    "for i in range(Nant):\n",
    "    for j in range(i+1, Nant):\n",
    "        impi.append(i)\n",
    "        impj.append(j)\n",
    "#         post_improv.append(signal.convolve(improv_beam[i], np.conjugate(improv_beam[j][::-1, ::-1])).flatten())\n",
    "        post_improv.append(signal.convolve(itersolve[1][i], np.conjugate(itersolve[1][j][::-1, ::-1])).flatten())\n",
    "post_improv = np.array(post_improv)\n",
    "ipmi = np.array(impi)\n",
    "ipmj = np.array(impj)"
   ]
  },
  {
   "cell_type": "code",
   "execution_count": 830,
   "metadata": {},
   "outputs": [
    {
     "data": {
      "text/plain": [
       "(array([  24.,   77.,  274.,  401.,  484.,  612.,  908., 1299.,  792.,\n",
       "          79.]),\n",
       " array([ 29.95254574,  38.70796254,  47.46337933,  56.21879612,\n",
       "         64.97421292,  73.72962971,  82.4850465 ,  91.2404633 ,\n",
       "         99.99588009, 108.75129689, 117.50671368]),\n",
       " <a list of 10 Patch objects>)"
      ]
     },
     "execution_count": 830,
     "metadata": {},
     "output_type": "execute_result"
    },
    {
     "data": {
      "image/png": "[encoded data removed]",
      "text/plain": [
       "<Figure size 432x288 with 1 Axes>"
      ]
     },
     "metadata": {
      "image/png": {
       "height": 248,
       "width": 384
      },
      "needs_background": "light"
     },
     "output_type": "display_data"
    }
   ],
   "source": [
    "plt.hist(np.abs(np.sum(post_beams, axis=1)/np.sum(post_improv, axis=1)))"
   ]
  },
  {
   "cell_type": "code",
   "execution_count": 831,
   "metadata": {},
   "outputs": [
    {
     "data": {
      "text/plain": [
       "Text(0.5, 1.0, 'Magnitude of Postage of True Beams')"
      ]
     },
     "execution_count": 831,
     "metadata": {},
     "output_type": "execute_result"
    },
    {
     "data": {
      "image/png": "[encoded data removed]",
      "text/plain": [
       "<Figure size 864x432 with 2 Axes>"
      ]
     },
     "metadata": {
      "image/png": {
       "height": 372,
       "width": 706
      },
      "needs_background": "light"
     },
     "output_type": "display_data"
    }
   ],
   "source": [
    "fig, ax = plt.subplots(ncols=2, figsize=(12,6))\n",
    "\n",
    "ax[0].hist(np.abs(np.sum(post_improv, axis=1)), density=True);\n",
    "ax[0].set_title(\"Magnitude of Postage of Solved Beams\")\n",
    "ax[1].hist(np.abs(np.sum(post_beams, axis=1)), density=True);\n",
    "ax[1].set_title(\"Magnitude of Postage of True Beams\")"
   ]
  },
  {
   "cell_type": "code",
   "execution_count": 832,
   "metadata": {},
   "outputs": [
    {
     "data": {
      "image/png": "[encoded data removed]",
      "text/plain": [
       "<Figure size 432x288 with 1 Axes>"
      ]
     },
     "metadata": {
      "image/png": {
       "height": 248,
       "width": 377
      },
      "needs_background": "light"
     },
     "output_type": "display_data"
    }
   ],
   "source": [
    "plt.plot(np.arange(Nant), solved_beam_avgs.real, '.', label='Fit');\n",
    "plt.plot(np.arange(Nant), orig_beam_avgs.real, '.', label='True');\n",
    "plt.legend();"
   ]
  },
  {
   "cell_type": "code",
   "execution_count": 833,
   "metadata": {},
   "outputs": [
    {
     "data": {
      "image/png": "[encoded data removed]",
      "text/plain": [
       "<Figure size 432x288 with 1 Axes>"
      ]
     },
     "metadata": {
      "image/png": {
       "height": 250,
       "width": 377
      },
      "needs_background": "light"
     },
     "output_type": "display_data"
    }
   ],
   "source": [
    "plt.plot(np.arange(Nant), solved_beam_avgs.imag, '.', label='Fit');\n",
    "plt.plot(np.arange(Nant), orig_beam_avgs.imag, '.', label='True');\n",
    "plt.legend();"
   ]
  },
  {
   "cell_type": "code",
   "execution_count": 834,
   "metadata": {},
   "outputs": [
    {
     "data": {
      "image/png": "[encoded data removed]",
      "text/plain": [
       "<Figure size 432x288 with 1 Axes>"
      ]
     },
     "metadata": {
      "image/png": {
       "height": 248,
       "width": 377
      },
      "needs_background": "light"
     },
     "output_type": "display_data"
    }
   ],
   "source": [
    "plt.hist(np.abs(beams).flatten(), density=True, stacked=True, histtype='step', fill=False, label='True');\n",
    "plt.hist(np.abs(improv_beam).flatten(), density=True, stacked=True, histtype='step', fill=False, label='Guess');\n",
    "plt.legend();"
   ]
  },
  {
   "cell_type": "code",
   "execution_count": 720,
   "metadata": {},
   "outputs": [
    {
     "data": {
      "image/png": "[encoded data removed]",
      "text/plain": [
       "<Figure size 432x288 with 1 Axes>"
      ]
     },
     "metadata": {
      "image/png": {
       "height": 248,
       "width": 378
      },
      "needs_background": "light"
     },
     "output_type": "display_data"
    }
   ],
   "source": [
    "plt.hist(vis_true.imag, density=True, histtype='step', fill=False, label='True');\n",
    "# plt.hist(bad_guess.real, density=True, histtype='step', fill=False, label='Fit');\n",
    "plt.hist(itersolve[0].imag, density=True, histtype='step', fill=False, label='Fit');\n",
    "plt.legend();"
   ]
  },
  {
   "cell_type": "code",
   "execution_count": 721,
   "metadata": {},
   "outputs": [
    {
     "data": {
      "image/png": "[encoded data removed]",
      "text/plain": [
       "<Figure size 432x288 with 1 Axes>"
      ]
     },
     "metadata": {
      "image/png": {
       "height": 248,
       "width": 378
      },
      "needs_background": "light"
     },
     "output_type": "display_data"
    }
   ],
   "source": [
    "plt.hist(vis_true.real, density=True, histtype='step', fill=False, label='True');\n",
    "# plt.hist(bad_guess.real, density=True, histtype='step', fill=False, label='Fit');\n",
    "plt.hist(itersolve[0].real, density=True, histtype='step', fill=False, label='Fit');\n",
    "plt.legend();"
   ]
  },
  {
   "cell_type": "code",
   "execution_count": 1883,
   "metadata": {},
   "outputs": [
    {
     "name": "stdout",
     "output_type": "stream",
     "text": [
      "976 ms ± 23.6 ms per loop (mean ± std. dev. of 7 runs, 1 loop each)\n"
     ]
    }
   ],
   "source": [
    "%%timeit\n",
    "_ = beam_solver(bad_guess, improv_beam, gains_true, data, ant_i, ant_j, fakeflat, Nside)"
   ]
  },
  {
   "cell_type": "code",
   "execution_count": 1882,
   "metadata": {},
   "outputs": [
    {
     "name": "stdout",
     "output_type": "stream",
     "text": [
      "2.24 s ± 25.8 ms per loop (mean ± std. dev. of 7 runs, 1 loop each)\n"
     ]
    }
   ],
   "source": [
    "%%timeit\n",
    "_ = vis_solver(bad_guess, improv_beam, gains_true, data, ant_i, ant_j, fakeflat)"
   ]
  },
  {
   "cell_type": "code",
   "execution_count": 1885,
   "metadata": {},
   "outputs": [
    {
     "name": "stdout",
     "output_type": "stream",
     "text": [
      "2.98 s ± 686 ms per loop (mean ± std. dev. of 7 runs, 1 loop each)\n"
     ]
    }
   ],
   "source": [
    "%%timeit\n",
    "_ = vis_solv(bad_guess, improv_beam, gains_true, data, noise, ant_i, ant_j, fakeflat, fakevislen)"
   ]
  },
  {
   "cell_type": "code",
   "execution_count": 1889,
   "metadata": {},
   "outputs": [
    {
     "name": "stdout",
     "output_type": "stream",
     "text": [
      "2.13 s ± 9.79 ms per loop (mean ± std. dev. of 7 runs, 1 loop each)\n"
     ]
    }
   ],
   "source": [
    "%%timeit\n",
    "bigA, bigB = linear_solver_A(improv_beam, gains_true, data, ant_i, ant_j, fakeflat)"
   ]
  },
  {
   "cell_type": "code",
   "execution_count": 1920,
   "metadata": {},
   "outputs": [
    {
     "name": "stdout",
     "output_type": "stream",
     "text": [
      "814 ms ± 5.02 ms per loop (mean ± std. dev. of 7 runs, 1 loop each)\n"
     ]
    }
   ],
   "source": [
    "%%timeit\n",
    "bigA, bigB = linear_solver_A(improv_beam, gains_true, data, ant_i, ant_j, fakeflat)"
   ]
  },
  {
   "cell_type": "code",
   "execution_count": 1044,
   "metadata": {},
   "outputs": [
    {
     "name": "stdout",
     "output_type": "stream",
     "text": [
      "246 ms ± 8.04 ms per loop (mean ± std. dev. of 7 runs, 1 loop each)\n"
     ]
    }
   ],
   "source": [
    "%%timeit\n",
    "for i in range(len(fakeflat)):\n",
    "    post[i] = signal.convolve(improv_beam[ant_i[i]], np.conjugate(improv_beam[ant_j[i]][::-1, ::-1])).flatten()*gains_true[ant_i[i]]*np.conjugate(gains_true[ant_j[i]])"
   ]
  },
  {
   "cell_type": "code",
   "execution_count": 1036,
   "metadata": {},
   "outputs": [
    {
     "name": "stdout",
     "output_type": "stream",
     "text": [
      "73.7 ms ± 312 µs per loop (mean ± std. dev. of 7 runs, 10 loops each)\n"
     ]
    }
   ],
   "source": [
    "%%timeit\n",
    "lilA.tocsr()"
   ]
  },
  {
   "cell_type": "code",
   "execution_count": 1508,
   "metadata": {},
   "outputs": [
    {
     "name": "stdout",
     "output_type": "stream",
     "text": [
      "Guess solution  (361034126.6541432, 9900, 36468.093601428605)\n"
     ]
    }
   ],
   "source": [
    "horrific = flat_model(bad_guess, improv_beam, gains_true, ant_i, ant_j, fakeflat)\n",
    "print(\"Guess solution \", gen_chi2(data, horrific, noise))"
   ]
  },
  {
   "cell_type": "code",
   "execution_count": 1561,
   "metadata": {},
   "outputs": [
    {
     "name": "stdout",
     "output_type": "stream",
     "text": [
      "8.05 s ± 417 ms per loop (mean ± std. dev. of 7 runs, 1 loop each)\n"
     ]
    }
   ],
   "source": [
    "%%timeit\n",
    "orig_m = vis_solver(bad_guess, improv_beam, gains_true, data, ant_i, ant_j, fakeflat)"
   ]
  },
  {
   "cell_type": "code",
   "execution_count": 1549,
   "metadata": {},
   "outputs": [
    {
     "name": "stdout",
     "output_type": "stream",
     "text": [
      "Guess solution  (25807670.751166813, 9900, 2606.8354294107894)\n"
     ]
    }
   ],
   "source": [
    "horrific = flat_model(orig_m, improv_beam, gains_true, ant_i, ant_j, fakeflat)\n",
    "print(\"Guess solution \", gen_chi2(data, horrific, noise))"
   ]
  },
  {
   "cell_type": "code",
   "execution_count": 1562,
   "metadata": {},
   "outputs": [
    {
     "name": "stdout",
     "output_type": "stream",
     "text": [
      "2.48 s ± 18.7 ms per loop (mean ± std. dev. of 7 runs, 1 loop each)\n"
     ]
    }
   ],
   "source": [
    "%%timeit\n",
    "wein_m = trial_vis_solv(bad_guess, improv_beam, gains_true, data, noise, ant_i, ant_j, fakeflat, fakevislen)"
   ]
  },
  {
   "cell_type": "code",
   "execution_count": 1560,
   "metadata": {},
   "outputs": [
    {
     "name": "stdout",
     "output_type": "stream",
     "text": [
      "Guess solution  (26376676.171272844, 9900, 2664.310724370994)\n"
     ]
    }
   ],
   "source": [
    "horrific = flat_model(wein_m, improv_beam, gains_true, ant_i, ant_j, fakeflat)\n",
    "print(\"Guess solution \", gen_chi2(data, horrific, noise))"
   ]
  },
  {
   "cell_type": "code",
   "execution_count": 1905,
   "metadata": {},
   "outputs": [
    {
     "name": "stdout",
     "output_type": "stream",
     "text": [
      "2.29 s ± 7.05 ms per loop (mean ± std. dev. of 7 runs, 1 loop each)\n"
     ]
    }
   ],
   "source": [
    "%%timeit\n",
    "postage = np.array([signal.convolve(improv_beam[ant_i[i]], np.conjugate(improv_beam[ant_j[i]][::-1, ::-1])).flatten() for i in range(len(fakeflat))])\n",
    "bigA = sparse.lil_matrix((2*data_len, 2*v_size))\n",
    "for i,v in enumerate(fakeflat):\n",
    "    absv = np.abs(v)\n",
    "    bigA[i,absv] = postage[i].real\n",
    "    bigA[i, v_size+absv] = -1*np.sign(v)*postage[i].imag\n",
    "    bigA[i+data_len, absv] = postage[i].imag\n",
    "    bigA[i+data_len, v_size+absv] = np.sign(v)*postage[i].real"
   ]
  },
  {
   "cell_type": "code",
   "execution_count": 1896,
   "metadata": {},
   "outputs": [],
   "source": [
    "data_len = len(data)"
   ]
  },
  {
   "cell_type": "code",
   "execution_count": 1897,
   "metadata": {},
   "outputs": [],
   "source": [
    "v_size = fakevislen"
   ]
  },
  {
   "cell_type": "code",
   "execution_count": 1912,
   "metadata": {},
   "outputs": [],
   "source": [
    "bigA = np.zeros((2*data_len, 2*v_size))"
   ]
  },
  {
   "cell_type": "code",
   "execution_count": 1913,
   "metadata": {},
   "outputs": [
    {
     "name": "stdout",
     "output_type": "stream",
     "text": [
      "74.3 ms ± 468 µs per loop (mean ± std. dev. of 7 runs, 10 loops each)\n"
     ]
    }
   ],
   "source": [
    "%%timeit\n",
    "for i,v in enumerate(fakeflat):\n",
    "    absv = np.abs(v)\n",
    "    post = postage[i]\n",
    "    bigA[i,absv] = post.real\n",
    "    bigA[i, v_size+absv] = -1*np.sign(v)*post.imag\n",
    "    bigA[i+data_len, absv] = post.imag\n",
    "    bigA[i+data_len, v_size+absv] = np.sign(v)*post.real"
   ]
  },
  {
   "cell_type": "code",
   "execution_count": 1959,
   "metadata": {},
   "outputs": [],
   "source": [
    "bigA, bigB = linear_solver_A(improv_beam, gains_true, data, ant_i, ant_j, fakeflat)"
   ]
  },
  {
   "cell_type": "code",
   "execution_count": 1965,
   "metadata": {},
   "outputs": [],
   "source": [
    "bigCSR = sparse.csr_matrix(bigA)"
   ]
  },
  {
   "cell_type": "code",
   "execution_count": 1969,
   "metadata": {},
   "outputs": [],
   "source": [
    "t2 = sparse.linalg.lsmr(bigCSR, bigB)[0]"
   ]
  },
  {
   "cell_type": "code",
   "execution_count": 1968,
   "metadata": {},
   "outputs": [],
   "source": [
    "t1 = sparse.linalg.lsqr(bigCSR, bigB)[0]"
   ]
  },
  {
   "cell_type": "code",
   "execution_count": 1982,
   "metadata": {},
   "outputs": [],
   "source": [
    "lasg = [1,2,24, 7, 9]"
   ]
  },
  {
   "cell_type": "code",
   "execution_count": 1984,
   "metadata": {},
   "outputs": [
    {
     "data": {
      "text/plain": [
       "[2, 24, 7]"
      ]
     },
     "execution_count": 1984,
     "metadata": {},
     "output_type": "execute_result"
    }
   ],
   "source": [
    "lasg[1:-1]"
   ]
  }
 ],
 "metadata": {
  "kernelspec": {
   "display_name": "Python 3",
   "language": "python",
   "name": "python3"
  },
  "language_info": {
   "codemirror_mode": {
    "name": "ipython",
    "version": 3
   },
   "file_extension": ".py",
   "mimetype": "text/x-python",
   "name": "python",
   "nbconvert_exporter": "python",
   "pygments_lexer": "ipython3",
   "version": "3.8.5"
  }
 },
 "nbformat": 4,
 "nbformat_minor": 4
}
