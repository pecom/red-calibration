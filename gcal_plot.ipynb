{
 "cells": [
  {
   "cell_type": "code",
   "execution_count": 1,
   "metadata": {},
   "outputs": [],
   "source": [
    "import numpy as np\n",
    "import matplotlib.pyplot as plt"
   ]
  },
  {
   "cell_type": "code",
   "execution_count": 6,
   "metadata": {},
   "outputs": [],
   "source": [
    "%matplotlib inline\n",
    "%config InlineBackend.figure_format='retina'"
   ]
  },
  {
   "cell_type": "code",
   "execution_count": 2,
   "metadata": {},
   "outputs": [],
   "source": [
    "Nside=10\n",
    "g = np.random.normal(1,0.1,(Nside,Nside))*np.exp(1j*np.random.uniform(0,2*np.pi))\n",
    "px = np.random.normal(0,0.3,(Nside,Nside)) \n",
    "py = np.random.normal(0,0.3,(Nside,Nside))\n",
    "ofx = np.random.normal(0,0.02,(Nside,Nside))\n",
    "ofy = np.random.normal(0,0.02,(Nside,Nside))\n",
    "R=0.4"
   ]
  },
  {
   "cell_type": "code",
   "execution_count": 119,
   "metadata": {},
   "outputs": [],
   "source": [
    "def plot(M):\n",
    "    mult = 20 if M<30 else 1\n",
    "    Np = (2*M+1)*Nside\n",
    "    pl = np.zeros((Np,Np), dtype=np.complex128)\n",
    "    toplot = np.zeros((Np, Np, 3))\n",
    "    for i in range(Nside):\n",
    "        for j in range(Nside):\n",
    "            Npost = (2*M+1)*mult\n",
    "            x = np.outer(np.linspace(-0.5,0.5,Npost),np.ones(Npost))\n",
    "            y = x.T\n",
    "            postage = g[i,j]*np.exp(1j*((x)*px[i,j]+(y)*py[i,j]))\n",
    "            postage[((x+ofx[i,j])**2+(y+ofy[i,j])**2)>R**2]=0\n",
    "            for k in range(2*M+1):\n",
    "                for l in range(2*M+1):\n",
    "                    pl[i*(2*M+1)+k,j*(2*M+1)+l] = np.nanmean(postage[k*mult:(k+1)*mult,l*mult:(l+1)*mult])\n",
    "    rl = np.real(pl)/abs(pl).max()\n",
    "    im = np.imag(pl)/abs(pl).max()\n",
    "      \n",
    "    toplot = np.array((rl**2,0*rl,im**2)).T\n",
    "    beams = toplot.nonzero()\n",
    "    toplot[beams] += .2\n",
    "    print(toplot.shape)\n",
    "    \n",
    "    plt.imshow(toplot,extent=(0,1,0,1))\n",
    "    #for i in range(Nside):\n",
    "    #    for j in range(Nside):\n",
    "    #        plt.plot((i+0.5),(j+0.5),'w+')\n",
    "    \n",
    "    return toplot\n",
    "                "
   ]
  },
  {
   "cell_type": "code",
   "execution_count": null,
   "metadata": {},
   "outputs": [],
   "source": [
    "plt.figure(figsize=(10,10))\n",
    "toplot=plot(20)"
   ]
  },
  {
   "cell_type": "code",
   "execution_count": null,
   "metadata": {},
   "outputs": [],
   "source": []
  }
 ],
 "metadata": {
  "kernelspec": {
   "display_name": "Python 3",
   "language": "python",
   "name": "python3"
  },
  "language_info": {
   "codemirror_mode": {
    "name": "ipython",
    "version": 3
   },
   "file_extension": ".py",
   "mimetype": "text/x-python",
   "name": "python",
   "nbconvert_exporter": "python",
   "pygments_lexer": "ipython3",
   "version": "3.8.5"
  }
 },
 "nbformat": 4,
 "nbformat_minor": 4
}
