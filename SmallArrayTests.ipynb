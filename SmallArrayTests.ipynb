{
 "cells": [
  {
   "cell_type": "code",
   "execution_count": 869,
   "metadata": {},
   "outputs": [],
   "source": [
    "import numpy as np\n",
    "import matplotlib.pyplot as plt\n",
    "from scipy import stats\n",
    "from functools import reduce\n",
    "from collections import defaultdict\n",
    "from tqdm.notebook import tqdm"
   ]
  },
  {
   "cell_type": "code",
   "execution_count": 1008,
   "metadata": {},
   "outputs": [],
   "source": [
    "%matplotlib inline\n",
    "%config InlineBackend.figure_format='retina'"
   ]
  },
  {
   "cell_type": "code",
   "execution_count": 1632,
   "metadata": {},
   "outputs": [],
   "source": [
    "array_shape = (4,4)\n",
    "telescope_number = np.prod(array_shape)\n",
    "telescope_array = np.arange(telescope_number).reshape(array_shape)\n",
    "tele_pos = [np.array(np.unravel_index(i, array_shape)) for i in range(telescope_number)]"
   ]
  },
  {
   "cell_type": "code",
   "execution_count": 1626,
   "metadata": {},
   "outputs": [],
   "source": [
    "def get_baseline_key(i1, i2, shape=array_shape):\n",
    "    p1 = np.array(np.unravel_index(i1, shape))\n",
    "    p2 = np.array(np.unravel_index(i2, shape))\n",
    "    pos_diff = p1 - p2\n",
    "    sign = np.product(pos_diff)\n",
    "    if sign > 0:\n",
    "        key = tuple(np.abs(pos_diff))\n",
    "    else:\n",
    "        key = tuple((np.abs(pos_diff[0]), -1*np.abs(pos_diff[1])))\n",
    "    return key"
   ]
  },
  {
   "cell_type": "code",
   "execution_count": 1634,
   "metadata": {},
   "outputs": [],
   "source": [
    "def get_baselines(tele_num=telescope_number):\n",
    "    redundant_baselines = {}\n",
    "    for i in range(telescope_number):\n",
    "        for j in range(telescope_number):\n",
    "            if i==j:\n",
    "                continue\n",
    "            ordered_diff = (min(i,j), max(i,j))\n",
    "            key = get_baseline_key(i,j)\n",
    "            if key in redundant_baselines.keys():\n",
    "                if ordered_diff in redundant_baselines[key]:\n",
    "                    continue\n",
    "                else:\n",
    "                    redundant_baselines[key].append(ordered_diff)\n",
    "            else:\n",
    "                redundant_baselines[key] = [ordered_diff]            \n",
    "    return redundant_baselines"
   ]
  },
  {
   "cell_type": "code",
   "execution_count": 1639,
   "metadata": {},
   "outputs": [],
   "source": [
    "redundant_baselines = get_baselines()\n",
    "baseline_indx = np.array(list(redundant_baselines.keys()))"
   ]
  },
  {
   "cell_type": "code",
   "execution_count": 1642,
   "metadata": {},
   "outputs": [
    {
     "data": {
      "text/plain": [
       "True"
      ]
     },
     "execution_count": 1642,
     "metadata": {},
     "output_type": "execute_result"
    }
   ],
   "source": [
    "[0,-1] in baseline_indx"
   ]
  },
  {
   "cell_type": "code",
   "execution_count": 1630,
   "metadata": {},
   "outputs": [],
   "source": [
    "# For square of N telescopes, should be 2N-2*sqrt(N) + 1\n",
    "# Fix to a corner and there are N-1 options for unique baselines. \n",
    "# Flip over to other side (over x or y axis) and get another N-1 options\n",
    "# Duplicated are the pure x-axis and pure y-axis so -2*(sqrt(N)-1)\n",
    "# Final +1 is from 0 baseline\n",
    "\n",
    "baselines = basic_baselines.keys()\n",
    "N_bases = len(baselines)"
   ]
  },
  {
   "cell_type": "code",
   "execution_count": 1631,
   "metadata": {},
   "outputs": [
    {
     "data": {
      "text/plain": [
       "24"
      ]
     },
     "execution_count": 1631,
     "metadata": {},
     "output_type": "execute_result"
    }
   ],
   "source": [
    "N_bases"
   ]
  },
  {
   "cell_type": "code",
   "execution_count": null,
   "metadata": {},
   "outputs": [],
   "source": []
  },
  {
   "cell_type": "code",
   "execution_count": 1605,
   "metadata": {},
   "outputs": [],
   "source": [
    "rand_phases = lambda x: np.random.uniform(0, 2*np.pi, x)"
   ]
  },
  {
   "cell_type": "code",
   "execution_count": 1606,
   "metadata": {},
   "outputs": [],
   "source": [
    "npcb = np.vectorize(pow)"
   ]
  },
  {
   "cell_type": "code",
   "execution_count": 1609,
   "metadata": {},
   "outputs": [],
   "source": [
    "gain_amp = np.random.normal(1, .5, telescope_number)\n",
    "if np.min(gain_amp) < 0:\n",
    "    print(\"try again\")\n",
    "gain_phase = rand_phases(telescope_number)\n",
    "tgain = gain_amp*np.exp(1j*gain_phase)"
   ]
  },
  {
   "cell_type": "code",
   "execution_count": 1610,
   "metadata": {},
   "outputs": [],
   "source": [
    "sky_phase = {pkey:rand_phases(1) for pkey in baselines}\n",
    "correl_sky = {pkey:np.random.normal(3, .1)*np.exp(1j*sky_phase[pkey]) for pkey in baselines}"
   ]
  },
  {
   "cell_type": "code",
   "execution_count": 1611,
   "metadata": {},
   "outputs": [],
   "source": [
    "observation_baselines = np.zeros((telescope_number, telescope_number), dtype=np.complex128)\n",
    "for i in range(telescope_number):\n",
    "    for k in range(telescope_number):\n",
    "        key = get_baseline_key(i, k)\n",
    "        sig = tgain[i]*np.conj(tgain[k])*correl_sky[key][0]\n",
    "        noise = np.random.normal(.05,.01) + 1j*np.random.normal(.05,.01)\n",
    "        observation_baselines[i,k] = sig+noise"
   ]
  },
  {
   "cell_type": "code",
   "execution_count": 1612,
   "metadata": {},
   "outputs": [
    {
     "name": "stdout",
     "output_type": "stream",
     "text": [
      "SNR is 46.680647\n"
     ]
    }
   ],
   "source": [
    "snr = np.abs(correl_sky[(0,0)])/np.abs(noise)\n",
    "print(\"SNR is %f\" % snr[0])"
   ]
  },
  {
   "cell_type": "code",
   "execution_count": 1613,
   "metadata": {},
   "outputs": [],
   "source": [
    "# g0 = 1*np.exp(1j*(gain_phase + (np.random.random(16)*2-1)/10))\n",
    "g0 = 1*np.exp(1j*rand_phases(telescope_number))\n",
    "# g0 = 1*np.exp(1j*gain_phase)\n",
    "v0 = {pkey:np.mean(np.abs(observation_baselines))*np.exp(1j*rand_phases(1)) for pkey in baselines}"
   ]
  },
  {
   "cell_type": "code",
   "execution_count": 1614,
   "metadata": {},
   "outputs": [],
   "source": [
    "iter_max = 400\n",
    "delta = .4\n",
    "eps = 1e-5"
   ]
  },
  {
   "cell_type": "code",
   "execution_count": 1615,
   "metadata": {},
   "outputs": [],
   "source": [
    "garr = g0\n",
    "varr = v0.copy()\n",
    "y_ij = np.zeros((telescope_number, telescope_number), dtype=np.complex128)\n",
    "w_ij = np.zeros((telescope_number, telescope_number), dtype=np.complex128)\n",
    "ratio = np.zeros(iter_max)"
   ]
  },
  {
   "cell_type": "code",
   "execution_count": 1616,
   "metadata": {},
   "outputs": [
    {
     "data": {
      "application/vnd.jupyter.widget-view+json": {
       "model_id": "d5952fb250cf415482e096fa5c685ae7",
       "version_major": 2,
       "version_minor": 0
      },
      "text/plain": [
       "HBox(children=(FloatProgress(value=0.0, max=400.0), HTML(value='')))"
      ]
     },
     "metadata": {},
     "output_type": "display_data"
    },
    {
     "name": "stdout",
     "output_type": "stream",
     "text": [
      "\n"
     ]
    }
   ],
   "source": [
    "for n in tqdm(range(iter_max)):\n",
    "    oldx = np.concatenate((garr, np.array(list(varr.values())).flatten()))\n",
    "    for i in range(telescope_number):\n",
    "        for k in range(telescope_number):\n",
    "            key = get_baseline_key(i, k)\n",
    "            sig = garr[i]*np.conjugate(garr[k])*varr[key][0]\n",
    "            y_ij[i,k] = sig\n",
    "#             w_ij[i,k] = (sig**2)/(observation_baselines[i,i]*observation_baselines[k,k])\n",
    "            w_ij[i,k] = 16\n",
    "    gprime = garr*npcb(((w_ij*observation_baselines)/y_ij).sum(axis=1)/(w_ij.sum(axis=1)), 1/3)\n",
    "    garr = (1 - delta)*garr + delta*gprime\n",
    "    vprime = {}\n",
    "    for i in baselines:\n",
    "        numer = np.sum([((w_ij[indx]*observation_baselines[indx])/y_ij[indx]) for indx in basic_baselines[i]])\n",
    "        denom = np.sum([w_ij[indx] for indx in basic_baselines[i]])\n",
    "        vprime[i] = varr[i]*npcb(numer/denom, 1/3)\n",
    "        varr[i] = (1-delta)*varr[i] + delta*vprime[i]\n",
    "    vv = np.array(list(varr.values()))\n",
    "#     vscale = np.mean(np.abs(observation_baselines))/np.mean(np.abs(vv))\n",
    "    gscale = 1/np.mean(np.abs(garr))\n",
    "    vscale = (1/gscale)**2\n",
    "    garr = garr*gscale\n",
    "    for i in baselines:\n",
    "        varr[i] = varr[i]*vscale\n",
    "    newx = np.concatenate((garr, np.array(list(varr.values())).flatten()))\n",
    "    delx = newx - oldx\n",
    "    step_r = np.linalg.norm(delx)/np.linalg.norm(oldx)\n",
    "    ratio[n] = step_r\n",
    "    if step_r < eps:\n",
    "        break"
   ]
  },
  {
   "cell_type": "code",
   "execution_count": 1617,
   "metadata": {},
   "outputs": [
    {
     "name": "stderr",
     "output_type": "stream",
     "text": [
      "<ipython-input-1617-cfdae5a033ed>:1: RuntimeWarning: divide by zero encountered in log10\n",
      "  plt.plot(np.log10(ratio))\n"
     ]
    },
    {
     "data": {
      "text/plain": [
       "[<matplotlib.lines.Line2D at 0x7fc9b2208640>]"
      ]
     },
     "execution_count": 1617,
     "metadata": {},
     "output_type": "execute_result"
    },
    {
     "data": {
      "image/png": "[encoded data removed]",
      "text/plain": [
       "<Figure size 432x288 with 1 Axes>"
      ]
     },
     "metadata": {
      "image/png": {
       "height": 248,
       "width": 370
      },
      "needs_background": "light"
     },
     "output_type": "display_data"
    }
   ],
   "source": [
    "plt.plot(np.log10(ratio))"
   ]
  },
  {
   "cell_type": "code",
   "execution_count": 1618,
   "metadata": {},
   "outputs": [],
   "source": [
    "vv = np.array(list(varr.values()))\n",
    "cc = np.array(list(correl_sky.values()))"
   ]
  },
  {
   "cell_type": "code",
   "execution_count": 1619,
   "metadata": {},
   "outputs": [
    {
     "data": {
      "text/plain": [
       "array([0.24861059, 2.04872682, 0.22969472, 2.05263618, 0.22016537,\n",
       "       2.04758863, 0.21915755, 2.04758694, 0.22953023, 2.04430293,\n",
       "       0.23342263, 2.0461454 , 0.22877971, 2.03109273, 0.23041435,\n",
       "       2.04178788])"
      ]
     },
     "execution_count": 1619,
     "metadata": {},
     "output_type": "execute_result"
    }
   ],
   "source": [
    "np.abs(tgain - garr)/np.abs(tgain)"
   ]
  },
  {
   "cell_type": "code",
   "execution_count": 1623,
   "metadata": {},
   "outputs": [
    {
     "data": {
      "text/plain": [
       "array([0.02902581, 1.89194931, 0.13131418, 1.90276057, 0.12656029,\n",
       "       1.89540354, 0.14603365, 1.84430934, 0.07891279, 1.89943462,\n",
       "       0.12095975, 1.86122507, 0.11064756, 1.89215855, 0.09680755,\n",
       "       1.89789054, 1.89619779, 1.90817615, 1.90634711, 0.13260245,\n",
       "       0.11038484, 0.08853688, 1.92205837, 1.8861912 , 1.87764111])"
      ]
     },
     "execution_count": 1623,
     "metadata": {},
     "output_type": "execute_result"
    }
   ],
   "source": [
    "(np.abs(cc - vv)/np.abs(cc)).flatten()"
   ]
  },
  {
   "cell_type": "code",
   "execution_count": 1621,
   "metadata": {},
   "outputs": [
    {
     "data": {
      "image/png": "[encoded data removed]",
      "text/plain": [
       "<Figure size 432x288 with 1 Axes>"
      ]
     },
     "metadata": {
      "image/png": {
       "height": 263,
       "width": 380
      },
      "needs_background": "light"
     },
     "output_type": "display_data"
    }
   ],
   "source": [
    "plt.title('Complex Gains')\n",
    "plt.plot(tgain.real, tgain.imag, 'r2', label='true')\n",
    "plt.plot(garr.real, garr.imag, 'gh', label='fit')\n",
    "plt.legend();"
   ]
  },
  {
   "cell_type": "code",
   "execution_count": 1622,
   "metadata": {},
   "outputs": [
    {
     "data": {
      "image/png": "[encoded data removed]",
      "text/plain": [
       "<Figure size 432x288 with 1 Axes>"
      ]
     },
     "metadata": {
      "image/png": {
       "height": 263,
       "width": 370
      },
      "needs_background": "light"
     },
     "output_type": "display_data"
    }
   ],
   "source": [
    "plt.title(\"Complex Visibilities\")\n",
    "plt.plot(cc.real, cc.imag, 'r2', label='true')\n",
    "plt.plot(vv.real, vv.imag, 'gh', label='fit')\n",
    "plt.legend();"
   ]
  },
  {
   "cell_type": "code",
   "execution_count": 1253,
   "metadata": {},
   "outputs": [
    {
     "data": {
      "text/plain": [
       "array([16.01062069+0.08143414j, 16.01058496+0.08143309j,\n",
       "       16.01055504+0.08143574j, 16.01052349+0.08143622j,\n",
       "       16.0105928 +0.081435j  , 16.01058078+0.08143509j,\n",
       "       16.01057045+0.08143536j, 16.01056131+0.08143588j,\n",
       "       16.01055914+0.08143573j, 16.01057044+0.08143593j,\n",
       "       16.01057997+0.08143596j, 16.01059251+0.0814354j ,\n",
       "       16.01052367+0.08143671j, 16.01055485+0.08143483j,\n",
       "       16.01058723+0.08143571j, 16.01061794+0.08143521j])"
      ]
     },
     "execution_count": 1253,
     "metadata": {},
     "output_type": "execute_result"
    }
   ],
   "source": [
    "((observation_baselines)/y_ij).sum(axis=1)"
   ]
  },
  {
   "cell_type": "code",
   "execution_count": 1377,
   "metadata": {},
   "outputs": [],
   "source": [
    "npcb(vv, 1/3);"
   ]
  },
  {
   "cell_type": "code",
   "execution_count": null,
   "metadata": {},
   "outputs": [],
   "source": []
  }
 ],
 "metadata": {
  "kernelspec": {
   "display_name": "Python 3",
   "language": "python",
   "name": "python3"
  },
  "language_info": {
   "codemirror_mode": {
    "name": "ipython",
    "version": 3
   },
   "file_extension": ".py",
   "mimetype": "text/x-python",
   "name": "python",
   "nbconvert_exporter": "python",
   "pygments_lexer": "ipython3",
   "version": "3.8.5"
  }
 },
 "nbformat": 4,
 "nbformat_minor": 4
}
